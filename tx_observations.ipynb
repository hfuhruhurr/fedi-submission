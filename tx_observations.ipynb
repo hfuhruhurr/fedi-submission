{
 "cells": [
  {
   "cell_type": "code",
   "execution_count": 1,
   "metadata": {},
   "outputs": [
    {
     "data": {
      "text/plain": [
       "polars.config.Config"
      ]
     },
     "execution_count": 1,
     "metadata": {},
     "output_type": "execute_result"
    }
   ],
   "source": [
    "import polars as pl\n",
    "import polars.selectors as cs\n",
    "import altair as alt\n",
    "from helper import pivot_txs, check_for_orphaned_txids, make_transitions, make_tx_stats_chart\n",
    "pl.Config.set_tbl_rows(7)\n",
    "pl.Config.set_fmt_str_lengths(64)  # txid's are 64 characters"
   ]
  },
  {
   "cell_type": "markdown",
   "metadata": {},
   "source": [
    "### Read in dataframes"
   ]
  },
  {
   "cell_type": "code",
   "execution_count": 2,
   "metadata": {},
   "outputs": [],
   "source": [
    "tx_inputs = pl.read_parquet('./dfs/transaction_inputs.parquet')\n",
    "tx_outputs = pl.read_parquet('./dfs/transaction_outputs.parquet')\n",
    "txs = pl.read_parquet('./dfs/transactions.parquet')\n",
    "session_times = pl.read_parquet('./dfs/session_times.parquet')"
   ]
  },
  {
   "cell_type": "markdown",
   "metadata": {},
   "source": [
    "### Pivot input and output dfs so 1 row = 1 `txid` in each df"
   ]
  },
  {
   "cell_type": "code",
   "execution_count": 3,
   "metadata": {},
   "outputs": [],
   "source": [
    "# Make a wide (columns = txid + 4 kind's) input tx table\n",
    "groupby_cols = ['txid', 'kind', 'ln_contract_id']\n",
    "p_in = pivot_txs(tx_inputs, groupby_cols)"
   ]
  },
  {
   "cell_type": "code",
   "execution_count": 4,
   "metadata": {},
   "outputs": [],
   "source": [
    "# Make a wide (columns = txid + 4 kind's) output tx table\n",
    "groupby_cols = ['txid', 'kind', 'ln_contract_interaction_kind', 'ln_contract_id']\n",
    "p_out = pivot_txs(tx_outputs, groupby_cols)"
   ]
  },
  {
   "cell_type": "code",
   "execution_count": 5,
   "metadata": {},
   "outputs": [],
   "source": [
    "# Make a combine wide (columns = txid + 4 input kind's + 4 output kind's) input tx table\n",
    "in_cols = ['ln', 'mint', 'stability_pool', 'wallet']\n",
    "suffix = '_out' \n",
    "out_cols = [f'{col}{suffix}' for col in in_cols]\n",
    "p_combined = p_in.join(p_out, on='txid', suffix=suffix).select(['txid'] + in_cols + out_cols)"
   ]
  },
  {
   "cell_type": "markdown",
   "metadata": {},
   "source": [
    "### Investigate `kind` values"
   ]
  },
  {
   "cell_type": "markdown",
   "metadata": {},
   "source": [
    "#### Observation: All input `txid`s have a single `kind` value."
   ]
  },
  {
   "cell_type": "code",
   "execution_count": 6,
   "metadata": {},
   "outputs": [
    {
     "name": "stdout",
     "output_type": "stream",
     "text": [
      "Input txs with multiple kinds:\n"
     ]
    },
    {
     "data": {
      "text/html": [
       "<div><style>\n",
       ".dataframe > thead > tr,\n",
       ".dataframe > tbody > tr {\n",
       "  text-align: right;\n",
       "  white-space: pre-wrap;\n",
       "}\n",
       "</style>\n",
       "<small>shape: (0, 5)</small><table border=\"1\" class=\"dataframe\"><thead><tr><th>txid</th><th>ln</th><th>mint</th><th>stability_pool</th><th>wallet</th></tr><tr><td>str</td><td>i64</td><td>i64</td><td>i64</td><td>i64</td></tr></thead><tbody></tbody></table></div>"
      ],
      "text/plain": [
       "shape: (0, 5)\n",
       "┌──────┬─────┬──────┬────────────────┬────────┐\n",
       "│ txid ┆ ln  ┆ mint ┆ stability_pool ┆ wallet │\n",
       "│ ---  ┆ --- ┆ ---  ┆ ---            ┆ ---    │\n",
       "│ str  ┆ i64 ┆ i64  ┆ i64            ┆ i64    │\n",
       "╞══════╪═════╪══════╪════════════════╪════════╡\n",
       "└──────┴─────┴──────┴────────────────┴────────┘"
      ]
     },
     "metadata": {},
     "output_type": "display_data"
    }
   ],
   "source": [
    "cols = ['ln', 'mint', 'stability_pool', 'wallet']\n",
    "print('Input txs with multiple kinds:')\n",
    "display(p_in.filter(pl.sum_horizontal(pl.col(cols).is_not_null()) > 1))"
   ]
  },
  {
   "cell_type": "markdown",
   "metadata": {},
   "source": [
    "#### Observation: Some output `txid`s have multiple `kind` values."
   ]
  },
  {
   "cell_type": "code",
   "execution_count": 7,
   "metadata": {},
   "outputs": [
    {
     "name": "stdout",
     "output_type": "stream",
     "text": [
      "\n",
      "Output txs with multiple kinds:\n"
     ]
    },
    {
     "data": {
      "text/html": [
       "<div><style>\n",
       ".dataframe > thead > tr,\n",
       ".dataframe > tbody > tr {\n",
       "  text-align: right;\n",
       "  white-space: pre-wrap;\n",
       "}\n",
       "</style>\n",
       "<small>shape: (417, 5)</small><table border=\"1\" class=\"dataframe\"><thead><tr><th>txid</th><th>ln</th><th>mint</th><th>stability_pool</th><th>wallet</th></tr><tr><td>str</td><td>i64</td><td>i64</td><td>i64</td><td>i64</td></tr></thead><tbody><tr><td>&quot;00d487990553f7b732419e61b9cd28e73d1e7346a8642d17773188005e5b6f30&quot;</td><td>41493425</td><td>449615</td><td>null</td><td>null</td></tr><tr><td>&quot;00e23fc71b51d705366029e78b3628be0af4ed246fd388e27717dee0661f5e31&quot;</td><td>27813365</td><td>6667</td><td>null</td><td>null</td></tr><tr><td>&quot;0333a5b127ed2d8f278917abe9b6ef26f62ca9aacbb000407cfadefa276b7d80&quot;</td><td>5000000</td><td>5312</td><td>null</td><td>null</td></tr><tr><td>&quot;03f4b2e925d681aa1e71bd24d95425bbb98ac2c6e18895e0b38de58606c9201f&quot;</td><td>102500</td><td>28572</td><td>null</td><td>null</td></tr><tr><td>&hellip;</td><td>&hellip;</td><td>&hellip;</td><td>&hellip;</td><td>&hellip;</td></tr><tr><td>&quot;fbfd34210bc0bf82957999639d19a1775fe7250303c59b8f544c333a242068c7&quot;</td><td>9035</td><td>181</td><td>null</td><td>null</td></tr><tr><td>&quot;fd6d608a8033d139bed7218876d01e2b8ba9b90551e9e096950e1831e8e7f029&quot;</td><td>102500</td><td>28572</td><td>null</td><td>null</td></tr><tr><td>&quot;ff3e50deaf9498be67705d2b7aef0acac1bf97ea072c62fe3d966df514f28dfa&quot;</td><td>102500</td><td>28572</td><td>null</td><td>null</td></tr></tbody></table></div>"
      ],
      "text/plain": [
       "shape: (417, 5)\n",
       "┌────────────────────────────────────────────────────┬──────────┬────────┬────────────────┬────────┐\n",
       "│ txid                                               ┆ ln       ┆ mint   ┆ stability_pool ┆ wallet │\n",
       "│ ---                                                ┆ ---      ┆ ---    ┆ ---            ┆ ---    │\n",
       "│ str                                                ┆ i64      ┆ i64    ┆ i64            ┆ i64    │\n",
       "╞════════════════════════════════════════════════════╪══════════╪════════╪════════════════╪════════╡\n",
       "│ 00d487990553f7b732419e61b9cd28e73d1e7346a8642d1777 ┆ 41493425 ┆ 449615 ┆ null           ┆ null   │\n",
       "│ 3188005e5b6f30                                     ┆          ┆        ┆                ┆        │\n",
       "│ 00e23fc71b51d705366029e78b3628be0af4ed246fd388e277 ┆ 27813365 ┆ 6667   ┆ null           ┆ null   │\n",
       "│ 17dee0661f5e31                                     ┆          ┆        ┆                ┆        │\n",
       "│ 0333a5b127ed2d8f278917abe9b6ef26f62ca9aacbb000407c ┆ 5000000  ┆ 5312   ┆ null           ┆ null   │\n",
       "│ fadefa276b7d80                                     ┆          ┆        ┆                ┆        │\n",
       "│ 03f4b2e925d681aa1e71bd24d95425bbb98ac2c6e18895e0b3 ┆ 102500   ┆ 28572  ┆ null           ┆ null   │\n",
       "│ 8de58606c9201f                                     ┆          ┆        ┆                ┆        │\n",
       "│ …                                                  ┆ …        ┆ …      ┆ …              ┆ …      │\n",
       "│ fbfd34210bc0bf82957999639d19a1775fe7250303c59b8f54 ┆ 9035     ┆ 181    ┆ null           ┆ null   │\n",
       "│ 4c333a242068c7                                     ┆          ┆        ┆                ┆        │\n",
       "│ fd6d608a8033d139bed7218876d01e2b8ba9b90551e9e09695 ┆ 102500   ┆ 28572  ┆ null           ┆ null   │\n",
       "│ 0e1831e8e7f029                                     ┆          ┆        ┆                ┆        │\n",
       "│ ff3e50deaf9498be67705d2b7aef0acac1bf97ea072c62fe3d ┆ 102500   ┆ 28572  ┆ null           ┆ null   │\n",
       "│ 966df514f28dfa                                     ┆          ┆        ┆                ┆        │\n",
       "└────────────────────────────────────────────────────┴──────────┴────────┴────────────────┴────────┘"
      ]
     },
     "metadata": {},
     "output_type": "display_data"
    }
   ],
   "source": [
    "cols = ['ln', 'mint', 'stability_pool', 'wallet']\n",
    "print('\\nOutput txs with multiple kinds:')\n",
    "display(p_out.filter(pl.sum_horizontal(pl.col(cols).is_not_null()) > 1))"
   ]
  },
  {
   "cell_type": "markdown",
   "metadata": {},
   "source": [
    "#### Observation: When multiple `kind` values exist, `mint` is involved on both sides (input and output)."
   ]
  },
  {
   "cell_type": "code",
   "execution_count": 8,
   "metadata": {},
   "outputs": [
    {
     "data": {
      "text/html": [
       "<div><style>\n",
       ".dataframe > thead > tr,\n",
       ".dataframe > tbody > tr {\n",
       "  text-align: right;\n",
       "  white-space: pre-wrap;\n",
       "}\n",
       "</style>\n",
       "<small>shape: (10, 6)</small><table border=\"1\" class=\"dataframe\"><thead><tr><th>in</th><th>out</th><th>n</th><th>in_msat</th><th>out_msat</th><th>diff</th></tr><tr><td>str</td><td>str</td><td>u32</td><td>i64</td><td>i64</td><td>i64</td></tr></thead><tbody><tr><td>&quot;wallet&quot;</td><td>&quot;mint&quot;</td><td>63</td><td>842375871000</td><td>842375871000</td><td>0</td></tr><tr><td>&quot;mint&quot;</td><td>&quot;wallet&quot;</td><td>45</td><td>718674952000</td><td>718674952000</td><td>0</td></tr><tr><td>&quot;mint&quot;</td><td>&quot;mint&quot;</td><td>2935</td><td>709206199392</td><td>709206199392</td><td>0</td></tr><tr><td>&quot;ln&quot;</td><td>&quot;mint&quot;</td><td>66913</td><td>118318101255</td><td>118318101255</td><td>0</td></tr><tr><td>&quot;mint&quot;</td><td>&quot;ln&quot;</td><td>66508</td><td>91649015375</td><td>91649015375</td><td>0</td></tr><tr><td>&quot;mint&quot;</td><td>&quot;mint + wallet&quot;</td><td>2</td><td>64021856256</td><td>64021856256</td><td>0</td></tr><tr><td>&quot;mint&quot;</td><td>&quot;ln + mint&quot;</td><td>414</td><td>39106684786</td><td>39106684786</td><td>0</td></tr><tr><td>&quot;mint&quot;</td><td>&quot;stability_pool&quot;</td><td>5</td><td>10001018000</td><td>0</td><td>10001018000</td></tr><tr><td>&quot;mint&quot;</td><td>&quot;mint + stability_pool&quot;</td><td>1</td><td>1458176</td><td>2176</td><td>1456000</td></tr><tr><td>&quot;stability_pool&quot;</td><td>&quot;mint&quot;</td><td>5</td><td>0</td><td>9999322342</td><td>-9999322342</td></tr></tbody></table></div>"
      ],
      "text/plain": [
       "shape: (10, 6)\n",
       "┌────────────────┬───────────────────────┬───────┬──────────────┬──────────────┬─────────────┐\n",
       "│ in             ┆ out                   ┆ n     ┆ in_msat      ┆ out_msat     ┆ diff        │\n",
       "│ ---            ┆ ---                   ┆ ---   ┆ ---          ┆ ---          ┆ ---         │\n",
       "│ str            ┆ str                   ┆ u32   ┆ i64          ┆ i64          ┆ i64         │\n",
       "╞════════════════╪═══════════════════════╪═══════╪══════════════╪══════════════╪═════════════╡\n",
       "│ wallet         ┆ mint                  ┆ 63    ┆ 842375871000 ┆ 842375871000 ┆ 0           │\n",
       "│ mint           ┆ wallet                ┆ 45    ┆ 718674952000 ┆ 718674952000 ┆ 0           │\n",
       "│ mint           ┆ mint                  ┆ 2935  ┆ 709206199392 ┆ 709206199392 ┆ 0           │\n",
       "│ ln             ┆ mint                  ┆ 66913 ┆ 118318101255 ┆ 118318101255 ┆ 0           │\n",
       "│ mint           ┆ ln                    ┆ 66508 ┆ 91649015375  ┆ 91649015375  ┆ 0           │\n",
       "│ mint           ┆ mint + wallet         ┆ 2     ┆ 64021856256  ┆ 64021856256  ┆ 0           │\n",
       "│ mint           ┆ ln + mint             ┆ 414   ┆ 39106684786  ┆ 39106684786  ┆ 0           │\n",
       "│ mint           ┆ stability_pool        ┆ 5     ┆ 10001018000  ┆ 0            ┆ 10001018000 │\n",
       "│ mint           ┆ mint + stability_pool ┆ 1     ┆ 1458176      ┆ 2176         ┆ 1456000     │\n",
       "│ stability_pool ┆ mint                  ┆ 5     ┆ 0            ┆ 9999322342   ┆ -9999322342 │\n",
       "└────────────────┴───────────────────────┴───────┴──────────────┴──────────────┴─────────────┘"
      ]
     },
     "metadata": {},
     "output_type": "display_data"
    }
   ],
   "source": [
    "with pl.Config(tbl_rows=20):\n",
    "    display(make_transitions(p_combined).sort(by='in_msat', descending=True))"
   ]
  },
  {
   "cell_type": "markdown",
   "metadata": {},
   "source": [
    "### Check for orphaned `txid`s \n",
    "An *orphaned* `txid` is a `txid` that exists in one df but not in the other.  \n",
    "\n",
    "(Each transaction should have at least one input and one output.)"
   ]
  },
  {
   "cell_type": "markdown",
   "metadata": {},
   "source": [
    "#### Observation: There are 243 orphaned input `txid`s."
   ]
  },
  {
   "cell_type": "code",
   "execution_count": 9,
   "metadata": {},
   "outputs": [
    {
     "name": "stdout",
     "output_type": "stream",
     "text": [
      "# unique input txid's                       :  137,134\n",
      "# unique input txid's w/ associated outputs :  136,891\n",
      "# orphaned input txid's                     :      243\n",
      "\n",
      "# of orphaned input txid's:\n"
     ]
    },
    {
     "data": {
      "text/html": [
       "<div><style>\n",
       ".dataframe > thead > tr,\n",
       ".dataframe > tbody > tr {\n",
       "  text-align: right;\n",
       "  white-space: pre-wrap;\n",
       "}\n",
       "</style>\n",
       "<small>shape: (1, 5)</small><table border=\"1\" class=\"dataframe\"><thead><tr><th>txid</th><th>ln</th><th>mint</th><th>stability_pool</th><th>wallet</th></tr><tr><td>u32</td><td>u32</td><td>u32</td><td>u32</td><td>u32</td></tr></thead><tbody><tr><td>243</td><td>243</td><td>0</td><td>0</td><td>0</td></tr></tbody></table></div>"
      ],
      "text/plain": [
       "shape: (1, 5)\n",
       "┌──────┬─────┬──────┬────────────────┬────────┐\n",
       "│ txid ┆ ln  ┆ mint ┆ stability_pool ┆ wallet │\n",
       "│ ---  ┆ --- ┆ ---  ┆ ---            ┆ ---    │\n",
       "│ u32  ┆ u32 ┆ u32  ┆ u32            ┆ u32    │\n",
       "╞══════╪═════╪══════╪════════════════╪════════╡\n",
       "│ 243  ┆ 243 ┆ 0    ┆ 0              ┆ 0      │\n",
       "└──────┴─────┴──────┴────────────────┴────────┘"
      ]
     },
     "metadata": {},
     "output_type": "display_data"
    },
    {
     "name": "stdout",
     "output_type": "stream",
     "text": [
      "\n",
      "# of msats in orphaned input txid's:\n"
     ]
    },
    {
     "data": {
      "text/html": [
       "<div><style>\n",
       ".dataframe > thead > tr,\n",
       ".dataframe > tbody > tr {\n",
       "  text-align: right;\n",
       "  white-space: pre-wrap;\n",
       "}\n",
       "</style>\n",
       "<small>shape: (1, 5)</small><table border=\"1\" class=\"dataframe\"><thead><tr><th>txid</th><th>ln</th><th>mint</th><th>stability_pool</th><th>wallet</th></tr><tr><td>str</td><td>i64</td><td>i64</td><td>i64</td><td>i64</td></tr></thead><tbody><tr><td>null</td><td>0</td><td>0</td><td>0</td><td>0</td></tr></tbody></table></div>"
      ],
      "text/plain": [
       "shape: (1, 5)\n",
       "┌──────┬─────┬──────┬────────────────┬────────┐\n",
       "│ txid ┆ ln  ┆ mint ┆ stability_pool ┆ wallet │\n",
       "│ ---  ┆ --- ┆ ---  ┆ ---            ┆ ---    │\n",
       "│ str  ┆ i64 ┆ i64  ┆ i64            ┆ i64    │\n",
       "╞══════╪═════╪══════╪════════════════╪════════╡\n",
       "│ null ┆ 0   ┆ 0    ┆ 0              ┆ 0      │\n",
       "└──────┴─────┴──────┴────────────────┴────────┘"
      ]
     },
     "metadata": {},
     "output_type": "display_data"
    }
   ],
   "source": [
    "input_orphaned_txids = check_for_orphaned_txids('input', p_in, p_out)"
   ]
  },
  {
   "cell_type": "markdown",
   "metadata": {},
   "source": [
    "#### Observation: There are 34,975 orphaned output `txid`s."
   ]
  },
  {
   "cell_type": "code",
   "execution_count": 10,
   "metadata": {},
   "outputs": [
    {
     "name": "stdout",
     "output_type": "stream",
     "text": [
      "# unique output txid's                       :  171,848\n",
      "# unique output txid's w/ associated outputs :  136,891\n",
      "# orphaned output txid's                     :   34,957\n",
      "\n",
      "# of orphaned output txid's:\n"
     ]
    },
    {
     "data": {
      "text/html": [
       "<div><style>\n",
       ".dataframe > thead > tr,\n",
       ".dataframe > tbody > tr {\n",
       "  text-align: right;\n",
       "  white-space: pre-wrap;\n",
       "}\n",
       "</style>\n",
       "<small>shape: (1, 5)</small><table border=\"1\" class=\"dataframe\"><thead><tr><th>txid</th><th>ln</th><th>mint</th><th>stability_pool</th><th>wallet</th></tr><tr><td>u32</td><td>u32</td><td>u32</td><td>u32</td><td>u32</td></tr></thead><tbody><tr><td>34957</td><td>34956</td><td>0</td><td>1</td><td>0</td></tr></tbody></table></div>"
      ],
      "text/plain": [
       "shape: (1, 5)\n",
       "┌───────┬───────┬──────┬────────────────┬────────┐\n",
       "│ txid  ┆ ln    ┆ mint ┆ stability_pool ┆ wallet │\n",
       "│ ---   ┆ ---   ┆ ---  ┆ ---            ┆ ---    │\n",
       "│ u32   ┆ u32   ┆ u32  ┆ u32            ┆ u32    │\n",
       "╞═══════╪═══════╪══════╪════════════════╪════════╡\n",
       "│ 34957 ┆ 34956 ┆ 0    ┆ 1              ┆ 0      │\n",
       "└───────┴───────┴──────┴────────────────┴────────┘"
      ]
     },
     "metadata": {},
     "output_type": "display_data"
    },
    {
     "name": "stdout",
     "output_type": "stream",
     "text": [
      "\n",
      "# of msats in orphaned output txid's:\n"
     ]
    },
    {
     "data": {
      "text/html": [
       "<div><style>\n",
       ".dataframe > thead > tr,\n",
       ".dataframe > tbody > tr {\n",
       "  text-align: right;\n",
       "  white-space: pre-wrap;\n",
       "}\n",
       "</style>\n",
       "<small>shape: (1, 5)</small><table border=\"1\" class=\"dataframe\"><thead><tr><th>txid</th><th>ln</th><th>mint</th><th>stability_pool</th><th>wallet</th></tr><tr><td>str</td><td>i64</td><td>i64</td><td>i64</td><td>i64</td></tr></thead><tbody><tr><td>null</td><td>0</td><td>0</td><td>0</td><td>0</td></tr></tbody></table></div>"
      ],
      "text/plain": [
       "shape: (1, 5)\n",
       "┌──────┬─────┬──────┬────────────────┬────────┐\n",
       "│ txid ┆ ln  ┆ mint ┆ stability_pool ┆ wallet │\n",
       "│ ---  ┆ --- ┆ ---  ┆ ---            ┆ ---    │\n",
       "│ str  ┆ i64 ┆ i64  ┆ i64            ┆ i64    │\n",
       "╞══════╪═════╪══════╪════════════════╪════════╡\n",
       "│ null ┆ 0   ┆ 0    ┆ 0              ┆ 0      │\n",
       "└──────┴─────┴──────┴────────────────┴────────┘"
      ]
     },
     "metadata": {},
     "output_type": "display_data"
    }
   ],
   "source": [
    "output_orphaned_txids = check_for_orphaned_txids('output', p_out, p_in)"
   ]
  },
  {
   "cell_type": "markdown",
   "metadata": {},
   "source": [
    "Since both the orphaned input `txid`s and the orphaned output `txid`s all have `amount_msat = 0`, we can do a proper inner join without worrying if we're leaving any sats behind.\n",
    "\n",
    "But it does make one wonder how there are any orphaned `txid`s at all."
   ]
  },
  {
   "cell_type": "markdown",
   "metadata": {},
   "source": [
    "#### Observation: Every orphaned `txid` exists in the `txs` table."
   ]
  },
  {
   "cell_type": "code",
   "execution_count": 11,
   "metadata": {},
   "outputs": [
    {
     "name": "stdout",
     "output_type": "stream",
     "text": [
      "# orphaned input txid's                   :     243\n",
      "# orphaned input txid's in the txs table  :     243\n",
      "# orphaned output txid's                  :  34,957\n",
      "# orphaned output txid's in the txs table :  34,957\n"
     ]
    }
   ],
   "source": [
    "iot = (input_orphaned_txids.join(txs, on='txid').group_by('session_index').len().sort(by='session_index'))\n",
    "oot = (output_orphaned_txids.join(txs, on='txid').group_by('session_index').len().sort(by='session_index'))\n",
    "print(f\"# orphaned input txid's                   : {input_orphaned_txids.count()['txid'][0]:>7,}\")\n",
    "print(f\"# orphaned input txid's in the txs table  : {iot.sum()['len'][0]:>7,}\")\n",
    "print(f\"# orphaned output txid's                  : {output_orphaned_txids.count()['txid'][0]:>7,}\")\n",
    "print(f\"# orphaned output txid's in the txs table : {oot.sum()['len'][0]:>7,}\")"
   ]
  },
  {
   "cell_type": "markdown",
   "metadata": {},
   "source": [
    "#### Observation: Over 90% of `session_index`s contain at least 1 orphaned `txid`."
   ]
  },
  {
   "cell_type": "code",
   "execution_count": 12,
   "metadata": {},
   "outputs": [
    {
     "name": "stdout",
     "output_type": "stream",
     "text": [
      "# of session_index's                             :  36,600\n",
      "# of session_index's containing an orphaned txid :  33,225\n"
     ]
    }
   ],
   "source": [
    "sess_summ = txs.group_by('session_index').agg(pl.col('session_index').count().alias('n_txids'))\n",
    "print(f\"# of session_index's                             : {sess_summ.shape[0]:>7,}\")\n",
    "print(f\"# of session_index's containing an orphaned txid : {pl.concat([iot, oot])['session_index'].unique().shape[0]:>7,}\")"
   ]
  },
  {
   "cell_type": "markdown",
   "metadata": {},
   "source": [
    "#### Observation: There are plenty of `session_index`s that contain all orphaned `txid`s."
   ]
  },
  {
   "cell_type": "code",
   "execution_count": 13,
   "metadata": {},
   "outputs": [
    {
     "data": {
      "text/html": [
       "<div><style>\n",
       ".dataframe > thead > tr,\n",
       ".dataframe > tbody > tr {\n",
       "  text-align: right;\n",
       "  white-space: pre-wrap;\n",
       "}\n",
       "</style>\n",
       "<small>shape: (906, 6)</small><table border=\"1\" class=\"dataframe\"><thead><tr><th>session_index</th><th>n_txids</th><th>n_orphaned_input_txids</th><th>n_orphaned_output_txids</th><th>n_orphaned_txids</th><th>diff</th></tr><tr><td>i64</td><td>u32</td><td>u32</td><td>u32</td><td>u32</td><td>u32</td></tr></thead><tbody><tr><td>51328</td><td>29</td><td>29</td><td>null</td><td>29</td><td>0</td></tr><tr><td>46744</td><td>11</td><td>11</td><td>null</td><td>11</td><td>0</td></tr><tr><td>46727</td><td>10</td><td>10</td><td>null</td><td>10</td><td>0</td></tr><tr><td>46740</td><td>10</td><td>10</td><td>null</td><td>10</td><td>0</td></tr><tr><td>&hellip;</td><td>&hellip;</td><td>&hellip;</td><td>&hellip;</td><td>&hellip;</td><td>&hellip;</td></tr><tr><td>45439</td><td>1</td><td>null</td><td>1</td><td>1</td><td>0</td></tr><tr><td>49768</td><td>1</td><td>null</td><td>1</td><td>1</td><td>0</td></tr><tr><td>7568</td><td>1</td><td>null</td><td>1</td><td>1</td><td>0</td></tr></tbody></table></div>"
      ],
      "text/plain": [
       "shape: (906, 6)\n",
       "┌───────────────┬─────────┬───────────────────────┬──────────────────────┬──────────────────┬──────┐\n",
       "│ session_index ┆ n_txids ┆ n_orphaned_input_txid ┆ n_orphaned_output_tx ┆ n_orphaned_txids ┆ diff │\n",
       "│ ---           ┆ ---     ┆ s                     ┆ ids                  ┆ ---              ┆ ---  │\n",
       "│ i64           ┆ u32     ┆ ---                   ┆ ---                  ┆ u32              ┆ u32  │\n",
       "│               ┆         ┆ u32                   ┆ u32                  ┆                  ┆      │\n",
       "╞═══════════════╪═════════╪═══════════════════════╪══════════════════════╪══════════════════╪══════╡\n",
       "│ 51328         ┆ 29      ┆ 29                    ┆ null                 ┆ 29               ┆ 0    │\n",
       "│ 46744         ┆ 11      ┆ 11                    ┆ null                 ┆ 11               ┆ 0    │\n",
       "│ 46727         ┆ 10      ┆ 10                    ┆ null                 ┆ 10               ┆ 0    │\n",
       "│ 46740         ┆ 10      ┆ 10                    ┆ null                 ┆ 10               ┆ 0    │\n",
       "│ …             ┆ …       ┆ …                     ┆ …                    ┆ …                ┆ …    │\n",
       "│ 45439         ┆ 1       ┆ null                  ┆ 1                    ┆ 1                ┆ 0    │\n",
       "│ 49768         ┆ 1       ┆ null                  ┆ 1                    ┆ 1                ┆ 0    │\n",
       "│ 7568          ┆ 1       ┆ null                  ┆ 1                    ┆ 1                ┆ 0    │\n",
       "└───────────────┴─────────┴───────────────────────┴──────────────────────┴──────────────────┴──────┘"
      ]
     },
     "execution_count": 13,
     "metadata": {},
     "output_type": "execute_result"
    }
   ],
   "source": [
    "expanded_sess_summ = (\n",
    "    sess_summ\n",
    "    .join(iot, on='session_index', how='left').rename({'len': 'n_orphaned_input_txids'})\n",
    "    .join(oot, on='session_index', how='left').rename({'len': 'n_orphaned_output_txids'})\n",
    "    .with_columns(pl.sum_horizontal(['n_orphaned_input_txids', 'n_orphaned_output_txids']).alias('n_orphaned_txids'))\n",
    "    .with_columns((pl.col('n_txids') - pl.col('n_orphaned_txids')).alias('diff'))\n",
    ")\n",
    "\n",
    "expanded_sess_summ.filter(pl.col('diff') == 0).sort(by='n_txids', descending=True)"
   ]
  },
  {
   "cell_type": "markdown",
   "metadata": {},
   "source": [
    "#### Observation: Sometimes, a single `session_index` will contain both orphan inputs and orphaned outputs."
   ]
  },
  {
   "cell_type": "code",
   "execution_count": 14,
   "metadata": {},
   "outputs": [
    {
     "data": {
      "text/html": [
       "<div><style>\n",
       ".dataframe > thead > tr,\n",
       ".dataframe > tbody > tr {\n",
       "  text-align: right;\n",
       "  white-space: pre-wrap;\n",
       "}\n",
       "</style>\n",
       "<small>shape: (22, 6)</small><table border=\"1\" class=\"dataframe\"><thead><tr><th>session_index</th><th>n_txids</th><th>n_orphaned_input_txids</th><th>n_orphaned_output_txids</th><th>n_orphaned_txids</th><th>diff</th></tr><tr><td>i64</td><td>u32</td><td>u32</td><td>u32</td><td>u32</td><td>u32</td></tr></thead><tbody><tr><td>46738</td><td>30</td><td>27</td><td>2</td><td>29</td><td>1</td></tr><tr><td>55920</td><td>6</td><td>3</td><td>1</td><td>4</td><td>2</td></tr><tr><td>58388</td><td>6</td><td>3</td><td>1</td><td>4</td><td>2</td></tr><tr><td>44593</td><td>10</td><td>1</td><td>6</td><td>7</td><td>3</td></tr><tr><td>&hellip;</td><td>&hellip;</td><td>&hellip;</td><td>&hellip;</td><td>&hellip;</td><td>&hellip;</td></tr><tr><td>43757</td><td>10</td><td>1</td><td>2</td><td>3</td><td>7</td></tr><tr><td>46741</td><td>17</td><td>8</td><td>1</td><td>9</td><td>8</td></tr><tr><td>46739</td><td>39</td><td>3</td><td>1</td><td>4</td><td>35</td></tr></tbody></table></div>"
      ],
      "text/plain": [
       "shape: (22, 6)\n",
       "┌───────────────┬─────────┬───────────────────────┬──────────────────────┬──────────────────┬──────┐\n",
       "│ session_index ┆ n_txids ┆ n_orphaned_input_txid ┆ n_orphaned_output_tx ┆ n_orphaned_txids ┆ diff │\n",
       "│ ---           ┆ ---     ┆ s                     ┆ ids                  ┆ ---              ┆ ---  │\n",
       "│ i64           ┆ u32     ┆ ---                   ┆ ---                  ┆ u32              ┆ u32  │\n",
       "│               ┆         ┆ u32                   ┆ u32                  ┆                  ┆      │\n",
       "╞═══════════════╪═════════╪═══════════════════════╪══════════════════════╪══════════════════╪══════╡\n",
       "│ 46738         ┆ 30      ┆ 27                    ┆ 2                    ┆ 29               ┆ 1    │\n",
       "│ 55920         ┆ 6       ┆ 3                     ┆ 1                    ┆ 4                ┆ 2    │\n",
       "│ 58388         ┆ 6       ┆ 3                     ┆ 1                    ┆ 4                ┆ 2    │\n",
       "│ 44593         ┆ 10      ┆ 1                     ┆ 6                    ┆ 7                ┆ 3    │\n",
       "│ …             ┆ …       ┆ …                     ┆ …                    ┆ …                ┆ …    │\n",
       "│ 43757         ┆ 10      ┆ 1                     ┆ 2                    ┆ 3                ┆ 7    │\n",
       "│ 46741         ┆ 17      ┆ 8                     ┆ 1                    ┆ 9                ┆ 8    │\n",
       "│ 46739         ┆ 39      ┆ 3                     ┆ 1                    ┆ 4                ┆ 35   │\n",
       "└───────────────┴─────────┴───────────────────────┴──────────────────────┴──────────────────┴──────┘"
      ]
     },
     "execution_count": 14,
     "metadata": {},
     "output_type": "execute_result"
    }
   ],
   "source": [
    "(\n",
    "    expanded_sess_summ\n",
    "    .filter(\n",
    "        pl.col('n_orphaned_input_txids') > 0,\n",
    "        pl.col('n_orphaned_output_txids') > 0,\n",
    "    )\n",
    "    .sort(by='diff')\n",
    ")"
   ]
  },
  {
   "cell_type": "markdown",
   "metadata": {},
   "source": [
    "### Check for rogue `txid`s \n",
    "A *rogue* `txid` is one whose sum(input sats) != sum(output sats)."
   ]
  },
  {
   "cell_type": "code",
   "execution_count": 15,
   "metadata": {},
   "outputs": [],
   "source": [
    "in_cols = ['ln', 'mint', 'stability_pool', 'wallet']\n",
    "out_cols = ['ln_out', 'mint_out', 'stability_pool_out', 'wallet_out']\n",
    "\n",
    "rogue_txids = (\n",
    "    p_in\n",
    "    .join(p_out, on='txid', suffix='_out')\n",
    "    .with_columns(\n",
    "        pl.sum_horizontal(pl.col(in_cols)).alias('in_msats'),\n",
    "        pl.sum_horizontal(pl.col(out_cols)).alias('out_msats'),\n",
    "    )\n",
    "    .filter(\n",
    "        pl.col('in_msats') != pl.col('out_msats')\n",
    "    )\n",
    "    # .sort(by=['in_msats', 'out_msats'])\n",
    "    .sort(by=['txid'])\n",
    "    .select(['txid', 'in_msats', 'out_msats'] + in_cols + out_cols)  # reorder columns\n",
    ")"
   ]
  },
  {
   "cell_type": "markdown",
   "metadata": {},
   "source": [
    "#### Observation: There are 11 rogue `txid`s. None were expected."
   ]
  },
  {
   "cell_type": "code",
   "execution_count": 16,
   "metadata": {},
   "outputs": [
    {
     "data": {
      "text/html": [
       "<div><style>\n",
       ".dataframe > thead > tr,\n",
       ".dataframe > tbody > tr {\n",
       "  text-align: right;\n",
       "  white-space: pre-wrap;\n",
       "}\n",
       "</style>\n",
       "<small>shape: (11, 11)</small><table border=\"1\" class=\"dataframe\"><thead><tr><th>txid</th><th>in_msats</th><th>out_msats</th><th>ln</th><th>mint</th><th>stability_pool</th><th>wallet</th><th>ln_out</th><th>mint_out</th><th>stability_pool_out</th><th>wallet_out</th></tr><tr><td>str</td><td>i64</td><td>i64</td><td>i64</td><td>i64</td><td>i64</td><td>i64</td><td>i64</td><td>i64</td><td>i64</td><td>i64</td></tr></thead><tbody><tr><td>&quot;054df939f73807fd933c3fa81374c5949ee0bc4a2685151d38342dcd3bcf66d3&quot;</td><td>146000</td><td>0</td><td>null</td><td>146000</td><td>null</td><td>null</td><td>null</td><td>null</td><td>0</td><td>null</td></tr><tr><td>&quot;24a69356c8c67a4f35a6d207a500a7be704478692ecdb135e955f7897b829838&quot;</td><td>0</td><td>545180</td><td>null</td><td>null</td><td>0</td><td>null</td><td>null</td><td>545180</td><td>null</td><td>null</td></tr><tr><td>&quot;290fc842bd647b353dcd116b96deff02c4d5009c37ff780dbb4eb4a38f2d386b&quot;</td><td>726000</td><td>0</td><td>null</td><td>726000</td><td>null</td><td>null</td><td>null</td><td>null</td><td>0</td><td>null</td></tr><tr><td>&quot;2f30bf7351bfc92dcac03f8752556554e8e5c45d1c7ba81eea4a54017251f43d&quot;</td><td>5000000000</td><td>0</td><td>null</td><td>5000000000</td><td>null</td><td>null</td><td>null</td><td>null</td><td>0</td><td>null</td></tr><tr><td>&quot;3092897fe709216c046ad33b04bc36c37c402505185967bf11407e011aafbff6&quot;</td><td>0</td><td>870754</td><td>null</td><td>null</td><td>0</td><td>null</td><td>null</td><td>870754</td><td>null</td><td>null</td></tr><tr><td>&quot;33e614f0ba832503f8f3f3fac90b1713ca1f6de96cb72e17cd20f0ba890cbed2&quot;</td><td>146000</td><td>0</td><td>null</td><td>146000</td><td>null</td><td>null</td><td>null</td><td>null</td><td>0</td><td>null</td></tr><tr><td>&quot;554316f73d8664d336881b8608efe2b1c7c19ca2fcbca606ae1c2d52b1f6a19b&quot;</td><td>0</td><td>1000000</td><td>null</td><td>null</td><td>0</td><td>null</td><td>null</td><td>1000000</td><td>null</td><td>null</td></tr><tr><td>&quot;60924d813a8e589b891b68442e0d52f0cf65557905d77da74956de1172b8f711&quot;</td><td>0</td><td>4998454820</td><td>null</td><td>null</td><td>0</td><td>null</td><td>null</td><td>4998454820</td><td>null</td><td>null</td></tr><tr><td>&quot;7b238d1263042cfe9eca2cb5a4702fc848e6a2da9acfef0a6eb6a032c3790a70&quot;</td><td>5000000000</td><td>0</td><td>null</td><td>5000000000</td><td>null</td><td>null</td><td>null</td><td>null</td><td>0</td><td>null</td></tr><tr><td>&quot;9895408b18beec5bfc980dc2afaa1b3ad6f0a36d8231d02448941381696ecc11&quot;</td><td>1458176</td><td>2176</td><td>null</td><td>1458176</td><td>null</td><td>null</td><td>null</td><td>2176</td><td>0</td><td>null</td></tr><tr><td>&quot;b7225d91a5f50fcda9e4275ba498cc4bdf49260a41faf776b6aa53671ba18885&quot;</td><td>0</td><td>4998451588</td><td>null</td><td>null</td><td>0</td><td>null</td><td>null</td><td>4998451588</td><td>null</td><td>null</td></tr></tbody></table></div>"
      ],
      "text/plain": [
       "shape: (11, 11)\n",
       "┌─────────────┬────────────┬────────────┬──────┬───┬────────┬────────────┬────────────┬────────────┐\n",
       "│ txid        ┆ in_msats   ┆ out_msats  ┆ ln   ┆ … ┆ ln_out ┆ mint_out   ┆ stability_ ┆ wallet_out │\n",
       "│ ---         ┆ ---        ┆ ---        ┆ ---  ┆   ┆ ---    ┆ ---        ┆ pool_out   ┆ ---        │\n",
       "│ str         ┆ i64        ┆ i64        ┆ i64  ┆   ┆ i64    ┆ i64        ┆ ---        ┆ i64        │\n",
       "│             ┆            ┆            ┆      ┆   ┆        ┆            ┆ i64        ┆            │\n",
       "╞═════════════╪════════════╪════════════╪══════╪═══╪════════╪════════════╪════════════╪════════════╡\n",
       "│ 054df939f73 ┆ 146000     ┆ 0          ┆ null ┆ … ┆ null   ┆ null       ┆ 0          ┆ null       │\n",
       "│ 807fd933c3f ┆            ┆            ┆      ┆   ┆        ┆            ┆            ┆            │\n",
       "│ a81374c5949 ┆            ┆            ┆      ┆   ┆        ┆            ┆            ┆            │\n",
       "│ ee0bc4a2685 ┆            ┆            ┆      ┆   ┆        ┆            ┆            ┆            │\n",
       "│ 151d38342dc ┆            ┆            ┆      ┆   ┆        ┆            ┆            ┆            │\n",
       "│ d3bcf66d3   ┆            ┆            ┆      ┆   ┆        ┆            ┆            ┆            │\n",
       "│ 24a69356c8c ┆ 0          ┆ 545180     ┆ null ┆ … ┆ null   ┆ 545180     ┆ null       ┆ null       │\n",
       "│ 67a4f35a6d2 ┆            ┆            ┆      ┆   ┆        ┆            ┆            ┆            │\n",
       "│ 07a500a7be7 ┆            ┆            ┆      ┆   ┆        ┆            ┆            ┆            │\n",
       "│ 04478692ecd ┆            ┆            ┆      ┆   ┆        ┆            ┆            ┆            │\n",
       "│ b135e955f78 ┆            ┆            ┆      ┆   ┆        ┆            ┆            ┆            │\n",
       "│ 97b829838   ┆            ┆            ┆      ┆   ┆        ┆            ┆            ┆            │\n",
       "│ 290fc842bd6 ┆ 726000     ┆ 0          ┆ null ┆ … ┆ null   ┆ null       ┆ 0          ┆ null       │\n",
       "│ 47b353dcd11 ┆            ┆            ┆      ┆   ┆        ┆            ┆            ┆            │\n",
       "│ 6b96deff02c ┆            ┆            ┆      ┆   ┆        ┆            ┆            ┆            │\n",
       "│ 4d5009c37ff ┆            ┆            ┆      ┆   ┆        ┆            ┆            ┆            │\n",
       "│ 780dbb4eb4a ┆            ┆            ┆      ┆   ┆        ┆            ┆            ┆            │\n",
       "│ 38f2d386b   ┆            ┆            ┆      ┆   ┆        ┆            ┆            ┆            │\n",
       "│ 2f30bf7351b ┆ 5000000000 ┆ 0          ┆ null ┆ … ┆ null   ┆ null       ┆ 0          ┆ null       │\n",
       "│ fc92dcac03f ┆            ┆            ┆      ┆   ┆        ┆            ┆            ┆            │\n",
       "│ 8752556554e ┆            ┆            ┆      ┆   ┆        ┆            ┆            ┆            │\n",
       "│ 8e5c45d1c7b ┆            ┆            ┆      ┆   ┆        ┆            ┆            ┆            │\n",
       "│ a81eea4a540 ┆            ┆            ┆      ┆   ┆        ┆            ┆            ┆            │\n",
       "│ 17251f43d   ┆            ┆            ┆      ┆   ┆        ┆            ┆            ┆            │\n",
       "│ 3092897fe70 ┆ 0          ┆ 870754     ┆ null ┆ … ┆ null   ┆ 870754     ┆ null       ┆ null       │\n",
       "│ 9216c046ad3 ┆            ┆            ┆      ┆   ┆        ┆            ┆            ┆            │\n",
       "│ 3b04bc36c37 ┆            ┆            ┆      ┆   ┆        ┆            ┆            ┆            │\n",
       "│ c4025051859 ┆            ┆            ┆      ┆   ┆        ┆            ┆            ┆            │\n",
       "│ 67bf11407e0 ┆            ┆            ┆      ┆   ┆        ┆            ┆            ┆            │\n",
       "│ 11aafbff6   ┆            ┆            ┆      ┆   ┆        ┆            ┆            ┆            │\n",
       "│ 33e614f0ba8 ┆ 146000     ┆ 0          ┆ null ┆ … ┆ null   ┆ null       ┆ 0          ┆ null       │\n",
       "│ 32503f8f3f3 ┆            ┆            ┆      ┆   ┆        ┆            ┆            ┆            │\n",
       "│ fac90b1713c ┆            ┆            ┆      ┆   ┆        ┆            ┆            ┆            │\n",
       "│ a1f6de96cb7 ┆            ┆            ┆      ┆   ┆        ┆            ┆            ┆            │\n",
       "│ 2e17cd20f0b ┆            ┆            ┆      ┆   ┆        ┆            ┆            ┆            │\n",
       "│ a890cbed2   ┆            ┆            ┆      ┆   ┆        ┆            ┆            ┆            │\n",
       "│ 554316f73d8 ┆ 0          ┆ 1000000    ┆ null ┆ … ┆ null   ┆ 1000000    ┆ null       ┆ null       │\n",
       "│ 664d336881b ┆            ┆            ┆      ┆   ┆        ┆            ┆            ┆            │\n",
       "│ 8608efe2b1c ┆            ┆            ┆      ┆   ┆        ┆            ┆            ┆            │\n",
       "│ 7c19ca2fcbc ┆            ┆            ┆      ┆   ┆        ┆            ┆            ┆            │\n",
       "│ a606ae1c2d5 ┆            ┆            ┆      ┆   ┆        ┆            ┆            ┆            │\n",
       "│ 2b1f6a19b   ┆            ┆            ┆      ┆   ┆        ┆            ┆            ┆            │\n",
       "│ 60924d813a8 ┆ 0          ┆ 4998454820 ┆ null ┆ … ┆ null   ┆ 4998454820 ┆ null       ┆ null       │\n",
       "│ e589b891b68 ┆            ┆            ┆      ┆   ┆        ┆            ┆            ┆            │\n",
       "│ 442e0d52f0c ┆            ┆            ┆      ┆   ┆        ┆            ┆            ┆            │\n",
       "│ f65557905d7 ┆            ┆            ┆      ┆   ┆        ┆            ┆            ┆            │\n",
       "│ 7da74956de1 ┆            ┆            ┆      ┆   ┆        ┆            ┆            ┆            │\n",
       "│ 172b8f711   ┆            ┆            ┆      ┆   ┆        ┆            ┆            ┆            │\n",
       "│ 7b238d12630 ┆ 5000000000 ┆ 0          ┆ null ┆ … ┆ null   ┆ null       ┆ 0          ┆ null       │\n",
       "│ 42cfe9eca2c ┆            ┆            ┆      ┆   ┆        ┆            ┆            ┆            │\n",
       "│ b5a4702fc84 ┆            ┆            ┆      ┆   ┆        ┆            ┆            ┆            │\n",
       "│ 8e6a2da9acf ┆            ┆            ┆      ┆   ┆        ┆            ┆            ┆            │\n",
       "│ ef0a6eb6a03 ┆            ┆            ┆      ┆   ┆        ┆            ┆            ┆            │\n",
       "│ 2c3790a70   ┆            ┆            ┆      ┆   ┆        ┆            ┆            ┆            │\n",
       "│ 9895408b18b ┆ 1458176    ┆ 2176       ┆ null ┆ … ┆ null   ┆ 2176       ┆ 0          ┆ null       │\n",
       "│ eec5bfc980d ┆            ┆            ┆      ┆   ┆        ┆            ┆            ┆            │\n",
       "│ c2afaa1b3ad ┆            ┆            ┆      ┆   ┆        ┆            ┆            ┆            │\n",
       "│ 6f0a36d8231 ┆            ┆            ┆      ┆   ┆        ┆            ┆            ┆            │\n",
       "│ d0244894138 ┆            ┆            ┆      ┆   ┆        ┆            ┆            ┆            │\n",
       "│ 1696ecc11   ┆            ┆            ┆      ┆   ┆        ┆            ┆            ┆            │\n",
       "│ b7225d91a5f ┆ 0          ┆ 4998451588 ┆ null ┆ … ┆ null   ┆ 4998451588 ┆ null       ┆ null       │\n",
       "│ 50fcda9e427 ┆            ┆            ┆      ┆   ┆        ┆            ┆            ┆            │\n",
       "│ 5ba498cc4bd ┆            ┆            ┆      ┆   ┆        ┆            ┆            ┆            │\n",
       "│ f49260a41fa ┆            ┆            ┆      ┆   ┆        ┆            ┆            ┆            │\n",
       "│ f776b6aa536 ┆            ┆            ┆      ┆   ┆        ┆            ┆            ┆            │\n",
       "│ 71ba18885   ┆            ┆            ┆      ┆   ┆        ┆            ┆            ┆            │\n",
       "└─────────────┴────────────┴────────────┴──────┴───┴────────┴────────────┴────────────┴────────────┘"
      ]
     },
     "metadata": {},
     "output_type": "display_data"
    }
   ],
   "source": [
    "with pl.Config(tbl_rows=20):\n",
    "    display(rogue_txids)"
   ]
  },
  {
   "cell_type": "markdown",
   "metadata": {},
   "source": [
    "#### Observation:  All the rogue `txid`s have `kind = 'stability_pool'` on one side of the transaction.\n",
    "Note the existence of `0` instead of `null` in the `stability_pool` or `stability_pool_out` columns in the table above."
   ]
  },
  {
   "cell_type": "markdown",
   "metadata": {},
   "source": [
    "#### Observation: But not all `txid`s with `kind = 'stability_pool'` are rogue.\n",
    "There is 1 that is orphaned. (`txid = 'ae9525b8a4978073a0aa05854cec3ef339bf61db52ea446e75cd23f756b85169'`)"
   ]
  },
  {
   "cell_type": "code",
   "execution_count": 17,
   "metadata": {},
   "outputs": [
    {
     "name": "stdout",
     "output_type": "stream",
     "text": [
      "# stability_pool txid's                   :  12\n",
      "# stability_pool txid's that are rogue    :  11\n",
      "# stability_pool txid's that are orphaned :   1\n"
     ]
    }
   ],
   "source": [
    "all_sp_txids = pl.concat([\n",
    "    p_in.filter(pl.col('stability_pool').is_not_null()), \n",
    "    p_out.filter(pl.col('stability_pool').is_not_null())\n",
    "])\n",
    "\n",
    "print(f\"# stability_pool txid's                   : {all_sp_txids.shape[0]:3}\")\n",
    "print(f\"# stability_pool txid's that are rogue    : {all_sp_txids.join(rogue_txids, on='txid').shape[0]:3}\")\n",
    "print(f\"# stability_pool txid's that are orphaned : {all_sp_txids.join(p_combined, on='txid', how='anti').shape[0]:3}\")"
   ]
  },
  {
   "cell_type": "markdown",
   "metadata": {},
   "source": [
    "### Charts"
   ]
  },
  {
   "cell_type": "markdown",
   "metadata": {},
   "source": [
    "#### With June 24, 2024 outlier"
   ]
  },
  {
   "cell_type": "code",
   "execution_count": 18,
   "metadata": {},
   "outputs": [
    {
     "data": {
      "text/html": [
       "\n",
       "<style>\n",
       "  #altair-viz-251d7d25e0a14c7fa0af0d89999006bc.vega-embed {\n",
       "    width: 100%;\n",
       "    display: flex;\n",
       "  }\n",
       "\n",
       "  #altair-viz-251d7d25e0a14c7fa0af0d89999006bc.vega-embed details,\n",
       "  #altair-viz-251d7d25e0a14c7fa0af0d89999006bc.vega-embed details summary {\n",
       "    position: relative;\n",
       "  }\n",
       "</style>\n",
       "<div id=\"altair-viz-251d7d25e0a14c7fa0af0d89999006bc\"></div>\n",
       "<script type=\"text/javascript\">\n",
       "  var VEGA_DEBUG = (typeof VEGA_DEBUG == \"undefined\") ? {} : VEGA_DEBUG;\n",
       "  (function(spec, embedOpt){\n",
       "    let outputDiv = document.currentScript.previousElementSibling;\n",
       "    if (outputDiv.id !== \"altair-viz-251d7d25e0a14c7fa0af0d89999006bc\") {\n",
       "      outputDiv = document.getElementById(\"altair-viz-251d7d25e0a14c7fa0af0d89999006bc\");\n",
       "    }\n",
       "    const paths = {\n",
       "      \"vega\": \"https://cdn.jsdelivr.net/npm/vega@5?noext\",\n",
       "      \"vega-lib\": \"https://cdn.jsdelivr.net/npm/vega-lib?noext\",\n",
       "      \"vega-lite\": \"https://cdn.jsdelivr.net/npm/vega-lite@5.17.0?noext\",\n",
       "      \"vega-embed\": \"https://cdn.jsdelivr.net/npm/vega-embed@6?noext\",\n",
       "    };\n",
       "\n",
       "    function maybeLoadScript(lib, version) {\n",
       "      var key = `${lib.replace(\"-\", \"\")}_version`;\n",
       "      return (VEGA_DEBUG[key] == version) ?\n",
       "        Promise.resolve(paths[lib]) :\n",
       "        new Promise(function(resolve, reject) {\n",
       "          var s = document.createElement('script');\n",
       "          document.getElementsByTagName(\"head\")[0].appendChild(s);\n",
       "          s.async = true;\n",
       "          s.onload = () => {\n",
       "            VEGA_DEBUG[key] = version;\n",
       "            return resolve(paths[lib]);\n",
       "          };\n",
       "          s.onerror = () => reject(`Error loading script: ${paths[lib]}`);\n",
       "          s.src = paths[lib];\n",
       "        });\n",
       "    }\n",
       "\n",
       "    function showError(err) {\n",
       "      outputDiv.innerHTML = `<div class=\"error\" style=\"color:red;\">${err}</div>`;\n",
       "      throw err;\n",
       "    }\n",
       "\n",
       "    function displayChart(vegaEmbed) {\n",
       "      vegaEmbed(outputDiv, spec, embedOpt)\n",
       "        .catch(err => showError(`Javascript Error: ${err.message}<br>This usually means there's a typo in your chart specification. See the javascript console for the full traceback.`));\n",
       "    }\n",
       "\n",
       "    if(typeof define === \"function\" && define.amd) {\n",
       "      requirejs.config({paths});\n",
       "      require([\"vega-embed\"], displayChart, err => showError(`Error loading script: ${err.message}`));\n",
       "    } else {\n",
       "      maybeLoadScript(\"vega\", \"5\")\n",
       "        .then(() => maybeLoadScript(\"vega-lite\", \"5.17.0\"))\n",
       "        .then(() => maybeLoadScript(\"vega-embed\", \"6\"))\n",
       "        .catch(showError)\n",
       "        .then(() => displayChart(vegaEmbed));\n",
       "    }\n",
       "  })({\"config\": {\"view\": {\"continuousWidth\": 300, \"continuousHeight\": 300}}, \"layer\": [{\"data\": {\"name\": \"data-5b677a9444bfbbfbdcd0caabc052244d\"}, \"mark\": {\"type\": \"bar\"}, \"encoding\": {\"color\": {\"field\": \"kind\", \"type\": \"nominal\"}, \"tooltip\": [{\"field\": \"date\", \"type\": \"temporal\"}, {\"field\": \"kind\", \"type\": \"nominal\"}, {\"field\": \"msats\", \"type\": \"quantitative\"}], \"x\": {\"field\": \"date\", \"type\": \"temporal\"}, \"y\": {\"field\": \"msats\", \"type\": \"quantitative\"}}}, {\"data\": {\"name\": \"data-bee7126a2bfa924ce6571515f81e9307\"}, \"mark\": {\"type\": \"line\"}, \"encoding\": {\"color\": {\"field\": \"type\", \"type\": \"nominal\"}, \"x\": {\"field\": \"date\", \"type\": \"temporal\"}, \"y\": {\"field\": \"n\", \"type\": \"quantitative\"}}}], \"height\": 300, \"resolve\": {\"scale\": {\"y\": \"independent\"}}, \"title\": \"Input Transaction Stats\", \"width\": 600, \"$schema\": \"https://vega.github.io/schema/vega-lite/v5.17.0.json\", \"datasets\": {\"data-5b677a9444bfbbfbdcd0caabc052244d\": [{\"date\": \"2024-04-06T00:00:00\", \"kind\": \"wallet\", \"msats\": 10000000000, \"n_sessions\": 1, \"n_txs\": 1}, {\"date\": \"2024-04-08T00:00:00\", \"kind\": \"ln\", \"msats\": 10160800, \"n_sessions\": 2, \"n_txs\": 2}, {\"date\": \"2024-04-08T00:00:00\", \"kind\": \"mint\", \"msats\": 10260800, \"n_sessions\": 2, \"n_txs\": 3}, {\"date\": \"2024-04-09T00:00:00\", \"kind\": \"ln\", \"msats\": 1000000, \"n_sessions\": 1, \"n_txs\": 1}, {\"date\": \"2024-04-09T00:00:00\", \"kind\": \"mint\", \"msats\": 10003635176, \"n_sessions\": 6, \"n_txs\": 7}, {\"date\": \"2024-04-09T00:00:00\", \"kind\": \"wallet\", \"msats\": 10000000000, \"n_sessions\": 1, \"n_txs\": 1}, {\"date\": \"2024-04-10T00:00:00\", \"kind\": \"ln\", \"msats\": 63603507, \"n_sessions\": 82, \"n_txs\": 163}, {\"date\": \"2024-04-10T00:00:00\", \"kind\": \"mint\", \"msats\": 81832859, \"n_sessions\": 83, \"n_txs\": 166}, {\"date\": \"2024-04-10T00:00:00\", \"kind\": \"stability_pool\", \"msats\": 0, \"n_sessions\": 1, \"n_txs\": 1}, {\"date\": \"2024-04-11T00:00:00\", \"kind\": \"ln\", \"msats\": 17267025985, \"n_sessions\": 311, \"n_txs\": 622}, {\"date\": \"2024-04-11T00:00:00\", \"kind\": \"mint\", \"msats\": 17276506073, \"n_sessions\": 310, \"n_txs\": 627}, {\"date\": \"2024-04-11T00:00:00\", \"kind\": \"stability_pool\", \"msats\": 0, \"n_sessions\": 2, \"n_txs\": 4}, {\"date\": \"2024-04-12T00:00:00\", \"kind\": \"ln\", \"msats\": 27224238, \"n_sessions\": 289, \"n_txs\": 562}, {\"date\": \"2024-04-12T00:00:00\", \"kind\": \"mint\", \"msats\": 27456942, \"n_sessions\": 304, \"n_txs\": 564}, {\"date\": \"2024-04-13T00:00:00\", \"kind\": \"ln\", \"msats\": 21182991, \"n_sessions\": 313, \"n_txs\": 612}, {\"date\": \"2024-04-13T00:00:00\", \"kind\": \"mint\", \"msats\": 21859956, \"n_sessions\": 319, \"n_txs\": 612}, {\"date\": \"2024-04-14T00:00:00\", \"kind\": \"ln\", \"msats\": 12863016, \"n_sessions\": 283, \"n_txs\": 551}, {\"date\": \"2024-04-14T00:00:00\", \"kind\": \"mint\", \"msats\": 12956016, \"n_sessions\": 284, \"n_txs\": 552}, {\"date\": \"2024-04-15T00:00:00\", \"kind\": \"ln\", \"msats\": 46614656, \"n_sessions\": 310, \"n_txs\": 596}, {\"date\": \"2024-04-15T00:00:00\", \"kind\": \"mint\", \"msats\": 46876800, \"n_sessions\": 325, \"n_txs\": 598}, {\"date\": \"2024-04-16T00:00:00\", \"kind\": \"ln\", \"msats\": 2970103, \"n_sessions\": 288, \"n_txs\": 567}, {\"date\": \"2024-04-16T00:00:00\", \"kind\": \"mint\", \"msats\": 3000766, \"n_sessions\": 290, \"n_txs\": 568}, {\"date\": \"2024-04-17T00:00:00\", \"kind\": \"ln\", \"msats\": 11545611, \"n_sessions\": 261, \"n_txs\": 506}, {\"date\": \"2024-04-17T00:00:00\", \"kind\": \"mint\", \"msats\": 12545611, \"n_sessions\": 268, \"n_txs\": 507}, {\"date\": \"2024-04-18T00:00:00\", \"kind\": \"ln\", \"msats\": 3501238, \"n_sessions\": 287, \"n_txs\": 566}, {\"date\": \"2024-04-18T00:00:00\", \"kind\": \"mint\", \"msats\": 3946548, \"n_sessions\": 292, \"n_txs\": 568}, {\"date\": \"2024-04-19T00:00:00\", \"kind\": \"ln\", \"msats\": 4340481, \"n_sessions\": 298, \"n_txs\": 583}, {\"date\": \"2024-04-19T00:00:00\", \"kind\": \"mint\", \"msats\": 4136281, \"n_sessions\": 302, \"n_txs\": 582}, {\"date\": \"2024-04-20T00:00:00\", \"kind\": \"ln\", \"msats\": 11685200, \"n_sessions\": 300, \"n_txs\": 589}, {\"date\": \"2024-04-20T00:00:00\", \"kind\": \"mint\", \"msats\": 11687200, \"n_sessions\": 305, \"n_txs\": 591}, {\"date\": \"2024-04-21T00:00:00\", \"kind\": \"ln\", \"msats\": 242462254, \"n_sessions\": 299, \"n_txs\": 579}, {\"date\": \"2024-04-21T00:00:00\", \"kind\": \"mint\", \"msats\": 332249478, \"n_sessions\": 306, \"n_txs\": 592}, {\"date\": \"2024-04-22T00:00:00\", \"kind\": \"ln\", \"msats\": 143849551, \"n_sessions\": 305, \"n_txs\": 596}, {\"date\": \"2024-04-22T00:00:00\", \"kind\": \"mint\", \"msats\": 209003051, \"n_sessions\": 309, \"n_txs\": 600}, {\"date\": \"2024-04-23T00:00:00\", \"kind\": \"ln\", \"msats\": 7275001, \"n_sessions\": 330, \"n_txs\": 633}, {\"date\": \"2024-04-23T00:00:00\", \"kind\": \"mint\", \"msats\": 7172501, \"n_sessions\": 332, \"n_txs\": 632}, {\"date\": \"2024-04-24T00:00:00\", \"kind\": \"ln\", \"msats\": 27426330, \"n_sessions\": 307, \"n_txs\": 590}, {\"date\": \"2024-04-24T00:00:00\", \"kind\": \"mint\", \"msats\": 27645087, \"n_sessions\": 309, \"n_txs\": 592}, {\"date\": \"2024-04-25T00:00:00\", \"kind\": \"ln\", \"msats\": 2959343, \"n_sessions\": 286, \"n_txs\": 561}, {\"date\": \"2024-04-25T00:00:00\", \"kind\": \"mint\", \"msats\": 5059344, \"n_sessions\": 291, \"n_txs\": 562}, {\"date\": \"2024-04-26T00:00:00\", \"kind\": \"ln\", \"msats\": 190687767, \"n_sessions\": 314, \"n_txs\": 607}, {\"date\": \"2024-04-26T00:00:00\", \"kind\": \"mint\", \"msats\": 190928211, \"n_sessions\": 317, \"n_txs\": 624}, {\"date\": \"2024-04-27T00:00:00\", \"kind\": \"ln\", \"msats\": 1680268512, \"n_sessions\": 317, \"n_txs\": 615}, {\"date\": \"2024-04-27T00:00:00\", \"kind\": \"mint\", \"msats\": 2081649274, \"n_sessions\": 322, \"n_txs\": 618}, {\"date\": \"2024-04-28T00:00:00\", \"kind\": \"ln\", \"msats\": 62889047, \"n_sessions\": 325, \"n_txs\": 630}, {\"date\": \"2024-04-28T00:00:00\", \"kind\": \"mint\", \"msats\": 62939047, \"n_sessions\": 331, \"n_txs\": 631}, {\"date\": \"2024-04-29T00:00:00\", \"kind\": \"ln\", \"msats\": 604787084, \"n_sessions\": 295, \"n_txs\": 574}, {\"date\": \"2024-04-29T00:00:00\", \"kind\": \"mint\", \"msats\": 897564572, \"n_sessions\": 300, \"n_txs\": 592}, {\"date\": \"2024-04-30T00:00:00\", \"kind\": \"ln\", \"msats\": 13534339, \"n_sessions\": 308, \"n_txs\": 593}, {\"date\": \"2024-04-30T00:00:00\", \"kind\": \"mint\", \"msats\": 13584339, \"n_sessions\": 316, \"n_txs\": 594}, {\"date\": \"2024-05-01T00:00:00\", \"kind\": \"ln\", \"msats\": 257092419, \"n_sessions\": 312, \"n_txs\": 600}, {\"date\": \"2024-05-01T00:00:00\", \"kind\": \"mint\", \"msats\": 325982027, \"n_sessions\": 311, \"n_txs\": 600}, {\"date\": \"2024-05-02T00:00:00\", \"kind\": \"ln\", \"msats\": 11164717, \"n_sessions\": 287, \"n_txs\": 560}, {\"date\": \"2024-05-02T00:00:00\", \"kind\": \"mint\", \"msats\": 11165717, \"n_sessions\": 290, \"n_txs\": 561}, {\"date\": \"2024-05-03T00:00:00\", \"kind\": \"ln\", \"msats\": 92756344, \"n_sessions\": 299, \"n_txs\": 585}, {\"date\": \"2024-05-03T00:00:00\", \"kind\": \"mint\", \"msats\": 93815120, \"n_sessions\": 303, \"n_txs\": 593}, {\"date\": \"2024-05-04T00:00:00\", \"kind\": \"ln\", \"msats\": 106912137, \"n_sessions\": 303, \"n_txs\": 588}, {\"date\": \"2024-05-04T00:00:00\", \"kind\": \"mint\", \"msats\": 114400745, \"n_sessions\": 302, \"n_txs\": 589}, {\"date\": \"2024-05-05T00:00:00\", \"kind\": \"ln\", \"msats\": 27207813, \"n_sessions\": 293, \"n_txs\": 571}, {\"date\": \"2024-05-05T00:00:00\", \"kind\": \"mint\", \"msats\": 27407570, \"n_sessions\": 292, \"n_txs\": 573}, {\"date\": \"2024-05-06T00:00:00\", \"kind\": \"ln\", \"msats\": 926105749, \"n_sessions\": 321, \"n_txs\": 633}, {\"date\": \"2024-05-06T00:00:00\", \"kind\": \"mint\", \"msats\": 1846716347, \"n_sessions\": 329, \"n_txs\": 644}, {\"date\": \"2024-05-07T00:00:00\", \"kind\": \"ln\", \"msats\": 356028673, \"n_sessions\": 315, \"n_txs\": 609}, {\"date\": \"2024-05-07T00:00:00\", \"kind\": \"mint\", \"msats\": 386918529, \"n_sessions\": 318, \"n_txs\": 625}, {\"date\": \"2024-05-08T00:00:00\", \"kind\": \"ln\", \"msats\": 752060727, \"n_sessions\": 303, \"n_txs\": 583}, {\"date\": \"2024-05-08T00:00:00\", \"kind\": \"mint\", \"msats\": 1282100900, \"n_sessions\": 306, \"n_txs\": 595}, {\"date\": \"2024-05-09T00:00:00\", \"kind\": \"ln\", \"msats\": 497189721, \"n_sessions\": 297, \"n_txs\": 587}, {\"date\": \"2024-05-09T00:00:00\", \"kind\": \"mint\", \"msats\": 843197141, \"n_sessions\": 301, \"n_txs\": 593}, {\"date\": \"2024-05-10T00:00:00\", \"kind\": \"ln\", \"msats\": 213257929, \"n_sessions\": 321, \"n_txs\": 624}, {\"date\": \"2024-05-10T00:00:00\", \"kind\": \"mint\", \"msats\": 277792233, \"n_sessions\": 325, \"n_txs\": 632}, {\"date\": \"2024-05-11T00:00:00\", \"kind\": \"ln\", \"msats\": 334749896, \"n_sessions\": 325, \"n_txs\": 616}, {\"date\": \"2024-05-11T00:00:00\", \"kind\": \"mint\", \"msats\": 858976707, \"n_sessions\": 323, \"n_txs\": 618}, {\"date\": \"2024-05-12T00:00:00\", \"kind\": \"ln\", \"msats\": 459781434, \"n_sessions\": 312, \"n_txs\": 612}, {\"date\": \"2024-05-12T00:00:00\", \"kind\": \"mint\", \"msats\": 472626271, \"n_sessions\": 314, \"n_txs\": 615}, {\"date\": \"2024-05-12T00:00:00\", \"kind\": \"wallet\", \"msats\": 100000000000, \"n_sessions\": 1, \"n_txs\": 1}, {\"date\": \"2024-05-13T00:00:00\", \"kind\": \"ln\", \"msats\": 45246891, \"n_sessions\": 309, \"n_txs\": 608}, {\"date\": \"2024-05-13T00:00:00\", \"kind\": \"mint\", \"msats\": 45676781, \"n_sessions\": 313, \"n_txs\": 624}, {\"date\": \"2024-05-14T00:00:00\", \"kind\": \"ln\", \"msats\": 424347261, \"n_sessions\": 298, \"n_txs\": 584}, {\"date\": \"2024-05-14T00:00:00\", \"kind\": \"mint\", \"msats\": 453214053, \"n_sessions\": 301, \"n_txs\": 588}, {\"date\": \"2024-05-15T00:00:00\", \"kind\": \"ln\", \"msats\": 534521552, \"n_sessions\": 305, \"n_txs\": 589}, {\"date\": \"2024-05-15T00:00:00\", \"kind\": \"mint\", \"msats\": 549193389, \"n_sessions\": 305, \"n_txs\": 608}, {\"date\": \"2024-05-15T00:00:00\", \"kind\": \"wallet\", \"msats\": 74438000, \"n_sessions\": 1, \"n_txs\": 1}, {\"date\": \"2024-05-16T00:00:00\", \"kind\": \"ln\", \"msats\": 388345335, \"n_sessions\": 316, \"n_txs\": 624}, {\"date\": \"2024-05-16T00:00:00\", \"kind\": \"mint\", \"msats\": 501702110, \"n_sessions\": 314, \"n_txs\": 634}, {\"date\": \"2024-05-17T00:00:00\", \"kind\": \"ln\", \"msats\": 880462667, \"n_sessions\": 306, \"n_txs\": 601}, {\"date\": \"2024-05-17T00:00:00\", \"kind\": \"mint\", \"msats\": 947791019, \"n_sessions\": 304, \"n_txs\": 609}, {\"date\": \"2024-05-17T00:00:00\", \"kind\": \"wallet\", \"msats\": 10000000000, \"n_sessions\": 1, \"n_txs\": 1}, {\"date\": \"2024-05-18T00:00:00\", \"kind\": \"ln\", \"msats\": 541257770, \"n_sessions\": 320, \"n_txs\": 622}, {\"date\": \"2024-05-18T00:00:00\", \"kind\": \"mint\", \"msats\": 994973187, \"n_sessions\": 328, \"n_txs\": 638}, {\"date\": \"2024-05-19T00:00:00\", \"kind\": \"ln\", \"msats\": 268088067, \"n_sessions\": 313, \"n_txs\": 617}, {\"date\": \"2024-05-19T00:00:00\", \"kind\": \"mint\", \"msats\": 273048533, \"n_sessions\": 317, \"n_txs\": 620}, {\"date\": \"2024-05-20T00:00:00\", \"kind\": \"ln\", \"msats\": 509096460, \"n_sessions\": 315, \"n_txs\": 615}, {\"date\": \"2024-05-20T00:00:00\", \"kind\": \"mint\", \"msats\": 553801580, \"n_sessions\": 329, \"n_txs\": 628}, {\"date\": \"2024-05-21T00:00:00\", \"kind\": \"ln\", \"msats\": 10066795261, \"n_sessions\": 306, \"n_txs\": 589}, {\"date\": \"2024-05-21T00:00:00\", \"kind\": \"mint\", \"msats\": 10082579085, \"n_sessions\": 307, \"n_txs\": 597}, {\"date\": \"2024-05-22T00:00:00\", \"kind\": \"ln\", \"msats\": 936352912, \"n_sessions\": 313, \"n_txs\": 606}, {\"date\": \"2024-05-22T00:00:00\", \"kind\": \"mint\", \"msats\": 39514811874, \"n_sessions\": 327, \"n_txs\": 660}, {\"date\": \"2024-05-23T00:00:00\", \"kind\": \"ln\", \"msats\": 166476379, \"n_sessions\": 289, \"n_txs\": 609}, {\"date\": \"2024-05-23T00:00:00\", \"kind\": \"mint\", \"msats\": 451991520, \"n_sessions\": 293, \"n_txs\": 646}, {\"date\": \"2024-05-23T00:00:00\", \"kind\": \"wallet\", \"msats\": 67826000, \"n_sessions\": 1, \"n_txs\": 1}, {\"date\": \"2024-05-24T00:00:00\", \"kind\": \"ln\", \"msats\": 1328672311, \"n_sessions\": 297, \"n_txs\": 582}, {\"date\": \"2024-05-24T00:00:00\", \"kind\": \"mint\", \"msats\": 1735118157, \"n_sessions\": 299, \"n_txs\": 590}, {\"date\": \"2024-05-24T00:00:00\", \"kind\": \"wallet\", \"msats\": 1140401000, \"n_sessions\": 2, \"n_txs\": 2}, {\"date\": \"2024-05-25T00:00:00\", \"kind\": \"ln\", \"msats\": 179258528, \"n_sessions\": 310, \"n_txs\": 607}, {\"date\": \"2024-05-25T00:00:00\", \"kind\": \"mint\", \"msats\": 181033110, \"n_sessions\": 311, \"n_txs\": 606}, {\"date\": \"2024-05-25T00:00:00\", \"kind\": \"wallet\", \"msats\": 69357000, \"n_sessions\": 1, \"n_txs\": 1}, {\"date\": \"2024-05-26T00:00:00\", \"kind\": \"ln\", \"msats\": 250416540, \"n_sessions\": 318, \"n_txs\": 612}, {\"date\": \"2024-05-26T00:00:00\", \"kind\": \"mint\", \"msats\": 252920564, \"n_sessions\": 321, \"n_txs\": 616}, {\"date\": \"2024-05-27T00:00:00\", \"kind\": \"ln\", \"msats\": 388429874, \"n_sessions\": 301, \"n_txs\": 604}, {\"date\": \"2024-05-27T00:00:00\", \"kind\": \"mint\", \"msats\": 404510446, \"n_sessions\": 305, \"n_txs\": 605}, {\"date\": \"2024-05-27T00:00:00\", \"kind\": \"wallet\", \"msats\": 122102000, \"n_sessions\": 1, \"n_txs\": 1}, {\"date\": \"2024-05-28T00:00:00\", \"kind\": \"ln\", \"msats\": 447270595, \"n_sessions\": 304, \"n_txs\": 589}, {\"date\": \"2024-05-28T00:00:00\", \"kind\": \"mint\", \"msats\": 448906546, \"n_sessions\": 306, \"n_txs\": 595}, {\"date\": \"2024-05-29T00:00:00\", \"kind\": \"ln\", \"msats\": 4282092256, \"n_sessions\": 309, \"n_txs\": 602}, {\"date\": \"2024-05-29T00:00:00\", \"kind\": \"mint\", \"msats\": 4296354848, \"n_sessions\": 319, \"n_txs\": 699}, {\"date\": \"2024-05-30T00:00:00\", \"kind\": \"ln\", \"msats\": 427778481, \"n_sessions\": 319, \"n_txs\": 615}, {\"date\": \"2024-05-30T00:00:00\", \"kind\": \"mint\", \"msats\": 438487954, \"n_sessions\": 328, \"n_txs\": 634}, {\"date\": \"2024-05-30T00:00:00\", \"kind\": \"wallet\", \"msats\": 157024000, \"n_sessions\": 1, \"n_txs\": 1}, {\"date\": \"2024-05-31T00:00:00\", \"kind\": \"ln\", \"msats\": 510081241, \"n_sessions\": 314, \"n_txs\": 613}, {\"date\": \"2024-05-31T00:00:00\", \"kind\": \"mint\", \"msats\": 521964181, \"n_sessions\": 320, \"n_txs\": 636}, {\"date\": \"2024-05-31T00:00:00\", \"kind\": \"wallet\", \"msats\": 282802000, \"n_sessions\": 2, \"n_txs\": 2}, {\"date\": \"2024-06-01T00:00:00\", \"kind\": \"ln\", \"msats\": 340110100, \"n_sessions\": 331, \"n_txs\": 639}, {\"date\": \"2024-06-01T00:00:00\", \"kind\": \"mint\", \"msats\": 422373067, \"n_sessions\": 329, \"n_txs\": 652}, {\"date\": \"2024-06-02T00:00:00\", \"kind\": \"ln\", \"msats\": 1341768874, \"n_sessions\": 302, \"n_txs\": 609}, {\"date\": \"2024-06-02T00:00:00\", \"kind\": \"mint\", \"msats\": 1490679570, \"n_sessions\": 307, \"n_txs\": 649}, {\"date\": \"2024-06-02T00:00:00\", \"kind\": \"wallet\", \"msats\": 386833000, \"n_sessions\": 2, \"n_txs\": 2}, {\"date\": \"2024-06-03T00:00:00\", \"kind\": \"ln\", \"msats\": 21055785, \"n_sessions\": 308, \"n_txs\": 598}, {\"date\": \"2024-06-03T00:00:00\", \"kind\": \"mint\", \"msats\": 529490073, \"n_sessions\": 317, \"n_txs\": 602}, {\"date\": \"2024-06-04T00:00:00\", \"kind\": \"ln\", \"msats\": 1337576686, \"n_sessions\": 313, \"n_txs\": 603}, {\"date\": \"2024-06-04T00:00:00\", \"kind\": \"mint\", \"msats\": 1356710785, \"n_sessions\": 320, \"n_txs\": 607}, {\"date\": \"2024-06-05T00:00:00\", \"kind\": \"ln\", \"msats\": 1632141362, \"n_sessions\": 328, \"n_txs\": 634}, {\"date\": \"2024-06-05T00:00:00\", \"kind\": \"mint\", \"msats\": 1643067164, \"n_sessions\": 334, \"n_txs\": 657}, {\"date\": \"2024-06-06T00:00:00\", \"kind\": \"ln\", \"msats\": 424599821, \"n_sessions\": 303, \"n_txs\": 587}, {\"date\": \"2024-06-06T00:00:00\", \"kind\": \"mint\", \"msats\": 430085532, \"n_sessions\": 310, \"n_txs\": 603}, {\"date\": \"2024-06-07T00:00:00\", \"kind\": \"ln\", \"msats\": 278318677, \"n_sessions\": 299, \"n_txs\": 583}, {\"date\": \"2024-06-07T00:00:00\", \"kind\": \"mint\", \"msats\": 321163997, \"n_sessions\": 301, \"n_txs\": 600}, {\"date\": \"2024-06-08T00:00:00\", \"kind\": \"ln\", \"msats\": 744599851, \"n_sessions\": 361, \"n_txs\": 681}, {\"date\": \"2024-06-08T00:00:00\", \"kind\": \"mint\", \"msats\": 762596156, \"n_sessions\": 357, \"n_txs\": 685}, {\"date\": \"2024-06-09T00:00:00\", \"kind\": \"ln\", \"msats\": 1050177045, \"n_sessions\": 300, \"n_txs\": 604}, {\"date\": \"2024-06-09T00:00:00\", \"kind\": \"mint\", \"msats\": 1405327599, \"n_sessions\": 305, \"n_txs\": 617}, {\"date\": \"2024-06-09T00:00:00\", \"kind\": \"wallet\", \"msats\": 364664000, \"n_sessions\": 2, \"n_txs\": 2}, {\"date\": \"2024-06-10T00:00:00\", \"kind\": \"ln\", \"msats\": 448208057, \"n_sessions\": 313, \"n_txs\": 624}, {\"date\": \"2024-06-10T00:00:00\", \"kind\": \"mint\", \"msats\": 519480691, \"n_sessions\": 323, \"n_txs\": 1048}, {\"date\": \"2024-06-11T00:00:00\", \"kind\": \"ln\", \"msats\": 1031489580, \"n_sessions\": 312, \"n_txs\": 611}, {\"date\": \"2024-06-11T00:00:00\", \"kind\": \"mint\", \"msats\": 1273066614, \"n_sessions\": 310, \"n_txs\": 613}, {\"date\": \"2024-06-12T00:00:00\", \"kind\": \"ln\", \"msats\": 3872720047, \"n_sessions\": 334, \"n_txs\": 650}, {\"date\": \"2024-06-12T00:00:00\", \"kind\": \"mint\", \"msats\": 31940903969, \"n_sessions\": 343, \"n_txs\": 657}, {\"date\": \"2024-06-12T00:00:00\", \"kind\": \"wallet\", \"msats\": 141526000, \"n_sessions\": 1, \"n_txs\": 1}, {\"date\": \"2024-06-13T00:00:00\", \"kind\": \"ln\", \"msats\": 2670941558, \"n_sessions\": 323, \"n_txs\": 669}, {\"date\": \"2024-06-13T00:00:00\", \"kind\": \"mint\", \"msats\": 3090158823, \"n_sessions\": 346, \"n_txs\": 871}, {\"date\": \"2024-06-13T00:00:00\", \"kind\": \"wallet\", \"msats\": 490364000, \"n_sessions\": 3, \"n_txs\": 3}, {\"date\": \"2024-06-14T00:00:00\", \"kind\": \"ln\", \"msats\": 2794063952, \"n_sessions\": 355, \"n_txs\": 719}, {\"date\": \"2024-06-14T00:00:00\", \"kind\": \"mint\", \"msats\": 3026210680, \"n_sessions\": 378, \"n_txs\": 837}, {\"date\": \"2024-06-14T00:00:00\", \"kind\": \"wallet\", \"msats\": 369773000, \"n_sessions\": 3, \"n_txs\": 3}, {\"date\": \"2024-06-15T00:00:00\", \"kind\": \"ln\", \"msats\": 2653746141, \"n_sessions\": 333, \"n_txs\": 673}, {\"date\": \"2024-06-15T00:00:00\", \"kind\": \"mint\", \"msats\": 3483886681, \"n_sessions\": 356, \"n_txs\": 776}, {\"date\": \"2024-06-15T00:00:00\", \"kind\": \"wallet\", \"msats\": 144084000, \"n_sessions\": 1, \"n_txs\": 1}, {\"date\": \"2024-06-16T00:00:00\", \"kind\": \"ln\", \"msats\": 420297001, \"n_sessions\": 307, \"n_txs\": 600}, {\"date\": \"2024-06-16T00:00:00\", \"kind\": \"mint\", \"msats\": 1473457440, \"n_sessions\": 323, \"n_txs\": 1017}, {\"date\": \"2024-06-16T00:00:00\", \"kind\": \"wallet\", \"msats\": 876820000, \"n_sessions\": 6, \"n_txs\": 6}, {\"date\": \"2024-06-17T00:00:00\", \"kind\": \"ln\", \"msats\": 13589238037, \"n_sessions\": 325, \"n_txs\": 639}, {\"date\": \"2024-06-17T00:00:00\", \"kind\": \"mint\", \"msats\": 17759865166, \"n_sessions\": 330, \"n_txs\": 648}, {\"date\": \"2024-06-17T00:00:00\", \"kind\": \"wallet\", \"msats\": 315512000, \"n_sessions\": 2, \"n_txs\": 2}, {\"date\": \"2024-06-18T00:00:00\", \"kind\": \"ln\", \"msats\": 6605635272, \"n_sessions\": 355, \"n_txs\": 813}, {\"date\": \"2024-06-18T00:00:00\", \"kind\": \"mint\", \"msats\": 6973287988, \"n_sessions\": 350, \"n_txs\": 709}, {\"date\": \"2024-06-18T00:00:00\", \"kind\": \"wallet\", \"msats\": 91000000, \"n_sessions\": 1, \"n_txs\": 2}, {\"date\": \"2024-06-19T00:00:00\", \"kind\": \"ln\", \"msats\": 561936011, \"n_sessions\": 315, \"n_txs\": 614}, {\"date\": \"2024-06-19T00:00:00\", \"kind\": \"mint\", \"msats\": 1190866863, \"n_sessions\": 319, \"n_txs\": 631}, {\"date\": \"2024-06-19T00:00:00\", \"kind\": \"wallet\", \"msats\": 138948000, \"n_sessions\": 1, \"n_txs\": 1}, {\"date\": \"2024-06-20T00:00:00\", \"kind\": \"ln\", \"msats\": 488276681, \"n_sessions\": 299, \"n_txs\": 584}, {\"date\": \"2024-06-20T00:00:00\", \"kind\": \"mint\", \"msats\": 2330713680, \"n_sessions\": 299, \"n_txs\": 608}, {\"date\": \"2024-06-20T00:00:00\", \"kind\": \"wallet\", \"msats\": 145797000, \"n_sessions\": 1, \"n_txs\": 1}, {\"date\": \"2024-06-21T00:00:00\", \"kind\": \"ln\", \"msats\": 2198207037, \"n_sessions\": 319, \"n_txs\": 620}, {\"date\": \"2024-06-21T00:00:00\", \"kind\": \"mint\", \"msats\": 521175861, \"n_sessions\": 321, \"n_txs\": 685}, {\"date\": \"2024-06-22T00:00:00\", \"kind\": \"ln\", \"msats\": 229251541, \"n_sessions\": 324, \"n_txs\": 634}, {\"date\": \"2024-06-22T00:00:00\", \"kind\": \"mint\", \"msats\": 246430776, \"n_sessions\": 328, \"n_txs\": 642}, {\"date\": \"2024-06-23T00:00:00\", \"kind\": \"ln\", \"msats\": 40378039, \"n_sessions\": 295, \"n_txs\": 572}, {\"date\": \"2024-06-23T00:00:00\", \"kind\": \"mint\", \"msats\": 299796721, \"n_sessions\": 302, \"n_txs\": 665}, {\"date\": \"2024-06-23T00:00:00\", \"kind\": \"wallet\", \"msats\": 406407000, \"n_sessions\": 3, \"n_txs\": 3}, {\"date\": \"2024-06-24T00:00:00\", \"kind\": \"ln\", \"msats\": 2050682702, \"n_sessions\": 333, \"n_txs\": 662}, {\"date\": \"2024-06-24T00:00:00\", \"kind\": \"mint\", \"msats\": 1337688103027, \"n_sessions\": 340, \"n_txs\": 722}, {\"date\": \"2024-06-24T00:00:00\", \"kind\": \"wallet\", \"msats\": 700920667000, \"n_sessions\": 2, \"n_txs\": 2}, {\"date\": \"2024-06-25T00:00:00\", \"kind\": \"ln\", \"msats\": 5074941850, \"n_sessions\": 342, \"n_txs\": 714}, {\"date\": \"2024-06-25T00:00:00\", \"kind\": \"mint\", \"msats\": 83479982863, \"n_sessions\": 349, \"n_txs\": 710}, {\"date\": \"2024-06-26T00:00:00\", \"kind\": \"ln\", \"msats\": 933425660, \"n_sessions\": 312, \"n_txs\": 596}, {\"date\": \"2024-06-26T00:00:00\", \"kind\": \"mint\", \"msats\": 1296404284, \"n_sessions\": 309, \"n_txs\": 634}, {\"date\": \"2024-06-26T00:00:00\", \"kind\": \"wallet\", \"msats\": 328123000, \"n_sessions\": 2, \"n_txs\": 3}, {\"date\": \"2024-06-27T00:00:00\", \"kind\": \"ln\", \"msats\": 1474314427, \"n_sessions\": 331, \"n_txs\": 640}, {\"date\": \"2024-06-27T00:00:00\", \"kind\": \"mint\", \"msats\": 2801505279, \"n_sessions\": 337, \"n_txs\": 689}, {\"date\": \"2024-06-27T00:00:00\", \"kind\": \"wallet\", \"msats\": 433758000, \"n_sessions\": 1, \"n_txs\": 1}, {\"date\": \"2024-06-28T00:00:00\", \"kind\": \"ln\", \"msats\": 697302486, \"n_sessions\": 304, \"n_txs\": 600}, {\"date\": \"2024-06-28T00:00:00\", \"kind\": \"mint\", \"msats\": 704634435, \"n_sessions\": 297, \"n_txs\": 601}, {\"date\": \"2024-06-29T00:00:00\", \"kind\": \"ln\", \"msats\": 683776383, \"n_sessions\": 308, \"n_txs\": 626}, {\"date\": \"2024-06-29T00:00:00\", \"kind\": \"mint\", \"msats\": 2375162989, \"n_sessions\": 343, \"n_txs\": 776}, {\"date\": \"2024-06-30T00:00:00\", \"kind\": \"ln\", \"msats\": 1518413493, \"n_sessions\": 306, \"n_txs\": 584}, {\"date\": \"2024-06-30T00:00:00\", \"kind\": \"mint\", \"msats\": 1546542862, \"n_sessions\": 308, \"n_txs\": 600}, {\"date\": \"2024-07-01T00:00:00\", \"kind\": \"ln\", \"msats\": 555549267, \"n_sessions\": 325, \"n_txs\": 595}, {\"date\": \"2024-07-01T00:00:00\", \"kind\": \"mint\", \"msats\": 607663054, \"n_sessions\": 332, \"n_txs\": 611}, {\"date\": \"2024-07-02T00:00:00\", \"kind\": \"ln\", \"msats\": 250573077, \"n_sessions\": 303, \"n_txs\": 586}, {\"date\": \"2024-07-02T00:00:00\", \"kind\": \"mint\", \"msats\": 252694753, \"n_sessions\": 305, \"n_txs\": 588}, {\"date\": \"2024-07-03T00:00:00\", \"kind\": \"ln\", \"msats\": 697253694, \"n_sessions\": 313, \"n_txs\": 585}, {\"date\": \"2024-07-03T00:00:00\", \"kind\": \"mint\", \"msats\": 1937527363, \"n_sessions\": 321, \"n_txs\": 624}, {\"date\": \"2024-07-04T00:00:00\", \"kind\": \"ln\", \"msats\": 108079217, \"n_sessions\": 306, \"n_txs\": 608}, {\"date\": \"2024-07-04T00:00:00\", \"kind\": \"mint\", \"msats\": 121566685, \"n_sessions\": 317, \"n_txs\": 618}, {\"date\": \"2024-07-04T00:00:00\", \"kind\": \"wallet\", \"msats\": 52000000, \"n_sessions\": 1, \"n_txs\": 1}, {\"date\": \"2024-07-05T00:00:00\", \"kind\": \"ln\", \"msats\": 51669975, \"n_sessions\": 333, \"n_txs\": 600}, {\"date\": \"2024-07-05T00:00:00\", \"kind\": \"mint\", \"msats\": 88349266, \"n_sessions\": 332, \"n_txs\": 648}, {\"date\": \"2024-07-06T00:00:00\", \"kind\": \"ln\", \"msats\": 16539909, \"n_sessions\": 299, \"n_txs\": 576}, {\"date\": \"2024-07-06T00:00:00\", \"kind\": \"mint\", \"msats\": 18629262, \"n_sessions\": 308, \"n_txs\": 582}, {\"date\": \"2024-07-07T00:00:00\", \"kind\": \"ln\", \"msats\": 437526421, \"n_sessions\": 312, \"n_txs\": 582}, {\"date\": \"2024-07-07T00:00:00\", \"kind\": \"mint\", \"msats\": 438206595, \"n_sessions\": 305, \"n_txs\": 601}, {\"date\": \"2024-07-07T00:00:00\", \"kind\": \"wallet\", \"msats\": 688771000, \"n_sessions\": 1, \"n_txs\": 1}, {\"date\": \"2024-07-08T00:00:00\", \"kind\": \"ln\", \"msats\": 3474008, \"n_sessions\": 296, \"n_txs\": 578}, {\"date\": \"2024-07-08T00:00:00\", \"kind\": \"mint\", \"msats\": 4841688, \"n_sessions\": 318, \"n_txs\": 583}, {\"date\": \"2024-07-09T00:00:00\", \"kind\": \"ln\", \"msats\": 1299756361, \"n_sessions\": 305, \"n_txs\": 593}, {\"date\": \"2024-07-09T00:00:00\", \"kind\": \"mint\", \"msats\": 1301473505, \"n_sessions\": 306, \"n_txs\": 595}, {\"date\": \"2024-07-09T00:00:00\", \"kind\": \"wallet\", \"msats\": 75731000, \"n_sessions\": 1, \"n_txs\": 1}, {\"date\": \"2024-07-10T00:00:00\", \"kind\": \"ln\", \"msats\": 740893701, \"n_sessions\": 314, \"n_txs\": 602}, {\"date\": \"2024-07-10T00:00:00\", \"kind\": \"mint\", \"msats\": 784945757, \"n_sessions\": 335, \"n_txs\": 633}, {\"date\": \"2024-07-11T00:00:00\", \"kind\": \"ln\", \"msats\": 33391655, \"n_sessions\": 281, \"n_txs\": 556}, {\"date\": \"2024-07-11T00:00:00\", \"kind\": \"mint\", \"msats\": 79919266, \"n_sessions\": 309, \"n_txs\": 567}, {\"date\": \"2024-07-12T00:00:00\", \"kind\": \"ln\", \"msats\": 476523888, \"n_sessions\": 320, \"n_txs\": 620}, {\"date\": \"2024-07-12T00:00:00\", \"kind\": \"mint\", \"msats\": 476604888, \"n_sessions\": 312, \"n_txs\": 624}, {\"date\": \"2024-07-12T00:00:00\", \"kind\": \"wallet\", \"msats\": 744455000, \"n_sessions\": 3, \"n_txs\": 3}, {\"date\": \"2024-07-13T00:00:00\", \"kind\": \"ln\", \"msats\": 609404338, \"n_sessions\": 333, \"n_txs\": 590}, {\"date\": \"2024-07-13T00:00:00\", \"kind\": \"mint\", \"msats\": 610142338, \"n_sessions\": 328, \"n_txs\": 608}, {\"date\": \"2024-07-14T00:00:00\", \"kind\": \"ln\", \"msats\": 25569780, \"n_sessions\": 304, \"n_txs\": 582}, {\"date\": \"2024-07-14T00:00:00\", \"kind\": \"mint\", \"msats\": 25625977, \"n_sessions\": 316, \"n_txs\": 587}, {\"date\": \"2024-07-15T00:00:00\", \"kind\": \"ln\", \"msats\": 35545417, \"n_sessions\": 312, \"n_txs\": 591}, {\"date\": \"2024-07-15T00:00:00\", \"kind\": \"mint\", \"msats\": 56628858, \"n_sessions\": 344, \"n_txs\": 622}, {\"date\": \"2024-07-16T00:00:00\", \"kind\": \"ln\", \"msats\": 114826193, \"n_sessions\": 297, \"n_txs\": 558}, {\"date\": \"2024-07-16T00:00:00\", \"kind\": \"mint\", \"msats\": 156661193, \"n_sessions\": 309, \"n_txs\": 567}, {\"date\": \"2024-07-17T00:00:00\", \"kind\": \"ln\", \"msats\": 1028383522, \"n_sessions\": 310, \"n_txs\": 621}, {\"date\": \"2024-07-17T00:00:00\", \"kind\": \"mint\", \"msats\": 1281835530, \"n_sessions\": 313, \"n_txs\": 650}, {\"date\": \"2024-07-17T00:00:00\", \"kind\": \"wallet\", \"msats\": 379474000, \"n_sessions\": 1, \"n_txs\": 1}, {\"date\": \"2024-07-18T00:00:00\", \"kind\": \"ln\", \"msats\": 2513545377, \"n_sessions\": 299, \"n_txs\": 583}, {\"date\": \"2024-07-18T00:00:00\", \"kind\": \"mint\", \"msats\": 4553998295, \"n_sessions\": 313, \"n_txs\": 588}, {\"date\": \"2024-07-18T00:00:00\", \"kind\": \"wallet\", \"msats\": 2079083000, \"n_sessions\": 1, \"n_txs\": 4}, {\"date\": \"2024-07-19T00:00:00\", \"kind\": \"ln\", \"msats\": 80016092, \"n_sessions\": 325, \"n_txs\": 606}, {\"date\": \"2024-07-19T00:00:00\", \"kind\": \"mint\", \"msats\": 80181092, \"n_sessions\": 321, \"n_txs\": 612}, {\"date\": \"2024-07-20T00:00:00\", \"kind\": \"ln\", \"msats\": 693100701, \"n_sessions\": 300, \"n_txs\": 585}, {\"date\": \"2024-07-20T00:00:00\", \"kind\": \"mint\", \"msats\": 693238210, \"n_sessions\": 310, \"n_txs\": 597}, {\"date\": \"2024-07-21T00:00:00\", \"kind\": \"ln\", \"msats\": 799716498, \"n_sessions\": 335, \"n_txs\": 628}, {\"date\": \"2024-07-21T00:00:00\", \"kind\": \"mint\", \"msats\": 1848939571, \"n_sessions\": 334, \"n_txs\": 634}, {\"date\": \"2024-07-21T00:00:00\", \"kind\": \"wallet\", \"msats\": 576478000, \"n_sessions\": 3, \"n_txs\": 3}, {\"date\": \"2024-07-22T00:00:00\", \"kind\": \"ln\", \"msats\": 155522276, \"n_sessions\": 291, \"n_txs\": 551}, {\"date\": \"2024-07-22T00:00:00\", \"kind\": \"mint\", \"msats\": 158662276, \"n_sessions\": 303, \"n_txs\": 556}, {\"date\": \"2024-07-23T00:00:00\", \"kind\": \"ln\", \"msats\": 36697333, \"n_sessions\": 323, \"n_txs\": 607}, {\"date\": \"2024-07-23T00:00:00\", \"kind\": \"mint\", \"msats\": 37669956, \"n_sessions\": 328, \"n_txs\": 607}, {\"date\": \"2024-07-24T00:00:00\", \"kind\": \"ln\", \"msats\": 1240031501, \"n_sessions\": 308, \"n_txs\": 587}, {\"date\": \"2024-07-24T00:00:00\", \"kind\": \"mint\", \"msats\": 1403291501, \"n_sessions\": 310, \"n_txs\": 601}, {\"date\": \"2024-07-24T00:00:00\", \"kind\": \"wallet\", \"msats\": 72371000, \"n_sessions\": 1, \"n_txs\": 1}, {\"date\": \"2024-07-25T00:00:00\", \"kind\": \"ln\", \"msats\": 170523351, \"n_sessions\": 302, \"n_txs\": 572}, {\"date\": \"2024-07-25T00:00:00\", \"kind\": \"mint\", \"msats\": 698136095, \"n_sessions\": 297, \"n_txs\": 583}, {\"date\": \"2024-07-25T00:00:00\", \"kind\": \"wallet\", \"msats\": 95751000, \"n_sessions\": 1, \"n_txs\": 1}, {\"date\": \"2024-07-26T00:00:00\", \"kind\": \"ln\", \"msats\": 98309324, \"n_sessions\": 305, \"n_txs\": 579}, {\"date\": \"2024-07-26T00:00:00\", \"kind\": \"mint\", \"msats\": 180076324, \"n_sessions\": 306, \"n_txs\": 589}, {\"date\": \"2024-07-27T00:00:00\", \"kind\": \"ln\", \"msats\": 262660312, \"n_sessions\": 324, \"n_txs\": 621}, {\"date\": \"2024-07-27T00:00:00\", \"kind\": \"mint\", \"msats\": 267493120, \"n_sessions\": 327, \"n_txs\": 678}, {\"date\": \"2024-07-28T00:00:00\", \"kind\": \"ln\", \"msats\": 902695308, \"n_sessions\": 307, \"n_txs\": 599}, {\"date\": \"2024-07-28T00:00:00\", \"kind\": \"mint\", \"msats\": 1072688908, \"n_sessions\": 305, \"n_txs\": 612}, {\"date\": \"2024-07-28T00:00:00\", \"kind\": \"wallet\", \"msats\": 143531000, \"n_sessions\": 1, \"n_txs\": 1}, {\"date\": \"2024-07-29T00:00:00\", \"kind\": \"ln\", \"msats\": 521065522, \"n_sessions\": 302, \"n_txs\": 574}, {\"date\": \"2024-07-29T00:00:00\", \"kind\": \"mint\", \"msats\": 423150189, \"n_sessions\": 295, \"n_txs\": 575}, {\"date\": \"2024-07-30T00:00:00\", \"kind\": \"ln\", \"msats\": 82508087, \"n_sessions\": 272, \"n_txs\": 505}, {\"date\": \"2024-07-30T00:00:00\", \"kind\": \"mint\", \"msats\": 83536659, \"n_sessions\": 265, \"n_txs\": 506}], \"data-bee7126a2bfa924ce6571515f81e9307\": [{\"date\": \"2024-04-06T00:00:00\", \"type\": \"n_sessions\", \"n\": 1}, {\"date\": \"2024-04-08T00:00:00\", \"type\": \"n_sessions\", \"n\": 4}, {\"date\": \"2024-04-09T00:00:00\", \"type\": \"n_sessions\", \"n\": 8}, {\"date\": \"2024-04-10T00:00:00\", \"type\": \"n_sessions\", \"n\": 166}, {\"date\": \"2024-04-11T00:00:00\", \"type\": \"n_sessions\", \"n\": 623}, {\"date\": \"2024-04-12T00:00:00\", \"type\": \"n_sessions\", \"n\": 593}, {\"date\": \"2024-04-13T00:00:00\", \"type\": \"n_sessions\", \"n\": 632}, {\"date\": \"2024-04-14T00:00:00\", \"type\": \"n_sessions\", \"n\": 567}, {\"date\": \"2024-04-15T00:00:00\", \"type\": \"n_sessions\", \"n\": 635}, {\"date\": \"2024-04-16T00:00:00\", \"type\": \"n_sessions\", \"n\": 578}, {\"date\": \"2024-04-17T00:00:00\", \"type\": \"n_sessions\", \"n\": 529}, {\"date\": \"2024-04-18T00:00:00\", \"type\": \"n_sessions\", \"n\": 579}, {\"date\": \"2024-04-19T00:00:00\", \"type\": \"n_sessions\", \"n\": 600}, {\"date\": \"2024-04-20T00:00:00\", \"type\": \"n_sessions\", \"n\": 605}, {\"date\": \"2024-04-21T00:00:00\", \"type\": \"n_sessions\", \"n\": 605}, {\"date\": \"2024-04-22T00:00:00\", \"type\": \"n_sessions\", \"n\": 614}, {\"date\": \"2024-04-23T00:00:00\", \"type\": \"n_sessions\", \"n\": 662}, {\"date\": \"2024-04-24T00:00:00\", \"type\": \"n_sessions\", \"n\": 616}, {\"date\": \"2024-04-25T00:00:00\", \"type\": \"n_sessions\", \"n\": 577}, {\"date\": \"2024-04-26T00:00:00\", \"type\": \"n_sessions\", \"n\": 631}, {\"date\": \"2024-04-27T00:00:00\", \"type\": \"n_sessions\", \"n\": 639}, {\"date\": \"2024-04-28T00:00:00\", \"type\": \"n_sessions\", \"n\": 656}, {\"date\": \"2024-04-29T00:00:00\", \"type\": \"n_sessions\", \"n\": 595}, {\"date\": \"2024-04-30T00:00:00\", \"type\": \"n_sessions\", \"n\": 624}, {\"date\": \"2024-05-01T00:00:00\", \"type\": \"n_sessions\", \"n\": 623}, {\"date\": \"2024-05-02T00:00:00\", \"type\": \"n_sessions\", \"n\": 577}, {\"date\": \"2024-05-03T00:00:00\", \"type\": \"n_sessions\", \"n\": 602}, {\"date\": \"2024-05-04T00:00:00\", \"type\": \"n_sessions\", \"n\": 605}, {\"date\": \"2024-05-05T00:00:00\", \"type\": \"n_sessions\", \"n\": 585}, {\"date\": \"2024-05-06T00:00:00\", \"type\": \"n_sessions\", \"n\": 650}, {\"date\": \"2024-05-07T00:00:00\", \"type\": \"n_sessions\", \"n\": 633}, {\"date\": \"2024-05-08T00:00:00\", \"type\": \"n_sessions\", \"n\": 609}, {\"date\": \"2024-05-09T00:00:00\", \"type\": \"n_sessions\", \"n\": 598}, {\"date\": \"2024-05-10T00:00:00\", \"type\": \"n_sessions\", \"n\": 646}, {\"date\": \"2024-05-11T00:00:00\", \"type\": \"n_sessions\", \"n\": 648}, {\"date\": \"2024-05-12T00:00:00\", \"type\": \"n_sessions\", \"n\": 627}, {\"date\": \"2024-05-13T00:00:00\", \"type\": \"n_sessions\", \"n\": 622}, {\"date\": \"2024-05-14T00:00:00\", \"type\": \"n_sessions\", \"n\": 599}, {\"date\": \"2024-05-15T00:00:00\", \"type\": \"n_sessions\", \"n\": 611}, {\"date\": \"2024-05-16T00:00:00\", \"type\": \"n_sessions\", \"n\": 630}, {\"date\": \"2024-05-17T00:00:00\", \"type\": \"n_sessions\", \"n\": 611}, {\"date\": \"2024-05-18T00:00:00\", \"type\": \"n_sessions\", \"n\": 648}, {\"date\": \"2024-05-19T00:00:00\", \"type\": \"n_sessions\", \"n\": 630}, {\"date\": \"2024-05-20T00:00:00\", \"type\": \"n_sessions\", \"n\": 644}, {\"date\": \"2024-05-21T00:00:00\", \"type\": \"n_sessions\", \"n\": 613}, {\"date\": \"2024-05-22T00:00:00\", \"type\": \"n_sessions\", \"n\": 640}, {\"date\": \"2024-05-23T00:00:00\", \"type\": \"n_sessions\", \"n\": 583}, {\"date\": \"2024-05-24T00:00:00\", \"type\": \"n_sessions\", \"n\": 598}, {\"date\": \"2024-05-25T00:00:00\", \"type\": \"n_sessions\", \"n\": 622}, {\"date\": \"2024-05-26T00:00:00\", \"type\": \"n_sessions\", \"n\": 639}, {\"date\": \"2024-05-27T00:00:00\", \"type\": \"n_sessions\", \"n\": 607}, {\"date\": \"2024-05-28T00:00:00\", \"type\": \"n_sessions\", \"n\": 610}, {\"date\": \"2024-05-29T00:00:00\", \"type\": \"n_sessions\", \"n\": 628}, {\"date\": \"2024-05-30T00:00:00\", \"type\": \"n_sessions\", \"n\": 648}, {\"date\": \"2024-05-31T00:00:00\", \"type\": \"n_sessions\", \"n\": 636}, {\"date\": \"2024-06-01T00:00:00\", \"type\": \"n_sessions\", \"n\": 660}, {\"date\": \"2024-06-02T00:00:00\", \"type\": \"n_sessions\", \"n\": 611}, {\"date\": \"2024-06-03T00:00:00\", \"type\": \"n_sessions\", \"n\": 625}, {\"date\": \"2024-06-04T00:00:00\", \"type\": \"n_sessions\", \"n\": 633}, {\"date\": \"2024-06-05T00:00:00\", \"type\": \"n_sessions\", \"n\": 662}, {\"date\": \"2024-06-06T00:00:00\", \"type\": \"n_sessions\", \"n\": 613}, {\"date\": \"2024-06-07T00:00:00\", \"type\": \"n_sessions\", \"n\": 600}, {\"date\": \"2024-06-08T00:00:00\", \"type\": \"n_sessions\", \"n\": 718}, {\"date\": \"2024-06-09T00:00:00\", \"type\": \"n_sessions\", \"n\": 607}, {\"date\": \"2024-06-10T00:00:00\", \"type\": \"n_sessions\", \"n\": 636}, {\"date\": \"2024-06-11T00:00:00\", \"type\": \"n_sessions\", \"n\": 622}, {\"date\": \"2024-06-12T00:00:00\", \"type\": \"n_sessions\", \"n\": 678}, {\"date\": \"2024-06-13T00:00:00\", \"type\": \"n_sessions\", \"n\": 672}, {\"date\": \"2024-06-14T00:00:00\", \"type\": \"n_sessions\", \"n\": 736}, {\"date\": \"2024-06-15T00:00:00\", \"type\": \"n_sessions\", \"n\": 690}, {\"date\": \"2024-06-16T00:00:00\", \"type\": \"n_sessions\", \"n\": 636}, {\"date\": \"2024-06-17T00:00:00\", \"type\": \"n_sessions\", \"n\": 657}, {\"date\": \"2024-06-18T00:00:00\", \"type\": \"n_sessions\", \"n\": 706}, {\"date\": \"2024-06-19T00:00:00\", \"type\": \"n_sessions\", \"n\": 635}, {\"date\": \"2024-06-20T00:00:00\", \"type\": \"n_sessions\", \"n\": 599}, {\"date\": \"2024-06-21T00:00:00\", \"type\": \"n_sessions\", \"n\": 640}, {\"date\": \"2024-06-22T00:00:00\", \"type\": \"n_sessions\", \"n\": 652}, {\"date\": \"2024-06-23T00:00:00\", \"type\": \"n_sessions\", \"n\": 600}, {\"date\": \"2024-06-24T00:00:00\", \"type\": \"n_sessions\", \"n\": 675}, {\"date\": \"2024-06-25T00:00:00\", \"type\": \"n_sessions\", \"n\": 691}, {\"date\": \"2024-06-26T00:00:00\", \"type\": \"n_sessions\", \"n\": 623}, {\"date\": \"2024-06-27T00:00:00\", \"type\": \"n_sessions\", \"n\": 669}, {\"date\": \"2024-06-28T00:00:00\", \"type\": \"n_sessions\", \"n\": 601}, {\"date\": \"2024-06-29T00:00:00\", \"type\": \"n_sessions\", \"n\": 651}, {\"date\": \"2024-06-30T00:00:00\", \"type\": \"n_sessions\", \"n\": 614}, {\"date\": \"2024-07-01T00:00:00\", \"type\": \"n_sessions\", \"n\": 657}, {\"date\": \"2024-07-02T00:00:00\", \"type\": \"n_sessions\", \"n\": 608}, {\"date\": \"2024-07-03T00:00:00\", \"type\": \"n_sessions\", \"n\": 634}, {\"date\": \"2024-07-04T00:00:00\", \"type\": \"n_sessions\", \"n\": 624}, {\"date\": \"2024-07-05T00:00:00\", \"type\": \"n_sessions\", \"n\": 665}, {\"date\": \"2024-07-06T00:00:00\", \"type\": \"n_sessions\", \"n\": 607}, {\"date\": \"2024-07-07T00:00:00\", \"type\": \"n_sessions\", \"n\": 618}, {\"date\": \"2024-07-08T00:00:00\", \"type\": \"n_sessions\", \"n\": 614}, {\"date\": \"2024-07-09T00:00:00\", \"type\": \"n_sessions\", \"n\": 612}, {\"date\": \"2024-07-10T00:00:00\", \"type\": \"n_sessions\", \"n\": 649}, {\"date\": \"2024-07-11T00:00:00\", \"type\": \"n_sessions\", \"n\": 590}, {\"date\": \"2024-07-12T00:00:00\", \"type\": \"n_sessions\", \"n\": 635}, {\"date\": \"2024-07-13T00:00:00\", \"type\": \"n_sessions\", \"n\": 661}, {\"date\": \"2024-07-14T00:00:00\", \"type\": \"n_sessions\", \"n\": 620}, {\"date\": \"2024-07-15T00:00:00\", \"type\": \"n_sessions\", \"n\": 656}, {\"date\": \"2024-07-16T00:00:00\", \"type\": \"n_sessions\", \"n\": 606}, {\"date\": \"2024-07-17T00:00:00\", \"type\": \"n_sessions\", \"n\": 624}, {\"date\": \"2024-07-18T00:00:00\", \"type\": \"n_sessions\", \"n\": 613}, {\"date\": \"2024-07-19T00:00:00\", \"type\": \"n_sessions\", \"n\": 646}, {\"date\": \"2024-07-20T00:00:00\", \"type\": \"n_sessions\", \"n\": 610}, {\"date\": \"2024-07-21T00:00:00\", \"type\": \"n_sessions\", \"n\": 672}, {\"date\": \"2024-07-22T00:00:00\", \"type\": \"n_sessions\", \"n\": 594}, {\"date\": \"2024-07-23T00:00:00\", \"type\": \"n_sessions\", \"n\": 651}, {\"date\": \"2024-07-24T00:00:00\", \"type\": \"n_sessions\", \"n\": 619}, {\"date\": \"2024-07-25T00:00:00\", \"type\": \"n_sessions\", \"n\": 600}, {\"date\": \"2024-07-26T00:00:00\", \"type\": \"n_sessions\", \"n\": 611}, {\"date\": \"2024-07-27T00:00:00\", \"type\": \"n_sessions\", \"n\": 651}, {\"date\": \"2024-07-28T00:00:00\", \"type\": \"n_sessions\", \"n\": 613}, {\"date\": \"2024-07-29T00:00:00\", \"type\": \"n_sessions\", \"n\": 597}, {\"date\": \"2024-07-30T00:00:00\", \"type\": \"n_sessions\", \"n\": 537}, {\"date\": \"2024-04-06T00:00:00\", \"type\": \"n_txs\", \"n\": 1}, {\"date\": \"2024-04-08T00:00:00\", \"type\": \"n_txs\", \"n\": 5}, {\"date\": \"2024-04-09T00:00:00\", \"type\": \"n_txs\", \"n\": 9}, {\"date\": \"2024-04-10T00:00:00\", \"type\": \"n_txs\", \"n\": 330}, {\"date\": \"2024-04-11T00:00:00\", \"type\": \"n_txs\", \"n\": 1253}, {\"date\": \"2024-04-12T00:00:00\", \"type\": \"n_txs\", \"n\": 1126}, {\"date\": \"2024-04-13T00:00:00\", \"type\": \"n_txs\", \"n\": 1224}, {\"date\": \"2024-04-14T00:00:00\", \"type\": \"n_txs\", \"n\": 1103}, {\"date\": \"2024-04-15T00:00:00\", \"type\": \"n_txs\", \"n\": 1194}, {\"date\": \"2024-04-16T00:00:00\", \"type\": \"n_txs\", \"n\": 1135}, {\"date\": \"2024-04-17T00:00:00\", \"type\": \"n_txs\", \"n\": 1013}, {\"date\": \"2024-04-18T00:00:00\", \"type\": \"n_txs\", \"n\": 1134}, {\"date\": \"2024-04-19T00:00:00\", \"type\": \"n_txs\", \"n\": 1165}, {\"date\": \"2024-04-20T00:00:00\", \"type\": \"n_txs\", \"n\": 1180}, {\"date\": \"2024-04-21T00:00:00\", \"type\": \"n_txs\", \"n\": 1171}, {\"date\": \"2024-04-22T00:00:00\", \"type\": \"n_txs\", \"n\": 1196}, {\"date\": \"2024-04-23T00:00:00\", \"type\": \"n_txs\", \"n\": 1265}, {\"date\": \"2024-04-24T00:00:00\", \"type\": \"n_txs\", \"n\": 1182}, {\"date\": \"2024-04-25T00:00:00\", \"type\": \"n_txs\", \"n\": 1123}, {\"date\": \"2024-04-26T00:00:00\", \"type\": \"n_txs\", \"n\": 1231}, {\"date\": \"2024-04-27T00:00:00\", \"type\": \"n_txs\", \"n\": 1233}, {\"date\": \"2024-04-28T00:00:00\", \"type\": \"n_txs\", \"n\": 1261}, {\"date\": \"2024-04-29T00:00:00\", \"type\": \"n_txs\", \"n\": 1166}, {\"date\": \"2024-04-30T00:00:00\", \"type\": \"n_txs\", \"n\": 1187}, {\"date\": \"2024-05-01T00:00:00\", \"type\": \"n_txs\", \"n\": 1200}, {\"date\": \"2024-05-02T00:00:00\", \"type\": \"n_txs\", \"n\": 1121}, {\"date\": \"2024-05-03T00:00:00\", \"type\": \"n_txs\", \"n\": 1178}, {\"date\": \"2024-05-04T00:00:00\", \"type\": \"n_txs\", \"n\": 1177}, {\"date\": \"2024-05-05T00:00:00\", \"type\": \"n_txs\", \"n\": 1144}, {\"date\": \"2024-05-06T00:00:00\", \"type\": \"n_txs\", \"n\": 1277}, {\"date\": \"2024-05-07T00:00:00\", \"type\": \"n_txs\", \"n\": 1234}, {\"date\": \"2024-05-08T00:00:00\", \"type\": \"n_txs\", \"n\": 1178}, {\"date\": \"2024-05-09T00:00:00\", \"type\": \"n_txs\", \"n\": 1180}, {\"date\": \"2024-05-10T00:00:00\", \"type\": \"n_txs\", \"n\": 1256}, {\"date\": \"2024-05-11T00:00:00\", \"type\": \"n_txs\", \"n\": 1234}, {\"date\": \"2024-05-12T00:00:00\", \"type\": \"n_txs\", \"n\": 1228}, {\"date\": \"2024-05-13T00:00:00\", \"type\": \"n_txs\", \"n\": 1232}, {\"date\": \"2024-05-14T00:00:00\", \"type\": \"n_txs\", \"n\": 1172}, {\"date\": \"2024-05-15T00:00:00\", \"type\": \"n_txs\", \"n\": 1198}, {\"date\": \"2024-05-16T00:00:00\", \"type\": \"n_txs\", \"n\": 1258}, {\"date\": \"2024-05-17T00:00:00\", \"type\": \"n_txs\", \"n\": 1211}, {\"date\": \"2024-05-18T00:00:00\", \"type\": \"n_txs\", \"n\": 1260}, {\"date\": \"2024-05-19T00:00:00\", \"type\": \"n_txs\", \"n\": 1237}, {\"date\": \"2024-05-20T00:00:00\", \"type\": \"n_txs\", \"n\": 1243}, {\"date\": \"2024-05-21T00:00:00\", \"type\": \"n_txs\", \"n\": 1186}, {\"date\": \"2024-05-22T00:00:00\", \"type\": \"n_txs\", \"n\": 1266}, {\"date\": \"2024-05-23T00:00:00\", \"type\": \"n_txs\", \"n\": 1256}, {\"date\": \"2024-05-24T00:00:00\", \"type\": \"n_txs\", \"n\": 1174}, {\"date\": \"2024-05-25T00:00:00\", \"type\": \"n_txs\", \"n\": 1214}, {\"date\": \"2024-05-26T00:00:00\", \"type\": \"n_txs\", \"n\": 1228}, {\"date\": \"2024-05-27T00:00:00\", \"type\": \"n_txs\", \"n\": 1210}, {\"date\": \"2024-05-28T00:00:00\", \"type\": \"n_txs\", \"n\": 1184}, {\"date\": \"2024-05-29T00:00:00\", \"type\": \"n_txs\", \"n\": 1301}, {\"date\": \"2024-05-30T00:00:00\", \"type\": \"n_txs\", \"n\": 1250}, {\"date\": \"2024-05-31T00:00:00\", \"type\": \"n_txs\", \"n\": 1251}, {\"date\": \"2024-06-01T00:00:00\", \"type\": \"n_txs\", \"n\": 1291}, {\"date\": \"2024-06-02T00:00:00\", \"type\": \"n_txs\", \"n\": 1260}, {\"date\": \"2024-06-03T00:00:00\", \"type\": \"n_txs\", \"n\": 1200}, {\"date\": \"2024-06-04T00:00:00\", \"type\": \"n_txs\", \"n\": 1210}, {\"date\": \"2024-06-05T00:00:00\", \"type\": \"n_txs\", \"n\": 1291}, {\"date\": \"2024-06-06T00:00:00\", \"type\": \"n_txs\", \"n\": 1190}, {\"date\": \"2024-06-07T00:00:00\", \"type\": \"n_txs\", \"n\": 1183}, {\"date\": \"2024-06-08T00:00:00\", \"type\": \"n_txs\", \"n\": 1366}, {\"date\": \"2024-06-09T00:00:00\", \"type\": \"n_txs\", \"n\": 1223}, {\"date\": \"2024-06-10T00:00:00\", \"type\": \"n_txs\", \"n\": 1672}, {\"date\": \"2024-06-11T00:00:00\", \"type\": \"n_txs\", \"n\": 1224}, {\"date\": \"2024-06-12T00:00:00\", \"type\": \"n_txs\", \"n\": 1308}, {\"date\": \"2024-06-13T00:00:00\", \"type\": \"n_txs\", \"n\": 1543}, {\"date\": \"2024-06-14T00:00:00\", \"type\": \"n_txs\", \"n\": 1559}, {\"date\": \"2024-06-15T00:00:00\", \"type\": \"n_txs\", \"n\": 1450}, {\"date\": \"2024-06-16T00:00:00\", \"type\": \"n_txs\", \"n\": 1623}, {\"date\": \"2024-06-17T00:00:00\", \"type\": \"n_txs\", \"n\": 1289}, {\"date\": \"2024-06-18T00:00:00\", \"type\": \"n_txs\", \"n\": 1524}, {\"date\": \"2024-06-19T00:00:00\", \"type\": \"n_txs\", \"n\": 1246}, {\"date\": \"2024-06-20T00:00:00\", \"type\": \"n_txs\", \"n\": 1193}, {\"date\": \"2024-06-21T00:00:00\", \"type\": \"n_txs\", \"n\": 1305}, {\"date\": \"2024-06-22T00:00:00\", \"type\": \"n_txs\", \"n\": 1276}, {\"date\": \"2024-06-23T00:00:00\", \"type\": \"n_txs\", \"n\": 1240}, {\"date\": \"2024-06-24T00:00:00\", \"type\": \"n_txs\", \"n\": 1386}, {\"date\": \"2024-06-25T00:00:00\", \"type\": \"n_txs\", \"n\": 1424}, {\"date\": \"2024-06-26T00:00:00\", \"type\": \"n_txs\", \"n\": 1233}, {\"date\": \"2024-06-27T00:00:00\", \"type\": \"n_txs\", \"n\": 1330}, {\"date\": \"2024-06-28T00:00:00\", \"type\": \"n_txs\", \"n\": 1201}, {\"date\": \"2024-06-29T00:00:00\", \"type\": \"n_txs\", \"n\": 1402}, {\"date\": \"2024-06-30T00:00:00\", \"type\": \"n_txs\", \"n\": 1184}, {\"date\": \"2024-07-01T00:00:00\", \"type\": \"n_txs\", \"n\": 1206}, {\"date\": \"2024-07-02T00:00:00\", \"type\": \"n_txs\", \"n\": 1174}, {\"date\": \"2024-07-03T00:00:00\", \"type\": \"n_txs\", \"n\": 1209}, {\"date\": \"2024-07-04T00:00:00\", \"type\": \"n_txs\", \"n\": 1227}, {\"date\": \"2024-07-05T00:00:00\", \"type\": \"n_txs\", \"n\": 1248}, {\"date\": \"2024-07-06T00:00:00\", \"type\": \"n_txs\", \"n\": 1158}, {\"date\": \"2024-07-07T00:00:00\", \"type\": \"n_txs\", \"n\": 1184}, {\"date\": \"2024-07-08T00:00:00\", \"type\": \"n_txs\", \"n\": 1161}, {\"date\": \"2024-07-09T00:00:00\", \"type\": \"n_txs\", \"n\": 1189}, {\"date\": \"2024-07-10T00:00:00\", \"type\": \"n_txs\", \"n\": 1235}, {\"date\": \"2024-07-11T00:00:00\", \"type\": \"n_txs\", \"n\": 1123}, {\"date\": \"2024-07-12T00:00:00\", \"type\": \"n_txs\", \"n\": 1247}, {\"date\": \"2024-07-13T00:00:00\", \"type\": \"n_txs\", \"n\": 1198}, {\"date\": \"2024-07-14T00:00:00\", \"type\": \"n_txs\", \"n\": 1169}, {\"date\": \"2024-07-15T00:00:00\", \"type\": \"n_txs\", \"n\": 1213}, {\"date\": \"2024-07-16T00:00:00\", \"type\": \"n_txs\", \"n\": 1125}, {\"date\": \"2024-07-17T00:00:00\", \"type\": \"n_txs\", \"n\": 1272}, {\"date\": \"2024-07-18T00:00:00\", \"type\": \"n_txs\", \"n\": 1175}, {\"date\": \"2024-07-19T00:00:00\", \"type\": \"n_txs\", \"n\": 1218}, {\"date\": \"2024-07-20T00:00:00\", \"type\": \"n_txs\", \"n\": 1182}, {\"date\": \"2024-07-21T00:00:00\", \"type\": \"n_txs\", \"n\": 1265}, {\"date\": \"2024-07-22T00:00:00\", \"type\": \"n_txs\", \"n\": 1107}, {\"date\": \"2024-07-23T00:00:00\", \"type\": \"n_txs\", \"n\": 1214}, {\"date\": \"2024-07-24T00:00:00\", \"type\": \"n_txs\", \"n\": 1189}, {\"date\": \"2024-07-25T00:00:00\", \"type\": \"n_txs\", \"n\": 1156}, {\"date\": \"2024-07-26T00:00:00\", \"type\": \"n_txs\", \"n\": 1168}, {\"date\": \"2024-07-27T00:00:00\", \"type\": \"n_txs\", \"n\": 1299}, {\"date\": \"2024-07-28T00:00:00\", \"type\": \"n_txs\", \"n\": 1212}, {\"date\": \"2024-07-29T00:00:00\", \"type\": \"n_txs\", \"n\": 1149}, {\"date\": \"2024-07-30T00:00:00\", \"type\": \"n_txs\", \"n\": 1011}]}}, {\"mode\": \"vega-lite\"});\n",
       "</script>"
      ],
      "text/plain": [
       "alt.LayerChart(...)"
      ]
     },
     "execution_count": 18,
     "metadata": {},
     "output_type": "execute_result"
    }
   ],
   "source": [
    "make_tx_stats_chart('input', p_in, txs, session_times, False)"
   ]
  },
  {
   "cell_type": "code",
   "execution_count": 19,
   "metadata": {},
   "outputs": [
    {
     "data": {
      "text/html": [
       "\n",
       "<style>\n",
       "  #altair-viz-3897b9d0e96544038c0bc022b3706223.vega-embed {\n",
       "    width: 100%;\n",
       "    display: flex;\n",
       "  }\n",
       "\n",
       "  #altair-viz-3897b9d0e96544038c0bc022b3706223.vega-embed details,\n",
       "  #altair-viz-3897b9d0e96544038c0bc022b3706223.vega-embed details summary {\n",
       "    position: relative;\n",
       "  }\n",
       "</style>\n",
       "<div id=\"altair-viz-3897b9d0e96544038c0bc022b3706223\"></div>\n",
       "<script type=\"text/javascript\">\n",
       "  var VEGA_DEBUG = (typeof VEGA_DEBUG == \"undefined\") ? {} : VEGA_DEBUG;\n",
       "  (function(spec, embedOpt){\n",
       "    let outputDiv = document.currentScript.previousElementSibling;\n",
       "    if (outputDiv.id !== \"altair-viz-3897b9d0e96544038c0bc022b3706223\") {\n",
       "      outputDiv = document.getElementById(\"altair-viz-3897b9d0e96544038c0bc022b3706223\");\n",
       "    }\n",
       "    const paths = {\n",
       "      \"vega\": \"https://cdn.jsdelivr.net/npm/vega@5?noext\",\n",
       "      \"vega-lib\": \"https://cdn.jsdelivr.net/npm/vega-lib?noext\",\n",
       "      \"vega-lite\": \"https://cdn.jsdelivr.net/npm/vega-lite@5.17.0?noext\",\n",
       "      \"vega-embed\": \"https://cdn.jsdelivr.net/npm/vega-embed@6?noext\",\n",
       "    };\n",
       "\n",
       "    function maybeLoadScript(lib, version) {\n",
       "      var key = `${lib.replace(\"-\", \"\")}_version`;\n",
       "      return (VEGA_DEBUG[key] == version) ?\n",
       "        Promise.resolve(paths[lib]) :\n",
       "        new Promise(function(resolve, reject) {\n",
       "          var s = document.createElement('script');\n",
       "          document.getElementsByTagName(\"head\")[0].appendChild(s);\n",
       "          s.async = true;\n",
       "          s.onload = () => {\n",
       "            VEGA_DEBUG[key] = version;\n",
       "            return resolve(paths[lib]);\n",
       "          };\n",
       "          s.onerror = () => reject(`Error loading script: ${paths[lib]}`);\n",
       "          s.src = paths[lib];\n",
       "        });\n",
       "    }\n",
       "\n",
       "    function showError(err) {\n",
       "      outputDiv.innerHTML = `<div class=\"error\" style=\"color:red;\">${err}</div>`;\n",
       "      throw err;\n",
       "    }\n",
       "\n",
       "    function displayChart(vegaEmbed) {\n",
       "      vegaEmbed(outputDiv, spec, embedOpt)\n",
       "        .catch(err => showError(`Javascript Error: ${err.message}<br>This usually means there's a typo in your chart specification. See the javascript console for the full traceback.`));\n",
       "    }\n",
       "\n",
       "    if(typeof define === \"function\" && define.amd) {\n",
       "      requirejs.config({paths});\n",
       "      require([\"vega-embed\"], displayChart, err => showError(`Error loading script: ${err.message}`));\n",
       "    } else {\n",
       "      maybeLoadScript(\"vega\", \"5\")\n",
       "        .then(() => maybeLoadScript(\"vega-lite\", \"5.17.0\"))\n",
       "        .then(() => maybeLoadScript(\"vega-embed\", \"6\"))\n",
       "        .catch(showError)\n",
       "        .then(() => displayChart(vegaEmbed));\n",
       "    }\n",
       "  })({\"config\": {\"view\": {\"continuousWidth\": 300, \"continuousHeight\": 300}}, \"layer\": [{\"data\": {\"name\": \"data-b7475b14837c654ee4d910d03dd48b3e\"}, \"mark\": {\"type\": \"bar\"}, \"encoding\": {\"color\": {\"field\": \"kind\", \"type\": \"nominal\"}, \"tooltip\": [{\"field\": \"date\", \"type\": \"temporal\"}, {\"field\": \"kind\", \"type\": \"nominal\"}, {\"field\": \"msats\", \"type\": \"quantitative\"}], \"x\": {\"field\": \"date\", \"type\": \"temporal\"}, \"y\": {\"field\": \"msats\", \"type\": \"quantitative\"}}}, {\"data\": {\"name\": \"data-4e37e5159930f97b3a5719eebada24e4\"}, \"mark\": {\"type\": \"line\"}, \"encoding\": {\"color\": {\"field\": \"type\", \"type\": \"nominal\"}, \"x\": {\"field\": \"date\", \"type\": \"temporal\"}, \"y\": {\"field\": \"n\", \"type\": \"quantitative\"}}}], \"height\": 300, \"resolve\": {\"scale\": {\"y\": \"independent\"}}, \"title\": \"Output Transaction Stats\", \"width\": 600, \"$schema\": \"https://vega.github.io/schema/vega-lite/v5.17.0.json\", \"datasets\": {\"data-b7475b14837c654ee4d910d03dd48b3e\": [{\"date\": \"2024-04-06T00:00:00\", \"kind\": \"mint\", \"msats\": 10000000000, \"n_sessions\": 1, \"n_txs\": 1}, {\"date\": \"2024-04-08T00:00:00\", \"kind\": \"ln\", \"msats\": 10160800, \"n_sessions\": 5, \"n_txs\": 5}, {\"date\": \"2024-04-08T00:00:00\", \"kind\": \"mint\", \"msats\": 10260800, \"n_sessions\": 2, \"n_txs\": 3}, {\"date\": \"2024-04-09T00:00:00\", \"kind\": \"ln\", \"msats\": 1000000, \"n_sessions\": 1, \"n_txs\": 2}, {\"date\": \"2024-04-09T00:00:00\", \"kind\": \"mint\", \"msats\": 10001307176, \"n_sessions\": 4, \"n_txs\": 4}, {\"date\": \"2024-04-09T00:00:00\", \"kind\": \"stability_pool\", \"msats\": 0, \"n_sessions\": 5, \"n_txs\": 6}, {\"date\": \"2024-04-10T00:00:00\", \"kind\": \"ln\", \"msats\": 63603507, \"n_sessions\": 93, \"n_txs\": 262}, {\"date\": \"2024-04-10T00:00:00\", \"kind\": \"mint\", \"msats\": 82557613, \"n_sessions\": 84, \"n_txs\": 171}, {\"date\": \"2024-04-10T00:00:00\", \"kind\": \"stability_pool\", \"msats\": 0, \"n_sessions\": 1, \"n_txs\": 1}, {\"date\": \"2024-04-11T00:00:00\", \"kind\": \"ln\", \"msats\": 17267025985, \"n_sessions\": 314, \"n_txs\": 948}, {\"date\": \"2024-04-11T00:00:00\", \"kind\": \"mint\", \"msats\": 27274957661, \"n_sessions\": 313, \"n_txs\": 635}, {\"date\": \"2024-04-12T00:00:00\", \"kind\": \"ln\", \"msats\": 27229425, \"n_sessions\": 308, \"n_txs\": 850}, {\"date\": \"2024-04-12T00:00:00\", \"kind\": \"mint\", \"msats\": 27451755, \"n_sessions\": 290, \"n_txs\": 564}, {\"date\": \"2024-04-13T00:00:00\", \"kind\": \"ln\", \"msats\": 21177804, \"n_sessions\": 324, \"n_txs\": 920}, {\"date\": \"2024-04-13T00:00:00\", \"kind\": \"mint\", \"msats\": 21865143, \"n_sessions\": 313, \"n_txs\": 614}, {\"date\": \"2024-04-14T00:00:00\", \"kind\": \"ln\", \"msats\": 12863016, \"n_sessions\": 285, \"n_txs\": 827}, {\"date\": \"2024-04-14T00:00:00\", \"kind\": \"mint\", \"msats\": 12956016, \"n_sessions\": 283, \"n_txs\": 552}, {\"date\": \"2024-04-15T00:00:00\", \"kind\": \"ln\", \"msats\": 46859856, \"n_sessions\": 332, \"n_txs\": 900}, {\"date\": \"2024-04-15T00:00:00\", \"kind\": \"mint\", \"msats\": 46631600, \"n_sessions\": 312, \"n_txs\": 598}, {\"date\": \"2024-04-16T00:00:00\", \"kind\": \"ln\", \"msats\": 2970103, \"n_sessions\": 295, \"n_txs\": 855}, {\"date\": \"2024-04-16T00:00:00\", \"kind\": \"mint\", \"msats\": 3000766, \"n_sessions\": 289, \"n_txs\": 569}, {\"date\": \"2024-04-17T00:00:00\", \"kind\": \"ln\", \"msats\": 11545611, \"n_sessions\": 313, \"n_txs\": 810}, {\"date\": \"2024-04-17T00:00:00\", \"kind\": \"mint\", \"msats\": 12545611, \"n_sessions\": 262, \"n_txs\": 507}, {\"date\": \"2024-04-18T00:00:00\", \"kind\": \"ln\", \"msats\": 3501238, \"n_sessions\": 295, \"n_txs\": 849}, {\"date\": \"2024-04-18T00:00:00\", \"kind\": \"mint\", \"msats\": 3946548, \"n_sessions\": 288, \"n_txs\": 570}, {\"date\": \"2024-04-19T00:00:00\", \"kind\": \"ln\", \"msats\": 4095281, \"n_sessions\": 303, \"n_txs\": 872}, {\"date\": \"2024-04-19T00:00:00\", \"kind\": \"mint\", \"msats\": 4381481, \"n_sessions\": 299, \"n_txs\": 584}, {\"date\": \"2024-04-20T00:00:00\", \"kind\": \"ln\", \"msats\": 11685200, \"n_sessions\": 308, \"n_txs\": 892}, {\"date\": \"2024-04-20T00:00:00\", \"kind\": \"mint\", \"msats\": 11687200, \"n_sessions\": 300, \"n_txs\": 591}, {\"date\": \"2024-04-21T00:00:00\", \"kind\": \"ln\", \"msats\": 242462254, \"n_sessions\": 309, \"n_txs\": 886}, {\"date\": \"2024-04-21T00:00:00\", \"kind\": \"mint\", \"msats\": 332249478, \"n_sessions\": 302, \"n_txs\": 595}, {\"date\": \"2024-04-22T00:00:00\", \"kind\": \"ln\", \"msats\": 143952051, \"n_sessions\": 313, \"n_txs\": 900}, {\"date\": \"2024-04-22T00:00:00\", \"kind\": \"mint\", \"msats\": 208900551, \"n_sessions\": 305, \"n_txs\": 599}, {\"date\": \"2024-04-23T00:00:00\", \"kind\": \"ln\", \"msats\": 7172501, \"n_sessions\": 336, \"n_txs\": 953}, {\"date\": \"2024-04-23T00:00:00\", \"kind\": \"mint\", \"msats\": 7275001, \"n_sessions\": 330, \"n_txs\": 633}, {\"date\": \"2024-04-24T00:00:00\", \"kind\": \"ln\", \"msats\": 27426330, \"n_sessions\": 313, \"n_txs\": 895}, {\"date\": \"2024-04-24T00:00:00\", \"kind\": \"mint\", \"msats\": 27645087, \"n_sessions\": 307, \"n_txs\": 595}, {\"date\": \"2024-04-25T00:00:00\", \"kind\": \"ln\", \"msats\": 2959343, \"n_sessions\": 295, \"n_txs\": 846}, {\"date\": \"2024-04-25T00:00:00\", \"kind\": \"mint\", \"msats\": 5059344, \"n_sessions\": 287, \"n_txs\": 563}, {\"date\": \"2024-04-26T00:00:00\", \"kind\": \"ln\", \"msats\": 190687767, \"n_sessions\": 326, \"n_txs\": 937}, {\"date\": \"2024-04-26T00:00:00\", \"kind\": \"mint\", \"msats\": 190928211, \"n_sessions\": 315, \"n_txs\": 628}, {\"date\": \"2024-04-27T00:00:00\", \"kind\": \"ln\", \"msats\": 1680268512, \"n_sessions\": 343, \"n_txs\": 970}, {\"date\": \"2024-04-27T00:00:00\", \"kind\": \"mint\", \"msats\": 2081649274, \"n_sessions\": 318, \"n_txs\": 627}, {\"date\": \"2024-04-28T00:00:00\", \"kind\": \"ln\", \"msats\": 62889047, \"n_sessions\": 338, \"n_txs\": 969}, {\"date\": \"2024-04-28T00:00:00\", \"kind\": \"mint\", \"msats\": 62939047, \"n_sessions\": 326, \"n_txs\": 631}, {\"date\": \"2024-04-29T00:00:00\", \"kind\": \"ln\", \"msats\": 604787084, \"n_sessions\": 309, \"n_txs\": 899}, {\"date\": \"2024-04-29T00:00:00\", \"kind\": \"mint\", \"msats\": 897564572, \"n_sessions\": 297, \"n_txs\": 595}, {\"date\": \"2024-04-30T00:00:00\", \"kind\": \"ln\", \"msats\": 13534339, \"n_sessions\": 322, \"n_txs\": 901}, {\"date\": \"2024-04-30T00:00:00\", \"kind\": \"mint\", \"msats\": 13584339, \"n_sessions\": 309, \"n_txs\": 594}, {\"date\": \"2024-05-01T00:00:00\", \"kind\": \"ln\", \"msats\": 257092419, \"n_sessions\": 318, \"n_txs\": 914}, {\"date\": \"2024-05-01T00:00:00\", \"kind\": \"mint\", \"msats\": 325982027, \"n_sessions\": 313, \"n_txs\": 602}, {\"date\": \"2024-05-02T00:00:00\", \"kind\": \"ln\", \"msats\": 11164717, \"n_sessions\": 293, \"n_txs\": 844}, {\"date\": \"2024-05-02T00:00:00\", \"kind\": \"mint\", \"msats\": 11165717, \"n_sessions\": 288, \"n_txs\": 561}, {\"date\": \"2024-05-03T00:00:00\", \"kind\": \"ln\", \"msats\": 92786344, \"n_sessions\": 306, \"n_txs\": 893}, {\"date\": \"2024-05-03T00:00:00\", \"kind\": \"mint\", \"msats\": 93785120, \"n_sessions\": 300, \"n_txs\": 588}, {\"date\": \"2024-05-04T00:00:00\", \"kind\": \"ln\", \"msats\": 106912137, \"n_sessions\": 309, \"n_txs\": 890}, {\"date\": \"2024-05-04T00:00:00\", \"kind\": \"mint\", \"msats\": 114400745, \"n_sessions\": 304, \"n_txs\": 590}, {\"date\": \"2024-05-05T00:00:00\", \"kind\": \"ln\", \"msats\": 27207813, \"n_sessions\": 296, \"n_txs\": 859}, {\"date\": \"2024-05-05T00:00:00\", \"kind\": \"mint\", \"msats\": 27407570, \"n_sessions\": 294, \"n_txs\": 576}, {\"date\": \"2024-05-06T00:00:00\", \"kind\": \"ln\", \"msats\": 926105749, \"n_sessions\": 333, \"n_txs\": 970}, {\"date\": \"2024-05-06T00:00:00\", \"kind\": \"mint\", \"msats\": 1846716347, \"n_sessions\": 324, \"n_txs\": 649}, {\"date\": \"2024-05-07T00:00:00\", \"kind\": \"ln\", \"msats\": 356028673, \"n_sessions\": 318, \"n_txs\": 920}, {\"date\": \"2024-05-07T00:00:00\", \"kind\": \"mint\", \"msats\": 386918529, \"n_sessions\": 318, \"n_txs\": 627}, {\"date\": \"2024-05-08T00:00:00\", \"kind\": \"ln\", \"msats\": 752449652, \"n_sessions\": 310, \"n_txs\": 888}, {\"date\": \"2024-05-08T00:00:00\", \"kind\": \"mint\", \"msats\": 1281711975, \"n_sessions\": 305, \"n_txs\": 598}, {\"date\": \"2024-05-09T00:00:00\", \"kind\": \"ln\", \"msats\": 497189721, \"n_sessions\": 303, \"n_txs\": 896}, {\"date\": \"2024-05-09T00:00:00\", \"kind\": \"mint\", \"msats\": 843197141, \"n_sessions\": 300, \"n_txs\": 598}, {\"date\": \"2024-05-10T00:00:00\", \"kind\": \"ln\", \"msats\": 212869004, \"n_sessions\": 328, \"n_txs\": 960}, {\"date\": \"2024-05-10T00:00:00\", \"kind\": \"mint\", \"msats\": 278181158, \"n_sessions\": 323, \"n_txs\": 637}, {\"date\": \"2024-05-11T00:00:00\", \"kind\": \"ln\", \"msats\": 334749896, \"n_sessions\": 328, \"n_txs\": 929}, {\"date\": \"2024-05-11T00:00:00\", \"kind\": \"mint\", \"msats\": 858976707, \"n_sessions\": 325, \"n_txs\": 630}, {\"date\": \"2024-05-12T00:00:00\", \"kind\": \"ln\", \"msats\": 459802434, \"n_sessions\": 315, \"n_txs\": 925}, {\"date\": \"2024-05-12T00:00:00\", \"kind\": \"mint\", \"msats\": 100472605271, \"n_sessions\": 315, \"n_txs\": 622}, {\"date\": \"2024-05-13T00:00:00\", \"kind\": \"ln\", \"msats\": 45296891, \"n_sessions\": 319, \"n_txs\": 920}, {\"date\": \"2024-05-13T00:00:00\", \"kind\": \"mint\", \"msats\": 45626781, \"n_sessions\": 309, \"n_txs\": 629}, {\"date\": \"2024-05-14T00:00:00\", \"kind\": \"ln\", \"msats\": 424297261, \"n_sessions\": 303, \"n_txs\": 879}, {\"date\": \"2024-05-14T00:00:00\", \"kind\": \"mint\", \"msats\": 453264053, \"n_sessions\": 301, \"n_txs\": 591}, {\"date\": \"2024-05-15T00:00:00\", \"kind\": \"ln\", \"msats\": 534521552, \"n_sessions\": 307, \"n_txs\": 890}, {\"date\": \"2024-05-15T00:00:00\", \"kind\": \"mint\", \"msats\": 623631389, \"n_sessions\": 311, \"n_txs\": 614}, {\"date\": \"2024-05-16T00:00:00\", \"kind\": \"ln\", \"msats\": 388345335, \"n_sessions\": 314, \"n_txs\": 938}, {\"date\": \"2024-05-16T00:00:00\", \"kind\": \"mint\", \"msats\": 417724110, \"n_sessions\": 317, \"n_txs\": 639}, {\"date\": \"2024-05-16T00:00:00\", \"kind\": \"wallet\", \"msats\": 83978000, \"n_sessions\": 1, \"n_txs\": 1}, {\"date\": \"2024-05-17T00:00:00\", \"kind\": \"ln\", \"msats\": 881381667, \"n_sessions\": 306, \"n_txs\": 912}, {\"date\": \"2024-05-17T00:00:00\", \"kind\": \"mint\", \"msats\": 10946872019, \"n_sessions\": 309, \"n_txs\": 613}, {\"date\": \"2024-05-18T00:00:00\", \"kind\": \"ln\", \"msats\": 559301780, \"n_sessions\": 329, \"n_txs\": 941}, {\"date\": \"2024-05-18T00:00:00\", \"kind\": \"mint\", \"msats\": 964325177, \"n_sessions\": 325, \"n_txs\": 647}, {\"date\": \"2024-05-18T00:00:00\", \"kind\": \"wallet\", \"msats\": 12604000, \"n_sessions\": 1, \"n_txs\": 1}, {\"date\": \"2024-05-19T00:00:00\", \"kind\": \"ln\", \"msats\": 252258302, \"n_sessions\": 328, \"n_txs\": 969}, {\"date\": \"2024-05-19T00:00:00\", \"kind\": \"mint\", \"msats\": 288878298, \"n_sessions\": 315, \"n_txs\": 624}, {\"date\": \"2024-05-20T00:00:00\", \"kind\": \"ln\", \"msats\": 508241215, \"n_sessions\": 341, \"n_txs\": 962}, {\"date\": \"2024-05-20T00:00:00\", \"kind\": \"mint\", \"msats\": 554656825, \"n_sessions\": 323, \"n_txs\": 634}, {\"date\": \"2024-05-21T00:00:00\", \"kind\": \"ln\", \"msats\": 10065587261, \"n_sessions\": 308, \"n_txs\": 885}, {\"date\": \"2024-05-21T00:00:00\", \"kind\": \"mint\", \"msats\": 10083787085, \"n_sessions\": 309, \"n_txs\": 598}, {\"date\": \"2024-05-22T00:00:00\", \"kind\": \"ln\", \"msats\": 936352912, \"n_sessions\": 329, \"n_txs\": 924}, {\"date\": \"2024-05-22T00:00:00\", \"kind\": \"mint\", \"msats\": 982074874, \"n_sessions\": 327, \"n_txs\": 666}, {\"date\": \"2024-05-22T00:00:00\", \"kind\": \"wallet\", \"msats\": 38532737000, \"n_sessions\": 2, \"n_txs\": 2}, {\"date\": \"2024-05-23T00:00:00\", \"kind\": \"ln\", \"msats\": 165490379, \"n_sessions\": 299, \"n_txs\": 928}, {\"date\": \"2024-05-23T00:00:00\", \"kind\": \"mint\", \"msats\": 520803520, \"n_sessions\": 294, \"n_txs\": 652}, {\"date\": \"2024-05-24T00:00:00\", \"kind\": \"ln\", \"msats\": 1328651311, \"n_sessions\": 301, \"n_txs\": 873}, {\"date\": \"2024-05-24T00:00:00\", \"kind\": \"mint\", \"msats\": 2473948157, \"n_sessions\": 299, \"n_txs\": 594}, {\"date\": \"2024-05-24T00:00:00\", \"kind\": \"wallet\", \"msats\": 401592000, \"n_sessions\": 1, \"n_txs\": 1}, {\"date\": \"2024-05-25T00:00:00\", \"kind\": \"ln\", \"msats\": 179174528, \"n_sessions\": 316, \"n_txs\": 903}, {\"date\": \"2024-05-25T00:00:00\", \"kind\": \"mint\", \"msats\": 250474110, \"n_sessions\": 312, \"n_txs\": 613}, {\"date\": \"2024-05-26T00:00:00\", \"kind\": \"ln\", \"msats\": 250416540, \"n_sessions\": 324, \"n_txs\": 922}, {\"date\": \"2024-05-26T00:00:00\", \"kind\": \"mint\", \"msats\": 252920564, \"n_sessions\": 320, \"n_txs\": 618}, {\"date\": \"2024-05-27T00:00:00\", \"kind\": \"ln\", \"msats\": 388429874, \"n_sessions\": 312, \"n_txs\": 915}, {\"date\": \"2024-05-27T00:00:00\", \"kind\": \"mint\", \"msats\": 526612446, \"n_sessions\": 302, \"n_txs\": 607}, {\"date\": \"2024-05-28T00:00:00\", \"kind\": \"ln\", \"msats\": 447270595, \"n_sessions\": 311, \"n_txs\": 890}, {\"date\": \"2024-05-28T00:00:00\", \"kind\": \"mint\", \"msats\": 448906546, \"n_sessions\": 305, \"n_txs\": 596}, {\"date\": \"2024-05-29T00:00:00\", \"kind\": \"ln\", \"msats\": 4282092256, \"n_sessions\": 319, \"n_txs\": 910}, {\"date\": \"2024-05-29T00:00:00\", \"kind\": \"mint\", \"msats\": 4296354848, \"n_sessions\": 313, \"n_txs\": 704}, {\"date\": \"2024-05-30T00:00:00\", \"kind\": \"ln\", \"msats\": 427778481, \"n_sessions\": 326, \"n_txs\": 928}, {\"date\": \"2024-05-30T00:00:00\", \"kind\": \"mint\", \"msats\": 595511954, \"n_sessions\": 325, \"n_txs\": 640}, {\"date\": \"2024-05-31T00:00:00\", \"kind\": \"ln\", \"msats\": 510081241, \"n_sessions\": 322, \"n_txs\": 941}, {\"date\": \"2024-05-31T00:00:00\", \"kind\": \"mint\", \"msats\": 804766181, \"n_sessions\": 319, \"n_txs\": 642}, {\"date\": \"2024-06-01T00:00:00\", \"kind\": \"ln\", \"msats\": 340121100, \"n_sessions\": 336, \"n_txs\": 986}, {\"date\": \"2024-06-01T00:00:00\", \"kind\": \"mint\", \"msats\": 422362067, \"n_sessions\": 332, \"n_txs\": 654}, {\"date\": \"2024-06-02T00:00:00\", \"kind\": \"ln\", \"msats\": 1341768874, \"n_sessions\": 311, \"n_txs\": 911}, {\"date\": \"2024-06-02T00:00:00\", \"kind\": \"mint\", \"msats\": 1732181570, \"n_sessions\": 305, \"n_txs\": 651}, {\"date\": \"2024-06-02T00:00:00\", \"kind\": \"wallet\", \"msats\": 145331000, \"n_sessions\": 2, \"n_txs\": 2}, {\"date\": \"2024-06-03T00:00:00\", \"kind\": \"ln\", \"msats\": 21055785, \"n_sessions\": 320, \"n_txs\": 906}, {\"date\": \"2024-06-03T00:00:00\", \"kind\": \"mint\", \"msats\": 21878073, \"n_sessions\": 309, \"n_txs\": 602}, {\"date\": \"2024-06-03T00:00:00\", \"kind\": \"wallet\", \"msats\": 507612000, \"n_sessions\": 1, \"n_txs\": 1}, {\"date\": \"2024-06-04T00:00:00\", \"kind\": \"ln\", \"msats\": 1337565686, \"n_sessions\": 320, \"n_txs\": 906}, {\"date\": \"2024-06-04T00:00:00\", \"kind\": \"mint\", \"msats\": 1356721785, \"n_sessions\": 318, \"n_txs\": 610}, {\"date\": \"2024-06-05T00:00:00\", \"kind\": \"ln\", \"msats\": 1632141362, \"n_sessions\": 338, \"n_txs\": 979}, {\"date\": \"2024-06-05T00:00:00\", \"kind\": \"mint\", \"msats\": 1643067164, \"n_sessions\": 334, \"n_txs\": 668}, {\"date\": \"2024-06-06T00:00:00\", \"kind\": \"ln\", \"msats\": 424599821, \"n_sessions\": 318, \"n_txs\": 902}, {\"date\": \"2024-06-06T00:00:00\", \"kind\": \"mint\", \"msats\": 430085532, \"n_sessions\": 307, \"n_txs\": 609}, {\"date\": \"2024-06-07T00:00:00\", \"kind\": \"ln\", \"msats\": 278318677, \"n_sessions\": 303, \"n_txs\": 889}, {\"date\": \"2024-06-07T00:00:00\", \"kind\": \"mint\", \"msats\": 321163997, \"n_sessions\": 303, \"n_txs\": 602}, {\"date\": \"2024-06-08T00:00:00\", \"kind\": \"ln\", \"msats\": 744599851, \"n_sessions\": 362, \"n_txs\": 1038}, {\"date\": \"2024-06-08T00:00:00\", \"kind\": \"mint\", \"msats\": 762596156, \"n_sessions\": 362, \"n_txs\": 687}, {\"date\": \"2024-06-09T00:00:00\", \"kind\": \"ln\", \"msats\": 1050177045, \"n_sessions\": 311, \"n_txs\": 921}, {\"date\": \"2024-06-09T00:00:00\", \"kind\": \"mint\", \"msats\": 1769991599, \"n_sessions\": 303, \"n_txs\": 627}, {\"date\": \"2024-06-10T00:00:00\", \"kind\": \"ln\", \"msats\": 499215057, \"n_sessions\": 322, \"n_txs\": 944}, {\"date\": \"2024-06-10T00:00:00\", \"kind\": \"mint\", \"msats\": 468473691, \"n_sessions\": 320, \"n_txs\": 1051}, {\"date\": \"2024-06-11T00:00:00\", \"kind\": \"ln\", \"msats\": 980482580, \"n_sessions\": 319, \"n_txs\": 932}, {\"date\": \"2024-06-11T00:00:00\", \"kind\": \"mint\", \"msats\": 1107597614, \"n_sessions\": 313, \"n_txs\": 619}, {\"date\": \"2024-06-11T00:00:00\", \"kind\": \"wallet\", \"msats\": 216476000, \"n_sessions\": 1, \"n_txs\": 1}, {\"date\": \"2024-06-12T00:00:00\", \"kind\": \"ln\", \"msats\": 3872720047, \"n_sessions\": 347, \"n_txs\": 992}, {\"date\": \"2024-06-12T00:00:00\", \"kind\": \"mint\", \"msats\": 7076545969, \"n_sessions\": 338, \"n_txs\": 663}, {\"date\": \"2024-06-12T00:00:00\", \"kind\": \"wallet\", \"msats\": 25005884000, \"n_sessions\": 1, \"n_txs\": 1}, {\"date\": \"2024-06-13T00:00:00\", \"kind\": \"ln\", \"msats\": 2670941558, \"n_sessions\": 350, \"n_txs\": 1042}, {\"date\": \"2024-06-13T00:00:00\", \"kind\": \"mint\", \"msats\": 3580522823, \"n_sessions\": 343, \"n_txs\": 894}, {\"date\": \"2024-06-14T00:00:00\", \"kind\": \"ln\", \"msats\": 2794063952, \"n_sessions\": 374, \"n_txs\": 1108}, {\"date\": \"2024-06-14T00:00:00\", \"kind\": \"mint\", \"msats\": 3395983680, \"n_sessions\": 374, \"n_txs\": 859}, {\"date\": \"2024-06-15T00:00:00\", \"kind\": \"ln\", \"msats\": 2768753296, \"n_sessions\": 338, \"n_txs\": 1053}, {\"date\": \"2024-06-15T00:00:00\", \"kind\": \"mint\", \"msats\": 3369546526, \"n_sessions\": 363, \"n_txs\": 787}, {\"date\": \"2024-06-15T00:00:00\", \"kind\": \"wallet\", \"msats\": 143417000, \"n_sessions\": 1, \"n_txs\": 1}, {\"date\": \"2024-06-16T00:00:00\", \"kind\": \"ln\", \"msats\": 420297001, \"n_sessions\": 316, \"n_txs\": 913}, {\"date\": \"2024-06-16T00:00:00\", \"kind\": \"mint\", \"msats\": 1353815440, \"n_sessions\": 323, \"n_txs\": 1025}, {\"date\": \"2024-06-16T00:00:00\", \"kind\": \"wallet\", \"msats\": 996462000, \"n_sessions\": 1, \"n_txs\": 1}, {\"date\": \"2024-06-17T00:00:00\", \"kind\": \"ln\", \"msats\": 13589238037, \"n_sessions\": 336, \"n_txs\": 958}, {\"date\": \"2024-06-17T00:00:00\", \"kind\": \"mint\", \"msats\": 18075377166, \"n_sessions\": 327, \"n_txs\": 658}, {\"date\": \"2024-06-18T00:00:00\", \"kind\": \"ln\", \"msats\": 6613635272, \"n_sessions\": 351, \"n_txs\": 998}, {\"date\": \"2024-06-18T00:00:00\", \"kind\": \"mint\", \"msats\": 6887877988, \"n_sessions\": 350, \"n_txs\": 721}, {\"date\": \"2024-06-18T00:00:00\", \"kind\": \"wallet\", \"msats\": 168410000, \"n_sessions\": 1, \"n_txs\": 1}, {\"date\": \"2024-06-19T00:00:00\", \"kind\": \"ln\", \"msats\": 461434011, \"n_sessions\": 328, \"n_txs\": 933}, {\"date\": \"2024-06-19T00:00:00\", \"kind\": \"mint\", \"msats\": 753426863, \"n_sessions\": 319, \"n_txs\": 633}, {\"date\": \"2024-06-19T00:00:00\", \"kind\": \"wallet\", \"msats\": 676890000, \"n_sessions\": 2, \"n_txs\": 2}, {\"date\": \"2024-06-20T00:00:00\", \"kind\": \"ln\", \"msats\": 2329627681, \"n_sessions\": 317, \"n_txs\": 980}, {\"date\": \"2024-06-20T00:00:00\", \"kind\": \"mint\", \"msats\": 635159680, \"n_sessions\": 302, \"n_txs\": 611}, {\"date\": \"2024-06-21T00:00:00\", \"kind\": \"ln\", \"msats\": 356856037, \"n_sessions\": 324, \"n_txs\": 943}, {\"date\": \"2024-06-21T00:00:00\", \"kind\": \"mint\", \"msats\": 2205845861, \"n_sessions\": 321, \"n_txs\": 687}, {\"date\": \"2024-06-21T00:00:00\", \"kind\": \"wallet\", \"msats\": 156681000, \"n_sessions\": 1, \"n_txs\": 1}, {\"date\": \"2024-06-22T00:00:00\", \"kind\": \"ln\", \"msats\": 229251541, \"n_sessions\": 339, \"n_txs\": 994}, {\"date\": \"2024-06-22T00:00:00\", \"kind\": \"mint\", \"msats\": 246430776, \"n_sessions\": 326, \"n_txs\": 644}, {\"date\": \"2024-06-23T00:00:00\", \"kind\": \"ln\", \"msats\": 40378039, \"n_sessions\": 305, \"n_txs\": 859}, {\"date\": \"2024-06-23T00:00:00\", \"kind\": \"mint\", \"msats\": 551135721, \"n_sessions\": 299, \"n_txs\": 669}, {\"date\": \"2024-06-23T00:00:00\", \"kind\": \"wallet\", \"msats\": 155068000, \"n_sessions\": 1, \"n_txs\": 1}, {\"date\": \"2024-06-24T00:00:00\", \"kind\": \"ln\", \"msats\": 2050682702, \"n_sessions\": 351, \"n_txs\": 1030}, {\"date\": \"2024-06-24T00:00:00\", \"kind\": \"mint\", \"msats\": 1409078056027, \"n_sessions\": 340, \"n_txs\": 729}, {\"date\": \"2024-06-24T00:00:00\", \"kind\": \"wallet\", \"msats\": 629530714000, \"n_sessions\": 6, \"n_txs\": 6}, {\"date\": \"2024-06-25T00:00:00\", \"kind\": \"ln\", \"msats\": 5068501350, \"n_sessions\": 357, \"n_txs\": 1032}, {\"date\": \"2024-06-25T00:00:00\", \"kind\": \"mint\", \"msats\": 5451206363, \"n_sessions\": 345, \"n_txs\": 721}, {\"date\": \"2024-06-25T00:00:00\", \"kind\": \"wallet\", \"msats\": 78035217000, \"n_sessions\": 4, \"n_txs\": 4}, {\"date\": \"2024-06-26T00:00:00\", \"kind\": \"ln\", \"msats\": 933425660, \"n_sessions\": 316, \"n_txs\": 894}, {\"date\": \"2024-06-26T00:00:00\", \"kind\": \"mint\", \"msats\": 1270602284, \"n_sessions\": 314, \"n_txs\": 644}, {\"date\": \"2024-06-26T00:00:00\", \"kind\": \"wallet\", \"msats\": 353925000, \"n_sessions\": 1, \"n_txs\": 1}, {\"date\": \"2024-06-27T00:00:00\", \"kind\": \"ln\", \"msats\": 1474314427, \"n_sessions\": 341, \"n_txs\": 963}, {\"date\": \"2024-06-27T00:00:00\", \"kind\": \"mint\", \"msats\": 1923914279, \"n_sessions\": 334, \"n_txs\": 696}, {\"date\": \"2024-06-27T00:00:00\", \"kind\": \"wallet\", \"msats\": 1311349000, \"n_sessions\": 2, \"n_txs\": 2}, {\"date\": \"2024-06-28T00:00:00\", \"kind\": \"ln\", \"msats\": 704273486, \"n_sessions\": 305, \"n_txs\": 904}, {\"date\": \"2024-06-28T00:00:00\", \"kind\": \"mint\", \"msats\": 697663435, \"n_sessions\": 304, \"n_txs\": 605}, {\"date\": \"2024-06-29T00:00:00\", \"kind\": \"ln\", \"msats\": 683806523, \"n_sessions\": 318, \"n_txs\": 952}, {\"date\": \"2024-06-29T00:00:00\", \"kind\": \"mint\", \"msats\": 2283199849, \"n_sessions\": 343, \"n_txs\": 785}, {\"date\": \"2024-06-29T00:00:00\", \"kind\": \"wallet\", \"msats\": 91933000, \"n_sessions\": 1, \"n_txs\": 1}, {\"date\": \"2024-06-30T00:00:00\", \"kind\": \"ln\", \"msats\": 1519392503, \"n_sessions\": 310, \"n_txs\": 891}, {\"date\": \"2024-06-30T00:00:00\", \"kind\": \"mint\", \"msats\": 1545563852, \"n_sessions\": 309, \"n_txs\": 603}, {\"date\": \"2024-07-01T00:00:00\", \"kind\": \"ln\", \"msats\": 555540117, \"n_sessions\": 332, \"n_txs\": 897}, {\"date\": \"2024-07-01T00:00:00\", \"kind\": \"mint\", \"msats\": 603090204, \"n_sessions\": 330, \"n_txs\": 615}, {\"date\": \"2024-07-01T00:00:00\", \"kind\": \"wallet\", \"msats\": 4582000, \"n_sessions\": 1, \"n_txs\": 1}, {\"date\": \"2024-07-02T00:00:00\", \"kind\": \"ln\", \"msats\": 248063577, \"n_sessions\": 315, \"n_txs\": 881}, {\"date\": \"2024-07-02T00:00:00\", \"kind\": \"mint\", \"msats\": 255204253, \"n_sessions\": 304, \"n_txs\": 592}, {\"date\": \"2024-07-03T00:00:00\", \"kind\": \"ln\", \"msats\": 690282694, \"n_sessions\": 332, \"n_txs\": 905}, {\"date\": \"2024-07-03T00:00:00\", \"kind\": \"mint\", \"msats\": 701027363, \"n_sessions\": 316, \"n_txs\": 623}, {\"date\": \"2024-07-03T00:00:00\", \"kind\": \"wallet\", \"msats\": 1243471000, \"n_sessions\": 4, \"n_txs\": 4}, {\"date\": \"2024-07-04T00:00:00\", \"kind\": \"ln\", \"msats\": 108079217, \"n_sessions\": 328, \"n_txs\": 921}, {\"date\": \"2024-07-04T00:00:00\", \"kind\": \"mint\", \"msats\": 173566685, \"n_sessions\": 307, \"n_txs\": 621}, {\"date\": \"2024-07-05T00:00:00\", \"kind\": \"ln\", \"msats\": 60297975, \"n_sessions\": 334, \"n_txs\": 906}, {\"date\": \"2024-07-05T00:00:00\", \"kind\": \"mint\", \"msats\": 79721266, \"n_sessions\": 334, \"n_txs\": 649}, {\"date\": \"2024-07-06T00:00:00\", \"kind\": \"ln\", \"msats\": 16539909, \"n_sessions\": 317, \"n_txs\": 861}, {\"date\": \"2024-07-06T00:00:00\", \"kind\": \"mint\", \"msats\": 18629262, \"n_sessions\": 299, \"n_txs\": 589}, {\"date\": \"2024-07-07T00:00:00\", \"kind\": \"ln\", \"msats\": 437526421, \"n_sessions\": 313, \"n_txs\": 879}, {\"date\": \"2024-07-07T00:00:00\", \"kind\": \"mint\", \"msats\": 1126977595, \"n_sessions\": 313, \"n_txs\": 603}, {\"date\": \"2024-07-08T00:00:00\", \"kind\": \"ln\", \"msats\": 3474008, \"n_sessions\": 336, \"n_txs\": 872}, {\"date\": \"2024-07-08T00:00:00\", \"kind\": \"mint\", \"msats\": 4841688, \"n_sessions\": 297, \"n_txs\": 583}, {\"date\": \"2024-07-09T00:00:00\", \"kind\": \"ln\", \"msats\": 1299756361, \"n_sessions\": 318, \"n_txs\": 897}, {\"date\": \"2024-07-09T00:00:00\", \"kind\": \"mint\", \"msats\": 1377204505, \"n_sessions\": 307, \"n_txs\": 597}, {\"date\": \"2024-07-10T00:00:00\", \"kind\": \"ln\", \"msats\": 740893701, \"n_sessions\": 336, \"n_txs\": 907}, {\"date\": \"2024-07-10T00:00:00\", \"kind\": \"mint\", \"msats\": 784945757, \"n_sessions\": 318, \"n_txs\": 634}, {\"date\": \"2024-07-11T00:00:00\", \"kind\": \"ln\", \"msats\": 24763655, \"n_sessions\": 314, \"n_txs\": 833}, {\"date\": \"2024-07-11T00:00:00\", \"kind\": \"mint\", \"msats\": 42032266, \"n_sessions\": 284, \"n_txs\": 568}, {\"date\": \"2024-07-11T00:00:00\", \"kind\": \"wallet\", \"msats\": 46515000, \"n_sessions\": 1, \"n_txs\": 1}, {\"date\": \"2024-07-12T00:00:00\", \"kind\": \"ln\", \"msats\": 476523888, \"n_sessions\": 322, \"n_txs\": 938}, {\"date\": \"2024-07-12T00:00:00\", \"kind\": \"mint\", \"msats\": 1221059888, \"n_sessions\": 323, \"n_txs\": 627}, {\"date\": \"2024-07-13T00:00:00\", \"kind\": \"ln\", \"msats\": 609404338, \"n_sessions\": 330, \"n_txs\": 891}, {\"date\": \"2024-07-13T00:00:00\", \"kind\": \"mint\", \"msats\": 610142338, \"n_sessions\": 334, \"n_txs\": 608}, {\"date\": \"2024-07-14T00:00:00\", \"kind\": \"ln\", \"msats\": 25595977, \"n_sessions\": 320, \"n_txs\": 878}, {\"date\": \"2024-07-14T00:00:00\", \"kind\": \"mint\", \"msats\": 25599780, \"n_sessions\": 307, \"n_txs\": 585}, {\"date\": \"2024-07-15T00:00:00\", \"kind\": \"ln\", \"msats\": 35519220, \"n_sessions\": 351, \"n_txs\": 888}, {\"date\": \"2024-07-15T00:00:00\", \"kind\": \"mint\", \"msats\": 56655055, \"n_sessions\": 313, \"n_txs\": 626}, {\"date\": \"2024-07-16T00:00:00\", \"kind\": \"ln\", \"msats\": 114956193, \"n_sessions\": 315, \"n_txs\": 849}, {\"date\": \"2024-07-16T00:00:00\", \"kind\": \"mint\", \"msats\": 135176193, \"n_sessions\": 298, \"n_txs\": 563}, {\"date\": \"2024-07-16T00:00:00\", \"kind\": \"wallet\", \"msats\": 21355000, \"n_sessions\": 1, \"n_txs\": 1}, {\"date\": \"2024-07-17T00:00:00\", \"kind\": \"ln\", \"msats\": 1028253522, \"n_sessions\": 320, \"n_txs\": 938}, {\"date\": \"2024-07-17T00:00:00\", \"kind\": \"mint\", \"msats\": 1407874530, \"n_sessions\": 312, \"n_txs\": 654}, {\"date\": \"2024-07-17T00:00:00\", \"kind\": \"wallet\", \"msats\": 253565000, \"n_sessions\": 1, \"n_txs\": 1}, {\"date\": \"2024-07-18T00:00:00\", \"kind\": \"ln\", \"msats\": 2513545377, \"n_sessions\": 324, \"n_txs\": 877}, {\"date\": \"2024-07-18T00:00:00\", \"kind\": \"mint\", \"msats\": 4593680295, \"n_sessions\": 300, \"n_txs\": 591}, {\"date\": \"2024-07-18T00:00:00\", \"kind\": \"wallet\", \"msats\": 2039401000, \"n_sessions\": 3, \"n_txs\": 3}, {\"date\": \"2024-07-19T00:00:00\", \"kind\": \"ln\", \"msats\": 80016092, \"n_sessions\": 325, \"n_txs\": 919}, {\"date\": \"2024-07-19T00:00:00\", \"kind\": \"mint\", \"msats\": 80181092, \"n_sessions\": 325, \"n_txs\": 612}, {\"date\": \"2024-07-20T00:00:00\", \"kind\": \"ln\", \"msats\": 693100701, \"n_sessions\": 315, \"n_txs\": 890}, {\"date\": \"2024-07-20T00:00:00\", \"kind\": \"mint\", \"msats\": 693238210, \"n_sessions\": 301, \"n_txs\": 601}, {\"date\": \"2024-07-21T00:00:00\", \"kind\": \"ln\", \"msats\": 799716498, \"n_sessions\": 339, \"n_txs\": 963}, {\"date\": \"2024-07-21T00:00:00\", \"kind\": \"mint\", \"msats\": 1376457571, \"n_sessions\": 336, \"n_txs\": 637}, {\"date\": \"2024-07-21T00:00:00\", \"kind\": \"wallet\", \"msats\": 1048960000, \"n_sessions\": 2, \"n_txs\": 2}, {\"date\": \"2024-07-22T00:00:00\", \"kind\": \"ln\", \"msats\": 155522276, \"n_sessions\": 308, \"n_txs\": 841}, {\"date\": \"2024-07-22T00:00:00\", \"kind\": \"mint\", \"msats\": 158662276, \"n_sessions\": 293, \"n_txs\": 556}, {\"date\": \"2024-07-23T00:00:00\", \"kind\": \"ln\", \"msats\": 36697333, \"n_sessions\": 334, \"n_txs\": 926}, {\"date\": \"2024-07-23T00:00:00\", \"kind\": \"mint\", \"msats\": 37669956, \"n_sessions\": 323, \"n_txs\": 609}, {\"date\": \"2024-07-24T00:00:00\", \"kind\": \"ln\", \"msats\": 1240073501, \"n_sessions\": 320, \"n_txs\": 902}, {\"date\": \"2024-07-24T00:00:00\", \"kind\": \"mint\", \"msats\": 1312963501, \"n_sessions\": 310, \"n_txs\": 599}, {\"date\": \"2024-07-24T00:00:00\", \"kind\": \"wallet\", \"msats\": 162657000, \"n_sessions\": 1, \"n_txs\": 1}, {\"date\": \"2024-07-25T00:00:00\", \"kind\": \"ln\", \"msats\": 170481351, \"n_sessions\": 310, \"n_txs\": 865}, {\"date\": \"2024-07-25T00:00:00\", \"kind\": \"mint\", \"msats\": 292699095, \"n_sessions\": 303, \"n_txs\": 585}, {\"date\": \"2024-07-25T00:00:00\", \"kind\": \"wallet\", \"msats\": 501230000, \"n_sessions\": 1, \"n_txs\": 1}, {\"date\": \"2024-07-26T00:00:00\", \"kind\": \"ln\", \"msats\": 98309324, \"n_sessions\": 306, \"n_txs\": 871}, {\"date\": \"2024-07-26T00:00:00\", \"kind\": \"mint\", \"msats\": 99104324, \"n_sessions\": 307, \"n_txs\": 588}, {\"date\": \"2024-07-26T00:00:00\", \"kind\": \"wallet\", \"msats\": 80972000, \"n_sessions\": 1, \"n_txs\": 1}, {\"date\": \"2024-07-27T00:00:00\", \"kind\": \"ln\", \"msats\": 262660355, \"n_sessions\": 336, \"n_txs\": 940}, {\"date\": \"2024-07-27T00:00:00\", \"kind\": \"mint\", \"msats\": 267493077, \"n_sessions\": 327, \"n_txs\": 681}, {\"date\": \"2024-07-28T00:00:00\", \"kind\": \"ln\", \"msats\": 1002695308, \"n_sessions\": 313, \"n_txs\": 908}, {\"date\": \"2024-07-28T00:00:00\", \"kind\": \"mint\", \"msats\": 1116219908, \"n_sessions\": 309, \"n_txs\": 615}, {\"date\": \"2024-07-29T00:00:00\", \"kind\": \"ln\", \"msats\": 421065522, \"n_sessions\": 299, \"n_txs\": 858}, {\"date\": \"2024-07-29T00:00:00\", \"kind\": \"mint\", \"msats\": 523150189, \"n_sessions\": 304, \"n_txs\": 579}, {\"date\": \"2024-07-30T00:00:00\", \"kind\": \"ln\", \"msats\": 82508087, \"n_sessions\": 268, \"n_txs\": 758}, {\"date\": \"2024-07-30T00:00:00\", \"kind\": \"mint\", \"msats\": 83536659, \"n_sessions\": 272, \"n_txs\": 507}], \"data-4e37e5159930f97b3a5719eebada24e4\": [{\"date\": \"2024-04-06T00:00:00\", \"type\": \"n_sessions\", \"n\": 1}, {\"date\": \"2024-04-08T00:00:00\", \"type\": \"n_sessions\", \"n\": 7}, {\"date\": \"2024-04-09T00:00:00\", \"type\": \"n_sessions\", \"n\": 10}, {\"date\": \"2024-04-10T00:00:00\", \"type\": \"n_sessions\", \"n\": 178}, {\"date\": \"2024-04-11T00:00:00\", \"type\": \"n_sessions\", \"n\": 627}, {\"date\": \"2024-04-12T00:00:00\", \"type\": \"n_sessions\", \"n\": 598}, {\"date\": \"2024-04-13T00:00:00\", \"type\": \"n_sessions\", \"n\": 637}, {\"date\": \"2024-04-14T00:00:00\", \"type\": \"n_sessions\", \"n\": 568}, {\"date\": \"2024-04-15T00:00:00\", \"type\": \"n_sessions\", \"n\": 644}, {\"date\": \"2024-04-16T00:00:00\", \"type\": \"n_sessions\", \"n\": 584}, {\"date\": \"2024-04-17T00:00:00\", \"type\": \"n_sessions\", \"n\": 575}, {\"date\": \"2024-04-18T00:00:00\", \"type\": \"n_sessions\", \"n\": 583}, {\"date\": \"2024-04-19T00:00:00\", \"type\": \"n_sessions\", \"n\": 602}, {\"date\": \"2024-04-20T00:00:00\", \"type\": \"n_sessions\", \"n\": 608}, {\"date\": \"2024-04-21T00:00:00\", \"type\": \"n_sessions\", \"n\": 611}, {\"date\": \"2024-04-22T00:00:00\", \"type\": \"n_sessions\", \"n\": 618}, {\"date\": \"2024-04-23T00:00:00\", \"type\": \"n_sessions\", \"n\": 666}, {\"date\": \"2024-04-24T00:00:00\", \"type\": \"n_sessions\", \"n\": 620}, {\"date\": \"2024-04-25T00:00:00\", \"type\": \"n_sessions\", \"n\": 582}, {\"date\": \"2024-04-26T00:00:00\", \"type\": \"n_sessions\", \"n\": 641}, {\"date\": \"2024-04-27T00:00:00\", \"type\": \"n_sessions\", \"n\": 661}, {\"date\": \"2024-04-28T00:00:00\", \"type\": \"n_sessions\", \"n\": 664}, {\"date\": \"2024-04-29T00:00:00\", \"type\": \"n_sessions\", \"n\": 606}, {\"date\": \"2024-04-30T00:00:00\", \"type\": \"n_sessions\", \"n\": 631}, {\"date\": \"2024-05-01T00:00:00\", \"type\": \"n_sessions\", \"n\": 631}, {\"date\": \"2024-05-02T00:00:00\", \"type\": \"n_sessions\", \"n\": 581}, {\"date\": \"2024-05-03T00:00:00\", \"type\": \"n_sessions\", \"n\": 606}, {\"date\": \"2024-05-04T00:00:00\", \"type\": \"n_sessions\", \"n\": 613}, {\"date\": \"2024-05-05T00:00:00\", \"type\": \"n_sessions\", \"n\": 590}, {\"date\": \"2024-05-06T00:00:00\", \"type\": \"n_sessions\", \"n\": 657}, {\"date\": \"2024-05-07T00:00:00\", \"type\": \"n_sessions\", \"n\": 636}, {\"date\": \"2024-05-08T00:00:00\", \"type\": \"n_sessions\", \"n\": 615}, {\"date\": \"2024-05-09T00:00:00\", \"type\": \"n_sessions\", \"n\": 603}, {\"date\": \"2024-05-10T00:00:00\", \"type\": \"n_sessions\", \"n\": 651}, {\"date\": \"2024-05-11T00:00:00\", \"type\": \"n_sessions\", \"n\": 653}, {\"date\": \"2024-05-12T00:00:00\", \"type\": \"n_sessions\", \"n\": 630}, {\"date\": \"2024-05-13T00:00:00\", \"type\": \"n_sessions\", \"n\": 628}, {\"date\": \"2024-05-14T00:00:00\", \"type\": \"n_sessions\", \"n\": 604}, {\"date\": \"2024-05-15T00:00:00\", \"type\": \"n_sessions\", \"n\": 618}, {\"date\": \"2024-05-16T00:00:00\", \"type\": \"n_sessions\", \"n\": 632}, {\"date\": \"2024-05-17T00:00:00\", \"type\": \"n_sessions\", \"n\": 615}, {\"date\": \"2024-05-18T00:00:00\", \"type\": \"n_sessions\", \"n\": 655}, {\"date\": \"2024-05-19T00:00:00\", \"type\": \"n_sessions\", \"n\": 643}, {\"date\": \"2024-05-20T00:00:00\", \"type\": \"n_sessions\", \"n\": 664}, {\"date\": \"2024-05-21T00:00:00\", \"type\": \"n_sessions\", \"n\": 617}, {\"date\": \"2024-05-22T00:00:00\", \"type\": \"n_sessions\", \"n\": 658}, {\"date\": \"2024-05-23T00:00:00\", \"type\": \"n_sessions\", \"n\": 593}, {\"date\": \"2024-05-24T00:00:00\", \"type\": \"n_sessions\", \"n\": 601}, {\"date\": \"2024-05-25T00:00:00\", \"type\": \"n_sessions\", \"n\": 628}, {\"date\": \"2024-05-26T00:00:00\", \"type\": \"n_sessions\", \"n\": 644}, {\"date\": \"2024-05-27T00:00:00\", \"type\": \"n_sessions\", \"n\": 614}, {\"date\": \"2024-05-28T00:00:00\", \"type\": \"n_sessions\", \"n\": 616}, {\"date\": \"2024-05-29T00:00:00\", \"type\": \"n_sessions\", \"n\": 632}, {\"date\": \"2024-05-30T00:00:00\", \"type\": \"n_sessions\", \"n\": 651}, {\"date\": \"2024-05-31T00:00:00\", \"type\": \"n_sessions\", \"n\": 641}, {\"date\": \"2024-06-01T00:00:00\", \"type\": \"n_sessions\", \"n\": 668}, {\"date\": \"2024-06-02T00:00:00\", \"type\": \"n_sessions\", \"n\": 618}, {\"date\": \"2024-06-03T00:00:00\", \"type\": \"n_sessions\", \"n\": 630}, {\"date\": \"2024-06-04T00:00:00\", \"type\": \"n_sessions\", \"n\": 638}, {\"date\": \"2024-06-05T00:00:00\", \"type\": \"n_sessions\", \"n\": 672}, {\"date\": \"2024-06-06T00:00:00\", \"type\": \"n_sessions\", \"n\": 625}, {\"date\": \"2024-06-07T00:00:00\", \"type\": \"n_sessions\", \"n\": 606}, {\"date\": \"2024-06-08T00:00:00\", \"type\": \"n_sessions\", \"n\": 724}, {\"date\": \"2024-06-09T00:00:00\", \"type\": \"n_sessions\", \"n\": 614}, {\"date\": \"2024-06-10T00:00:00\", \"type\": \"n_sessions\", \"n\": 642}, {\"date\": \"2024-06-11T00:00:00\", \"type\": \"n_sessions\", \"n\": 633}, {\"date\": \"2024-06-12T00:00:00\", \"type\": \"n_sessions\", \"n\": 686}, {\"date\": \"2024-06-13T00:00:00\", \"type\": \"n_sessions\", \"n\": 693}, {\"date\": \"2024-06-14T00:00:00\", \"type\": \"n_sessions\", \"n\": 748}, {\"date\": \"2024-06-15T00:00:00\", \"type\": \"n_sessions\", \"n\": 702}, {\"date\": \"2024-06-16T00:00:00\", \"type\": \"n_sessions\", \"n\": 640}, {\"date\": \"2024-06-17T00:00:00\", \"type\": \"n_sessions\", \"n\": 663}, {\"date\": \"2024-06-18T00:00:00\", \"type\": \"n_sessions\", \"n\": 702}, {\"date\": \"2024-06-19T00:00:00\", \"type\": \"n_sessions\", \"n\": 649}, {\"date\": \"2024-06-20T00:00:00\", \"type\": \"n_sessions\", \"n\": 619}, {\"date\": \"2024-06-21T00:00:00\", \"type\": \"n_sessions\", \"n\": 646}, {\"date\": \"2024-06-22T00:00:00\", \"type\": \"n_sessions\", \"n\": 665}, {\"date\": \"2024-06-23T00:00:00\", \"type\": \"n_sessions\", \"n\": 605}, {\"date\": \"2024-06-24T00:00:00\", \"type\": \"n_sessions\", \"n\": 697}, {\"date\": \"2024-06-25T00:00:00\", \"type\": \"n_sessions\", \"n\": 706}, {\"date\": \"2024-06-26T00:00:00\", \"type\": \"n_sessions\", \"n\": 631}, {\"date\": \"2024-06-27T00:00:00\", \"type\": \"n_sessions\", \"n\": 677}, {\"date\": \"2024-06-28T00:00:00\", \"type\": \"n_sessions\", \"n\": 609}, {\"date\": \"2024-06-29T00:00:00\", \"type\": \"n_sessions\", \"n\": 662}, {\"date\": \"2024-06-30T00:00:00\", \"type\": \"n_sessions\", \"n\": 619}, {\"date\": \"2024-07-01T00:00:00\", \"type\": \"n_sessions\", \"n\": 663}, {\"date\": \"2024-07-02T00:00:00\", \"type\": \"n_sessions\", \"n\": 619}, {\"date\": \"2024-07-03T00:00:00\", \"type\": \"n_sessions\", \"n\": 652}, {\"date\": \"2024-07-04T00:00:00\", \"type\": \"n_sessions\", \"n\": 635}, {\"date\": \"2024-07-05T00:00:00\", \"type\": \"n_sessions\", \"n\": 668}, {\"date\": \"2024-07-06T00:00:00\", \"type\": \"n_sessions\", \"n\": 616}, {\"date\": \"2024-07-07T00:00:00\", \"type\": \"n_sessions\", \"n\": 626}, {\"date\": \"2024-07-08T00:00:00\", \"type\": \"n_sessions\", \"n\": 633}, {\"date\": \"2024-07-09T00:00:00\", \"type\": \"n_sessions\", \"n\": 625}, {\"date\": \"2024-07-10T00:00:00\", \"type\": \"n_sessions\", \"n\": 654}, {\"date\": \"2024-07-11T00:00:00\", \"type\": \"n_sessions\", \"n\": 599}, {\"date\": \"2024-07-12T00:00:00\", \"type\": \"n_sessions\", \"n\": 645}, {\"date\": \"2024-07-13T00:00:00\", \"type\": \"n_sessions\", \"n\": 664}, {\"date\": \"2024-07-14T00:00:00\", \"type\": \"n_sessions\", \"n\": 627}, {\"date\": \"2024-07-15T00:00:00\", \"type\": \"n_sessions\", \"n\": 664}, {\"date\": \"2024-07-16T00:00:00\", \"type\": \"n_sessions\", \"n\": 614}, {\"date\": \"2024-07-17T00:00:00\", \"type\": \"n_sessions\", \"n\": 633}, {\"date\": \"2024-07-18T00:00:00\", \"type\": \"n_sessions\", \"n\": 627}, {\"date\": \"2024-07-19T00:00:00\", \"type\": \"n_sessions\", \"n\": 650}, {\"date\": \"2024-07-20T00:00:00\", \"type\": \"n_sessions\", \"n\": 616}, {\"date\": \"2024-07-21T00:00:00\", \"type\": \"n_sessions\", \"n\": 677}, {\"date\": \"2024-07-22T00:00:00\", \"type\": \"n_sessions\", \"n\": 601}, {\"date\": \"2024-07-23T00:00:00\", \"type\": \"n_sessions\", \"n\": 657}, {\"date\": \"2024-07-24T00:00:00\", \"type\": \"n_sessions\", \"n\": 631}, {\"date\": \"2024-07-25T00:00:00\", \"type\": \"n_sessions\", \"n\": 614}, {\"date\": \"2024-07-26T00:00:00\", \"type\": \"n_sessions\", \"n\": 614}, {\"date\": \"2024-07-27T00:00:00\", \"type\": \"n_sessions\", \"n\": 663}, {\"date\": \"2024-07-28T00:00:00\", \"type\": \"n_sessions\", \"n\": 622}, {\"date\": \"2024-07-29T00:00:00\", \"type\": \"n_sessions\", \"n\": 603}, {\"date\": \"2024-07-30T00:00:00\", \"type\": \"n_sessions\", \"n\": 540}, {\"date\": \"2024-04-06T00:00:00\", \"type\": \"n_txs\", \"n\": 1}, {\"date\": \"2024-04-08T00:00:00\", \"type\": \"n_txs\", \"n\": 8}, {\"date\": \"2024-04-09T00:00:00\", \"type\": \"n_txs\", \"n\": 12}, {\"date\": \"2024-04-10T00:00:00\", \"type\": \"n_txs\", \"n\": 434}, {\"date\": \"2024-04-11T00:00:00\", \"type\": \"n_txs\", \"n\": 1583}, {\"date\": \"2024-04-12T00:00:00\", \"type\": \"n_txs\", \"n\": 1414}, {\"date\": \"2024-04-13T00:00:00\", \"type\": \"n_txs\", \"n\": 1534}, {\"date\": \"2024-04-14T00:00:00\", \"type\": \"n_txs\", \"n\": 1379}, {\"date\": \"2024-04-15T00:00:00\", \"type\": \"n_txs\", \"n\": 1498}, {\"date\": \"2024-04-16T00:00:00\", \"type\": \"n_txs\", \"n\": 1424}, {\"date\": \"2024-04-17T00:00:00\", \"type\": \"n_txs\", \"n\": 1317}, {\"date\": \"2024-04-18T00:00:00\", \"type\": \"n_txs\", \"n\": 1419}, {\"date\": \"2024-04-19T00:00:00\", \"type\": \"n_txs\", \"n\": 1456}, {\"date\": \"2024-04-20T00:00:00\", \"type\": \"n_txs\", \"n\": 1483}, {\"date\": \"2024-04-21T00:00:00\", \"type\": \"n_txs\", \"n\": 1481}, {\"date\": \"2024-04-22T00:00:00\", \"type\": \"n_txs\", \"n\": 1499}, {\"date\": \"2024-04-23T00:00:00\", \"type\": \"n_txs\", \"n\": 1586}, {\"date\": \"2024-04-24T00:00:00\", \"type\": \"n_txs\", \"n\": 1490}, {\"date\": \"2024-04-25T00:00:00\", \"type\": \"n_txs\", \"n\": 1409}, {\"date\": \"2024-04-26T00:00:00\", \"type\": \"n_txs\", \"n\": 1565}, {\"date\": \"2024-04-27T00:00:00\", \"type\": \"n_txs\", \"n\": 1597}, {\"date\": \"2024-04-28T00:00:00\", \"type\": \"n_txs\", \"n\": 1600}, {\"date\": \"2024-04-29T00:00:00\", \"type\": \"n_txs\", \"n\": 1494}, {\"date\": \"2024-04-30T00:00:00\", \"type\": \"n_txs\", \"n\": 1495}, {\"date\": \"2024-05-01T00:00:00\", \"type\": \"n_txs\", \"n\": 1516}, {\"date\": \"2024-05-02T00:00:00\", \"type\": \"n_txs\", \"n\": 1405}, {\"date\": \"2024-05-03T00:00:00\", \"type\": \"n_txs\", \"n\": 1481}, {\"date\": \"2024-05-04T00:00:00\", \"type\": \"n_txs\", \"n\": 1480}, {\"date\": \"2024-05-05T00:00:00\", \"type\": \"n_txs\", \"n\": 1435}, {\"date\": \"2024-05-06T00:00:00\", \"type\": \"n_txs\", \"n\": 1619}, {\"date\": \"2024-05-07T00:00:00\", \"type\": \"n_txs\", \"n\": 1547}, {\"date\": \"2024-05-08T00:00:00\", \"type\": \"n_txs\", \"n\": 1486}, {\"date\": \"2024-05-09T00:00:00\", \"type\": \"n_txs\", \"n\": 1494}, {\"date\": \"2024-05-10T00:00:00\", \"type\": \"n_txs\", \"n\": 1597}, {\"date\": \"2024-05-11T00:00:00\", \"type\": \"n_txs\", \"n\": 1559}, {\"date\": \"2024-05-12T00:00:00\", \"type\": \"n_txs\", \"n\": 1547}, {\"date\": \"2024-05-13T00:00:00\", \"type\": \"n_txs\", \"n\": 1549}, {\"date\": \"2024-05-14T00:00:00\", \"type\": \"n_txs\", \"n\": 1470}, {\"date\": \"2024-05-15T00:00:00\", \"type\": \"n_txs\", \"n\": 1504}, {\"date\": \"2024-05-16T00:00:00\", \"type\": \"n_txs\", \"n\": 1578}, {\"date\": \"2024-05-17T00:00:00\", \"type\": \"n_txs\", \"n\": 1525}, {\"date\": \"2024-05-18T00:00:00\", \"type\": \"n_txs\", \"n\": 1589}, {\"date\": \"2024-05-19T00:00:00\", \"type\": \"n_txs\", \"n\": 1593}, {\"date\": \"2024-05-20T00:00:00\", \"type\": \"n_txs\", \"n\": 1596}, {\"date\": \"2024-05-21T00:00:00\", \"type\": \"n_txs\", \"n\": 1483}, {\"date\": \"2024-05-22T00:00:00\", \"type\": \"n_txs\", \"n\": 1592}, {\"date\": \"2024-05-23T00:00:00\", \"type\": \"n_txs\", \"n\": 1580}, {\"date\": \"2024-05-24T00:00:00\", \"type\": \"n_txs\", \"n\": 1468}, {\"date\": \"2024-05-25T00:00:00\", \"type\": \"n_txs\", \"n\": 1516}, {\"date\": \"2024-05-26T00:00:00\", \"type\": \"n_txs\", \"n\": 1540}, {\"date\": \"2024-05-27T00:00:00\", \"type\": \"n_txs\", \"n\": 1522}, {\"date\": \"2024-05-28T00:00:00\", \"type\": \"n_txs\", \"n\": 1486}, {\"date\": \"2024-05-29T00:00:00\", \"type\": \"n_txs\", \"n\": 1614}, {\"date\": \"2024-05-30T00:00:00\", \"type\": \"n_txs\", \"n\": 1568}, {\"date\": \"2024-05-31T00:00:00\", \"type\": \"n_txs\", \"n\": 1583}, {\"date\": \"2024-06-01T00:00:00\", \"type\": \"n_txs\", \"n\": 1640}, {\"date\": \"2024-06-02T00:00:00\", \"type\": \"n_txs\", \"n\": 1564}, {\"date\": \"2024-06-03T00:00:00\", \"type\": \"n_txs\", \"n\": 1509}, {\"date\": \"2024-06-04T00:00:00\", \"type\": \"n_txs\", \"n\": 1516}, {\"date\": \"2024-06-05T00:00:00\", \"type\": \"n_txs\", \"n\": 1647}, {\"date\": \"2024-06-06T00:00:00\", \"type\": \"n_txs\", \"n\": 1511}, {\"date\": \"2024-06-07T00:00:00\", \"type\": \"n_txs\", \"n\": 1491}, {\"date\": \"2024-06-08T00:00:00\", \"type\": \"n_txs\", \"n\": 1725}, {\"date\": \"2024-06-09T00:00:00\", \"type\": \"n_txs\", \"n\": 1548}, {\"date\": \"2024-06-10T00:00:00\", \"type\": \"n_txs\", \"n\": 1995}, {\"date\": \"2024-06-11T00:00:00\", \"type\": \"n_txs\", \"n\": 1552}, {\"date\": \"2024-06-12T00:00:00\", \"type\": \"n_txs\", \"n\": 1656}, {\"date\": \"2024-06-13T00:00:00\", \"type\": \"n_txs\", \"n\": 1936}, {\"date\": \"2024-06-14T00:00:00\", \"type\": \"n_txs\", \"n\": 1967}, {\"date\": \"2024-06-15T00:00:00\", \"type\": \"n_txs\", \"n\": 1841}, {\"date\": \"2024-06-16T00:00:00\", \"type\": \"n_txs\", \"n\": 1939}, {\"date\": \"2024-06-17T00:00:00\", \"type\": \"n_txs\", \"n\": 1616}, {\"date\": \"2024-06-18T00:00:00\", \"type\": \"n_txs\", \"n\": 1720}, {\"date\": \"2024-06-19T00:00:00\", \"type\": \"n_txs\", \"n\": 1568}, {\"date\": \"2024-06-20T00:00:00\", \"type\": \"n_txs\", \"n\": 1591}, {\"date\": \"2024-06-21T00:00:00\", \"type\": \"n_txs\", \"n\": 1631}, {\"date\": \"2024-06-22T00:00:00\", \"type\": \"n_txs\", \"n\": 1638}, {\"date\": \"2024-06-23T00:00:00\", \"type\": \"n_txs\", \"n\": 1529}, {\"date\": \"2024-06-24T00:00:00\", \"type\": \"n_txs\", \"n\": 1765}, {\"date\": \"2024-06-25T00:00:00\", \"type\": \"n_txs\", \"n\": 1757}, {\"date\": \"2024-06-26T00:00:00\", \"type\": \"n_txs\", \"n\": 1539}, {\"date\": \"2024-06-27T00:00:00\", \"type\": \"n_txs\", \"n\": 1661}, {\"date\": \"2024-06-28T00:00:00\", \"type\": \"n_txs\", \"n\": 1509}, {\"date\": \"2024-06-29T00:00:00\", \"type\": \"n_txs\", \"n\": 1738}, {\"date\": \"2024-06-30T00:00:00\", \"type\": \"n_txs\", \"n\": 1494}, {\"date\": \"2024-07-01T00:00:00\", \"type\": \"n_txs\", \"n\": 1513}, {\"date\": \"2024-07-02T00:00:00\", \"type\": \"n_txs\", \"n\": 1473}, {\"date\": \"2024-07-03T00:00:00\", \"type\": \"n_txs\", \"n\": 1532}, {\"date\": \"2024-07-04T00:00:00\", \"type\": \"n_txs\", \"n\": 1542}, {\"date\": \"2024-07-05T00:00:00\", \"type\": \"n_txs\", \"n\": 1555}, {\"date\": \"2024-07-06T00:00:00\", \"type\": \"n_txs\", \"n\": 1450}, {\"date\": \"2024-07-07T00:00:00\", \"type\": \"n_txs\", \"n\": 1482}, {\"date\": \"2024-07-08T00:00:00\", \"type\": \"n_txs\", \"n\": 1455}, {\"date\": \"2024-07-09T00:00:00\", \"type\": \"n_txs\", \"n\": 1494}, {\"date\": \"2024-07-10T00:00:00\", \"type\": \"n_txs\", \"n\": 1541}, {\"date\": \"2024-07-11T00:00:00\", \"type\": \"n_txs\", \"n\": 1402}, {\"date\": \"2024-07-12T00:00:00\", \"type\": \"n_txs\", \"n\": 1565}, {\"date\": \"2024-07-13T00:00:00\", \"type\": \"n_txs\", \"n\": 1499}, {\"date\": \"2024-07-14T00:00:00\", \"type\": \"n_txs\", \"n\": 1463}, {\"date\": \"2024-07-15T00:00:00\", \"type\": \"n_txs\", \"n\": 1514}, {\"date\": \"2024-07-16T00:00:00\", \"type\": \"n_txs\", \"n\": 1413}, {\"date\": \"2024-07-17T00:00:00\", \"type\": \"n_txs\", \"n\": 1593}, {\"date\": \"2024-07-18T00:00:00\", \"type\": \"n_txs\", \"n\": 1471}, {\"date\": \"2024-07-19T00:00:00\", \"type\": \"n_txs\", \"n\": 1531}, {\"date\": \"2024-07-20T00:00:00\", \"type\": \"n_txs\", \"n\": 1491}, {\"date\": \"2024-07-21T00:00:00\", \"type\": \"n_txs\", \"n\": 1602}, {\"date\": \"2024-07-22T00:00:00\", \"type\": \"n_txs\", \"n\": 1397}, {\"date\": \"2024-07-23T00:00:00\", \"type\": \"n_txs\", \"n\": 1535}, {\"date\": \"2024-07-24T00:00:00\", \"type\": \"n_txs\", \"n\": 1502}, {\"date\": \"2024-07-25T00:00:00\", \"type\": \"n_txs\", \"n\": 1451}, {\"date\": \"2024-07-26T00:00:00\", \"type\": \"n_txs\", \"n\": 1460}, {\"date\": \"2024-07-27T00:00:00\", \"type\": \"n_txs\", \"n\": 1621}, {\"date\": \"2024-07-28T00:00:00\", \"type\": \"n_txs\", \"n\": 1523}, {\"date\": \"2024-07-29T00:00:00\", \"type\": \"n_txs\", \"n\": 1437}, {\"date\": \"2024-07-30T00:00:00\", \"type\": \"n_txs\", \"n\": 1265}]}}, {\"mode\": \"vega-lite\"});\n",
       "</script>"
      ],
      "text/plain": [
       "alt.LayerChart(...)"
      ]
     },
     "execution_count": 19,
     "metadata": {},
     "output_type": "execute_result"
    }
   ],
   "source": [
    "make_tx_stats_chart('output', p_out, txs, session_times, False)"
   ]
  },
  {
   "cell_type": "markdown",
   "metadata": {},
   "source": [
    "#### Without June 24, 2024 outlier"
   ]
  },
  {
   "cell_type": "code",
   "execution_count": 20,
   "metadata": {},
   "outputs": [
    {
     "data": {
      "text/html": [
       "\n",
       "<style>\n",
       "  #altair-viz-2ea10f1f3a3440bb9f0426376407d363.vega-embed {\n",
       "    width: 100%;\n",
       "    display: flex;\n",
       "  }\n",
       "\n",
       "  #altair-viz-2ea10f1f3a3440bb9f0426376407d363.vega-embed details,\n",
       "  #altair-viz-2ea10f1f3a3440bb9f0426376407d363.vega-embed details summary {\n",
       "    position: relative;\n",
       "  }\n",
       "</style>\n",
       "<div id=\"altair-viz-2ea10f1f3a3440bb9f0426376407d363\"></div>\n",
       "<script type=\"text/javascript\">\n",
       "  var VEGA_DEBUG = (typeof VEGA_DEBUG == \"undefined\") ? {} : VEGA_DEBUG;\n",
       "  (function(spec, embedOpt){\n",
       "    let outputDiv = document.currentScript.previousElementSibling;\n",
       "    if (outputDiv.id !== \"altair-viz-2ea10f1f3a3440bb9f0426376407d363\") {\n",
       "      outputDiv = document.getElementById(\"altair-viz-2ea10f1f3a3440bb9f0426376407d363\");\n",
       "    }\n",
       "    const paths = {\n",
       "      \"vega\": \"https://cdn.jsdelivr.net/npm/vega@5?noext\",\n",
       "      \"vega-lib\": \"https://cdn.jsdelivr.net/npm/vega-lib?noext\",\n",
       "      \"vega-lite\": \"https://cdn.jsdelivr.net/npm/vega-lite@5.17.0?noext\",\n",
       "      \"vega-embed\": \"https://cdn.jsdelivr.net/npm/vega-embed@6?noext\",\n",
       "    };\n",
       "\n",
       "    function maybeLoadScript(lib, version) {\n",
       "      var key = `${lib.replace(\"-\", \"\")}_version`;\n",
       "      return (VEGA_DEBUG[key] == version) ?\n",
       "        Promise.resolve(paths[lib]) :\n",
       "        new Promise(function(resolve, reject) {\n",
       "          var s = document.createElement('script');\n",
       "          document.getElementsByTagName(\"head\")[0].appendChild(s);\n",
       "          s.async = true;\n",
       "          s.onload = () => {\n",
       "            VEGA_DEBUG[key] = version;\n",
       "            return resolve(paths[lib]);\n",
       "          };\n",
       "          s.onerror = () => reject(`Error loading script: ${paths[lib]}`);\n",
       "          s.src = paths[lib];\n",
       "        });\n",
       "    }\n",
       "\n",
       "    function showError(err) {\n",
       "      outputDiv.innerHTML = `<div class=\"error\" style=\"color:red;\">${err}</div>`;\n",
       "      throw err;\n",
       "    }\n",
       "\n",
       "    function displayChart(vegaEmbed) {\n",
       "      vegaEmbed(outputDiv, spec, embedOpt)\n",
       "        .catch(err => showError(`Javascript Error: ${err.message}<br>This usually means there's a typo in your chart specification. See the javascript console for the full traceback.`));\n",
       "    }\n",
       "\n",
       "    if(typeof define === \"function\" && define.amd) {\n",
       "      requirejs.config({paths});\n",
       "      require([\"vega-embed\"], displayChart, err => showError(`Error loading script: ${err.message}`));\n",
       "    } else {\n",
       "      maybeLoadScript(\"vega\", \"5\")\n",
       "        .then(() => maybeLoadScript(\"vega-lite\", \"5.17.0\"))\n",
       "        .then(() => maybeLoadScript(\"vega-embed\", \"6\"))\n",
       "        .catch(showError)\n",
       "        .then(() => displayChart(vegaEmbed));\n",
       "    }\n",
       "  })({\"config\": {\"view\": {\"continuousWidth\": 300, \"continuousHeight\": 300}}, \"layer\": [{\"data\": {\"name\": \"data-9e77aaf531f70bd58ce5c109152cdb24\"}, \"mark\": {\"type\": \"bar\"}, \"encoding\": {\"color\": {\"field\": \"kind\", \"type\": \"nominal\"}, \"tooltip\": [{\"field\": \"date\", \"type\": \"temporal\"}, {\"field\": \"kind\", \"type\": \"nominal\"}, {\"field\": \"msats\", \"type\": \"quantitative\"}], \"x\": {\"field\": \"date\", \"type\": \"temporal\"}, \"y\": {\"field\": \"msats\", \"type\": \"quantitative\"}}}, {\"data\": {\"name\": \"data-52ff9441918c95a95a6318060d160549\"}, \"mark\": {\"type\": \"line\"}, \"encoding\": {\"color\": {\"field\": \"type\", \"type\": \"nominal\"}, \"x\": {\"field\": \"date\", \"type\": \"temporal\"}, \"y\": {\"field\": \"n\", \"type\": \"quantitative\"}}}], \"height\": 300, \"resolve\": {\"scale\": {\"y\": \"independent\"}}, \"title\": \"Input Transaction Stats\", \"width\": 600, \"$schema\": \"https://vega.github.io/schema/vega-lite/v5.17.0.json\", \"datasets\": {\"data-9e77aaf531f70bd58ce5c109152cdb24\": [{\"date\": \"2024-04-06T00:00:00\", \"kind\": \"wallet\", \"msats\": 10000000000, \"n_sessions\": 1, \"n_txs\": 1}, {\"date\": \"2024-04-08T00:00:00\", \"kind\": \"ln\", \"msats\": 10160800, \"n_sessions\": 2, \"n_txs\": 2}, {\"date\": \"2024-04-08T00:00:00\", \"kind\": \"mint\", \"msats\": 10260800, \"n_sessions\": 2, \"n_txs\": 3}, {\"date\": \"2024-04-09T00:00:00\", \"kind\": \"ln\", \"msats\": 1000000, \"n_sessions\": 1, \"n_txs\": 1}, {\"date\": \"2024-04-09T00:00:00\", \"kind\": \"mint\", \"msats\": 10003635176, \"n_sessions\": 6, \"n_txs\": 7}, {\"date\": \"2024-04-09T00:00:00\", \"kind\": \"wallet\", \"msats\": 10000000000, \"n_sessions\": 1, \"n_txs\": 1}, {\"date\": \"2024-04-10T00:00:00\", \"kind\": \"ln\", \"msats\": 63603507, \"n_sessions\": 82, \"n_txs\": 163}, {\"date\": \"2024-04-10T00:00:00\", \"kind\": \"mint\", \"msats\": 81832859, \"n_sessions\": 83, \"n_txs\": 166}, {\"date\": \"2024-04-10T00:00:00\", \"kind\": \"stability_pool\", \"msats\": 0, \"n_sessions\": 1, \"n_txs\": 1}, {\"date\": \"2024-04-11T00:00:00\", \"kind\": \"ln\", \"msats\": 17267025985, \"n_sessions\": 311, \"n_txs\": 622}, {\"date\": \"2024-04-11T00:00:00\", \"kind\": \"mint\", \"msats\": 17276506073, \"n_sessions\": 310, \"n_txs\": 627}, {\"date\": \"2024-04-11T00:00:00\", \"kind\": \"stability_pool\", \"msats\": 0, \"n_sessions\": 2, \"n_txs\": 4}, {\"date\": \"2024-04-12T00:00:00\", \"kind\": \"ln\", \"msats\": 27224238, \"n_sessions\": 289, \"n_txs\": 562}, {\"date\": \"2024-04-12T00:00:00\", \"kind\": \"mint\", \"msats\": 27456942, \"n_sessions\": 304, \"n_txs\": 564}, {\"date\": \"2024-04-13T00:00:00\", \"kind\": \"ln\", \"msats\": 21182991, \"n_sessions\": 313, \"n_txs\": 612}, {\"date\": \"2024-04-13T00:00:00\", \"kind\": \"mint\", \"msats\": 21859956, \"n_sessions\": 319, \"n_txs\": 612}, {\"date\": \"2024-04-14T00:00:00\", \"kind\": \"ln\", \"msats\": 12863016, \"n_sessions\": 283, \"n_txs\": 551}, {\"date\": \"2024-04-14T00:00:00\", \"kind\": \"mint\", \"msats\": 12956016, \"n_sessions\": 284, \"n_txs\": 552}, {\"date\": \"2024-04-15T00:00:00\", \"kind\": \"ln\", \"msats\": 46614656, \"n_sessions\": 310, \"n_txs\": 596}, {\"date\": \"2024-04-15T00:00:00\", \"kind\": \"mint\", \"msats\": 46876800, \"n_sessions\": 325, \"n_txs\": 598}, {\"date\": \"2024-04-16T00:00:00\", \"kind\": \"ln\", \"msats\": 2970103, \"n_sessions\": 288, \"n_txs\": 567}, {\"date\": \"2024-04-16T00:00:00\", \"kind\": \"mint\", \"msats\": 3000766, \"n_sessions\": 290, \"n_txs\": 568}, {\"date\": \"2024-04-17T00:00:00\", \"kind\": \"ln\", \"msats\": 11545611, \"n_sessions\": 261, \"n_txs\": 506}, {\"date\": \"2024-04-17T00:00:00\", \"kind\": \"mint\", \"msats\": 12545611, \"n_sessions\": 268, \"n_txs\": 507}, {\"date\": \"2024-04-18T00:00:00\", \"kind\": \"ln\", \"msats\": 3501238, \"n_sessions\": 287, \"n_txs\": 566}, {\"date\": \"2024-04-18T00:00:00\", \"kind\": \"mint\", \"msats\": 3946548, \"n_sessions\": 292, \"n_txs\": 568}, {\"date\": \"2024-04-19T00:00:00\", \"kind\": \"ln\", \"msats\": 4340481, \"n_sessions\": 298, \"n_txs\": 583}, {\"date\": \"2024-04-19T00:00:00\", \"kind\": \"mint\", \"msats\": 4136281, \"n_sessions\": 302, \"n_txs\": 582}, {\"date\": \"2024-04-20T00:00:00\", \"kind\": \"ln\", \"msats\": 11685200, \"n_sessions\": 300, \"n_txs\": 589}, {\"date\": \"2024-04-20T00:00:00\", \"kind\": \"mint\", \"msats\": 11687200, \"n_sessions\": 305, \"n_txs\": 591}, {\"date\": \"2024-04-21T00:00:00\", \"kind\": \"ln\", \"msats\": 242462254, \"n_sessions\": 299, \"n_txs\": 579}, {\"date\": \"2024-04-21T00:00:00\", \"kind\": \"mint\", \"msats\": 332249478, \"n_sessions\": 306, \"n_txs\": 592}, {\"date\": \"2024-04-22T00:00:00\", \"kind\": \"ln\", \"msats\": 143849551, \"n_sessions\": 305, \"n_txs\": 596}, {\"date\": \"2024-04-22T00:00:00\", \"kind\": \"mint\", \"msats\": 209003051, \"n_sessions\": 309, \"n_txs\": 600}, {\"date\": \"2024-04-23T00:00:00\", \"kind\": \"ln\", \"msats\": 7275001, \"n_sessions\": 330, \"n_txs\": 633}, {\"date\": \"2024-04-23T00:00:00\", \"kind\": \"mint\", \"msats\": 7172501, \"n_sessions\": 332, \"n_txs\": 632}, {\"date\": \"2024-04-24T00:00:00\", \"kind\": \"ln\", \"msats\": 27426330, \"n_sessions\": 307, \"n_txs\": 590}, {\"date\": \"2024-04-24T00:00:00\", \"kind\": \"mint\", \"msats\": 27645087, \"n_sessions\": 309, \"n_txs\": 592}, {\"date\": \"2024-04-25T00:00:00\", \"kind\": \"ln\", \"msats\": 2959343, \"n_sessions\": 286, \"n_txs\": 561}, {\"date\": \"2024-04-25T00:00:00\", \"kind\": \"mint\", \"msats\": 5059344, \"n_sessions\": 291, \"n_txs\": 562}, {\"date\": \"2024-04-26T00:00:00\", \"kind\": \"ln\", \"msats\": 190687767, \"n_sessions\": 314, \"n_txs\": 607}, {\"date\": \"2024-04-26T00:00:00\", \"kind\": \"mint\", \"msats\": 190928211, \"n_sessions\": 317, \"n_txs\": 624}, {\"date\": \"2024-04-27T00:00:00\", \"kind\": \"ln\", \"msats\": 1680268512, \"n_sessions\": 317, \"n_txs\": 615}, {\"date\": \"2024-04-27T00:00:00\", \"kind\": \"mint\", \"msats\": 2081649274, \"n_sessions\": 322, \"n_txs\": 618}, {\"date\": \"2024-04-28T00:00:00\", \"kind\": \"ln\", \"msats\": 62889047, \"n_sessions\": 325, \"n_txs\": 630}, {\"date\": \"2024-04-28T00:00:00\", \"kind\": \"mint\", \"msats\": 62939047, \"n_sessions\": 331, \"n_txs\": 631}, {\"date\": \"2024-04-29T00:00:00\", \"kind\": \"ln\", \"msats\": 604787084, \"n_sessions\": 295, \"n_txs\": 574}, {\"date\": \"2024-04-29T00:00:00\", \"kind\": \"mint\", \"msats\": 897564572, \"n_sessions\": 300, \"n_txs\": 592}, {\"date\": \"2024-04-30T00:00:00\", \"kind\": \"ln\", \"msats\": 13534339, \"n_sessions\": 308, \"n_txs\": 593}, {\"date\": \"2024-04-30T00:00:00\", \"kind\": \"mint\", \"msats\": 13584339, \"n_sessions\": 316, \"n_txs\": 594}, {\"date\": \"2024-05-01T00:00:00\", \"kind\": \"ln\", \"msats\": 257092419, \"n_sessions\": 312, \"n_txs\": 600}, {\"date\": \"2024-05-01T00:00:00\", \"kind\": \"mint\", \"msats\": 325982027, \"n_sessions\": 311, \"n_txs\": 600}, {\"date\": \"2024-05-02T00:00:00\", \"kind\": \"ln\", \"msats\": 11164717, \"n_sessions\": 287, \"n_txs\": 560}, {\"date\": \"2024-05-02T00:00:00\", \"kind\": \"mint\", \"msats\": 11165717, \"n_sessions\": 290, \"n_txs\": 561}, {\"date\": \"2024-05-03T00:00:00\", \"kind\": \"ln\", \"msats\": 92756344, \"n_sessions\": 299, \"n_txs\": 585}, {\"date\": \"2024-05-03T00:00:00\", \"kind\": \"mint\", \"msats\": 93815120, \"n_sessions\": 303, \"n_txs\": 593}, {\"date\": \"2024-05-04T00:00:00\", \"kind\": \"ln\", \"msats\": 106912137, \"n_sessions\": 303, \"n_txs\": 588}, {\"date\": \"2024-05-04T00:00:00\", \"kind\": \"mint\", \"msats\": 114400745, \"n_sessions\": 302, \"n_txs\": 589}, {\"date\": \"2024-05-05T00:00:00\", \"kind\": \"ln\", \"msats\": 27207813, \"n_sessions\": 293, \"n_txs\": 571}, {\"date\": \"2024-05-05T00:00:00\", \"kind\": \"mint\", \"msats\": 27407570, \"n_sessions\": 292, \"n_txs\": 573}, {\"date\": \"2024-05-06T00:00:00\", \"kind\": \"ln\", \"msats\": 926105749, \"n_sessions\": 321, \"n_txs\": 633}, {\"date\": \"2024-05-06T00:00:00\", \"kind\": \"mint\", \"msats\": 1846716347, \"n_sessions\": 329, \"n_txs\": 644}, {\"date\": \"2024-05-07T00:00:00\", \"kind\": \"ln\", \"msats\": 356028673, \"n_sessions\": 315, \"n_txs\": 609}, {\"date\": \"2024-05-07T00:00:00\", \"kind\": \"mint\", \"msats\": 386918529, \"n_sessions\": 318, \"n_txs\": 625}, {\"date\": \"2024-05-08T00:00:00\", \"kind\": \"ln\", \"msats\": 752060727, \"n_sessions\": 303, \"n_txs\": 583}, {\"date\": \"2024-05-08T00:00:00\", \"kind\": \"mint\", \"msats\": 1282100900, \"n_sessions\": 306, \"n_txs\": 595}, {\"date\": \"2024-05-09T00:00:00\", \"kind\": \"ln\", \"msats\": 497189721, \"n_sessions\": 297, \"n_txs\": 587}, {\"date\": \"2024-05-09T00:00:00\", \"kind\": \"mint\", \"msats\": 843197141, \"n_sessions\": 301, \"n_txs\": 593}, {\"date\": \"2024-05-10T00:00:00\", \"kind\": \"ln\", \"msats\": 213257929, \"n_sessions\": 321, \"n_txs\": 624}, {\"date\": \"2024-05-10T00:00:00\", \"kind\": \"mint\", \"msats\": 277792233, \"n_sessions\": 325, \"n_txs\": 632}, {\"date\": \"2024-05-11T00:00:00\", \"kind\": \"ln\", \"msats\": 334749896, \"n_sessions\": 325, \"n_txs\": 616}, {\"date\": \"2024-05-11T00:00:00\", \"kind\": \"mint\", \"msats\": 858976707, \"n_sessions\": 323, \"n_txs\": 618}, {\"date\": \"2024-05-12T00:00:00\", \"kind\": \"ln\", \"msats\": 459781434, \"n_sessions\": 312, \"n_txs\": 612}, {\"date\": \"2024-05-12T00:00:00\", \"kind\": \"mint\", \"msats\": 472626271, \"n_sessions\": 314, \"n_txs\": 615}, {\"date\": \"2024-05-12T00:00:00\", \"kind\": \"wallet\", \"msats\": 100000000000, \"n_sessions\": 1, \"n_txs\": 1}, {\"date\": \"2024-05-13T00:00:00\", \"kind\": \"ln\", \"msats\": 45246891, \"n_sessions\": 309, \"n_txs\": 608}, {\"date\": \"2024-05-13T00:00:00\", \"kind\": \"mint\", \"msats\": 45676781, \"n_sessions\": 313, \"n_txs\": 624}, {\"date\": \"2024-05-14T00:00:00\", \"kind\": \"ln\", \"msats\": 424347261, \"n_sessions\": 298, \"n_txs\": 584}, {\"date\": \"2024-05-14T00:00:00\", \"kind\": \"mint\", \"msats\": 453214053, \"n_sessions\": 301, \"n_txs\": 588}, {\"date\": \"2024-05-15T00:00:00\", \"kind\": \"ln\", \"msats\": 534521552, \"n_sessions\": 305, \"n_txs\": 589}, {\"date\": \"2024-05-15T00:00:00\", \"kind\": \"mint\", \"msats\": 549193389, \"n_sessions\": 305, \"n_txs\": 608}, {\"date\": \"2024-05-15T00:00:00\", \"kind\": \"wallet\", \"msats\": 74438000, \"n_sessions\": 1, \"n_txs\": 1}, {\"date\": \"2024-05-16T00:00:00\", \"kind\": \"ln\", \"msats\": 388345335, \"n_sessions\": 316, \"n_txs\": 624}, {\"date\": \"2024-05-16T00:00:00\", \"kind\": \"mint\", \"msats\": 501702110, \"n_sessions\": 314, \"n_txs\": 634}, {\"date\": \"2024-05-17T00:00:00\", \"kind\": \"ln\", \"msats\": 880462667, \"n_sessions\": 306, \"n_txs\": 601}, {\"date\": \"2024-05-17T00:00:00\", \"kind\": \"mint\", \"msats\": 947791019, \"n_sessions\": 304, \"n_txs\": 609}, {\"date\": \"2024-05-17T00:00:00\", \"kind\": \"wallet\", \"msats\": 10000000000, \"n_sessions\": 1, \"n_txs\": 1}, {\"date\": \"2024-05-18T00:00:00\", \"kind\": \"ln\", \"msats\": 541257770, \"n_sessions\": 320, \"n_txs\": 622}, {\"date\": \"2024-05-18T00:00:00\", \"kind\": \"mint\", \"msats\": 994973187, \"n_sessions\": 328, \"n_txs\": 638}, {\"date\": \"2024-05-19T00:00:00\", \"kind\": \"ln\", \"msats\": 268088067, \"n_sessions\": 313, \"n_txs\": 617}, {\"date\": \"2024-05-19T00:00:00\", \"kind\": \"mint\", \"msats\": 273048533, \"n_sessions\": 317, \"n_txs\": 620}, {\"date\": \"2024-05-20T00:00:00\", \"kind\": \"ln\", \"msats\": 509096460, \"n_sessions\": 315, \"n_txs\": 615}, {\"date\": \"2024-05-20T00:00:00\", \"kind\": \"mint\", \"msats\": 553801580, \"n_sessions\": 329, \"n_txs\": 628}, {\"date\": \"2024-05-21T00:00:00\", \"kind\": \"ln\", \"msats\": 10066795261, \"n_sessions\": 306, \"n_txs\": 589}, {\"date\": \"2024-05-21T00:00:00\", \"kind\": \"mint\", \"msats\": 10082579085, \"n_sessions\": 307, \"n_txs\": 597}, {\"date\": \"2024-05-22T00:00:00\", \"kind\": \"ln\", \"msats\": 936352912, \"n_sessions\": 313, \"n_txs\": 606}, {\"date\": \"2024-05-22T00:00:00\", \"kind\": \"mint\", \"msats\": 39514811874, \"n_sessions\": 327, \"n_txs\": 660}, {\"date\": \"2024-05-23T00:00:00\", \"kind\": \"ln\", \"msats\": 166476379, \"n_sessions\": 289, \"n_txs\": 609}, {\"date\": \"2024-05-23T00:00:00\", \"kind\": \"mint\", \"msats\": 451991520, \"n_sessions\": 293, \"n_txs\": 646}, {\"date\": \"2024-05-23T00:00:00\", \"kind\": \"wallet\", \"msats\": 67826000, \"n_sessions\": 1, \"n_txs\": 1}, {\"date\": \"2024-05-24T00:00:00\", \"kind\": \"ln\", \"msats\": 1328672311, \"n_sessions\": 297, \"n_txs\": 582}, {\"date\": \"2024-05-24T00:00:00\", \"kind\": \"mint\", \"msats\": 1735118157, \"n_sessions\": 299, \"n_txs\": 590}, {\"date\": \"2024-05-24T00:00:00\", \"kind\": \"wallet\", \"msats\": 1140401000, \"n_sessions\": 2, \"n_txs\": 2}, {\"date\": \"2024-05-25T00:00:00\", \"kind\": \"ln\", \"msats\": 179258528, \"n_sessions\": 310, \"n_txs\": 607}, {\"date\": \"2024-05-25T00:00:00\", \"kind\": \"mint\", \"msats\": 181033110, \"n_sessions\": 311, \"n_txs\": 606}, {\"date\": \"2024-05-25T00:00:00\", \"kind\": \"wallet\", \"msats\": 69357000, \"n_sessions\": 1, \"n_txs\": 1}, {\"date\": \"2024-05-26T00:00:00\", \"kind\": \"ln\", \"msats\": 250416540, \"n_sessions\": 318, \"n_txs\": 612}, {\"date\": \"2024-05-26T00:00:00\", \"kind\": \"mint\", \"msats\": 252920564, \"n_sessions\": 321, \"n_txs\": 616}, {\"date\": \"2024-05-27T00:00:00\", \"kind\": \"ln\", \"msats\": 388429874, \"n_sessions\": 301, \"n_txs\": 604}, {\"date\": \"2024-05-27T00:00:00\", \"kind\": \"mint\", \"msats\": 404510446, \"n_sessions\": 305, \"n_txs\": 605}, {\"date\": \"2024-05-27T00:00:00\", \"kind\": \"wallet\", \"msats\": 122102000, \"n_sessions\": 1, \"n_txs\": 1}, {\"date\": \"2024-05-28T00:00:00\", \"kind\": \"ln\", \"msats\": 447270595, \"n_sessions\": 304, \"n_txs\": 589}, {\"date\": \"2024-05-28T00:00:00\", \"kind\": \"mint\", \"msats\": 448906546, \"n_sessions\": 306, \"n_txs\": 595}, {\"date\": \"2024-05-29T00:00:00\", \"kind\": \"ln\", \"msats\": 4282092256, \"n_sessions\": 309, \"n_txs\": 602}, {\"date\": \"2024-05-29T00:00:00\", \"kind\": \"mint\", \"msats\": 4296354848, \"n_sessions\": 319, \"n_txs\": 699}, {\"date\": \"2024-05-30T00:00:00\", \"kind\": \"ln\", \"msats\": 427778481, \"n_sessions\": 319, \"n_txs\": 615}, {\"date\": \"2024-05-30T00:00:00\", \"kind\": \"mint\", \"msats\": 438487954, \"n_sessions\": 328, \"n_txs\": 634}, {\"date\": \"2024-05-30T00:00:00\", \"kind\": \"wallet\", \"msats\": 157024000, \"n_sessions\": 1, \"n_txs\": 1}, {\"date\": \"2024-05-31T00:00:00\", \"kind\": \"ln\", \"msats\": 510081241, \"n_sessions\": 314, \"n_txs\": 613}, {\"date\": \"2024-05-31T00:00:00\", \"kind\": \"mint\", \"msats\": 521964181, \"n_sessions\": 320, \"n_txs\": 636}, {\"date\": \"2024-05-31T00:00:00\", \"kind\": \"wallet\", \"msats\": 282802000, \"n_sessions\": 2, \"n_txs\": 2}, {\"date\": \"2024-06-01T00:00:00\", \"kind\": \"ln\", \"msats\": 340110100, \"n_sessions\": 331, \"n_txs\": 639}, {\"date\": \"2024-06-01T00:00:00\", \"kind\": \"mint\", \"msats\": 422373067, \"n_sessions\": 329, \"n_txs\": 652}, {\"date\": \"2024-06-02T00:00:00\", \"kind\": \"ln\", \"msats\": 1341768874, \"n_sessions\": 302, \"n_txs\": 609}, {\"date\": \"2024-06-02T00:00:00\", \"kind\": \"mint\", \"msats\": 1490679570, \"n_sessions\": 307, \"n_txs\": 649}, {\"date\": \"2024-06-02T00:00:00\", \"kind\": \"wallet\", \"msats\": 386833000, \"n_sessions\": 2, \"n_txs\": 2}, {\"date\": \"2024-06-03T00:00:00\", \"kind\": \"ln\", \"msats\": 21055785, \"n_sessions\": 308, \"n_txs\": 598}, {\"date\": \"2024-06-03T00:00:00\", \"kind\": \"mint\", \"msats\": 529490073, \"n_sessions\": 317, \"n_txs\": 602}, {\"date\": \"2024-06-04T00:00:00\", \"kind\": \"ln\", \"msats\": 1337576686, \"n_sessions\": 313, \"n_txs\": 603}, {\"date\": \"2024-06-04T00:00:00\", \"kind\": \"mint\", \"msats\": 1356710785, \"n_sessions\": 320, \"n_txs\": 607}, {\"date\": \"2024-06-05T00:00:00\", \"kind\": \"ln\", \"msats\": 1632141362, \"n_sessions\": 328, \"n_txs\": 634}, {\"date\": \"2024-06-05T00:00:00\", \"kind\": \"mint\", \"msats\": 1643067164, \"n_sessions\": 334, \"n_txs\": 657}, {\"date\": \"2024-06-06T00:00:00\", \"kind\": \"ln\", \"msats\": 424599821, \"n_sessions\": 303, \"n_txs\": 587}, {\"date\": \"2024-06-06T00:00:00\", \"kind\": \"mint\", \"msats\": 430085532, \"n_sessions\": 310, \"n_txs\": 603}, {\"date\": \"2024-06-07T00:00:00\", \"kind\": \"ln\", \"msats\": 278318677, \"n_sessions\": 299, \"n_txs\": 583}, {\"date\": \"2024-06-07T00:00:00\", \"kind\": \"mint\", \"msats\": 321163997, \"n_sessions\": 301, \"n_txs\": 600}, {\"date\": \"2024-06-08T00:00:00\", \"kind\": \"ln\", \"msats\": 744599851, \"n_sessions\": 361, \"n_txs\": 681}, {\"date\": \"2024-06-08T00:00:00\", \"kind\": \"mint\", \"msats\": 762596156, \"n_sessions\": 357, \"n_txs\": 685}, {\"date\": \"2024-06-09T00:00:00\", \"kind\": \"ln\", \"msats\": 1050177045, \"n_sessions\": 300, \"n_txs\": 604}, {\"date\": \"2024-06-09T00:00:00\", \"kind\": \"mint\", \"msats\": 1405327599, \"n_sessions\": 305, \"n_txs\": 617}, {\"date\": \"2024-06-09T00:00:00\", \"kind\": \"wallet\", \"msats\": 364664000, \"n_sessions\": 2, \"n_txs\": 2}, {\"date\": \"2024-06-10T00:00:00\", \"kind\": \"ln\", \"msats\": 448208057, \"n_sessions\": 313, \"n_txs\": 624}, {\"date\": \"2024-06-10T00:00:00\", \"kind\": \"mint\", \"msats\": 519480691, \"n_sessions\": 323, \"n_txs\": 1048}, {\"date\": \"2024-06-11T00:00:00\", \"kind\": \"ln\", \"msats\": 1031489580, \"n_sessions\": 312, \"n_txs\": 611}, {\"date\": \"2024-06-11T00:00:00\", \"kind\": \"mint\", \"msats\": 1273066614, \"n_sessions\": 310, \"n_txs\": 613}, {\"date\": \"2024-06-12T00:00:00\", \"kind\": \"ln\", \"msats\": 3872720047, \"n_sessions\": 334, \"n_txs\": 650}, {\"date\": \"2024-06-12T00:00:00\", \"kind\": \"mint\", \"msats\": 31940903969, \"n_sessions\": 343, \"n_txs\": 657}, {\"date\": \"2024-06-12T00:00:00\", \"kind\": \"wallet\", \"msats\": 141526000, \"n_sessions\": 1, \"n_txs\": 1}, {\"date\": \"2024-06-13T00:00:00\", \"kind\": \"ln\", \"msats\": 2670941558, \"n_sessions\": 323, \"n_txs\": 669}, {\"date\": \"2024-06-13T00:00:00\", \"kind\": \"mint\", \"msats\": 3090158823, \"n_sessions\": 346, \"n_txs\": 871}, {\"date\": \"2024-06-13T00:00:00\", \"kind\": \"wallet\", \"msats\": 490364000, \"n_sessions\": 3, \"n_txs\": 3}, {\"date\": \"2024-06-14T00:00:00\", \"kind\": \"ln\", \"msats\": 2794063952, \"n_sessions\": 355, \"n_txs\": 719}, {\"date\": \"2024-06-14T00:00:00\", \"kind\": \"mint\", \"msats\": 3026210680, \"n_sessions\": 378, \"n_txs\": 837}, {\"date\": \"2024-06-14T00:00:00\", \"kind\": \"wallet\", \"msats\": 369773000, \"n_sessions\": 3, \"n_txs\": 3}, {\"date\": \"2024-06-15T00:00:00\", \"kind\": \"ln\", \"msats\": 2653746141, \"n_sessions\": 333, \"n_txs\": 673}, {\"date\": \"2024-06-15T00:00:00\", \"kind\": \"mint\", \"msats\": 3483886681, \"n_sessions\": 356, \"n_txs\": 776}, {\"date\": \"2024-06-15T00:00:00\", \"kind\": \"wallet\", \"msats\": 144084000, \"n_sessions\": 1, \"n_txs\": 1}, {\"date\": \"2024-06-16T00:00:00\", \"kind\": \"ln\", \"msats\": 420297001, \"n_sessions\": 307, \"n_txs\": 600}, {\"date\": \"2024-06-16T00:00:00\", \"kind\": \"mint\", \"msats\": 1473457440, \"n_sessions\": 323, \"n_txs\": 1017}, {\"date\": \"2024-06-16T00:00:00\", \"kind\": \"wallet\", \"msats\": 876820000, \"n_sessions\": 6, \"n_txs\": 6}, {\"date\": \"2024-06-17T00:00:00\", \"kind\": \"ln\", \"msats\": 13589238037, \"n_sessions\": 325, \"n_txs\": 639}, {\"date\": \"2024-06-17T00:00:00\", \"kind\": \"mint\", \"msats\": 17759865166, \"n_sessions\": 330, \"n_txs\": 648}, {\"date\": \"2024-06-17T00:00:00\", \"kind\": \"wallet\", \"msats\": 315512000, \"n_sessions\": 2, \"n_txs\": 2}, {\"date\": \"2024-06-18T00:00:00\", \"kind\": \"ln\", \"msats\": 6605635272, \"n_sessions\": 355, \"n_txs\": 813}, {\"date\": \"2024-06-18T00:00:00\", \"kind\": \"mint\", \"msats\": 6973287988, \"n_sessions\": 350, \"n_txs\": 709}, {\"date\": \"2024-06-18T00:00:00\", \"kind\": \"wallet\", \"msats\": 91000000, \"n_sessions\": 1, \"n_txs\": 2}, {\"date\": \"2024-06-19T00:00:00\", \"kind\": \"ln\", \"msats\": 561936011, \"n_sessions\": 315, \"n_txs\": 614}, {\"date\": \"2024-06-19T00:00:00\", \"kind\": \"mint\", \"msats\": 1190866863, \"n_sessions\": 319, \"n_txs\": 631}, {\"date\": \"2024-06-19T00:00:00\", \"kind\": \"wallet\", \"msats\": 138948000, \"n_sessions\": 1, \"n_txs\": 1}, {\"date\": \"2024-06-20T00:00:00\", \"kind\": \"ln\", \"msats\": 488276681, \"n_sessions\": 299, \"n_txs\": 584}, {\"date\": \"2024-06-20T00:00:00\", \"kind\": \"mint\", \"msats\": 2330713680, \"n_sessions\": 299, \"n_txs\": 608}, {\"date\": \"2024-06-20T00:00:00\", \"kind\": \"wallet\", \"msats\": 145797000, \"n_sessions\": 1, \"n_txs\": 1}, {\"date\": \"2024-06-21T00:00:00\", \"kind\": \"ln\", \"msats\": 2198207037, \"n_sessions\": 319, \"n_txs\": 620}, {\"date\": \"2024-06-21T00:00:00\", \"kind\": \"mint\", \"msats\": 521175861, \"n_sessions\": 321, \"n_txs\": 685}, {\"date\": \"2024-06-22T00:00:00\", \"kind\": \"ln\", \"msats\": 229251541, \"n_sessions\": 324, \"n_txs\": 634}, {\"date\": \"2024-06-22T00:00:00\", \"kind\": \"mint\", \"msats\": 246430776, \"n_sessions\": 328, \"n_txs\": 642}, {\"date\": \"2024-06-23T00:00:00\", \"kind\": \"ln\", \"msats\": 40378039, \"n_sessions\": 295, \"n_txs\": 572}, {\"date\": \"2024-06-23T00:00:00\", \"kind\": \"mint\", \"msats\": 299796721, \"n_sessions\": 302, \"n_txs\": 665}, {\"date\": \"2024-06-23T00:00:00\", \"kind\": \"wallet\", \"msats\": 406407000, \"n_sessions\": 3, \"n_txs\": 3}, {\"date\": \"2024-06-25T00:00:00\", \"kind\": \"ln\", \"msats\": 5074941850, \"n_sessions\": 342, \"n_txs\": 714}, {\"date\": \"2024-06-25T00:00:00\", \"kind\": \"mint\", \"msats\": 83479982863, \"n_sessions\": 349, \"n_txs\": 710}, {\"date\": \"2024-06-26T00:00:00\", \"kind\": \"ln\", \"msats\": 933425660, \"n_sessions\": 312, \"n_txs\": 596}, {\"date\": \"2024-06-26T00:00:00\", \"kind\": \"mint\", \"msats\": 1296404284, \"n_sessions\": 309, \"n_txs\": 634}, {\"date\": \"2024-06-26T00:00:00\", \"kind\": \"wallet\", \"msats\": 328123000, \"n_sessions\": 2, \"n_txs\": 3}, {\"date\": \"2024-06-27T00:00:00\", \"kind\": \"ln\", \"msats\": 1474314427, \"n_sessions\": 331, \"n_txs\": 640}, {\"date\": \"2024-06-27T00:00:00\", \"kind\": \"mint\", \"msats\": 2801505279, \"n_sessions\": 337, \"n_txs\": 689}, {\"date\": \"2024-06-27T00:00:00\", \"kind\": \"wallet\", \"msats\": 433758000, \"n_sessions\": 1, \"n_txs\": 1}, {\"date\": \"2024-06-28T00:00:00\", \"kind\": \"ln\", \"msats\": 697302486, \"n_sessions\": 304, \"n_txs\": 600}, {\"date\": \"2024-06-28T00:00:00\", \"kind\": \"mint\", \"msats\": 704634435, \"n_sessions\": 297, \"n_txs\": 601}, {\"date\": \"2024-06-29T00:00:00\", \"kind\": \"ln\", \"msats\": 683776383, \"n_sessions\": 308, \"n_txs\": 626}, {\"date\": \"2024-06-29T00:00:00\", \"kind\": \"mint\", \"msats\": 2375162989, \"n_sessions\": 343, \"n_txs\": 776}, {\"date\": \"2024-06-30T00:00:00\", \"kind\": \"ln\", \"msats\": 1518413493, \"n_sessions\": 306, \"n_txs\": 584}, {\"date\": \"2024-06-30T00:00:00\", \"kind\": \"mint\", \"msats\": 1546542862, \"n_sessions\": 308, \"n_txs\": 600}, {\"date\": \"2024-07-01T00:00:00\", \"kind\": \"ln\", \"msats\": 555549267, \"n_sessions\": 325, \"n_txs\": 595}, {\"date\": \"2024-07-01T00:00:00\", \"kind\": \"mint\", \"msats\": 607663054, \"n_sessions\": 332, \"n_txs\": 611}, {\"date\": \"2024-07-02T00:00:00\", \"kind\": \"ln\", \"msats\": 250573077, \"n_sessions\": 303, \"n_txs\": 586}, {\"date\": \"2024-07-02T00:00:00\", \"kind\": \"mint\", \"msats\": 252694753, \"n_sessions\": 305, \"n_txs\": 588}, {\"date\": \"2024-07-03T00:00:00\", \"kind\": \"ln\", \"msats\": 697253694, \"n_sessions\": 313, \"n_txs\": 585}, {\"date\": \"2024-07-03T00:00:00\", \"kind\": \"mint\", \"msats\": 1937527363, \"n_sessions\": 321, \"n_txs\": 624}, {\"date\": \"2024-07-04T00:00:00\", \"kind\": \"ln\", \"msats\": 108079217, \"n_sessions\": 306, \"n_txs\": 608}, {\"date\": \"2024-07-04T00:00:00\", \"kind\": \"mint\", \"msats\": 121566685, \"n_sessions\": 317, \"n_txs\": 618}, {\"date\": \"2024-07-04T00:00:00\", \"kind\": \"wallet\", \"msats\": 52000000, \"n_sessions\": 1, \"n_txs\": 1}, {\"date\": \"2024-07-05T00:00:00\", \"kind\": \"ln\", \"msats\": 51669975, \"n_sessions\": 333, \"n_txs\": 600}, {\"date\": \"2024-07-05T00:00:00\", \"kind\": \"mint\", \"msats\": 88349266, \"n_sessions\": 332, \"n_txs\": 648}, {\"date\": \"2024-07-06T00:00:00\", \"kind\": \"ln\", \"msats\": 16539909, \"n_sessions\": 299, \"n_txs\": 576}, {\"date\": \"2024-07-06T00:00:00\", \"kind\": \"mint\", \"msats\": 18629262, \"n_sessions\": 308, \"n_txs\": 582}, {\"date\": \"2024-07-07T00:00:00\", \"kind\": \"ln\", \"msats\": 437526421, \"n_sessions\": 312, \"n_txs\": 582}, {\"date\": \"2024-07-07T00:00:00\", \"kind\": \"mint\", \"msats\": 438206595, \"n_sessions\": 305, \"n_txs\": 601}, {\"date\": \"2024-07-07T00:00:00\", \"kind\": \"wallet\", \"msats\": 688771000, \"n_sessions\": 1, \"n_txs\": 1}, {\"date\": \"2024-07-08T00:00:00\", \"kind\": \"ln\", \"msats\": 3474008, \"n_sessions\": 296, \"n_txs\": 578}, {\"date\": \"2024-07-08T00:00:00\", \"kind\": \"mint\", \"msats\": 4841688, \"n_sessions\": 318, \"n_txs\": 583}, {\"date\": \"2024-07-09T00:00:00\", \"kind\": \"ln\", \"msats\": 1299756361, \"n_sessions\": 305, \"n_txs\": 593}, {\"date\": \"2024-07-09T00:00:00\", \"kind\": \"mint\", \"msats\": 1301473505, \"n_sessions\": 306, \"n_txs\": 595}, {\"date\": \"2024-07-09T00:00:00\", \"kind\": \"wallet\", \"msats\": 75731000, \"n_sessions\": 1, \"n_txs\": 1}, {\"date\": \"2024-07-10T00:00:00\", \"kind\": \"ln\", \"msats\": 740893701, \"n_sessions\": 314, \"n_txs\": 602}, {\"date\": \"2024-07-10T00:00:00\", \"kind\": \"mint\", \"msats\": 784945757, \"n_sessions\": 335, \"n_txs\": 633}, {\"date\": \"2024-07-11T00:00:00\", \"kind\": \"ln\", \"msats\": 33391655, \"n_sessions\": 281, \"n_txs\": 556}, {\"date\": \"2024-07-11T00:00:00\", \"kind\": \"mint\", \"msats\": 79919266, \"n_sessions\": 309, \"n_txs\": 567}, {\"date\": \"2024-07-12T00:00:00\", \"kind\": \"ln\", \"msats\": 476523888, \"n_sessions\": 320, \"n_txs\": 620}, {\"date\": \"2024-07-12T00:00:00\", \"kind\": \"mint\", \"msats\": 476604888, \"n_sessions\": 312, \"n_txs\": 624}, {\"date\": \"2024-07-12T00:00:00\", \"kind\": \"wallet\", \"msats\": 744455000, \"n_sessions\": 3, \"n_txs\": 3}, {\"date\": \"2024-07-13T00:00:00\", \"kind\": \"ln\", \"msats\": 609404338, \"n_sessions\": 333, \"n_txs\": 590}, {\"date\": \"2024-07-13T00:00:00\", \"kind\": \"mint\", \"msats\": 610142338, \"n_sessions\": 328, \"n_txs\": 608}, {\"date\": \"2024-07-14T00:00:00\", \"kind\": \"ln\", \"msats\": 25569780, \"n_sessions\": 304, \"n_txs\": 582}, {\"date\": \"2024-07-14T00:00:00\", \"kind\": \"mint\", \"msats\": 25625977, \"n_sessions\": 316, \"n_txs\": 587}, {\"date\": \"2024-07-15T00:00:00\", \"kind\": \"ln\", \"msats\": 35545417, \"n_sessions\": 312, \"n_txs\": 591}, {\"date\": \"2024-07-15T00:00:00\", \"kind\": \"mint\", \"msats\": 56628858, \"n_sessions\": 344, \"n_txs\": 622}, {\"date\": \"2024-07-16T00:00:00\", \"kind\": \"ln\", \"msats\": 114826193, \"n_sessions\": 297, \"n_txs\": 558}, {\"date\": \"2024-07-16T00:00:00\", \"kind\": \"mint\", \"msats\": 156661193, \"n_sessions\": 309, \"n_txs\": 567}, {\"date\": \"2024-07-17T00:00:00\", \"kind\": \"ln\", \"msats\": 1028383522, \"n_sessions\": 310, \"n_txs\": 621}, {\"date\": \"2024-07-17T00:00:00\", \"kind\": \"mint\", \"msats\": 1281835530, \"n_sessions\": 313, \"n_txs\": 650}, {\"date\": \"2024-07-17T00:00:00\", \"kind\": \"wallet\", \"msats\": 379474000, \"n_sessions\": 1, \"n_txs\": 1}, {\"date\": \"2024-07-18T00:00:00\", \"kind\": \"ln\", \"msats\": 2513545377, \"n_sessions\": 299, \"n_txs\": 583}, {\"date\": \"2024-07-18T00:00:00\", \"kind\": \"mint\", \"msats\": 4553998295, \"n_sessions\": 313, \"n_txs\": 588}, {\"date\": \"2024-07-18T00:00:00\", \"kind\": \"wallet\", \"msats\": 2079083000, \"n_sessions\": 1, \"n_txs\": 4}, {\"date\": \"2024-07-19T00:00:00\", \"kind\": \"ln\", \"msats\": 80016092, \"n_sessions\": 325, \"n_txs\": 606}, {\"date\": \"2024-07-19T00:00:00\", \"kind\": \"mint\", \"msats\": 80181092, \"n_sessions\": 321, \"n_txs\": 612}, {\"date\": \"2024-07-20T00:00:00\", \"kind\": \"ln\", \"msats\": 693100701, \"n_sessions\": 300, \"n_txs\": 585}, {\"date\": \"2024-07-20T00:00:00\", \"kind\": \"mint\", \"msats\": 693238210, \"n_sessions\": 310, \"n_txs\": 597}, {\"date\": \"2024-07-21T00:00:00\", \"kind\": \"ln\", \"msats\": 799716498, \"n_sessions\": 335, \"n_txs\": 628}, {\"date\": \"2024-07-21T00:00:00\", \"kind\": \"mint\", \"msats\": 1848939571, \"n_sessions\": 334, \"n_txs\": 634}, {\"date\": \"2024-07-21T00:00:00\", \"kind\": \"wallet\", \"msats\": 576478000, \"n_sessions\": 3, \"n_txs\": 3}, {\"date\": \"2024-07-22T00:00:00\", \"kind\": \"ln\", \"msats\": 155522276, \"n_sessions\": 291, \"n_txs\": 551}, {\"date\": \"2024-07-22T00:00:00\", \"kind\": \"mint\", \"msats\": 158662276, \"n_sessions\": 303, \"n_txs\": 556}, {\"date\": \"2024-07-23T00:00:00\", \"kind\": \"ln\", \"msats\": 36697333, \"n_sessions\": 323, \"n_txs\": 607}, {\"date\": \"2024-07-23T00:00:00\", \"kind\": \"mint\", \"msats\": 37669956, \"n_sessions\": 328, \"n_txs\": 607}, {\"date\": \"2024-07-24T00:00:00\", \"kind\": \"ln\", \"msats\": 1240031501, \"n_sessions\": 308, \"n_txs\": 587}, {\"date\": \"2024-07-24T00:00:00\", \"kind\": \"mint\", \"msats\": 1403291501, \"n_sessions\": 310, \"n_txs\": 601}, {\"date\": \"2024-07-24T00:00:00\", \"kind\": \"wallet\", \"msats\": 72371000, \"n_sessions\": 1, \"n_txs\": 1}, {\"date\": \"2024-07-25T00:00:00\", \"kind\": \"ln\", \"msats\": 170523351, \"n_sessions\": 302, \"n_txs\": 572}, {\"date\": \"2024-07-25T00:00:00\", \"kind\": \"mint\", \"msats\": 698136095, \"n_sessions\": 297, \"n_txs\": 583}, {\"date\": \"2024-07-25T00:00:00\", \"kind\": \"wallet\", \"msats\": 95751000, \"n_sessions\": 1, \"n_txs\": 1}, {\"date\": \"2024-07-26T00:00:00\", \"kind\": \"ln\", \"msats\": 98309324, \"n_sessions\": 305, \"n_txs\": 579}, {\"date\": \"2024-07-26T00:00:00\", \"kind\": \"mint\", \"msats\": 180076324, \"n_sessions\": 306, \"n_txs\": 589}, {\"date\": \"2024-07-27T00:00:00\", \"kind\": \"ln\", \"msats\": 262660312, \"n_sessions\": 324, \"n_txs\": 621}, {\"date\": \"2024-07-27T00:00:00\", \"kind\": \"mint\", \"msats\": 267493120, \"n_sessions\": 327, \"n_txs\": 678}, {\"date\": \"2024-07-28T00:00:00\", \"kind\": \"ln\", \"msats\": 902695308, \"n_sessions\": 307, \"n_txs\": 599}, {\"date\": \"2024-07-28T00:00:00\", \"kind\": \"mint\", \"msats\": 1072688908, \"n_sessions\": 305, \"n_txs\": 612}, {\"date\": \"2024-07-28T00:00:00\", \"kind\": \"wallet\", \"msats\": 143531000, \"n_sessions\": 1, \"n_txs\": 1}, {\"date\": \"2024-07-29T00:00:00\", \"kind\": \"ln\", \"msats\": 521065522, \"n_sessions\": 302, \"n_txs\": 574}, {\"date\": \"2024-07-29T00:00:00\", \"kind\": \"mint\", \"msats\": 423150189, \"n_sessions\": 295, \"n_txs\": 575}, {\"date\": \"2024-07-30T00:00:00\", \"kind\": \"ln\", \"msats\": 82508087, \"n_sessions\": 272, \"n_txs\": 505}, {\"date\": \"2024-07-30T00:00:00\", \"kind\": \"mint\", \"msats\": 83536659, \"n_sessions\": 265, \"n_txs\": 506}], \"data-52ff9441918c95a95a6318060d160549\": [{\"date\": \"2024-04-06T00:00:00\", \"type\": \"n_sessions\", \"n\": 1}, {\"date\": \"2024-04-08T00:00:00\", \"type\": \"n_sessions\", \"n\": 4}, {\"date\": \"2024-04-09T00:00:00\", \"type\": \"n_sessions\", \"n\": 8}, {\"date\": \"2024-04-10T00:00:00\", \"type\": \"n_sessions\", \"n\": 166}, {\"date\": \"2024-04-11T00:00:00\", \"type\": \"n_sessions\", \"n\": 623}, {\"date\": \"2024-04-12T00:00:00\", \"type\": \"n_sessions\", \"n\": 593}, {\"date\": \"2024-04-13T00:00:00\", \"type\": \"n_sessions\", \"n\": 632}, {\"date\": \"2024-04-14T00:00:00\", \"type\": \"n_sessions\", \"n\": 567}, {\"date\": \"2024-04-15T00:00:00\", \"type\": \"n_sessions\", \"n\": 635}, {\"date\": \"2024-04-16T00:00:00\", \"type\": \"n_sessions\", \"n\": 578}, {\"date\": \"2024-04-17T00:00:00\", \"type\": \"n_sessions\", \"n\": 529}, {\"date\": \"2024-04-18T00:00:00\", \"type\": \"n_sessions\", \"n\": 579}, {\"date\": \"2024-04-19T00:00:00\", \"type\": \"n_sessions\", \"n\": 600}, {\"date\": \"2024-04-20T00:00:00\", \"type\": \"n_sessions\", \"n\": 605}, {\"date\": \"2024-04-21T00:00:00\", \"type\": \"n_sessions\", \"n\": 605}, {\"date\": \"2024-04-22T00:00:00\", \"type\": \"n_sessions\", \"n\": 614}, {\"date\": \"2024-04-23T00:00:00\", \"type\": \"n_sessions\", \"n\": 662}, {\"date\": \"2024-04-24T00:00:00\", \"type\": \"n_sessions\", \"n\": 616}, {\"date\": \"2024-04-25T00:00:00\", \"type\": \"n_sessions\", \"n\": 577}, {\"date\": \"2024-04-26T00:00:00\", \"type\": \"n_sessions\", \"n\": 631}, {\"date\": \"2024-04-27T00:00:00\", \"type\": \"n_sessions\", \"n\": 639}, {\"date\": \"2024-04-28T00:00:00\", \"type\": \"n_sessions\", \"n\": 656}, {\"date\": \"2024-04-29T00:00:00\", \"type\": \"n_sessions\", \"n\": 595}, {\"date\": \"2024-04-30T00:00:00\", \"type\": \"n_sessions\", \"n\": 624}, {\"date\": \"2024-05-01T00:00:00\", \"type\": \"n_sessions\", \"n\": 623}, {\"date\": \"2024-05-02T00:00:00\", \"type\": \"n_sessions\", \"n\": 577}, {\"date\": \"2024-05-03T00:00:00\", \"type\": \"n_sessions\", \"n\": 602}, {\"date\": \"2024-05-04T00:00:00\", \"type\": \"n_sessions\", \"n\": 605}, {\"date\": \"2024-05-05T00:00:00\", \"type\": \"n_sessions\", \"n\": 585}, {\"date\": \"2024-05-06T00:00:00\", \"type\": \"n_sessions\", \"n\": 650}, {\"date\": \"2024-05-07T00:00:00\", \"type\": \"n_sessions\", \"n\": 633}, {\"date\": \"2024-05-08T00:00:00\", \"type\": \"n_sessions\", \"n\": 609}, {\"date\": \"2024-05-09T00:00:00\", \"type\": \"n_sessions\", \"n\": 598}, {\"date\": \"2024-05-10T00:00:00\", \"type\": \"n_sessions\", \"n\": 646}, {\"date\": \"2024-05-11T00:00:00\", \"type\": \"n_sessions\", \"n\": 648}, {\"date\": \"2024-05-12T00:00:00\", \"type\": \"n_sessions\", \"n\": 627}, {\"date\": \"2024-05-13T00:00:00\", \"type\": \"n_sessions\", \"n\": 622}, {\"date\": \"2024-05-14T00:00:00\", \"type\": \"n_sessions\", \"n\": 599}, {\"date\": \"2024-05-15T00:00:00\", \"type\": \"n_sessions\", \"n\": 611}, {\"date\": \"2024-05-16T00:00:00\", \"type\": \"n_sessions\", \"n\": 630}, {\"date\": \"2024-05-17T00:00:00\", \"type\": \"n_sessions\", \"n\": 611}, {\"date\": \"2024-05-18T00:00:00\", \"type\": \"n_sessions\", \"n\": 648}, {\"date\": \"2024-05-19T00:00:00\", \"type\": \"n_sessions\", \"n\": 630}, {\"date\": \"2024-05-20T00:00:00\", \"type\": \"n_sessions\", \"n\": 644}, {\"date\": \"2024-05-21T00:00:00\", \"type\": \"n_sessions\", \"n\": 613}, {\"date\": \"2024-05-22T00:00:00\", \"type\": \"n_sessions\", \"n\": 640}, {\"date\": \"2024-05-23T00:00:00\", \"type\": \"n_sessions\", \"n\": 583}, {\"date\": \"2024-05-24T00:00:00\", \"type\": \"n_sessions\", \"n\": 598}, {\"date\": \"2024-05-25T00:00:00\", \"type\": \"n_sessions\", \"n\": 622}, {\"date\": \"2024-05-26T00:00:00\", \"type\": \"n_sessions\", \"n\": 639}, {\"date\": \"2024-05-27T00:00:00\", \"type\": \"n_sessions\", \"n\": 607}, {\"date\": \"2024-05-28T00:00:00\", \"type\": \"n_sessions\", \"n\": 610}, {\"date\": \"2024-05-29T00:00:00\", \"type\": \"n_sessions\", \"n\": 628}, {\"date\": \"2024-05-30T00:00:00\", \"type\": \"n_sessions\", \"n\": 648}, {\"date\": \"2024-05-31T00:00:00\", \"type\": \"n_sessions\", \"n\": 636}, {\"date\": \"2024-06-01T00:00:00\", \"type\": \"n_sessions\", \"n\": 660}, {\"date\": \"2024-06-02T00:00:00\", \"type\": \"n_sessions\", \"n\": 611}, {\"date\": \"2024-06-03T00:00:00\", \"type\": \"n_sessions\", \"n\": 625}, {\"date\": \"2024-06-04T00:00:00\", \"type\": \"n_sessions\", \"n\": 633}, {\"date\": \"2024-06-05T00:00:00\", \"type\": \"n_sessions\", \"n\": 662}, {\"date\": \"2024-06-06T00:00:00\", \"type\": \"n_sessions\", \"n\": 613}, {\"date\": \"2024-06-07T00:00:00\", \"type\": \"n_sessions\", \"n\": 600}, {\"date\": \"2024-06-08T00:00:00\", \"type\": \"n_sessions\", \"n\": 718}, {\"date\": \"2024-06-09T00:00:00\", \"type\": \"n_sessions\", \"n\": 607}, {\"date\": \"2024-06-10T00:00:00\", \"type\": \"n_sessions\", \"n\": 636}, {\"date\": \"2024-06-11T00:00:00\", \"type\": \"n_sessions\", \"n\": 622}, {\"date\": \"2024-06-12T00:00:00\", \"type\": \"n_sessions\", \"n\": 678}, {\"date\": \"2024-06-13T00:00:00\", \"type\": \"n_sessions\", \"n\": 672}, {\"date\": \"2024-06-14T00:00:00\", \"type\": \"n_sessions\", \"n\": 736}, {\"date\": \"2024-06-15T00:00:00\", \"type\": \"n_sessions\", \"n\": 690}, {\"date\": \"2024-06-16T00:00:00\", \"type\": \"n_sessions\", \"n\": 636}, {\"date\": \"2024-06-17T00:00:00\", \"type\": \"n_sessions\", \"n\": 657}, {\"date\": \"2024-06-18T00:00:00\", \"type\": \"n_sessions\", \"n\": 706}, {\"date\": \"2024-06-19T00:00:00\", \"type\": \"n_sessions\", \"n\": 635}, {\"date\": \"2024-06-20T00:00:00\", \"type\": \"n_sessions\", \"n\": 599}, {\"date\": \"2024-06-21T00:00:00\", \"type\": \"n_sessions\", \"n\": 640}, {\"date\": \"2024-06-22T00:00:00\", \"type\": \"n_sessions\", \"n\": 652}, {\"date\": \"2024-06-23T00:00:00\", \"type\": \"n_sessions\", \"n\": 600}, {\"date\": \"2024-06-25T00:00:00\", \"type\": \"n_sessions\", \"n\": 691}, {\"date\": \"2024-06-26T00:00:00\", \"type\": \"n_sessions\", \"n\": 623}, {\"date\": \"2024-06-27T00:00:00\", \"type\": \"n_sessions\", \"n\": 669}, {\"date\": \"2024-06-28T00:00:00\", \"type\": \"n_sessions\", \"n\": 601}, {\"date\": \"2024-06-29T00:00:00\", \"type\": \"n_sessions\", \"n\": 651}, {\"date\": \"2024-06-30T00:00:00\", \"type\": \"n_sessions\", \"n\": 614}, {\"date\": \"2024-07-01T00:00:00\", \"type\": \"n_sessions\", \"n\": 657}, {\"date\": \"2024-07-02T00:00:00\", \"type\": \"n_sessions\", \"n\": 608}, {\"date\": \"2024-07-03T00:00:00\", \"type\": \"n_sessions\", \"n\": 634}, {\"date\": \"2024-07-04T00:00:00\", \"type\": \"n_sessions\", \"n\": 624}, {\"date\": \"2024-07-05T00:00:00\", \"type\": \"n_sessions\", \"n\": 665}, {\"date\": \"2024-07-06T00:00:00\", \"type\": \"n_sessions\", \"n\": 607}, {\"date\": \"2024-07-07T00:00:00\", \"type\": \"n_sessions\", \"n\": 618}, {\"date\": \"2024-07-08T00:00:00\", \"type\": \"n_sessions\", \"n\": 614}, {\"date\": \"2024-07-09T00:00:00\", \"type\": \"n_sessions\", \"n\": 612}, {\"date\": \"2024-07-10T00:00:00\", \"type\": \"n_sessions\", \"n\": 649}, {\"date\": \"2024-07-11T00:00:00\", \"type\": \"n_sessions\", \"n\": 590}, {\"date\": \"2024-07-12T00:00:00\", \"type\": \"n_sessions\", \"n\": 635}, {\"date\": \"2024-07-13T00:00:00\", \"type\": \"n_sessions\", \"n\": 661}, {\"date\": \"2024-07-14T00:00:00\", \"type\": \"n_sessions\", \"n\": 620}, {\"date\": \"2024-07-15T00:00:00\", \"type\": \"n_sessions\", \"n\": 656}, {\"date\": \"2024-07-16T00:00:00\", \"type\": \"n_sessions\", \"n\": 606}, {\"date\": \"2024-07-17T00:00:00\", \"type\": \"n_sessions\", \"n\": 624}, {\"date\": \"2024-07-18T00:00:00\", \"type\": \"n_sessions\", \"n\": 613}, {\"date\": \"2024-07-19T00:00:00\", \"type\": \"n_sessions\", \"n\": 646}, {\"date\": \"2024-07-20T00:00:00\", \"type\": \"n_sessions\", \"n\": 610}, {\"date\": \"2024-07-21T00:00:00\", \"type\": \"n_sessions\", \"n\": 672}, {\"date\": \"2024-07-22T00:00:00\", \"type\": \"n_sessions\", \"n\": 594}, {\"date\": \"2024-07-23T00:00:00\", \"type\": \"n_sessions\", \"n\": 651}, {\"date\": \"2024-07-24T00:00:00\", \"type\": \"n_sessions\", \"n\": 619}, {\"date\": \"2024-07-25T00:00:00\", \"type\": \"n_sessions\", \"n\": 600}, {\"date\": \"2024-07-26T00:00:00\", \"type\": \"n_sessions\", \"n\": 611}, {\"date\": \"2024-07-27T00:00:00\", \"type\": \"n_sessions\", \"n\": 651}, {\"date\": \"2024-07-28T00:00:00\", \"type\": \"n_sessions\", \"n\": 613}, {\"date\": \"2024-07-29T00:00:00\", \"type\": \"n_sessions\", \"n\": 597}, {\"date\": \"2024-07-30T00:00:00\", \"type\": \"n_sessions\", \"n\": 537}, {\"date\": \"2024-04-06T00:00:00\", \"type\": \"n_txs\", \"n\": 1}, {\"date\": \"2024-04-08T00:00:00\", \"type\": \"n_txs\", \"n\": 5}, {\"date\": \"2024-04-09T00:00:00\", \"type\": \"n_txs\", \"n\": 9}, {\"date\": \"2024-04-10T00:00:00\", \"type\": \"n_txs\", \"n\": 330}, {\"date\": \"2024-04-11T00:00:00\", \"type\": \"n_txs\", \"n\": 1253}, {\"date\": \"2024-04-12T00:00:00\", \"type\": \"n_txs\", \"n\": 1126}, {\"date\": \"2024-04-13T00:00:00\", \"type\": \"n_txs\", \"n\": 1224}, {\"date\": \"2024-04-14T00:00:00\", \"type\": \"n_txs\", \"n\": 1103}, {\"date\": \"2024-04-15T00:00:00\", \"type\": \"n_txs\", \"n\": 1194}, {\"date\": \"2024-04-16T00:00:00\", \"type\": \"n_txs\", \"n\": 1135}, {\"date\": \"2024-04-17T00:00:00\", \"type\": \"n_txs\", \"n\": 1013}, {\"date\": \"2024-04-18T00:00:00\", \"type\": \"n_txs\", \"n\": 1134}, {\"date\": \"2024-04-19T00:00:00\", \"type\": \"n_txs\", \"n\": 1165}, {\"date\": \"2024-04-20T00:00:00\", \"type\": \"n_txs\", \"n\": 1180}, {\"date\": \"2024-04-21T00:00:00\", \"type\": \"n_txs\", \"n\": 1171}, {\"date\": \"2024-04-22T00:00:00\", \"type\": \"n_txs\", \"n\": 1196}, {\"date\": \"2024-04-23T00:00:00\", \"type\": \"n_txs\", \"n\": 1265}, {\"date\": \"2024-04-24T00:00:00\", \"type\": \"n_txs\", \"n\": 1182}, {\"date\": \"2024-04-25T00:00:00\", \"type\": \"n_txs\", \"n\": 1123}, {\"date\": \"2024-04-26T00:00:00\", \"type\": \"n_txs\", \"n\": 1231}, {\"date\": \"2024-04-27T00:00:00\", \"type\": \"n_txs\", \"n\": 1233}, {\"date\": \"2024-04-28T00:00:00\", \"type\": \"n_txs\", \"n\": 1261}, {\"date\": \"2024-04-29T00:00:00\", \"type\": \"n_txs\", \"n\": 1166}, {\"date\": \"2024-04-30T00:00:00\", \"type\": \"n_txs\", \"n\": 1187}, {\"date\": \"2024-05-01T00:00:00\", \"type\": \"n_txs\", \"n\": 1200}, {\"date\": \"2024-05-02T00:00:00\", \"type\": \"n_txs\", \"n\": 1121}, {\"date\": \"2024-05-03T00:00:00\", \"type\": \"n_txs\", \"n\": 1178}, {\"date\": \"2024-05-04T00:00:00\", \"type\": \"n_txs\", \"n\": 1177}, {\"date\": \"2024-05-05T00:00:00\", \"type\": \"n_txs\", \"n\": 1144}, {\"date\": \"2024-05-06T00:00:00\", \"type\": \"n_txs\", \"n\": 1277}, {\"date\": \"2024-05-07T00:00:00\", \"type\": \"n_txs\", \"n\": 1234}, {\"date\": \"2024-05-08T00:00:00\", \"type\": \"n_txs\", \"n\": 1178}, {\"date\": \"2024-05-09T00:00:00\", \"type\": \"n_txs\", \"n\": 1180}, {\"date\": \"2024-05-10T00:00:00\", \"type\": \"n_txs\", \"n\": 1256}, {\"date\": \"2024-05-11T00:00:00\", \"type\": \"n_txs\", \"n\": 1234}, {\"date\": \"2024-05-12T00:00:00\", \"type\": \"n_txs\", \"n\": 1228}, {\"date\": \"2024-05-13T00:00:00\", \"type\": \"n_txs\", \"n\": 1232}, {\"date\": \"2024-05-14T00:00:00\", \"type\": \"n_txs\", \"n\": 1172}, {\"date\": \"2024-05-15T00:00:00\", \"type\": \"n_txs\", \"n\": 1198}, {\"date\": \"2024-05-16T00:00:00\", \"type\": \"n_txs\", \"n\": 1258}, {\"date\": \"2024-05-17T00:00:00\", \"type\": \"n_txs\", \"n\": 1211}, {\"date\": \"2024-05-18T00:00:00\", \"type\": \"n_txs\", \"n\": 1260}, {\"date\": \"2024-05-19T00:00:00\", \"type\": \"n_txs\", \"n\": 1237}, {\"date\": \"2024-05-20T00:00:00\", \"type\": \"n_txs\", \"n\": 1243}, {\"date\": \"2024-05-21T00:00:00\", \"type\": \"n_txs\", \"n\": 1186}, {\"date\": \"2024-05-22T00:00:00\", \"type\": \"n_txs\", \"n\": 1266}, {\"date\": \"2024-05-23T00:00:00\", \"type\": \"n_txs\", \"n\": 1256}, {\"date\": \"2024-05-24T00:00:00\", \"type\": \"n_txs\", \"n\": 1174}, {\"date\": \"2024-05-25T00:00:00\", \"type\": \"n_txs\", \"n\": 1214}, {\"date\": \"2024-05-26T00:00:00\", \"type\": \"n_txs\", \"n\": 1228}, {\"date\": \"2024-05-27T00:00:00\", \"type\": \"n_txs\", \"n\": 1210}, {\"date\": \"2024-05-28T00:00:00\", \"type\": \"n_txs\", \"n\": 1184}, {\"date\": \"2024-05-29T00:00:00\", \"type\": \"n_txs\", \"n\": 1301}, {\"date\": \"2024-05-30T00:00:00\", \"type\": \"n_txs\", \"n\": 1250}, {\"date\": \"2024-05-31T00:00:00\", \"type\": \"n_txs\", \"n\": 1251}, {\"date\": \"2024-06-01T00:00:00\", \"type\": \"n_txs\", \"n\": 1291}, {\"date\": \"2024-06-02T00:00:00\", \"type\": \"n_txs\", \"n\": 1260}, {\"date\": \"2024-06-03T00:00:00\", \"type\": \"n_txs\", \"n\": 1200}, {\"date\": \"2024-06-04T00:00:00\", \"type\": \"n_txs\", \"n\": 1210}, {\"date\": \"2024-06-05T00:00:00\", \"type\": \"n_txs\", \"n\": 1291}, {\"date\": \"2024-06-06T00:00:00\", \"type\": \"n_txs\", \"n\": 1190}, {\"date\": \"2024-06-07T00:00:00\", \"type\": \"n_txs\", \"n\": 1183}, {\"date\": \"2024-06-08T00:00:00\", \"type\": \"n_txs\", \"n\": 1366}, {\"date\": \"2024-06-09T00:00:00\", \"type\": \"n_txs\", \"n\": 1223}, {\"date\": \"2024-06-10T00:00:00\", \"type\": \"n_txs\", \"n\": 1672}, {\"date\": \"2024-06-11T00:00:00\", \"type\": \"n_txs\", \"n\": 1224}, {\"date\": \"2024-06-12T00:00:00\", \"type\": \"n_txs\", \"n\": 1308}, {\"date\": \"2024-06-13T00:00:00\", \"type\": \"n_txs\", \"n\": 1543}, {\"date\": \"2024-06-14T00:00:00\", \"type\": \"n_txs\", \"n\": 1559}, {\"date\": \"2024-06-15T00:00:00\", \"type\": \"n_txs\", \"n\": 1450}, {\"date\": \"2024-06-16T00:00:00\", \"type\": \"n_txs\", \"n\": 1623}, {\"date\": \"2024-06-17T00:00:00\", \"type\": \"n_txs\", \"n\": 1289}, {\"date\": \"2024-06-18T00:00:00\", \"type\": \"n_txs\", \"n\": 1524}, {\"date\": \"2024-06-19T00:00:00\", \"type\": \"n_txs\", \"n\": 1246}, {\"date\": \"2024-06-20T00:00:00\", \"type\": \"n_txs\", \"n\": 1193}, {\"date\": \"2024-06-21T00:00:00\", \"type\": \"n_txs\", \"n\": 1305}, {\"date\": \"2024-06-22T00:00:00\", \"type\": \"n_txs\", \"n\": 1276}, {\"date\": \"2024-06-23T00:00:00\", \"type\": \"n_txs\", \"n\": 1240}, {\"date\": \"2024-06-25T00:00:00\", \"type\": \"n_txs\", \"n\": 1424}, {\"date\": \"2024-06-26T00:00:00\", \"type\": \"n_txs\", \"n\": 1233}, {\"date\": \"2024-06-27T00:00:00\", \"type\": \"n_txs\", \"n\": 1330}, {\"date\": \"2024-06-28T00:00:00\", \"type\": \"n_txs\", \"n\": 1201}, {\"date\": \"2024-06-29T00:00:00\", \"type\": \"n_txs\", \"n\": 1402}, {\"date\": \"2024-06-30T00:00:00\", \"type\": \"n_txs\", \"n\": 1184}, {\"date\": \"2024-07-01T00:00:00\", \"type\": \"n_txs\", \"n\": 1206}, {\"date\": \"2024-07-02T00:00:00\", \"type\": \"n_txs\", \"n\": 1174}, {\"date\": \"2024-07-03T00:00:00\", \"type\": \"n_txs\", \"n\": 1209}, {\"date\": \"2024-07-04T00:00:00\", \"type\": \"n_txs\", \"n\": 1227}, {\"date\": \"2024-07-05T00:00:00\", \"type\": \"n_txs\", \"n\": 1248}, {\"date\": \"2024-07-06T00:00:00\", \"type\": \"n_txs\", \"n\": 1158}, {\"date\": \"2024-07-07T00:00:00\", \"type\": \"n_txs\", \"n\": 1184}, {\"date\": \"2024-07-08T00:00:00\", \"type\": \"n_txs\", \"n\": 1161}, {\"date\": \"2024-07-09T00:00:00\", \"type\": \"n_txs\", \"n\": 1189}, {\"date\": \"2024-07-10T00:00:00\", \"type\": \"n_txs\", \"n\": 1235}, {\"date\": \"2024-07-11T00:00:00\", \"type\": \"n_txs\", \"n\": 1123}, {\"date\": \"2024-07-12T00:00:00\", \"type\": \"n_txs\", \"n\": 1247}, {\"date\": \"2024-07-13T00:00:00\", \"type\": \"n_txs\", \"n\": 1198}, {\"date\": \"2024-07-14T00:00:00\", \"type\": \"n_txs\", \"n\": 1169}, {\"date\": \"2024-07-15T00:00:00\", \"type\": \"n_txs\", \"n\": 1213}, {\"date\": \"2024-07-16T00:00:00\", \"type\": \"n_txs\", \"n\": 1125}, {\"date\": \"2024-07-17T00:00:00\", \"type\": \"n_txs\", \"n\": 1272}, {\"date\": \"2024-07-18T00:00:00\", \"type\": \"n_txs\", \"n\": 1175}, {\"date\": \"2024-07-19T00:00:00\", \"type\": \"n_txs\", \"n\": 1218}, {\"date\": \"2024-07-20T00:00:00\", \"type\": \"n_txs\", \"n\": 1182}, {\"date\": \"2024-07-21T00:00:00\", \"type\": \"n_txs\", \"n\": 1265}, {\"date\": \"2024-07-22T00:00:00\", \"type\": \"n_txs\", \"n\": 1107}, {\"date\": \"2024-07-23T00:00:00\", \"type\": \"n_txs\", \"n\": 1214}, {\"date\": \"2024-07-24T00:00:00\", \"type\": \"n_txs\", \"n\": 1189}, {\"date\": \"2024-07-25T00:00:00\", \"type\": \"n_txs\", \"n\": 1156}, {\"date\": \"2024-07-26T00:00:00\", \"type\": \"n_txs\", \"n\": 1168}, {\"date\": \"2024-07-27T00:00:00\", \"type\": \"n_txs\", \"n\": 1299}, {\"date\": \"2024-07-28T00:00:00\", \"type\": \"n_txs\", \"n\": 1212}, {\"date\": \"2024-07-29T00:00:00\", \"type\": \"n_txs\", \"n\": 1149}, {\"date\": \"2024-07-30T00:00:00\", \"type\": \"n_txs\", \"n\": 1011}]}}, {\"mode\": \"vega-lite\"});\n",
       "</script>"
      ],
      "text/plain": [
       "alt.LayerChart(...)"
      ]
     },
     "execution_count": 20,
     "metadata": {},
     "output_type": "execute_result"
    }
   ],
   "source": [
    "make_tx_stats_chart('input', p_in, txs, session_times, True)"
   ]
  },
  {
   "cell_type": "code",
   "execution_count": 21,
   "metadata": {},
   "outputs": [
    {
     "data": {
      "text/html": [
       "\n",
       "<style>\n",
       "  #altair-viz-2fa7338189984387b6d61d2023a5725b.vega-embed {\n",
       "    width: 100%;\n",
       "    display: flex;\n",
       "  }\n",
       "\n",
       "  #altair-viz-2fa7338189984387b6d61d2023a5725b.vega-embed details,\n",
       "  #altair-viz-2fa7338189984387b6d61d2023a5725b.vega-embed details summary {\n",
       "    position: relative;\n",
       "  }\n",
       "</style>\n",
       "<div id=\"altair-viz-2fa7338189984387b6d61d2023a5725b\"></div>\n",
       "<script type=\"text/javascript\">\n",
       "  var VEGA_DEBUG = (typeof VEGA_DEBUG == \"undefined\") ? {} : VEGA_DEBUG;\n",
       "  (function(spec, embedOpt){\n",
       "    let outputDiv = document.currentScript.previousElementSibling;\n",
       "    if (outputDiv.id !== \"altair-viz-2fa7338189984387b6d61d2023a5725b\") {\n",
       "      outputDiv = document.getElementById(\"altair-viz-2fa7338189984387b6d61d2023a5725b\");\n",
       "    }\n",
       "    const paths = {\n",
       "      \"vega\": \"https://cdn.jsdelivr.net/npm/vega@5?noext\",\n",
       "      \"vega-lib\": \"https://cdn.jsdelivr.net/npm/vega-lib?noext\",\n",
       "      \"vega-lite\": \"https://cdn.jsdelivr.net/npm/vega-lite@5.17.0?noext\",\n",
       "      \"vega-embed\": \"https://cdn.jsdelivr.net/npm/vega-embed@6?noext\",\n",
       "    };\n",
       "\n",
       "    function maybeLoadScript(lib, version) {\n",
       "      var key = `${lib.replace(\"-\", \"\")}_version`;\n",
       "      return (VEGA_DEBUG[key] == version) ?\n",
       "        Promise.resolve(paths[lib]) :\n",
       "        new Promise(function(resolve, reject) {\n",
       "          var s = document.createElement('script');\n",
       "          document.getElementsByTagName(\"head\")[0].appendChild(s);\n",
       "          s.async = true;\n",
       "          s.onload = () => {\n",
       "            VEGA_DEBUG[key] = version;\n",
       "            return resolve(paths[lib]);\n",
       "          };\n",
       "          s.onerror = () => reject(`Error loading script: ${paths[lib]}`);\n",
       "          s.src = paths[lib];\n",
       "        });\n",
       "    }\n",
       "\n",
       "    function showError(err) {\n",
       "      outputDiv.innerHTML = `<div class=\"error\" style=\"color:red;\">${err}</div>`;\n",
       "      throw err;\n",
       "    }\n",
       "\n",
       "    function displayChart(vegaEmbed) {\n",
       "      vegaEmbed(outputDiv, spec, embedOpt)\n",
       "        .catch(err => showError(`Javascript Error: ${err.message}<br>This usually means there's a typo in your chart specification. See the javascript console for the full traceback.`));\n",
       "    }\n",
       "\n",
       "    if(typeof define === \"function\" && define.amd) {\n",
       "      requirejs.config({paths});\n",
       "      require([\"vega-embed\"], displayChart, err => showError(`Error loading script: ${err.message}`));\n",
       "    } else {\n",
       "      maybeLoadScript(\"vega\", \"5\")\n",
       "        .then(() => maybeLoadScript(\"vega-lite\", \"5.17.0\"))\n",
       "        .then(() => maybeLoadScript(\"vega-embed\", \"6\"))\n",
       "        .catch(showError)\n",
       "        .then(() => displayChart(vegaEmbed));\n",
       "    }\n",
       "  })({\"config\": {\"view\": {\"continuousWidth\": 300, \"continuousHeight\": 300}}, \"layer\": [{\"data\": {\"name\": \"data-d0953973f372ff6321baa7cf2789502e\"}, \"mark\": {\"type\": \"bar\"}, \"encoding\": {\"color\": {\"field\": \"kind\", \"type\": \"nominal\"}, \"tooltip\": [{\"field\": \"date\", \"type\": \"temporal\"}, {\"field\": \"kind\", \"type\": \"nominal\"}, {\"field\": \"msats\", \"type\": \"quantitative\"}], \"x\": {\"field\": \"date\", \"type\": \"temporal\"}, \"y\": {\"field\": \"msats\", \"type\": \"quantitative\"}}}, {\"data\": {\"name\": \"data-6aad87403bfa4b843d1b402e23b81868\"}, \"mark\": {\"type\": \"line\"}, \"encoding\": {\"color\": {\"field\": \"type\", \"type\": \"nominal\"}, \"x\": {\"field\": \"date\", \"type\": \"temporal\"}, \"y\": {\"field\": \"n\", \"type\": \"quantitative\"}}}], \"height\": 300, \"resolve\": {\"scale\": {\"y\": \"independent\"}}, \"title\": \"Output Transaction Stats\", \"width\": 600, \"$schema\": \"https://vega.github.io/schema/vega-lite/v5.17.0.json\", \"datasets\": {\"data-d0953973f372ff6321baa7cf2789502e\": [{\"date\": \"2024-04-06T00:00:00\", \"kind\": \"mint\", \"msats\": 10000000000, \"n_sessions\": 1, \"n_txs\": 1}, {\"date\": \"2024-04-08T00:00:00\", \"kind\": \"ln\", \"msats\": 10160800, \"n_sessions\": 5, \"n_txs\": 5}, {\"date\": \"2024-04-08T00:00:00\", \"kind\": \"mint\", \"msats\": 10260800, \"n_sessions\": 2, \"n_txs\": 3}, {\"date\": \"2024-04-09T00:00:00\", \"kind\": \"ln\", \"msats\": 1000000, \"n_sessions\": 1, \"n_txs\": 2}, {\"date\": \"2024-04-09T00:00:00\", \"kind\": \"mint\", \"msats\": 10001307176, \"n_sessions\": 4, \"n_txs\": 4}, {\"date\": \"2024-04-09T00:00:00\", \"kind\": \"stability_pool\", \"msats\": 0, \"n_sessions\": 5, \"n_txs\": 6}, {\"date\": \"2024-04-10T00:00:00\", \"kind\": \"ln\", \"msats\": 63603507, \"n_sessions\": 93, \"n_txs\": 262}, {\"date\": \"2024-04-10T00:00:00\", \"kind\": \"mint\", \"msats\": 82557613, \"n_sessions\": 84, \"n_txs\": 171}, {\"date\": \"2024-04-10T00:00:00\", \"kind\": \"stability_pool\", \"msats\": 0, \"n_sessions\": 1, \"n_txs\": 1}, {\"date\": \"2024-04-11T00:00:00\", \"kind\": \"ln\", \"msats\": 17267025985, \"n_sessions\": 314, \"n_txs\": 948}, {\"date\": \"2024-04-11T00:00:00\", \"kind\": \"mint\", \"msats\": 27274957661, \"n_sessions\": 313, \"n_txs\": 635}, {\"date\": \"2024-04-12T00:00:00\", \"kind\": \"ln\", \"msats\": 27229425, \"n_sessions\": 308, \"n_txs\": 850}, {\"date\": \"2024-04-12T00:00:00\", \"kind\": \"mint\", \"msats\": 27451755, \"n_sessions\": 290, \"n_txs\": 564}, {\"date\": \"2024-04-13T00:00:00\", \"kind\": \"ln\", \"msats\": 21177804, \"n_sessions\": 324, \"n_txs\": 920}, {\"date\": \"2024-04-13T00:00:00\", \"kind\": \"mint\", \"msats\": 21865143, \"n_sessions\": 313, \"n_txs\": 614}, {\"date\": \"2024-04-14T00:00:00\", \"kind\": \"ln\", \"msats\": 12863016, \"n_sessions\": 285, \"n_txs\": 827}, {\"date\": \"2024-04-14T00:00:00\", \"kind\": \"mint\", \"msats\": 12956016, \"n_sessions\": 283, \"n_txs\": 552}, {\"date\": \"2024-04-15T00:00:00\", \"kind\": \"ln\", \"msats\": 46859856, \"n_sessions\": 332, \"n_txs\": 900}, {\"date\": \"2024-04-15T00:00:00\", \"kind\": \"mint\", \"msats\": 46631600, \"n_sessions\": 312, \"n_txs\": 598}, {\"date\": \"2024-04-16T00:00:00\", \"kind\": \"ln\", \"msats\": 2970103, \"n_sessions\": 295, \"n_txs\": 855}, {\"date\": \"2024-04-16T00:00:00\", \"kind\": \"mint\", \"msats\": 3000766, \"n_sessions\": 289, \"n_txs\": 569}, {\"date\": \"2024-04-17T00:00:00\", \"kind\": \"ln\", \"msats\": 11545611, \"n_sessions\": 313, \"n_txs\": 810}, {\"date\": \"2024-04-17T00:00:00\", \"kind\": \"mint\", \"msats\": 12545611, \"n_sessions\": 262, \"n_txs\": 507}, {\"date\": \"2024-04-18T00:00:00\", \"kind\": \"ln\", \"msats\": 3501238, \"n_sessions\": 295, \"n_txs\": 849}, {\"date\": \"2024-04-18T00:00:00\", \"kind\": \"mint\", \"msats\": 3946548, \"n_sessions\": 288, \"n_txs\": 570}, {\"date\": \"2024-04-19T00:00:00\", \"kind\": \"ln\", \"msats\": 4095281, \"n_sessions\": 303, \"n_txs\": 872}, {\"date\": \"2024-04-19T00:00:00\", \"kind\": \"mint\", \"msats\": 4381481, \"n_sessions\": 299, \"n_txs\": 584}, {\"date\": \"2024-04-20T00:00:00\", \"kind\": \"ln\", \"msats\": 11685200, \"n_sessions\": 308, \"n_txs\": 892}, {\"date\": \"2024-04-20T00:00:00\", \"kind\": \"mint\", \"msats\": 11687200, \"n_sessions\": 300, \"n_txs\": 591}, {\"date\": \"2024-04-21T00:00:00\", \"kind\": \"ln\", \"msats\": 242462254, \"n_sessions\": 309, \"n_txs\": 886}, {\"date\": \"2024-04-21T00:00:00\", \"kind\": \"mint\", \"msats\": 332249478, \"n_sessions\": 302, \"n_txs\": 595}, {\"date\": \"2024-04-22T00:00:00\", \"kind\": \"ln\", \"msats\": 143952051, \"n_sessions\": 313, \"n_txs\": 900}, {\"date\": \"2024-04-22T00:00:00\", \"kind\": \"mint\", \"msats\": 208900551, \"n_sessions\": 305, \"n_txs\": 599}, {\"date\": \"2024-04-23T00:00:00\", \"kind\": \"ln\", \"msats\": 7172501, \"n_sessions\": 336, \"n_txs\": 953}, {\"date\": \"2024-04-23T00:00:00\", \"kind\": \"mint\", \"msats\": 7275001, \"n_sessions\": 330, \"n_txs\": 633}, {\"date\": \"2024-04-24T00:00:00\", \"kind\": \"ln\", \"msats\": 27426330, \"n_sessions\": 313, \"n_txs\": 895}, {\"date\": \"2024-04-24T00:00:00\", \"kind\": \"mint\", \"msats\": 27645087, \"n_sessions\": 307, \"n_txs\": 595}, {\"date\": \"2024-04-25T00:00:00\", \"kind\": \"ln\", \"msats\": 2959343, \"n_sessions\": 295, \"n_txs\": 846}, {\"date\": \"2024-04-25T00:00:00\", \"kind\": \"mint\", \"msats\": 5059344, \"n_sessions\": 287, \"n_txs\": 563}, {\"date\": \"2024-04-26T00:00:00\", \"kind\": \"ln\", \"msats\": 190687767, \"n_sessions\": 326, \"n_txs\": 937}, {\"date\": \"2024-04-26T00:00:00\", \"kind\": \"mint\", \"msats\": 190928211, \"n_sessions\": 315, \"n_txs\": 628}, {\"date\": \"2024-04-27T00:00:00\", \"kind\": \"ln\", \"msats\": 1680268512, \"n_sessions\": 343, \"n_txs\": 970}, {\"date\": \"2024-04-27T00:00:00\", \"kind\": \"mint\", \"msats\": 2081649274, \"n_sessions\": 318, \"n_txs\": 627}, {\"date\": \"2024-04-28T00:00:00\", \"kind\": \"ln\", \"msats\": 62889047, \"n_sessions\": 338, \"n_txs\": 969}, {\"date\": \"2024-04-28T00:00:00\", \"kind\": \"mint\", \"msats\": 62939047, \"n_sessions\": 326, \"n_txs\": 631}, {\"date\": \"2024-04-29T00:00:00\", \"kind\": \"ln\", \"msats\": 604787084, \"n_sessions\": 309, \"n_txs\": 899}, {\"date\": \"2024-04-29T00:00:00\", \"kind\": \"mint\", \"msats\": 897564572, \"n_sessions\": 297, \"n_txs\": 595}, {\"date\": \"2024-04-30T00:00:00\", \"kind\": \"ln\", \"msats\": 13534339, \"n_sessions\": 322, \"n_txs\": 901}, {\"date\": \"2024-04-30T00:00:00\", \"kind\": \"mint\", \"msats\": 13584339, \"n_sessions\": 309, \"n_txs\": 594}, {\"date\": \"2024-05-01T00:00:00\", \"kind\": \"ln\", \"msats\": 257092419, \"n_sessions\": 318, \"n_txs\": 914}, {\"date\": \"2024-05-01T00:00:00\", \"kind\": \"mint\", \"msats\": 325982027, \"n_sessions\": 313, \"n_txs\": 602}, {\"date\": \"2024-05-02T00:00:00\", \"kind\": \"ln\", \"msats\": 11164717, \"n_sessions\": 293, \"n_txs\": 844}, {\"date\": \"2024-05-02T00:00:00\", \"kind\": \"mint\", \"msats\": 11165717, \"n_sessions\": 288, \"n_txs\": 561}, {\"date\": \"2024-05-03T00:00:00\", \"kind\": \"ln\", \"msats\": 92786344, \"n_sessions\": 306, \"n_txs\": 893}, {\"date\": \"2024-05-03T00:00:00\", \"kind\": \"mint\", \"msats\": 93785120, \"n_sessions\": 300, \"n_txs\": 588}, {\"date\": \"2024-05-04T00:00:00\", \"kind\": \"ln\", \"msats\": 106912137, \"n_sessions\": 309, \"n_txs\": 890}, {\"date\": \"2024-05-04T00:00:00\", \"kind\": \"mint\", \"msats\": 114400745, \"n_sessions\": 304, \"n_txs\": 590}, {\"date\": \"2024-05-05T00:00:00\", \"kind\": \"ln\", \"msats\": 27207813, \"n_sessions\": 296, \"n_txs\": 859}, {\"date\": \"2024-05-05T00:00:00\", \"kind\": \"mint\", \"msats\": 27407570, \"n_sessions\": 294, \"n_txs\": 576}, {\"date\": \"2024-05-06T00:00:00\", \"kind\": \"ln\", \"msats\": 926105749, \"n_sessions\": 333, \"n_txs\": 970}, {\"date\": \"2024-05-06T00:00:00\", \"kind\": \"mint\", \"msats\": 1846716347, \"n_sessions\": 324, \"n_txs\": 649}, {\"date\": \"2024-05-07T00:00:00\", \"kind\": \"ln\", \"msats\": 356028673, \"n_sessions\": 318, \"n_txs\": 920}, {\"date\": \"2024-05-07T00:00:00\", \"kind\": \"mint\", \"msats\": 386918529, \"n_sessions\": 318, \"n_txs\": 627}, {\"date\": \"2024-05-08T00:00:00\", \"kind\": \"ln\", \"msats\": 752449652, \"n_sessions\": 310, \"n_txs\": 888}, {\"date\": \"2024-05-08T00:00:00\", \"kind\": \"mint\", \"msats\": 1281711975, \"n_sessions\": 305, \"n_txs\": 598}, {\"date\": \"2024-05-09T00:00:00\", \"kind\": \"ln\", \"msats\": 497189721, \"n_sessions\": 303, \"n_txs\": 896}, {\"date\": \"2024-05-09T00:00:00\", \"kind\": \"mint\", \"msats\": 843197141, \"n_sessions\": 300, \"n_txs\": 598}, {\"date\": \"2024-05-10T00:00:00\", \"kind\": \"ln\", \"msats\": 212869004, \"n_sessions\": 328, \"n_txs\": 960}, {\"date\": \"2024-05-10T00:00:00\", \"kind\": \"mint\", \"msats\": 278181158, \"n_sessions\": 323, \"n_txs\": 637}, {\"date\": \"2024-05-11T00:00:00\", \"kind\": \"ln\", \"msats\": 334749896, \"n_sessions\": 328, \"n_txs\": 929}, {\"date\": \"2024-05-11T00:00:00\", \"kind\": \"mint\", \"msats\": 858976707, \"n_sessions\": 325, \"n_txs\": 630}, {\"date\": \"2024-05-12T00:00:00\", \"kind\": \"ln\", \"msats\": 459802434, \"n_sessions\": 315, \"n_txs\": 925}, {\"date\": \"2024-05-12T00:00:00\", \"kind\": \"mint\", \"msats\": 100472605271, \"n_sessions\": 315, \"n_txs\": 622}, {\"date\": \"2024-05-13T00:00:00\", \"kind\": \"ln\", \"msats\": 45296891, \"n_sessions\": 319, \"n_txs\": 920}, {\"date\": \"2024-05-13T00:00:00\", \"kind\": \"mint\", \"msats\": 45626781, \"n_sessions\": 309, \"n_txs\": 629}, {\"date\": \"2024-05-14T00:00:00\", \"kind\": \"ln\", \"msats\": 424297261, \"n_sessions\": 303, \"n_txs\": 879}, {\"date\": \"2024-05-14T00:00:00\", \"kind\": \"mint\", \"msats\": 453264053, \"n_sessions\": 301, \"n_txs\": 591}, {\"date\": \"2024-05-15T00:00:00\", \"kind\": \"ln\", \"msats\": 534521552, \"n_sessions\": 307, \"n_txs\": 890}, {\"date\": \"2024-05-15T00:00:00\", \"kind\": \"mint\", \"msats\": 623631389, \"n_sessions\": 311, \"n_txs\": 614}, {\"date\": \"2024-05-16T00:00:00\", \"kind\": \"ln\", \"msats\": 388345335, \"n_sessions\": 314, \"n_txs\": 938}, {\"date\": \"2024-05-16T00:00:00\", \"kind\": \"mint\", \"msats\": 417724110, \"n_sessions\": 317, \"n_txs\": 639}, {\"date\": \"2024-05-16T00:00:00\", \"kind\": \"wallet\", \"msats\": 83978000, \"n_sessions\": 1, \"n_txs\": 1}, {\"date\": \"2024-05-17T00:00:00\", \"kind\": \"ln\", \"msats\": 881381667, \"n_sessions\": 306, \"n_txs\": 912}, {\"date\": \"2024-05-17T00:00:00\", \"kind\": \"mint\", \"msats\": 10946872019, \"n_sessions\": 309, \"n_txs\": 613}, {\"date\": \"2024-05-18T00:00:00\", \"kind\": \"ln\", \"msats\": 559301780, \"n_sessions\": 329, \"n_txs\": 941}, {\"date\": \"2024-05-18T00:00:00\", \"kind\": \"mint\", \"msats\": 964325177, \"n_sessions\": 325, \"n_txs\": 647}, {\"date\": \"2024-05-18T00:00:00\", \"kind\": \"wallet\", \"msats\": 12604000, \"n_sessions\": 1, \"n_txs\": 1}, {\"date\": \"2024-05-19T00:00:00\", \"kind\": \"ln\", \"msats\": 252258302, \"n_sessions\": 328, \"n_txs\": 969}, {\"date\": \"2024-05-19T00:00:00\", \"kind\": \"mint\", \"msats\": 288878298, \"n_sessions\": 315, \"n_txs\": 624}, {\"date\": \"2024-05-20T00:00:00\", \"kind\": \"ln\", \"msats\": 508241215, \"n_sessions\": 341, \"n_txs\": 962}, {\"date\": \"2024-05-20T00:00:00\", \"kind\": \"mint\", \"msats\": 554656825, \"n_sessions\": 323, \"n_txs\": 634}, {\"date\": \"2024-05-21T00:00:00\", \"kind\": \"ln\", \"msats\": 10065587261, \"n_sessions\": 308, \"n_txs\": 885}, {\"date\": \"2024-05-21T00:00:00\", \"kind\": \"mint\", \"msats\": 10083787085, \"n_sessions\": 309, \"n_txs\": 598}, {\"date\": \"2024-05-22T00:00:00\", \"kind\": \"ln\", \"msats\": 936352912, \"n_sessions\": 329, \"n_txs\": 924}, {\"date\": \"2024-05-22T00:00:00\", \"kind\": \"mint\", \"msats\": 982074874, \"n_sessions\": 327, \"n_txs\": 666}, {\"date\": \"2024-05-22T00:00:00\", \"kind\": \"wallet\", \"msats\": 38532737000, \"n_sessions\": 2, \"n_txs\": 2}, {\"date\": \"2024-05-23T00:00:00\", \"kind\": \"ln\", \"msats\": 165490379, \"n_sessions\": 299, \"n_txs\": 928}, {\"date\": \"2024-05-23T00:00:00\", \"kind\": \"mint\", \"msats\": 520803520, \"n_sessions\": 294, \"n_txs\": 652}, {\"date\": \"2024-05-24T00:00:00\", \"kind\": \"ln\", \"msats\": 1328651311, \"n_sessions\": 301, \"n_txs\": 873}, {\"date\": \"2024-05-24T00:00:00\", \"kind\": \"mint\", \"msats\": 2473948157, \"n_sessions\": 299, \"n_txs\": 594}, {\"date\": \"2024-05-24T00:00:00\", \"kind\": \"wallet\", \"msats\": 401592000, \"n_sessions\": 1, \"n_txs\": 1}, {\"date\": \"2024-05-25T00:00:00\", \"kind\": \"ln\", \"msats\": 179174528, \"n_sessions\": 316, \"n_txs\": 903}, {\"date\": \"2024-05-25T00:00:00\", \"kind\": \"mint\", \"msats\": 250474110, \"n_sessions\": 312, \"n_txs\": 613}, {\"date\": \"2024-05-26T00:00:00\", \"kind\": \"ln\", \"msats\": 250416540, \"n_sessions\": 324, \"n_txs\": 922}, {\"date\": \"2024-05-26T00:00:00\", \"kind\": \"mint\", \"msats\": 252920564, \"n_sessions\": 320, \"n_txs\": 618}, {\"date\": \"2024-05-27T00:00:00\", \"kind\": \"ln\", \"msats\": 388429874, \"n_sessions\": 312, \"n_txs\": 915}, {\"date\": \"2024-05-27T00:00:00\", \"kind\": \"mint\", \"msats\": 526612446, \"n_sessions\": 302, \"n_txs\": 607}, {\"date\": \"2024-05-28T00:00:00\", \"kind\": \"ln\", \"msats\": 447270595, \"n_sessions\": 311, \"n_txs\": 890}, {\"date\": \"2024-05-28T00:00:00\", \"kind\": \"mint\", \"msats\": 448906546, \"n_sessions\": 305, \"n_txs\": 596}, {\"date\": \"2024-05-29T00:00:00\", \"kind\": \"ln\", \"msats\": 4282092256, \"n_sessions\": 319, \"n_txs\": 910}, {\"date\": \"2024-05-29T00:00:00\", \"kind\": \"mint\", \"msats\": 4296354848, \"n_sessions\": 313, \"n_txs\": 704}, {\"date\": \"2024-05-30T00:00:00\", \"kind\": \"ln\", \"msats\": 427778481, \"n_sessions\": 326, \"n_txs\": 928}, {\"date\": \"2024-05-30T00:00:00\", \"kind\": \"mint\", \"msats\": 595511954, \"n_sessions\": 325, \"n_txs\": 640}, {\"date\": \"2024-05-31T00:00:00\", \"kind\": \"ln\", \"msats\": 510081241, \"n_sessions\": 322, \"n_txs\": 941}, {\"date\": \"2024-05-31T00:00:00\", \"kind\": \"mint\", \"msats\": 804766181, \"n_sessions\": 319, \"n_txs\": 642}, {\"date\": \"2024-06-01T00:00:00\", \"kind\": \"ln\", \"msats\": 340121100, \"n_sessions\": 336, \"n_txs\": 986}, {\"date\": \"2024-06-01T00:00:00\", \"kind\": \"mint\", \"msats\": 422362067, \"n_sessions\": 332, \"n_txs\": 654}, {\"date\": \"2024-06-02T00:00:00\", \"kind\": \"ln\", \"msats\": 1341768874, \"n_sessions\": 311, \"n_txs\": 911}, {\"date\": \"2024-06-02T00:00:00\", \"kind\": \"mint\", \"msats\": 1732181570, \"n_sessions\": 305, \"n_txs\": 651}, {\"date\": \"2024-06-02T00:00:00\", \"kind\": \"wallet\", \"msats\": 145331000, \"n_sessions\": 2, \"n_txs\": 2}, {\"date\": \"2024-06-03T00:00:00\", \"kind\": \"ln\", \"msats\": 21055785, \"n_sessions\": 320, \"n_txs\": 906}, {\"date\": \"2024-06-03T00:00:00\", \"kind\": \"mint\", \"msats\": 21878073, \"n_sessions\": 309, \"n_txs\": 602}, {\"date\": \"2024-06-03T00:00:00\", \"kind\": \"wallet\", \"msats\": 507612000, \"n_sessions\": 1, \"n_txs\": 1}, {\"date\": \"2024-06-04T00:00:00\", \"kind\": \"ln\", \"msats\": 1337565686, \"n_sessions\": 320, \"n_txs\": 906}, {\"date\": \"2024-06-04T00:00:00\", \"kind\": \"mint\", \"msats\": 1356721785, \"n_sessions\": 318, \"n_txs\": 610}, {\"date\": \"2024-06-05T00:00:00\", \"kind\": \"ln\", \"msats\": 1632141362, \"n_sessions\": 338, \"n_txs\": 979}, {\"date\": \"2024-06-05T00:00:00\", \"kind\": \"mint\", \"msats\": 1643067164, \"n_sessions\": 334, \"n_txs\": 668}, {\"date\": \"2024-06-06T00:00:00\", \"kind\": \"ln\", \"msats\": 424599821, \"n_sessions\": 318, \"n_txs\": 902}, {\"date\": \"2024-06-06T00:00:00\", \"kind\": \"mint\", \"msats\": 430085532, \"n_sessions\": 307, \"n_txs\": 609}, {\"date\": \"2024-06-07T00:00:00\", \"kind\": \"ln\", \"msats\": 278318677, \"n_sessions\": 303, \"n_txs\": 889}, {\"date\": \"2024-06-07T00:00:00\", \"kind\": \"mint\", \"msats\": 321163997, \"n_sessions\": 303, \"n_txs\": 602}, {\"date\": \"2024-06-08T00:00:00\", \"kind\": \"ln\", \"msats\": 744599851, \"n_sessions\": 362, \"n_txs\": 1038}, {\"date\": \"2024-06-08T00:00:00\", \"kind\": \"mint\", \"msats\": 762596156, \"n_sessions\": 362, \"n_txs\": 687}, {\"date\": \"2024-06-09T00:00:00\", \"kind\": \"ln\", \"msats\": 1050177045, \"n_sessions\": 311, \"n_txs\": 921}, {\"date\": \"2024-06-09T00:00:00\", \"kind\": \"mint\", \"msats\": 1769991599, \"n_sessions\": 303, \"n_txs\": 627}, {\"date\": \"2024-06-10T00:00:00\", \"kind\": \"ln\", \"msats\": 499215057, \"n_sessions\": 322, \"n_txs\": 944}, {\"date\": \"2024-06-10T00:00:00\", \"kind\": \"mint\", \"msats\": 468473691, \"n_sessions\": 320, \"n_txs\": 1051}, {\"date\": \"2024-06-11T00:00:00\", \"kind\": \"ln\", \"msats\": 980482580, \"n_sessions\": 319, \"n_txs\": 932}, {\"date\": \"2024-06-11T00:00:00\", \"kind\": \"mint\", \"msats\": 1107597614, \"n_sessions\": 313, \"n_txs\": 619}, {\"date\": \"2024-06-11T00:00:00\", \"kind\": \"wallet\", \"msats\": 216476000, \"n_sessions\": 1, \"n_txs\": 1}, {\"date\": \"2024-06-12T00:00:00\", \"kind\": \"ln\", \"msats\": 3872720047, \"n_sessions\": 347, \"n_txs\": 992}, {\"date\": \"2024-06-12T00:00:00\", \"kind\": \"mint\", \"msats\": 7076545969, \"n_sessions\": 338, \"n_txs\": 663}, {\"date\": \"2024-06-12T00:00:00\", \"kind\": \"wallet\", \"msats\": 25005884000, \"n_sessions\": 1, \"n_txs\": 1}, {\"date\": \"2024-06-13T00:00:00\", \"kind\": \"ln\", \"msats\": 2670941558, \"n_sessions\": 350, \"n_txs\": 1042}, {\"date\": \"2024-06-13T00:00:00\", \"kind\": \"mint\", \"msats\": 3580522823, \"n_sessions\": 343, \"n_txs\": 894}, {\"date\": \"2024-06-14T00:00:00\", \"kind\": \"ln\", \"msats\": 2794063952, \"n_sessions\": 374, \"n_txs\": 1108}, {\"date\": \"2024-06-14T00:00:00\", \"kind\": \"mint\", \"msats\": 3395983680, \"n_sessions\": 374, \"n_txs\": 859}, {\"date\": \"2024-06-15T00:00:00\", \"kind\": \"ln\", \"msats\": 2768753296, \"n_sessions\": 338, \"n_txs\": 1053}, {\"date\": \"2024-06-15T00:00:00\", \"kind\": \"mint\", \"msats\": 3369546526, \"n_sessions\": 363, \"n_txs\": 787}, {\"date\": \"2024-06-15T00:00:00\", \"kind\": \"wallet\", \"msats\": 143417000, \"n_sessions\": 1, \"n_txs\": 1}, {\"date\": \"2024-06-16T00:00:00\", \"kind\": \"ln\", \"msats\": 420297001, \"n_sessions\": 316, \"n_txs\": 913}, {\"date\": \"2024-06-16T00:00:00\", \"kind\": \"mint\", \"msats\": 1353815440, \"n_sessions\": 323, \"n_txs\": 1025}, {\"date\": \"2024-06-16T00:00:00\", \"kind\": \"wallet\", \"msats\": 996462000, \"n_sessions\": 1, \"n_txs\": 1}, {\"date\": \"2024-06-17T00:00:00\", \"kind\": \"ln\", \"msats\": 13589238037, \"n_sessions\": 336, \"n_txs\": 958}, {\"date\": \"2024-06-17T00:00:00\", \"kind\": \"mint\", \"msats\": 18075377166, \"n_sessions\": 327, \"n_txs\": 658}, {\"date\": \"2024-06-18T00:00:00\", \"kind\": \"ln\", \"msats\": 6613635272, \"n_sessions\": 351, \"n_txs\": 998}, {\"date\": \"2024-06-18T00:00:00\", \"kind\": \"mint\", \"msats\": 6887877988, \"n_sessions\": 350, \"n_txs\": 721}, {\"date\": \"2024-06-18T00:00:00\", \"kind\": \"wallet\", \"msats\": 168410000, \"n_sessions\": 1, \"n_txs\": 1}, {\"date\": \"2024-06-19T00:00:00\", \"kind\": \"ln\", \"msats\": 461434011, \"n_sessions\": 328, \"n_txs\": 933}, {\"date\": \"2024-06-19T00:00:00\", \"kind\": \"mint\", \"msats\": 753426863, \"n_sessions\": 319, \"n_txs\": 633}, {\"date\": \"2024-06-19T00:00:00\", \"kind\": \"wallet\", \"msats\": 676890000, \"n_sessions\": 2, \"n_txs\": 2}, {\"date\": \"2024-06-20T00:00:00\", \"kind\": \"ln\", \"msats\": 2329627681, \"n_sessions\": 317, \"n_txs\": 980}, {\"date\": \"2024-06-20T00:00:00\", \"kind\": \"mint\", \"msats\": 635159680, \"n_sessions\": 302, \"n_txs\": 611}, {\"date\": \"2024-06-21T00:00:00\", \"kind\": \"ln\", \"msats\": 356856037, \"n_sessions\": 324, \"n_txs\": 943}, {\"date\": \"2024-06-21T00:00:00\", \"kind\": \"mint\", \"msats\": 2205845861, \"n_sessions\": 321, \"n_txs\": 687}, {\"date\": \"2024-06-21T00:00:00\", \"kind\": \"wallet\", \"msats\": 156681000, \"n_sessions\": 1, \"n_txs\": 1}, {\"date\": \"2024-06-22T00:00:00\", \"kind\": \"ln\", \"msats\": 229251541, \"n_sessions\": 339, \"n_txs\": 994}, {\"date\": \"2024-06-22T00:00:00\", \"kind\": \"mint\", \"msats\": 246430776, \"n_sessions\": 326, \"n_txs\": 644}, {\"date\": \"2024-06-23T00:00:00\", \"kind\": \"ln\", \"msats\": 40378039, \"n_sessions\": 305, \"n_txs\": 859}, {\"date\": \"2024-06-23T00:00:00\", \"kind\": \"mint\", \"msats\": 551135721, \"n_sessions\": 299, \"n_txs\": 669}, {\"date\": \"2024-06-23T00:00:00\", \"kind\": \"wallet\", \"msats\": 155068000, \"n_sessions\": 1, \"n_txs\": 1}, {\"date\": \"2024-06-25T00:00:00\", \"kind\": \"ln\", \"msats\": 5068501350, \"n_sessions\": 357, \"n_txs\": 1032}, {\"date\": \"2024-06-25T00:00:00\", \"kind\": \"mint\", \"msats\": 5451206363, \"n_sessions\": 345, \"n_txs\": 721}, {\"date\": \"2024-06-25T00:00:00\", \"kind\": \"wallet\", \"msats\": 78035217000, \"n_sessions\": 4, \"n_txs\": 4}, {\"date\": \"2024-06-26T00:00:00\", \"kind\": \"ln\", \"msats\": 933425660, \"n_sessions\": 316, \"n_txs\": 894}, {\"date\": \"2024-06-26T00:00:00\", \"kind\": \"mint\", \"msats\": 1270602284, \"n_sessions\": 314, \"n_txs\": 644}, {\"date\": \"2024-06-26T00:00:00\", \"kind\": \"wallet\", \"msats\": 353925000, \"n_sessions\": 1, \"n_txs\": 1}, {\"date\": \"2024-06-27T00:00:00\", \"kind\": \"ln\", \"msats\": 1474314427, \"n_sessions\": 341, \"n_txs\": 963}, {\"date\": \"2024-06-27T00:00:00\", \"kind\": \"mint\", \"msats\": 1923914279, \"n_sessions\": 334, \"n_txs\": 696}, {\"date\": \"2024-06-27T00:00:00\", \"kind\": \"wallet\", \"msats\": 1311349000, \"n_sessions\": 2, \"n_txs\": 2}, {\"date\": \"2024-06-28T00:00:00\", \"kind\": \"ln\", \"msats\": 704273486, \"n_sessions\": 305, \"n_txs\": 904}, {\"date\": \"2024-06-28T00:00:00\", \"kind\": \"mint\", \"msats\": 697663435, \"n_sessions\": 304, \"n_txs\": 605}, {\"date\": \"2024-06-29T00:00:00\", \"kind\": \"ln\", \"msats\": 683806523, \"n_sessions\": 318, \"n_txs\": 952}, {\"date\": \"2024-06-29T00:00:00\", \"kind\": \"mint\", \"msats\": 2283199849, \"n_sessions\": 343, \"n_txs\": 785}, {\"date\": \"2024-06-29T00:00:00\", \"kind\": \"wallet\", \"msats\": 91933000, \"n_sessions\": 1, \"n_txs\": 1}, {\"date\": \"2024-06-30T00:00:00\", \"kind\": \"ln\", \"msats\": 1519392503, \"n_sessions\": 310, \"n_txs\": 891}, {\"date\": \"2024-06-30T00:00:00\", \"kind\": \"mint\", \"msats\": 1545563852, \"n_sessions\": 309, \"n_txs\": 603}, {\"date\": \"2024-07-01T00:00:00\", \"kind\": \"ln\", \"msats\": 555540117, \"n_sessions\": 332, \"n_txs\": 897}, {\"date\": \"2024-07-01T00:00:00\", \"kind\": \"mint\", \"msats\": 603090204, \"n_sessions\": 330, \"n_txs\": 615}, {\"date\": \"2024-07-01T00:00:00\", \"kind\": \"wallet\", \"msats\": 4582000, \"n_sessions\": 1, \"n_txs\": 1}, {\"date\": \"2024-07-02T00:00:00\", \"kind\": \"ln\", \"msats\": 248063577, \"n_sessions\": 315, \"n_txs\": 881}, {\"date\": \"2024-07-02T00:00:00\", \"kind\": \"mint\", \"msats\": 255204253, \"n_sessions\": 304, \"n_txs\": 592}, {\"date\": \"2024-07-03T00:00:00\", \"kind\": \"ln\", \"msats\": 690282694, \"n_sessions\": 332, \"n_txs\": 905}, {\"date\": \"2024-07-03T00:00:00\", \"kind\": \"mint\", \"msats\": 701027363, \"n_sessions\": 316, \"n_txs\": 623}, {\"date\": \"2024-07-03T00:00:00\", \"kind\": \"wallet\", \"msats\": 1243471000, \"n_sessions\": 4, \"n_txs\": 4}, {\"date\": \"2024-07-04T00:00:00\", \"kind\": \"ln\", \"msats\": 108079217, \"n_sessions\": 328, \"n_txs\": 921}, {\"date\": \"2024-07-04T00:00:00\", \"kind\": \"mint\", \"msats\": 173566685, \"n_sessions\": 307, \"n_txs\": 621}, {\"date\": \"2024-07-05T00:00:00\", \"kind\": \"ln\", \"msats\": 60297975, \"n_sessions\": 334, \"n_txs\": 906}, {\"date\": \"2024-07-05T00:00:00\", \"kind\": \"mint\", \"msats\": 79721266, \"n_sessions\": 334, \"n_txs\": 649}, {\"date\": \"2024-07-06T00:00:00\", \"kind\": \"ln\", \"msats\": 16539909, \"n_sessions\": 317, \"n_txs\": 861}, {\"date\": \"2024-07-06T00:00:00\", \"kind\": \"mint\", \"msats\": 18629262, \"n_sessions\": 299, \"n_txs\": 589}, {\"date\": \"2024-07-07T00:00:00\", \"kind\": \"ln\", \"msats\": 437526421, \"n_sessions\": 313, \"n_txs\": 879}, {\"date\": \"2024-07-07T00:00:00\", \"kind\": \"mint\", \"msats\": 1126977595, \"n_sessions\": 313, \"n_txs\": 603}, {\"date\": \"2024-07-08T00:00:00\", \"kind\": \"ln\", \"msats\": 3474008, \"n_sessions\": 336, \"n_txs\": 872}, {\"date\": \"2024-07-08T00:00:00\", \"kind\": \"mint\", \"msats\": 4841688, \"n_sessions\": 297, \"n_txs\": 583}, {\"date\": \"2024-07-09T00:00:00\", \"kind\": \"ln\", \"msats\": 1299756361, \"n_sessions\": 318, \"n_txs\": 897}, {\"date\": \"2024-07-09T00:00:00\", \"kind\": \"mint\", \"msats\": 1377204505, \"n_sessions\": 307, \"n_txs\": 597}, {\"date\": \"2024-07-10T00:00:00\", \"kind\": \"ln\", \"msats\": 740893701, \"n_sessions\": 336, \"n_txs\": 907}, {\"date\": \"2024-07-10T00:00:00\", \"kind\": \"mint\", \"msats\": 784945757, \"n_sessions\": 318, \"n_txs\": 634}, {\"date\": \"2024-07-11T00:00:00\", \"kind\": \"ln\", \"msats\": 24763655, \"n_sessions\": 314, \"n_txs\": 833}, {\"date\": \"2024-07-11T00:00:00\", \"kind\": \"mint\", \"msats\": 42032266, \"n_sessions\": 284, \"n_txs\": 568}, {\"date\": \"2024-07-11T00:00:00\", \"kind\": \"wallet\", \"msats\": 46515000, \"n_sessions\": 1, \"n_txs\": 1}, {\"date\": \"2024-07-12T00:00:00\", \"kind\": \"ln\", \"msats\": 476523888, \"n_sessions\": 322, \"n_txs\": 938}, {\"date\": \"2024-07-12T00:00:00\", \"kind\": \"mint\", \"msats\": 1221059888, \"n_sessions\": 323, \"n_txs\": 627}, {\"date\": \"2024-07-13T00:00:00\", \"kind\": \"ln\", \"msats\": 609404338, \"n_sessions\": 330, \"n_txs\": 891}, {\"date\": \"2024-07-13T00:00:00\", \"kind\": \"mint\", \"msats\": 610142338, \"n_sessions\": 334, \"n_txs\": 608}, {\"date\": \"2024-07-14T00:00:00\", \"kind\": \"ln\", \"msats\": 25595977, \"n_sessions\": 320, \"n_txs\": 878}, {\"date\": \"2024-07-14T00:00:00\", \"kind\": \"mint\", \"msats\": 25599780, \"n_sessions\": 307, \"n_txs\": 585}, {\"date\": \"2024-07-15T00:00:00\", \"kind\": \"ln\", \"msats\": 35519220, \"n_sessions\": 351, \"n_txs\": 888}, {\"date\": \"2024-07-15T00:00:00\", \"kind\": \"mint\", \"msats\": 56655055, \"n_sessions\": 313, \"n_txs\": 626}, {\"date\": \"2024-07-16T00:00:00\", \"kind\": \"ln\", \"msats\": 114956193, \"n_sessions\": 315, \"n_txs\": 849}, {\"date\": \"2024-07-16T00:00:00\", \"kind\": \"mint\", \"msats\": 135176193, \"n_sessions\": 298, \"n_txs\": 563}, {\"date\": \"2024-07-16T00:00:00\", \"kind\": \"wallet\", \"msats\": 21355000, \"n_sessions\": 1, \"n_txs\": 1}, {\"date\": \"2024-07-17T00:00:00\", \"kind\": \"ln\", \"msats\": 1028253522, \"n_sessions\": 320, \"n_txs\": 938}, {\"date\": \"2024-07-17T00:00:00\", \"kind\": \"mint\", \"msats\": 1407874530, \"n_sessions\": 312, \"n_txs\": 654}, {\"date\": \"2024-07-17T00:00:00\", \"kind\": \"wallet\", \"msats\": 253565000, \"n_sessions\": 1, \"n_txs\": 1}, {\"date\": \"2024-07-18T00:00:00\", \"kind\": \"ln\", \"msats\": 2513545377, \"n_sessions\": 324, \"n_txs\": 877}, {\"date\": \"2024-07-18T00:00:00\", \"kind\": \"mint\", \"msats\": 4593680295, \"n_sessions\": 300, \"n_txs\": 591}, {\"date\": \"2024-07-18T00:00:00\", \"kind\": \"wallet\", \"msats\": 2039401000, \"n_sessions\": 3, \"n_txs\": 3}, {\"date\": \"2024-07-19T00:00:00\", \"kind\": \"ln\", \"msats\": 80016092, \"n_sessions\": 325, \"n_txs\": 919}, {\"date\": \"2024-07-19T00:00:00\", \"kind\": \"mint\", \"msats\": 80181092, \"n_sessions\": 325, \"n_txs\": 612}, {\"date\": \"2024-07-20T00:00:00\", \"kind\": \"ln\", \"msats\": 693100701, \"n_sessions\": 315, \"n_txs\": 890}, {\"date\": \"2024-07-20T00:00:00\", \"kind\": \"mint\", \"msats\": 693238210, \"n_sessions\": 301, \"n_txs\": 601}, {\"date\": \"2024-07-21T00:00:00\", \"kind\": \"ln\", \"msats\": 799716498, \"n_sessions\": 339, \"n_txs\": 963}, {\"date\": \"2024-07-21T00:00:00\", \"kind\": \"mint\", \"msats\": 1376457571, \"n_sessions\": 336, \"n_txs\": 637}, {\"date\": \"2024-07-21T00:00:00\", \"kind\": \"wallet\", \"msats\": 1048960000, \"n_sessions\": 2, \"n_txs\": 2}, {\"date\": \"2024-07-22T00:00:00\", \"kind\": \"ln\", \"msats\": 155522276, \"n_sessions\": 308, \"n_txs\": 841}, {\"date\": \"2024-07-22T00:00:00\", \"kind\": \"mint\", \"msats\": 158662276, \"n_sessions\": 293, \"n_txs\": 556}, {\"date\": \"2024-07-23T00:00:00\", \"kind\": \"ln\", \"msats\": 36697333, \"n_sessions\": 334, \"n_txs\": 926}, {\"date\": \"2024-07-23T00:00:00\", \"kind\": \"mint\", \"msats\": 37669956, \"n_sessions\": 323, \"n_txs\": 609}, {\"date\": \"2024-07-24T00:00:00\", \"kind\": \"ln\", \"msats\": 1240073501, \"n_sessions\": 320, \"n_txs\": 902}, {\"date\": \"2024-07-24T00:00:00\", \"kind\": \"mint\", \"msats\": 1312963501, \"n_sessions\": 310, \"n_txs\": 599}, {\"date\": \"2024-07-24T00:00:00\", \"kind\": \"wallet\", \"msats\": 162657000, \"n_sessions\": 1, \"n_txs\": 1}, {\"date\": \"2024-07-25T00:00:00\", \"kind\": \"ln\", \"msats\": 170481351, \"n_sessions\": 310, \"n_txs\": 865}, {\"date\": \"2024-07-25T00:00:00\", \"kind\": \"mint\", \"msats\": 292699095, \"n_sessions\": 303, \"n_txs\": 585}, {\"date\": \"2024-07-25T00:00:00\", \"kind\": \"wallet\", \"msats\": 501230000, \"n_sessions\": 1, \"n_txs\": 1}, {\"date\": \"2024-07-26T00:00:00\", \"kind\": \"ln\", \"msats\": 98309324, \"n_sessions\": 306, \"n_txs\": 871}, {\"date\": \"2024-07-26T00:00:00\", \"kind\": \"mint\", \"msats\": 99104324, \"n_sessions\": 307, \"n_txs\": 588}, {\"date\": \"2024-07-26T00:00:00\", \"kind\": \"wallet\", \"msats\": 80972000, \"n_sessions\": 1, \"n_txs\": 1}, {\"date\": \"2024-07-27T00:00:00\", \"kind\": \"ln\", \"msats\": 262660355, \"n_sessions\": 336, \"n_txs\": 940}, {\"date\": \"2024-07-27T00:00:00\", \"kind\": \"mint\", \"msats\": 267493077, \"n_sessions\": 327, \"n_txs\": 681}, {\"date\": \"2024-07-28T00:00:00\", \"kind\": \"ln\", \"msats\": 1002695308, \"n_sessions\": 313, \"n_txs\": 908}, {\"date\": \"2024-07-28T00:00:00\", \"kind\": \"mint\", \"msats\": 1116219908, \"n_sessions\": 309, \"n_txs\": 615}, {\"date\": \"2024-07-29T00:00:00\", \"kind\": \"ln\", \"msats\": 421065522, \"n_sessions\": 299, \"n_txs\": 858}, {\"date\": \"2024-07-29T00:00:00\", \"kind\": \"mint\", \"msats\": 523150189, \"n_sessions\": 304, \"n_txs\": 579}, {\"date\": \"2024-07-30T00:00:00\", \"kind\": \"ln\", \"msats\": 82508087, \"n_sessions\": 268, \"n_txs\": 758}, {\"date\": \"2024-07-30T00:00:00\", \"kind\": \"mint\", \"msats\": 83536659, \"n_sessions\": 272, \"n_txs\": 507}], \"data-6aad87403bfa4b843d1b402e23b81868\": [{\"date\": \"2024-04-06T00:00:00\", \"type\": \"n_sessions\", \"n\": 1}, {\"date\": \"2024-04-08T00:00:00\", \"type\": \"n_sessions\", \"n\": 7}, {\"date\": \"2024-04-09T00:00:00\", \"type\": \"n_sessions\", \"n\": 10}, {\"date\": \"2024-04-10T00:00:00\", \"type\": \"n_sessions\", \"n\": 178}, {\"date\": \"2024-04-11T00:00:00\", \"type\": \"n_sessions\", \"n\": 627}, {\"date\": \"2024-04-12T00:00:00\", \"type\": \"n_sessions\", \"n\": 598}, {\"date\": \"2024-04-13T00:00:00\", \"type\": \"n_sessions\", \"n\": 637}, {\"date\": \"2024-04-14T00:00:00\", \"type\": \"n_sessions\", \"n\": 568}, {\"date\": \"2024-04-15T00:00:00\", \"type\": \"n_sessions\", \"n\": 644}, {\"date\": \"2024-04-16T00:00:00\", \"type\": \"n_sessions\", \"n\": 584}, {\"date\": \"2024-04-17T00:00:00\", \"type\": \"n_sessions\", \"n\": 575}, {\"date\": \"2024-04-18T00:00:00\", \"type\": \"n_sessions\", \"n\": 583}, {\"date\": \"2024-04-19T00:00:00\", \"type\": \"n_sessions\", \"n\": 602}, {\"date\": \"2024-04-20T00:00:00\", \"type\": \"n_sessions\", \"n\": 608}, {\"date\": \"2024-04-21T00:00:00\", \"type\": \"n_sessions\", \"n\": 611}, {\"date\": \"2024-04-22T00:00:00\", \"type\": \"n_sessions\", \"n\": 618}, {\"date\": \"2024-04-23T00:00:00\", \"type\": \"n_sessions\", \"n\": 666}, {\"date\": \"2024-04-24T00:00:00\", \"type\": \"n_sessions\", \"n\": 620}, {\"date\": \"2024-04-25T00:00:00\", \"type\": \"n_sessions\", \"n\": 582}, {\"date\": \"2024-04-26T00:00:00\", \"type\": \"n_sessions\", \"n\": 641}, {\"date\": \"2024-04-27T00:00:00\", \"type\": \"n_sessions\", \"n\": 661}, {\"date\": \"2024-04-28T00:00:00\", \"type\": \"n_sessions\", \"n\": 664}, {\"date\": \"2024-04-29T00:00:00\", \"type\": \"n_sessions\", \"n\": 606}, {\"date\": \"2024-04-30T00:00:00\", \"type\": \"n_sessions\", \"n\": 631}, {\"date\": \"2024-05-01T00:00:00\", \"type\": \"n_sessions\", \"n\": 631}, {\"date\": \"2024-05-02T00:00:00\", \"type\": \"n_sessions\", \"n\": 581}, {\"date\": \"2024-05-03T00:00:00\", \"type\": \"n_sessions\", \"n\": 606}, {\"date\": \"2024-05-04T00:00:00\", \"type\": \"n_sessions\", \"n\": 613}, {\"date\": \"2024-05-05T00:00:00\", \"type\": \"n_sessions\", \"n\": 590}, {\"date\": \"2024-05-06T00:00:00\", \"type\": \"n_sessions\", \"n\": 657}, {\"date\": \"2024-05-07T00:00:00\", \"type\": \"n_sessions\", \"n\": 636}, {\"date\": \"2024-05-08T00:00:00\", \"type\": \"n_sessions\", \"n\": 615}, {\"date\": \"2024-05-09T00:00:00\", \"type\": \"n_sessions\", \"n\": 603}, {\"date\": \"2024-05-10T00:00:00\", \"type\": \"n_sessions\", \"n\": 651}, {\"date\": \"2024-05-11T00:00:00\", \"type\": \"n_sessions\", \"n\": 653}, {\"date\": \"2024-05-12T00:00:00\", \"type\": \"n_sessions\", \"n\": 630}, {\"date\": \"2024-05-13T00:00:00\", \"type\": \"n_sessions\", \"n\": 628}, {\"date\": \"2024-05-14T00:00:00\", \"type\": \"n_sessions\", \"n\": 604}, {\"date\": \"2024-05-15T00:00:00\", \"type\": \"n_sessions\", \"n\": 618}, {\"date\": \"2024-05-16T00:00:00\", \"type\": \"n_sessions\", \"n\": 632}, {\"date\": \"2024-05-17T00:00:00\", \"type\": \"n_sessions\", \"n\": 615}, {\"date\": \"2024-05-18T00:00:00\", \"type\": \"n_sessions\", \"n\": 655}, {\"date\": \"2024-05-19T00:00:00\", \"type\": \"n_sessions\", \"n\": 643}, {\"date\": \"2024-05-20T00:00:00\", \"type\": \"n_sessions\", \"n\": 664}, {\"date\": \"2024-05-21T00:00:00\", \"type\": \"n_sessions\", \"n\": 617}, {\"date\": \"2024-05-22T00:00:00\", \"type\": \"n_sessions\", \"n\": 658}, {\"date\": \"2024-05-23T00:00:00\", \"type\": \"n_sessions\", \"n\": 593}, {\"date\": \"2024-05-24T00:00:00\", \"type\": \"n_sessions\", \"n\": 601}, {\"date\": \"2024-05-25T00:00:00\", \"type\": \"n_sessions\", \"n\": 628}, {\"date\": \"2024-05-26T00:00:00\", \"type\": \"n_sessions\", \"n\": 644}, {\"date\": \"2024-05-27T00:00:00\", \"type\": \"n_sessions\", \"n\": 614}, {\"date\": \"2024-05-28T00:00:00\", \"type\": \"n_sessions\", \"n\": 616}, {\"date\": \"2024-05-29T00:00:00\", \"type\": \"n_sessions\", \"n\": 632}, {\"date\": \"2024-05-30T00:00:00\", \"type\": \"n_sessions\", \"n\": 651}, {\"date\": \"2024-05-31T00:00:00\", \"type\": \"n_sessions\", \"n\": 641}, {\"date\": \"2024-06-01T00:00:00\", \"type\": \"n_sessions\", \"n\": 668}, {\"date\": \"2024-06-02T00:00:00\", \"type\": \"n_sessions\", \"n\": 618}, {\"date\": \"2024-06-03T00:00:00\", \"type\": \"n_sessions\", \"n\": 630}, {\"date\": \"2024-06-04T00:00:00\", \"type\": \"n_sessions\", \"n\": 638}, {\"date\": \"2024-06-05T00:00:00\", \"type\": \"n_sessions\", \"n\": 672}, {\"date\": \"2024-06-06T00:00:00\", \"type\": \"n_sessions\", \"n\": 625}, {\"date\": \"2024-06-07T00:00:00\", \"type\": \"n_sessions\", \"n\": 606}, {\"date\": \"2024-06-08T00:00:00\", \"type\": \"n_sessions\", \"n\": 724}, {\"date\": \"2024-06-09T00:00:00\", \"type\": \"n_sessions\", \"n\": 614}, {\"date\": \"2024-06-10T00:00:00\", \"type\": \"n_sessions\", \"n\": 642}, {\"date\": \"2024-06-11T00:00:00\", \"type\": \"n_sessions\", \"n\": 633}, {\"date\": \"2024-06-12T00:00:00\", \"type\": \"n_sessions\", \"n\": 686}, {\"date\": \"2024-06-13T00:00:00\", \"type\": \"n_sessions\", \"n\": 693}, {\"date\": \"2024-06-14T00:00:00\", \"type\": \"n_sessions\", \"n\": 748}, {\"date\": \"2024-06-15T00:00:00\", \"type\": \"n_sessions\", \"n\": 702}, {\"date\": \"2024-06-16T00:00:00\", \"type\": \"n_sessions\", \"n\": 640}, {\"date\": \"2024-06-17T00:00:00\", \"type\": \"n_sessions\", \"n\": 663}, {\"date\": \"2024-06-18T00:00:00\", \"type\": \"n_sessions\", \"n\": 702}, {\"date\": \"2024-06-19T00:00:00\", \"type\": \"n_sessions\", \"n\": 649}, {\"date\": \"2024-06-20T00:00:00\", \"type\": \"n_sessions\", \"n\": 619}, {\"date\": \"2024-06-21T00:00:00\", \"type\": \"n_sessions\", \"n\": 646}, {\"date\": \"2024-06-22T00:00:00\", \"type\": \"n_sessions\", \"n\": 665}, {\"date\": \"2024-06-23T00:00:00\", \"type\": \"n_sessions\", \"n\": 605}, {\"date\": \"2024-06-25T00:00:00\", \"type\": \"n_sessions\", \"n\": 706}, {\"date\": \"2024-06-26T00:00:00\", \"type\": \"n_sessions\", \"n\": 631}, {\"date\": \"2024-06-27T00:00:00\", \"type\": \"n_sessions\", \"n\": 677}, {\"date\": \"2024-06-28T00:00:00\", \"type\": \"n_sessions\", \"n\": 609}, {\"date\": \"2024-06-29T00:00:00\", \"type\": \"n_sessions\", \"n\": 662}, {\"date\": \"2024-06-30T00:00:00\", \"type\": \"n_sessions\", \"n\": 619}, {\"date\": \"2024-07-01T00:00:00\", \"type\": \"n_sessions\", \"n\": 663}, {\"date\": \"2024-07-02T00:00:00\", \"type\": \"n_sessions\", \"n\": 619}, {\"date\": \"2024-07-03T00:00:00\", \"type\": \"n_sessions\", \"n\": 652}, {\"date\": \"2024-07-04T00:00:00\", \"type\": \"n_sessions\", \"n\": 635}, {\"date\": \"2024-07-05T00:00:00\", \"type\": \"n_sessions\", \"n\": 668}, {\"date\": \"2024-07-06T00:00:00\", \"type\": \"n_sessions\", \"n\": 616}, {\"date\": \"2024-07-07T00:00:00\", \"type\": \"n_sessions\", \"n\": 626}, {\"date\": \"2024-07-08T00:00:00\", \"type\": \"n_sessions\", \"n\": 633}, {\"date\": \"2024-07-09T00:00:00\", \"type\": \"n_sessions\", \"n\": 625}, {\"date\": \"2024-07-10T00:00:00\", \"type\": \"n_sessions\", \"n\": 654}, {\"date\": \"2024-07-11T00:00:00\", \"type\": \"n_sessions\", \"n\": 599}, {\"date\": \"2024-07-12T00:00:00\", \"type\": \"n_sessions\", \"n\": 645}, {\"date\": \"2024-07-13T00:00:00\", \"type\": \"n_sessions\", \"n\": 664}, {\"date\": \"2024-07-14T00:00:00\", \"type\": \"n_sessions\", \"n\": 627}, {\"date\": \"2024-07-15T00:00:00\", \"type\": \"n_sessions\", \"n\": 664}, {\"date\": \"2024-07-16T00:00:00\", \"type\": \"n_sessions\", \"n\": 614}, {\"date\": \"2024-07-17T00:00:00\", \"type\": \"n_sessions\", \"n\": 633}, {\"date\": \"2024-07-18T00:00:00\", \"type\": \"n_sessions\", \"n\": 627}, {\"date\": \"2024-07-19T00:00:00\", \"type\": \"n_sessions\", \"n\": 650}, {\"date\": \"2024-07-20T00:00:00\", \"type\": \"n_sessions\", \"n\": 616}, {\"date\": \"2024-07-21T00:00:00\", \"type\": \"n_sessions\", \"n\": 677}, {\"date\": \"2024-07-22T00:00:00\", \"type\": \"n_sessions\", \"n\": 601}, {\"date\": \"2024-07-23T00:00:00\", \"type\": \"n_sessions\", \"n\": 657}, {\"date\": \"2024-07-24T00:00:00\", \"type\": \"n_sessions\", \"n\": 631}, {\"date\": \"2024-07-25T00:00:00\", \"type\": \"n_sessions\", \"n\": 614}, {\"date\": \"2024-07-26T00:00:00\", \"type\": \"n_sessions\", \"n\": 614}, {\"date\": \"2024-07-27T00:00:00\", \"type\": \"n_sessions\", \"n\": 663}, {\"date\": \"2024-07-28T00:00:00\", \"type\": \"n_sessions\", \"n\": 622}, {\"date\": \"2024-07-29T00:00:00\", \"type\": \"n_sessions\", \"n\": 603}, {\"date\": \"2024-07-30T00:00:00\", \"type\": \"n_sessions\", \"n\": 540}, {\"date\": \"2024-04-06T00:00:00\", \"type\": \"n_txs\", \"n\": 1}, {\"date\": \"2024-04-08T00:00:00\", \"type\": \"n_txs\", \"n\": 8}, {\"date\": \"2024-04-09T00:00:00\", \"type\": \"n_txs\", \"n\": 12}, {\"date\": \"2024-04-10T00:00:00\", \"type\": \"n_txs\", \"n\": 434}, {\"date\": \"2024-04-11T00:00:00\", \"type\": \"n_txs\", \"n\": 1583}, {\"date\": \"2024-04-12T00:00:00\", \"type\": \"n_txs\", \"n\": 1414}, {\"date\": \"2024-04-13T00:00:00\", \"type\": \"n_txs\", \"n\": 1534}, {\"date\": \"2024-04-14T00:00:00\", \"type\": \"n_txs\", \"n\": 1379}, {\"date\": \"2024-04-15T00:00:00\", \"type\": \"n_txs\", \"n\": 1498}, {\"date\": \"2024-04-16T00:00:00\", \"type\": \"n_txs\", \"n\": 1424}, {\"date\": \"2024-04-17T00:00:00\", \"type\": \"n_txs\", \"n\": 1317}, {\"date\": \"2024-04-18T00:00:00\", \"type\": \"n_txs\", \"n\": 1419}, {\"date\": \"2024-04-19T00:00:00\", \"type\": \"n_txs\", \"n\": 1456}, {\"date\": \"2024-04-20T00:00:00\", \"type\": \"n_txs\", \"n\": 1483}, {\"date\": \"2024-04-21T00:00:00\", \"type\": \"n_txs\", \"n\": 1481}, {\"date\": \"2024-04-22T00:00:00\", \"type\": \"n_txs\", \"n\": 1499}, {\"date\": \"2024-04-23T00:00:00\", \"type\": \"n_txs\", \"n\": 1586}, {\"date\": \"2024-04-24T00:00:00\", \"type\": \"n_txs\", \"n\": 1490}, {\"date\": \"2024-04-25T00:00:00\", \"type\": \"n_txs\", \"n\": 1409}, {\"date\": \"2024-04-26T00:00:00\", \"type\": \"n_txs\", \"n\": 1565}, {\"date\": \"2024-04-27T00:00:00\", \"type\": \"n_txs\", \"n\": 1597}, {\"date\": \"2024-04-28T00:00:00\", \"type\": \"n_txs\", \"n\": 1600}, {\"date\": \"2024-04-29T00:00:00\", \"type\": \"n_txs\", \"n\": 1494}, {\"date\": \"2024-04-30T00:00:00\", \"type\": \"n_txs\", \"n\": 1495}, {\"date\": \"2024-05-01T00:00:00\", \"type\": \"n_txs\", \"n\": 1516}, {\"date\": \"2024-05-02T00:00:00\", \"type\": \"n_txs\", \"n\": 1405}, {\"date\": \"2024-05-03T00:00:00\", \"type\": \"n_txs\", \"n\": 1481}, {\"date\": \"2024-05-04T00:00:00\", \"type\": \"n_txs\", \"n\": 1480}, {\"date\": \"2024-05-05T00:00:00\", \"type\": \"n_txs\", \"n\": 1435}, {\"date\": \"2024-05-06T00:00:00\", \"type\": \"n_txs\", \"n\": 1619}, {\"date\": \"2024-05-07T00:00:00\", \"type\": \"n_txs\", \"n\": 1547}, {\"date\": \"2024-05-08T00:00:00\", \"type\": \"n_txs\", \"n\": 1486}, {\"date\": \"2024-05-09T00:00:00\", \"type\": \"n_txs\", \"n\": 1494}, {\"date\": \"2024-05-10T00:00:00\", \"type\": \"n_txs\", \"n\": 1597}, {\"date\": \"2024-05-11T00:00:00\", \"type\": \"n_txs\", \"n\": 1559}, {\"date\": \"2024-05-12T00:00:00\", \"type\": \"n_txs\", \"n\": 1547}, {\"date\": \"2024-05-13T00:00:00\", \"type\": \"n_txs\", \"n\": 1549}, {\"date\": \"2024-05-14T00:00:00\", \"type\": \"n_txs\", \"n\": 1470}, {\"date\": \"2024-05-15T00:00:00\", \"type\": \"n_txs\", \"n\": 1504}, {\"date\": \"2024-05-16T00:00:00\", \"type\": \"n_txs\", \"n\": 1578}, {\"date\": \"2024-05-17T00:00:00\", \"type\": \"n_txs\", \"n\": 1525}, {\"date\": \"2024-05-18T00:00:00\", \"type\": \"n_txs\", \"n\": 1589}, {\"date\": \"2024-05-19T00:00:00\", \"type\": \"n_txs\", \"n\": 1593}, {\"date\": \"2024-05-20T00:00:00\", \"type\": \"n_txs\", \"n\": 1596}, {\"date\": \"2024-05-21T00:00:00\", \"type\": \"n_txs\", \"n\": 1483}, {\"date\": \"2024-05-22T00:00:00\", \"type\": \"n_txs\", \"n\": 1592}, {\"date\": \"2024-05-23T00:00:00\", \"type\": \"n_txs\", \"n\": 1580}, {\"date\": \"2024-05-24T00:00:00\", \"type\": \"n_txs\", \"n\": 1468}, {\"date\": \"2024-05-25T00:00:00\", \"type\": \"n_txs\", \"n\": 1516}, {\"date\": \"2024-05-26T00:00:00\", \"type\": \"n_txs\", \"n\": 1540}, {\"date\": \"2024-05-27T00:00:00\", \"type\": \"n_txs\", \"n\": 1522}, {\"date\": \"2024-05-28T00:00:00\", \"type\": \"n_txs\", \"n\": 1486}, {\"date\": \"2024-05-29T00:00:00\", \"type\": \"n_txs\", \"n\": 1614}, {\"date\": \"2024-05-30T00:00:00\", \"type\": \"n_txs\", \"n\": 1568}, {\"date\": \"2024-05-31T00:00:00\", \"type\": \"n_txs\", \"n\": 1583}, {\"date\": \"2024-06-01T00:00:00\", \"type\": \"n_txs\", \"n\": 1640}, {\"date\": \"2024-06-02T00:00:00\", \"type\": \"n_txs\", \"n\": 1564}, {\"date\": \"2024-06-03T00:00:00\", \"type\": \"n_txs\", \"n\": 1509}, {\"date\": \"2024-06-04T00:00:00\", \"type\": \"n_txs\", \"n\": 1516}, {\"date\": \"2024-06-05T00:00:00\", \"type\": \"n_txs\", \"n\": 1647}, {\"date\": \"2024-06-06T00:00:00\", \"type\": \"n_txs\", \"n\": 1511}, {\"date\": \"2024-06-07T00:00:00\", \"type\": \"n_txs\", \"n\": 1491}, {\"date\": \"2024-06-08T00:00:00\", \"type\": \"n_txs\", \"n\": 1725}, {\"date\": \"2024-06-09T00:00:00\", \"type\": \"n_txs\", \"n\": 1548}, {\"date\": \"2024-06-10T00:00:00\", \"type\": \"n_txs\", \"n\": 1995}, {\"date\": \"2024-06-11T00:00:00\", \"type\": \"n_txs\", \"n\": 1552}, {\"date\": \"2024-06-12T00:00:00\", \"type\": \"n_txs\", \"n\": 1656}, {\"date\": \"2024-06-13T00:00:00\", \"type\": \"n_txs\", \"n\": 1936}, {\"date\": \"2024-06-14T00:00:00\", \"type\": \"n_txs\", \"n\": 1967}, {\"date\": \"2024-06-15T00:00:00\", \"type\": \"n_txs\", \"n\": 1841}, {\"date\": \"2024-06-16T00:00:00\", \"type\": \"n_txs\", \"n\": 1939}, {\"date\": \"2024-06-17T00:00:00\", \"type\": \"n_txs\", \"n\": 1616}, {\"date\": \"2024-06-18T00:00:00\", \"type\": \"n_txs\", \"n\": 1720}, {\"date\": \"2024-06-19T00:00:00\", \"type\": \"n_txs\", \"n\": 1568}, {\"date\": \"2024-06-20T00:00:00\", \"type\": \"n_txs\", \"n\": 1591}, {\"date\": \"2024-06-21T00:00:00\", \"type\": \"n_txs\", \"n\": 1631}, {\"date\": \"2024-06-22T00:00:00\", \"type\": \"n_txs\", \"n\": 1638}, {\"date\": \"2024-06-23T00:00:00\", \"type\": \"n_txs\", \"n\": 1529}, {\"date\": \"2024-06-25T00:00:00\", \"type\": \"n_txs\", \"n\": 1757}, {\"date\": \"2024-06-26T00:00:00\", \"type\": \"n_txs\", \"n\": 1539}, {\"date\": \"2024-06-27T00:00:00\", \"type\": \"n_txs\", \"n\": 1661}, {\"date\": \"2024-06-28T00:00:00\", \"type\": \"n_txs\", \"n\": 1509}, {\"date\": \"2024-06-29T00:00:00\", \"type\": \"n_txs\", \"n\": 1738}, {\"date\": \"2024-06-30T00:00:00\", \"type\": \"n_txs\", \"n\": 1494}, {\"date\": \"2024-07-01T00:00:00\", \"type\": \"n_txs\", \"n\": 1513}, {\"date\": \"2024-07-02T00:00:00\", \"type\": \"n_txs\", \"n\": 1473}, {\"date\": \"2024-07-03T00:00:00\", \"type\": \"n_txs\", \"n\": 1532}, {\"date\": \"2024-07-04T00:00:00\", \"type\": \"n_txs\", \"n\": 1542}, {\"date\": \"2024-07-05T00:00:00\", \"type\": \"n_txs\", \"n\": 1555}, {\"date\": \"2024-07-06T00:00:00\", \"type\": \"n_txs\", \"n\": 1450}, {\"date\": \"2024-07-07T00:00:00\", \"type\": \"n_txs\", \"n\": 1482}, {\"date\": \"2024-07-08T00:00:00\", \"type\": \"n_txs\", \"n\": 1455}, {\"date\": \"2024-07-09T00:00:00\", \"type\": \"n_txs\", \"n\": 1494}, {\"date\": \"2024-07-10T00:00:00\", \"type\": \"n_txs\", \"n\": 1541}, {\"date\": \"2024-07-11T00:00:00\", \"type\": \"n_txs\", \"n\": 1402}, {\"date\": \"2024-07-12T00:00:00\", \"type\": \"n_txs\", \"n\": 1565}, {\"date\": \"2024-07-13T00:00:00\", \"type\": \"n_txs\", \"n\": 1499}, {\"date\": \"2024-07-14T00:00:00\", \"type\": \"n_txs\", \"n\": 1463}, {\"date\": \"2024-07-15T00:00:00\", \"type\": \"n_txs\", \"n\": 1514}, {\"date\": \"2024-07-16T00:00:00\", \"type\": \"n_txs\", \"n\": 1413}, {\"date\": \"2024-07-17T00:00:00\", \"type\": \"n_txs\", \"n\": 1593}, {\"date\": \"2024-07-18T00:00:00\", \"type\": \"n_txs\", \"n\": 1471}, {\"date\": \"2024-07-19T00:00:00\", \"type\": \"n_txs\", \"n\": 1531}, {\"date\": \"2024-07-20T00:00:00\", \"type\": \"n_txs\", \"n\": 1491}, {\"date\": \"2024-07-21T00:00:00\", \"type\": \"n_txs\", \"n\": 1602}, {\"date\": \"2024-07-22T00:00:00\", \"type\": \"n_txs\", \"n\": 1397}, {\"date\": \"2024-07-23T00:00:00\", \"type\": \"n_txs\", \"n\": 1535}, {\"date\": \"2024-07-24T00:00:00\", \"type\": \"n_txs\", \"n\": 1502}, {\"date\": \"2024-07-25T00:00:00\", \"type\": \"n_txs\", \"n\": 1451}, {\"date\": \"2024-07-26T00:00:00\", \"type\": \"n_txs\", \"n\": 1460}, {\"date\": \"2024-07-27T00:00:00\", \"type\": \"n_txs\", \"n\": 1621}, {\"date\": \"2024-07-28T00:00:00\", \"type\": \"n_txs\", \"n\": 1523}, {\"date\": \"2024-07-29T00:00:00\", \"type\": \"n_txs\", \"n\": 1437}, {\"date\": \"2024-07-30T00:00:00\", \"type\": \"n_txs\", \"n\": 1265}]}}, {\"mode\": \"vega-lite\"});\n",
       "</script>"
      ],
      "text/plain": [
       "alt.LayerChart(...)"
      ]
     },
     "execution_count": 21,
     "metadata": {},
     "output_type": "execute_result"
    }
   ],
   "source": [
    "make_tx_stats_chart('output', p_out, txs, session_times, True)"
   ]
  },
  {
   "cell_type": "markdown",
   "metadata": {},
   "source": [
    "### Observation: Date range of txs is from April 6 thru July 30, 2024."
   ]
  },
  {
   "cell_type": "code",
   "execution_count": 22,
   "metadata": {},
   "outputs": [],
   "source": [
    "tx_session_times = (\n",
    "        txs\n",
    "        .join(session_times, on='session_index')\n",
    "        .with_columns(\n",
    "            pl.from_epoch(pl.col('estimated_session_timestamp'), time_unit='s').alias('timestamp')\n",
    "        )\n",
    "        .select(['txid', 'session_index', 'timestamp'])\n",
    "        .sort(by='timestamp')\n",
    "    )"
   ]
  },
  {
   "cell_type": "code",
   "execution_count": 23,
   "metadata": {},
   "outputs": [
    {
     "data": {
      "text/html": [
       "<div><style>\n",
       ".dataframe > thead > tr,\n",
       ".dataframe > tbody > tr {\n",
       "  text-align: right;\n",
       "  white-space: pre-wrap;\n",
       "}\n",
       "</style>\n",
       "<small>shape: (9, 4)</small><table border=\"1\" class=\"dataframe\"><thead><tr><th>statistic</th><th>txid</th><th>session_index</th><th>timestamp</th></tr><tr><td>str</td><td>str</td><td>f64</td><td>str</td></tr></thead><tbody><tr><td>&quot;count&quot;</td><td>&quot;172091&quot;</td><td>172091.0</td><td>&quot;172091&quot;</td></tr><tr><td>&quot;null_count&quot;</td><td>&quot;0&quot;</td><td>0.0</td><td>&quot;0&quot;</td></tr><tr><td>&quot;mean&quot;</td><td>null</td><td>38636.310469</td><td>&quot;2024-06-05 14:34:01.557571&quot;</td></tr><tr><td>&quot;std&quot;</td><td>null</td><td>20010.211268</td><td>null</td></tr><tr><td>&quot;min&quot;</td><td>&quot;00018df854e105d759e6b3df2c139988111da4ade3fc049c2d1f65362a028ad4&quot;</td><td>219.0</td><td>&quot;2024-04-06 00:34:18&quot;</td></tr><tr><td>&quot;25%&quot;</td><td>null</td><td>21551.0</td><td>&quot;2024-05-09 15:22:14&quot;</td></tr><tr><td>&quot;50%&quot;</td><td>null</td><td>39164.0</td><td>&quot;2024-06-06 10:03:54&quot;</td></tr><tr><td>&quot;75%&quot;</td><td>null</td><td>55445.0</td><td>&quot;2024-07-02 03:48:34&quot;</td></tr><tr><td>&quot;max&quot;</td><td>&quot;ffff926a59befb44959be264652e91ba1d7f8b50ae2ac90f1ad4d9abfc600cd5&quot;</td><td>73627.0</td><td>&quot;2024-07-30 20:39:52&quot;</td></tr></tbody></table></div>"
      ],
      "text/plain": [
       "shape: (9, 4)\n",
       "┌────────────┬────────────────────────────────────────┬───────────────┬────────────────────────────┐\n",
       "│ statistic  ┆ txid                                   ┆ session_index ┆ timestamp                  │\n",
       "│ ---        ┆ ---                                    ┆ ---           ┆ ---                        │\n",
       "│ str        ┆ str                                    ┆ f64           ┆ str                        │\n",
       "╞════════════╪════════════════════════════════════════╪═══════════════╪════════════════════════════╡\n",
       "│ count      ┆ 172091                                 ┆ 172091.0      ┆ 172091                     │\n",
       "│ null_count ┆ 0                                      ┆ 0.0           ┆ 0                          │\n",
       "│ mean       ┆ null                                   ┆ 38636.310469  ┆ 2024-06-05 14:34:01.557571 │\n",
       "│ std        ┆ null                                   ┆ 20010.211268  ┆ null                       │\n",
       "│ min        ┆ 00018df854e105d759e6b3df2c139988111da4 ┆ 219.0         ┆ 2024-04-06 00:34:18        │\n",
       "│            ┆ ade3fc049c2d1f65362a028ad4             ┆               ┆                            │\n",
       "│ 25%        ┆ null                                   ┆ 21551.0       ┆ 2024-05-09 15:22:14        │\n",
       "│ 50%        ┆ null                                   ┆ 39164.0       ┆ 2024-06-06 10:03:54        │\n",
       "│ 75%        ┆ null                                   ┆ 55445.0       ┆ 2024-07-02 03:48:34        │\n",
       "│ max        ┆ ffff926a59befb44959be264652e91ba1d7f8b ┆ 73627.0       ┆ 2024-07-30 20:39:52        │\n",
       "│            ┆ 50ae2ac90f1ad4d9abfc600cd5             ┆               ┆                            │\n",
       "└────────────┴────────────────────────────────────────┴───────────────┴────────────────────────────┘"
      ]
     },
     "metadata": {},
     "output_type": "display_data"
    }
   ],
   "source": [
    "with pl.Config(tbl_rows=9):\n",
    "    display(tx_session_times.describe())"
   ]
  },
  {
   "cell_type": "markdown",
   "metadata": {},
   "source": [
    "### Observation (interesting): the amount of msats minted are always a power of 2"
   ]
  },
  {
   "cell_type": "code",
   "execution_count": 24,
   "metadata": {},
   "outputs": [
    {
     "data": {
      "text/html": [
       "<div>\n",
       "<style scoped>\n",
       "    .dataframe tbody tr th:only-of-type {\n",
       "        vertical-align: middle;\n",
       "    }\n",
       "\n",
       "    .dataframe tbody tr th {\n",
       "        vertical-align: top;\n",
       "    }\n",
       "\n",
       "    .dataframe thead th {\n",
       "        text-align: right;\n",
       "    }\n",
       "</style>\n",
       "<table border=\"1\" class=\"dataframe\">\n",
       "  <thead>\n",
       "    <tr style=\"text-align: right;\">\n",
       "      <th></th>\n",
       "      <th>amount_msat</th>\n",
       "      <th>n_mints</th>\n",
       "      <th>exponent_base_2</th>\n",
       "    </tr>\n",
       "  </thead>\n",
       "  <tbody>\n",
       "    <tr>\n",
       "      <th>0</th>\n",
       "      <td>1</td>\n",
       "      <td>34843</td>\n",
       "      <td>0.0</td>\n",
       "    </tr>\n",
       "    <tr>\n",
       "      <th>1</th>\n",
       "      <td>2</td>\n",
       "      <td>35379</td>\n",
       "      <td>1.0</td>\n",
       "    </tr>\n",
       "    <tr>\n",
       "      <th>2</th>\n",
       "      <td>4</td>\n",
       "      <td>35154</td>\n",
       "      <td>2.0</td>\n",
       "    </tr>\n",
       "    <tr>\n",
       "      <th>3</th>\n",
       "      <td>8</td>\n",
       "      <td>36219</td>\n",
       "      <td>3.0</td>\n",
       "    </tr>\n",
       "    <tr>\n",
       "      <th>4</th>\n",
       "      <td>16</td>\n",
       "      <td>36325</td>\n",
       "      <td>4.0</td>\n",
       "    </tr>\n",
       "    <tr>\n",
       "      <th>5</th>\n",
       "      <td>32</td>\n",
       "      <td>36775</td>\n",
       "      <td>5.0</td>\n",
       "    </tr>\n",
       "    <tr>\n",
       "      <th>6</th>\n",
       "      <td>64</td>\n",
       "      <td>37299</td>\n",
       "      <td>6.0</td>\n",
       "    </tr>\n",
       "    <tr>\n",
       "      <th>7</th>\n",
       "      <td>128</td>\n",
       "      <td>37909</td>\n",
       "      <td>7.0</td>\n",
       "    </tr>\n",
       "    <tr>\n",
       "      <th>8</th>\n",
       "      <td>256</td>\n",
       "      <td>78700</td>\n",
       "      <td>8.0</td>\n",
       "    </tr>\n",
       "    <tr>\n",
       "      <th>9</th>\n",
       "      <td>512</td>\n",
       "      <td>94973</td>\n",
       "      <td>9.0</td>\n",
       "    </tr>\n",
       "    <tr>\n",
       "      <th>10</th>\n",
       "      <td>1024</td>\n",
       "      <td>129028</td>\n",
       "      <td>10.0</td>\n",
       "    </tr>\n",
       "    <tr>\n",
       "      <th>11</th>\n",
       "      <td>2048</td>\n",
       "      <td>4965</td>\n",
       "      <td>11.0</td>\n",
       "    </tr>\n",
       "    <tr>\n",
       "      <th>12</th>\n",
       "      <td>4096</td>\n",
       "      <td>36470</td>\n",
       "      <td>12.0</td>\n",
       "    </tr>\n",
       "    <tr>\n",
       "      <th>13</th>\n",
       "      <td>8192</td>\n",
       "      <td>4912</td>\n",
       "      <td>13.0</td>\n",
       "    </tr>\n",
       "    <tr>\n",
       "      <th>14</th>\n",
       "      <td>16384</td>\n",
       "      <td>4561</td>\n",
       "      <td>14.0</td>\n",
       "    </tr>\n",
       "    <tr>\n",
       "      <th>15</th>\n",
       "      <td>32768</td>\n",
       "      <td>3807</td>\n",
       "      <td>15.0</td>\n",
       "    </tr>\n",
       "    <tr>\n",
       "      <th>16</th>\n",
       "      <td>65536</td>\n",
       "      <td>3661</td>\n",
       "      <td>16.0</td>\n",
       "    </tr>\n",
       "    <tr>\n",
       "      <th>17</th>\n",
       "      <td>131072</td>\n",
       "      <td>3258</td>\n",
       "      <td>17.0</td>\n",
       "    </tr>\n",
       "    <tr>\n",
       "      <th>18</th>\n",
       "      <td>262144</td>\n",
       "      <td>2965</td>\n",
       "      <td>18.0</td>\n",
       "    </tr>\n",
       "    <tr>\n",
       "      <th>19</th>\n",
       "      <td>524288</td>\n",
       "      <td>2348</td>\n",
       "      <td>19.0</td>\n",
       "    </tr>\n",
       "    <tr>\n",
       "      <th>20</th>\n",
       "      <td>1048576</td>\n",
       "      <td>1942</td>\n",
       "      <td>20.0</td>\n",
       "    </tr>\n",
       "    <tr>\n",
       "      <th>21</th>\n",
       "      <td>2097152</td>\n",
       "      <td>1627</td>\n",
       "      <td>21.0</td>\n",
       "    </tr>\n",
       "    <tr>\n",
       "      <th>22</th>\n",
       "      <td>4194304</td>\n",
       "      <td>1354</td>\n",
       "      <td>22.0</td>\n",
       "    </tr>\n",
       "    <tr>\n",
       "      <th>23</th>\n",
       "      <td>8388608</td>\n",
       "      <td>1066</td>\n",
       "      <td>23.0</td>\n",
       "    </tr>\n",
       "    <tr>\n",
       "      <th>24</th>\n",
       "      <td>16777216</td>\n",
       "      <td>782</td>\n",
       "      <td>24.0</td>\n",
       "    </tr>\n",
       "    <tr>\n",
       "      <th>25</th>\n",
       "      <td>33554432</td>\n",
       "      <td>481</td>\n",
       "      <td>25.0</td>\n",
       "    </tr>\n",
       "    <tr>\n",
       "      <th>26</th>\n",
       "      <td>67108864</td>\n",
       "      <td>293</td>\n",
       "      <td>26.0</td>\n",
       "    </tr>\n",
       "    <tr>\n",
       "      <th>27</th>\n",
       "      <td>134217728</td>\n",
       "      <td>160</td>\n",
       "      <td>27.0</td>\n",
       "    </tr>\n",
       "    <tr>\n",
       "      <th>28</th>\n",
       "      <td>268435456</td>\n",
       "      <td>76</td>\n",
       "      <td>28.0</td>\n",
       "    </tr>\n",
       "    <tr>\n",
       "      <th>29</th>\n",
       "      <td>536870912</td>\n",
       "      <td>55</td>\n",
       "      <td>29.0</td>\n",
       "    </tr>\n",
       "    <tr>\n",
       "      <th>30</th>\n",
       "      <td>1073741824</td>\n",
       "      <td>43</td>\n",
       "      <td>30.0</td>\n",
       "    </tr>\n",
       "    <tr>\n",
       "      <th>31</th>\n",
       "      <td>2147483648</td>\n",
       "      <td>30</td>\n",
       "      <td>31.0</td>\n",
       "    </tr>\n",
       "    <tr>\n",
       "      <th>32</th>\n",
       "      <td>4294967296</td>\n",
       "      <td>39</td>\n",
       "      <td>32.0</td>\n",
       "    </tr>\n",
       "    <tr>\n",
       "      <th>33</th>\n",
       "      <td>8589934592</td>\n",
       "      <td>20</td>\n",
       "      <td>33.0</td>\n",
       "    </tr>\n",
       "    <tr>\n",
       "      <th>34</th>\n",
       "      <td>17179869184</td>\n",
       "      <td>16</td>\n",
       "      <td>34.0</td>\n",
       "    </tr>\n",
       "    <tr>\n",
       "      <th>35</th>\n",
       "      <td>34359738368</td>\n",
       "      <td>8</td>\n",
       "      <td>35.0</td>\n",
       "    </tr>\n",
       "    <tr>\n",
       "      <th>36</th>\n",
       "      <td>68719476736</td>\n",
       "      <td>2</td>\n",
       "      <td>36.0</td>\n",
       "    </tr>\n",
       "    <tr>\n",
       "      <th>37</th>\n",
       "      <td>137438953472</td>\n",
       "      <td>3</td>\n",
       "      <td>37.0</td>\n",
       "    </tr>\n",
       "  </tbody>\n",
       "</table>\n",
       "</div>"
      ],
      "text/plain": [
       "     amount_msat  n_mints  exponent_base_2\n",
       "0              1    34843              0.0\n",
       "1              2    35379              1.0\n",
       "2              4    35154              2.0\n",
       "3              8    36219              3.0\n",
       "4             16    36325              4.0\n",
       "5             32    36775              5.0\n",
       "6             64    37299              6.0\n",
       "7            128    37909              7.0\n",
       "8            256    78700              8.0\n",
       "9            512    94973              9.0\n",
       "10          1024   129028             10.0\n",
       "11          2048     4965             11.0\n",
       "12          4096    36470             12.0\n",
       "13          8192     4912             13.0\n",
       "14         16384     4561             14.0\n",
       "15         32768     3807             15.0\n",
       "16         65536     3661             16.0\n",
       "17        131072     3258             17.0\n",
       "18        262144     2965             18.0\n",
       "19        524288     2348             19.0\n",
       "20       1048576     1942             20.0\n",
       "21       2097152     1627             21.0\n",
       "22       4194304     1354             22.0\n",
       "23       8388608     1066             23.0\n",
       "24      16777216      782             24.0\n",
       "25      33554432      481             25.0\n",
       "26      67108864      293             26.0\n",
       "27     134217728      160             27.0\n",
       "28     268435456       76             28.0\n",
       "29     536870912       55             29.0\n",
       "30    1073741824       43             30.0\n",
       "31    2147483648       30             31.0\n",
       "32    4294967296       39             32.0\n",
       "33    8589934592       20             33.0\n",
       "34   17179869184       16             34.0\n",
       "35   34359738368        8             35.0\n",
       "36   68719476736        2             36.0\n",
       "37  137438953472        3             37.0"
      ]
     },
     "execution_count": 24,
     "metadata": {},
     "output_type": "execute_result"
    }
   ],
   "source": [
    "(\n",
    "    # tx_inputs\n",
    "    tx_outputs\n",
    "    .filter(\n",
    "        pl.col('kind') == 'mint'\n",
    "    )\n",
    "    .group_by('amount_msat').len()\n",
    "    .sort(by='amount_msat')\n",
    "    .with_columns(\n",
    "        pl.col('amount_msat').log(base=2).alias('exponent_base_2')\n",
    "    )\n",
    "    .rename({'len': 'n_mints'})\n",
    "    .to_pandas()\n",
    ")"
   ]
  },
  {
   "cell_type": "code",
   "execution_count": null,
   "metadata": {},
   "outputs": [],
   "source": []
  }
 ],
 "metadata": {
  "kernelspec": {
   "display_name": ".venv",
   "language": "python",
   "name": "python3"
  },
  "language_info": {
   "codemirror_mode": {
    "name": "ipython",
    "version": 3
   },
   "file_extension": ".py",
   "mimetype": "text/x-python",
   "name": "python",
   "nbconvert_exporter": "python",
   "pygments_lexer": "ipython3",
   "version": "3.12.3"
  }
 },
 "nbformat": 4,
 "nbformat_minor": 2
}
