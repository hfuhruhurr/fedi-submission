{
 "cells": [
  {
   "cell_type": "markdown",
   "metadata": {},
   "source": [
    "### Prepare for takeoff"
   ]
  },
  {
   "cell_type": "code",
   "execution_count": 6,
   "metadata": {},
   "outputs": [],
   "source": [
    "import polars as pl\n",
    "import polars.selectors as cs\n",
    "from helper import pivot_txs, make_transitions"
   ]
  },
  {
   "cell_type": "code",
   "execution_count": 7,
   "metadata": {},
   "outputs": [],
   "source": [
    "tx_inputs = pl.read_parquet('./dfs/transaction_inputs.parquet')\n",
    "tx_outputs = pl.read_parquet('./dfs/transaction_outputs.parquet')"
   ]
  },
  {
   "cell_type": "markdown",
   "metadata": {},
   "source": [
    "### Q1 - How much Bitcoin was pegged-in to this federation?\n",
    "\n",
    "**Answer**: 8.42375871 BTC\n",
    "\n",
    "**Rationale**:  A *peg-in* is synonymous with a deposit.  A user deposits BTC to the federation's wallet and the federation mints and then sends the user an equal amount of eCash.\n",
    "\n",
    "Since the transactions are framed from the point of view of the federation, the input side of the transaction involves a user sending BTC to the federation's wallet.  The output side involves the federation minting eCash and sending it to the user.\n",
    "\n",
    "The only reason BTC would be sent to the federation's wallet is for the sole purpose of minting to eCash.\n",
    "\n",
    "Thus, we only need to sum the amount of msats from the *input* transactions where `kind = 'wallet`'.\n",
    "\n",
    "**Code to reproduce**:"
   ]
  },
  {
   "cell_type": "code",
   "execution_count": 8,
   "metadata": {},
   "outputs": [
    {
     "name": "stdout",
     "output_type": "stream",
     "text": [
      "There was 8.42375871 BTC pegged-in.\n"
     ]
    }
   ],
   "source": [
    "pegged_in_btc = tx_inputs.filter(pl.col('kind') == 'wallet').sum()['amount_msat']/1e3/1e8\n",
    "print(f'There was {pegged_in_btc[0]:.8f} BTC pegged-in.')"
   ]
  },
  {
   "cell_type": "markdown",
   "metadata": {},
   "source": [
    "### Q2 - How much Bitcoin was pegged-out from this federation?\n",
    "\n",
    "**Answer**: 7.81928988 BTC\n",
    "\n",
    "**Rationale**:  A *peg-out* is synonymous with a withdrawal.  A user sends the federation eCash and the federation gives the user an equal amount of BTC.\n",
    "\n",
    "Keeping in mind the federation point of view, the input side of the transaction involves the federation receiving eCash and the output side involves the federation sending BTC from its wallet.\n",
    "\n",
    "The only reason BTC would be sent from the federation's wallet is for the sole purpose of returning it to the user.\n",
    "\n",
    "Thus, we only need to sum the amount of msats from the *output* transactions where `kind = 'wallet`'.\n",
    "\n",
    "**Code to reproduce**:"
   ]
  },
  {
   "cell_type": "code",
   "execution_count": 9,
   "metadata": {},
   "outputs": [
    {
     "name": "stdout",
     "output_type": "stream",
     "text": [
      "There was 7.81928988 BTC pegged-out.\n"
     ]
    }
   ],
   "source": [
    "pegged_out_btc = tx_outputs.filter(pl.col('kind') == 'wallet').sum()['amount_msat']/1e3/1e8\n",
    "print(f'There was {pegged_out_btc[0]:.8f} BTC pegged-out.')"
   ]
  },
  {
   "cell_type": "markdown",
   "metadata": {},
   "source": [
    "### Q3 - What is the current on-chain balance?\n",
    "\n",
    "**Answer**: 60,446,883,000 msats.\n",
    "\n",
    "**Rationale**: Per the [get_federation_assets() function](https://github.com/douglaz/fedimint-observer/blob/c76c27abede4f26aa9414570107c3f92c2f4013a/src/federation/observer.rs#L529) in the `fediminit-observer` repo, a federation's assets is defined as:\n",
    " $$\\sum_{i \\, \\in \\, {input\\_txs}}{amount\\_msat_{i}} \\; - \\sum_{o \\, \\in \\, {output\\_txs}}{amount\\_msat_{o}}$$ \n",
    " where $kind_i = kind_o = \\text{'wallet'}$.\n",
    "\n",
    " **Code to reproduce**:"
   ]
  },
  {
   "cell_type": "code",
   "execution_count": 10,
   "metadata": {},
   "outputs": [
    {
     "name": "stdout",
     "output_type": "stream",
     "text": [
      "The on-chain balance is: 60,446,883,000          msats\n",
      "The on-chain balance is:     60,446,883          sats\n",
      "The on-chain balance is:              0.60446883 btc\n"
     ]
    }
   ],
   "source": [
    "in_msats = (\n",
    "    tx_inputs\n",
    "    .filter(\n",
    "        pl.col('kind') == 'wallet',\n",
    "    )\n",
    "    .select('amount_msat')\n",
    "    .sum()\n",
    ")\n",
    "\n",
    "out_msats = (\n",
    "    tx_outputs\n",
    "    .filter(\n",
    "        pl.col('kind') == 'wallet',\n",
    "    )\n",
    "    .select('amount_msat')\n",
    "    .sum()\n",
    ")\n",
    "\n",
    "fed_assets_msats = in_msats - out_msats\n",
    "\n",
    "print(f'The on-chain balance is: {fed_assets_msats['amount_msat'][0]:,}          msats')\n",
    "print(f'The on-chain balance is: {int(fed_assets_msats['amount_msat'][0]/1e3):>14,}          sats')\n",
    "print(f'The on-chain balance is: {fed_assets_msats['amount_msat'][0]/1e3/1e8:>23.8f} btc')"
   ]
  },
  {
   "cell_type": "code",
   "execution_count": null,
   "metadata": {},
   "outputs": [],
   "source": []
  }
 ],
 "metadata": {
  "kernelspec": {
   "display_name": ".venv",
   "language": "python",
   "name": "python3"
  },
  "language_info": {
   "codemirror_mode": {
    "name": "ipython",
    "version": 3
   },
   "file_extension": ".py",
   "mimetype": "text/x-python",
   "name": "python",
   "nbconvert_exporter": "python",
   "pygments_lexer": "ipython3",
   "version": "3.12.3"
  }
 },
 "nbformat": 4,
 "nbformat_minor": 2
}
