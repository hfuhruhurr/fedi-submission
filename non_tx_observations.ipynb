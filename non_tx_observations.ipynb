{
 "cells": [
  {
   "cell_type": "code",
   "execution_count": 1,
   "metadata": {},
   "outputs": [
    {
     "data": {
      "text/plain": [
       "polars.config.Config"
      ]
     },
     "execution_count": 1,
     "metadata": {},
     "output_type": "execute_result"
    }
   ],
   "source": [
    "import polars as pl\n",
    "pl.Config.set_tbl_rows(10)\n",
    "pl.Config.set_fmt_str_lengths(64)  # txid's are 64 characters"
   ]
  },
  {
   "cell_type": "code",
   "execution_count": 2,
   "metadata": {},
   "outputs": [],
   "source": [
    "bh_votes = pl.read_parquet('./dfs/block_height_votes.parquet')\n",
    "block_times = pl.read_parquet('./dfs/block_times.parquet')\n",
    "feds = pl.read_parquet('./dfs/federations.parquet')\n",
    "ln_contracts = pl.read_parquet('./dfs/ln_contracts.parquet')\n",
    "session_times = pl.read_parquet('./dfs/session_times.parquet')\n",
    "sessions = pl.read_parquet('./dfs/sessions.parquet')\n",
    "# tx_inputs = pl.read_parquet('./dfs/transaction_inputs.parquet')\n",
    "# tx_outputs = pl.read_parquet('./dfs/transaction_outputs.parquet')\n",
    "# txs = pl.read_parquet('./dfs/transactions.parquet')"
   ]
  },
  {
   "cell_type": "markdown",
   "metadata": {},
   "source": [
    "### Observation: There are 4 proposers in this federation and they seem to propose on a rotation basis."
   ]
  },
  {
   "cell_type": "code",
   "execution_count": 3,
   "metadata": {},
   "outputs": [
    {
     "data": {
      "text/html": [
       "<div><style>\n",
       ".dataframe > thead > tr,\n",
       ".dataframe > tbody > tr {\n",
       "  text-align: right;\n",
       "  white-space: pre-wrap;\n",
       "}\n",
       "</style>\n",
       "<small>shape: (9, 5)</small><table border=\"1\" class=\"dataframe\"><thead><tr><th>statistic</th><th>session_index</th><th>item_index</th><th>proposer</th><th>height_vote</th></tr><tr><td>str</td><td>f64</td><td>f64</td><td>f64</td><td>f64</td></tr></thead><tbody><tr><td>&quot;count&quot;</td><td>67375.0</td><td>67375.0</td><td>67375.0</td><td>67375.0</td></tr><tr><td>&quot;null_count&quot;</td><td>0.0</td><td>0.0</td><td>0.0</td><td>0.0</td></tr><tr><td>&quot;mean&quot;</td><td>37130.11249</td><td>7.795503</td><td>1.500007</td><td>846283.22967</td></tr><tr><td>&quot;std&quot;</td><td>21579.724816</td><td>5.531096</td><td>1.118049</td><td>4869.951055</td></tr><tr><td>&quot;min&quot;</td><td>0.0</td><td>0.0</td><td>0.0</td><td>837849.0</td></tr><tr><td>&quot;25%&quot;</td><td>18338.0</td><td>4.0</td><td>1.0</td><td>842063.0</td></tr><tr><td>&quot;50%&quot;</td><td>37079.0</td><td>7.0</td><td>2.0</td><td>846290.0</td></tr><tr><td>&quot;75%&quot;</td><td>56210.0</td><td>11.0</td><td>3.0</td><td>850502.0</td></tr><tr><td>&quot;max&quot;</td><td>73627.0</td><td>49.0</td><td>3.0</td><td>854712.0</td></tr></tbody></table></div>"
      ],
      "text/plain": [
       "shape: (9, 5)\n",
       "┌────────────┬───────────────┬────────────┬──────────┬──────────────┐\n",
       "│ statistic  ┆ session_index ┆ item_index ┆ proposer ┆ height_vote  │\n",
       "│ ---        ┆ ---           ┆ ---        ┆ ---      ┆ ---          │\n",
       "│ str        ┆ f64           ┆ f64        ┆ f64      ┆ f64          │\n",
       "╞════════════╪═══════════════╪════════════╪══════════╪══════════════╡\n",
       "│ count      ┆ 67375.0       ┆ 67375.0    ┆ 67375.0  ┆ 67375.0      │\n",
       "│ null_count ┆ 0.0           ┆ 0.0        ┆ 0.0      ┆ 0.0          │\n",
       "│ mean       ┆ 37130.11249   ┆ 7.795503   ┆ 1.500007 ┆ 846283.22967 │\n",
       "│ std        ┆ 21579.724816  ┆ 5.531096   ┆ 1.118049 ┆ 4869.951055  │\n",
       "│ min        ┆ 0.0           ┆ 0.0        ┆ 0.0      ┆ 837849.0     │\n",
       "│ 25%        ┆ 18338.0       ┆ 4.0        ┆ 1.0      ┆ 842063.0     │\n",
       "│ 50%        ┆ 37079.0       ┆ 7.0        ┆ 2.0      ┆ 846290.0     │\n",
       "│ 75%        ┆ 56210.0       ┆ 11.0       ┆ 3.0      ┆ 850502.0     │\n",
       "│ max        ┆ 73627.0       ┆ 49.0       ┆ 3.0      ┆ 854712.0     │\n",
       "└────────────┴───────────────┴────────────┴──────────┴──────────────┘"
      ]
     },
     "execution_count": 3,
     "metadata": {},
     "output_type": "execute_result"
    }
   ],
   "source": [
    "bh_votes.drop('federation_id').describe()"
   ]
  },
  {
   "cell_type": "code",
   "execution_count": 4,
   "metadata": {},
   "outputs": [
    {
     "data": {
      "text/html": [
       "<div><style>\n",
       ".dataframe > thead > tr,\n",
       ".dataframe > tbody > tr {\n",
       "  text-align: right;\n",
       "  white-space: pre-wrap;\n",
       "}\n",
       "</style>\n",
       "<small>shape: (4, 2)</small><table border=\"1\" class=\"dataframe\"><thead><tr><th>proposer</th><th>len</th></tr><tr><td>i64</td><td>u32</td></tr></thead><tbody><tr><td>2</td><td>16844</td></tr><tr><td>1</td><td>16843</td></tr><tr><td>0</td><td>16844</td></tr><tr><td>3</td><td>16844</td></tr></tbody></table></div>"
      ],
      "text/plain": [
       "shape: (4, 2)\n",
       "┌──────────┬───────┐\n",
       "│ proposer ┆ len   │\n",
       "│ ---      ┆ ---   │\n",
       "│ i64      ┆ u32   │\n",
       "╞══════════╪═══════╡\n",
       "│ 2        ┆ 16844 │\n",
       "│ 1        ┆ 16843 │\n",
       "│ 0        ┆ 16844 │\n",
       "│ 3        ┆ 16844 │\n",
       "└──────────┴───────┘"
      ]
     },
     "execution_count": 4,
     "metadata": {},
     "output_type": "execute_result"
    }
   ],
   "source": [
    "bh_votes.group_by('proposer').len()"
   ]
  },
  {
   "cell_type": "markdown",
   "metadata": {},
   "source": [
    "### Observation: Date range of blocks is from December 6, 2023 thru July 30, 2024."
   ]
  },
  {
   "cell_type": "code",
   "execution_count": 5,
   "metadata": {},
   "outputs": [
    {
     "data": {
      "text/html": [
       "<div><style>\n",
       ".dataframe > thead > tr,\n",
       ".dataframe > tbody > tr {\n",
       "  text-align: right;\n",
       "  white-space: pre-wrap;\n",
       "}\n",
       "</style>\n",
       "<small>shape: (34_721, 3)</small><table border=\"1\" class=\"dataframe\"><thead><tr><th>block_height</th><th>timestamp</th><th>timestamp_human</th></tr><tr><td>i64</td><td>i64</td><td>datetime[μs]</td></tr></thead><tbody><tr><td>820001</td><td>1701860884</td><td>2023-12-06 11:08:04</td></tr><tr><td>820002</td><td>1701861037</td><td>2023-12-06 11:10:37</td></tr><tr><td>820003</td><td>1701861079</td><td>2023-12-06 11:11:19</td></tr><tr><td>820004</td><td>1701864733</td><td>2023-12-06 12:12:13</td></tr><tr><td>820005</td><td>1701865352</td><td>2023-12-06 12:22:32</td></tr><tr><td>&hellip;</td><td>&hellip;</td><td>&hellip;</td></tr><tr><td>854717</td><td>1722373727</td><td>2024-07-30 21:08:47</td></tr><tr><td>854718</td><td>1722374399</td><td>2024-07-30 21:19:59</td></tr><tr><td>854719</td><td>1722375880</td><td>2024-07-30 21:44:40</td></tr><tr><td>854720</td><td>1722376181</td><td>2024-07-30 21:49:41</td></tr><tr><td>854721</td><td>1722376743</td><td>2024-07-30 21:59:03</td></tr></tbody></table></div>"
      ],
      "text/plain": [
       "shape: (34_721, 3)\n",
       "┌──────────────┬────────────┬─────────────────────┐\n",
       "│ block_height ┆ timestamp  ┆ timestamp_human     │\n",
       "│ ---          ┆ ---        ┆ ---                 │\n",
       "│ i64          ┆ i64        ┆ datetime[μs]        │\n",
       "╞══════════════╪════════════╪═════════════════════╡\n",
       "│ 820001       ┆ 1701860884 ┆ 2023-12-06 11:08:04 │\n",
       "│ 820002       ┆ 1701861037 ┆ 2023-12-06 11:10:37 │\n",
       "│ 820003       ┆ 1701861079 ┆ 2023-12-06 11:11:19 │\n",
       "│ 820004       ┆ 1701864733 ┆ 2023-12-06 12:12:13 │\n",
       "│ 820005       ┆ 1701865352 ┆ 2023-12-06 12:22:32 │\n",
       "│ …            ┆ …          ┆ …                   │\n",
       "│ 854717       ┆ 1722373727 ┆ 2024-07-30 21:08:47 │\n",
       "│ 854718       ┆ 1722374399 ┆ 2024-07-30 21:19:59 │\n",
       "│ 854719       ┆ 1722375880 ┆ 2024-07-30 21:44:40 │\n",
       "│ 854720       ┆ 1722376181 ┆ 2024-07-30 21:49:41 │\n",
       "│ 854721       ┆ 1722376743 ┆ 2024-07-30 21:59:03 │\n",
       "└──────────────┴────────────┴─────────────────────┘"
      ]
     },
     "execution_count": 5,
     "metadata": {},
     "output_type": "execute_result"
    }
   ],
   "source": [
    "block_times.with_columns(pl.from_epoch(pl.col('timestamp'), time_unit='s').alias('timestamp_human')).sort(by='timestamp')"
   ]
  },
  {
   "cell_type": "markdown",
   "metadata": {},
   "source": [
    "### Observation: Blocks are sequentially numbered and none are missing."
   ]
  },
  {
   "cell_type": "code",
   "execution_count": 6,
   "metadata": {},
   "outputs": [
    {
     "data": {
      "text/plain": [
       "34721"
      ]
     },
     "execution_count": 6,
     "metadata": {},
     "output_type": "execute_result"
    }
   ],
   "source": [
    "854721 - 820001 + 1"
   ]
  },
  {
   "cell_type": "markdown",
   "metadata": {},
   "source": [
    "### Observation: There are 8 instances of multiple blocks being created in the same second."
   ]
  },
  {
   "cell_type": "code",
   "execution_count": 7,
   "metadata": {},
   "outputs": [
    {
     "data": {
      "text/html": [
       "<div><style>\n",
       ".dataframe > thead > tr,\n",
       ".dataframe > tbody > tr {\n",
       "  text-align: right;\n",
       "  white-space: pre-wrap;\n",
       "}\n",
       "</style>\n",
       "<small>shape: (8, 2)</small><table border=\"1\" class=\"dataframe\"><thead><tr><th>timestamp</th><th>n</th></tr><tr><td>i64</td><td>u32</td></tr></thead><tbody><tr><td>1708963130</td><td>2</td></tr><tr><td>1718464601</td><td>2</td></tr><tr><td>1706692360</td><td>2</td></tr><tr><td>1719524215</td><td>2</td></tr><tr><td>1711363354</td><td>2</td></tr><tr><td>1703453073</td><td>2</td></tr><tr><td>1708696352</td><td>2</td></tr><tr><td>1716714641</td><td>2</td></tr></tbody></table></div>"
      ],
      "text/plain": [
       "shape: (8, 2)\n",
       "┌────────────┬─────┐\n",
       "│ timestamp  ┆ n   │\n",
       "│ ---        ┆ --- │\n",
       "│ i64        ┆ u32 │\n",
       "╞════════════╪═════╡\n",
       "│ 1708963130 ┆ 2   │\n",
       "│ 1718464601 ┆ 2   │\n",
       "│ 1706692360 ┆ 2   │\n",
       "│ 1719524215 ┆ 2   │\n",
       "│ 1711363354 ┆ 2   │\n",
       "│ 1703453073 ┆ 2   │\n",
       "│ 1708696352 ┆ 2   │\n",
       "│ 1716714641 ┆ 2   │\n",
       "└────────────┴─────┘"
      ]
     },
     "execution_count": 7,
     "metadata": {},
     "output_type": "execute_result"
    }
   ],
   "source": [
    "block_times.group_by('timestamp').agg(pl.col('block_height').n_unique().alias('n')).filter(pl.col('n') > 1)"
   ]
  },
  {
   "cell_type": "code",
   "execution_count": 8,
   "metadata": {},
   "outputs": [
    {
     "data": {
      "text/html": [
       "<div><style>\n",
       ".dataframe > thead > tr,\n",
       ".dataframe > tbody > tr {\n",
       "  text-align: right;\n",
       "  white-space: pre-wrap;\n",
       "}\n",
       "</style>\n",
       "<small>shape: (2, 2)</small><table border=\"1\" class=\"dataframe\"><thead><tr><th>block_height</th><th>timestamp</th></tr><tr><td>i64</td><td>datetime[μs]</td></tr></thead><tbody><tr><td>832145</td><td>2024-02-26 15:58:50</td></tr><tr><td>832146</td><td>2024-02-26 15:58:50</td></tr></tbody></table></div>"
      ],
      "text/plain": [
       "shape: (2, 2)\n",
       "┌──────────────┬─────────────────────┐\n",
       "│ block_height ┆ timestamp           │\n",
       "│ ---          ┆ ---                 │\n",
       "│ i64          ┆ datetime[μs]        │\n",
       "╞══════════════╪═════════════════════╡\n",
       "│ 832145       ┆ 2024-02-26 15:58:50 │\n",
       "│ 832146       ┆ 2024-02-26 15:58:50 │\n",
       "└──────────────┴─────────────────────┘"
      ]
     },
     "execution_count": 8,
     "metadata": {},
     "output_type": "execute_result"
    }
   ],
   "source": [
    "block_times.filter(pl.col('timestamp') == 1708963130).with_columns(pl.from_epoch(pl.col('timestamp'), time_unit='s'))"
   ]
  },
  {
   "cell_type": "markdown",
   "metadata": {},
   "source": [
    "### Observation: There is only one federation represented in this database."
   ]
  },
  {
   "cell_type": "code",
   "execution_count": 9,
   "metadata": {},
   "outputs": [
    {
     "data": {
      "text/html": [
       "<div><style>\n",
       ".dataframe > thead > tr,\n",
       ".dataframe > tbody > tr {\n",
       "  text-align: right;\n",
       "  white-space: pre-wrap;\n",
       "}\n",
       "</style>\n",
       "<small>shape: (1, 2)</small><table border=\"1\" class=\"dataframe\"><thead><tr><th>federation_id</th><th>config</th></tr><tr><td>str</td><td>str</td></tr></thead><tbody><tr><td>&quot;b21068c84f5b12ca4fdf93f3e443d3bd7c27e8642d0d52ea2e4dce6fdbbee9df&quot;</td><td>&quot;0400217773733a2f2f6170692e626974636f696e2d7072696e6369706c65732e…</td></tr></tbody></table></div>"
      ],
      "text/plain": [
       "shape: (1, 2)\n",
       "┌─────────────────────────────────────────────────┬────────────────────────────────────────────────┐\n",
       "│ federation_id                                   ┆ config                                         │\n",
       "│ ---                                             ┆ ---                                            │\n",
       "│ str                                             ┆ str                                            │\n",
       "╞═════════════════════════════════════════════════╪════════════════════════════════════════════════╡\n",
       "│ b21068c84f5b12ca4fdf93f3e443d3bd7c27e8642d0d52e ┆ 0400217773733a2f2f6170692e626974636f696e2d7072 │\n",
       "│ a2e4dce6fdbbee9df                               ┆ 696e6369706c65732e…                            │\n",
       "└─────────────────────────────────────────────────┴────────────────────────────────────────────────┘"
      ]
     },
     "execution_count": 9,
     "metadata": {},
     "output_type": "execute_result"
    }
   ],
   "source": [
    "feds"
   ]
  },
  {
   "cell_type": "markdown",
   "metadata": {},
   "source": [
    "### Observation: Some `payment_hash`s are duplicated."
   ]
  },
  {
   "cell_type": "code",
   "execution_count": 10,
   "metadata": {},
   "outputs": [
    {
     "name": "stdout",
     "output_type": "stream",
     "text": [
      "There are 66,922 contracts.\n",
      "There are 66,922 unique contract ids.\n",
      "There are 66,908 unique payment hashes.\n",
      "There are 66,922 contracts with a payment hash.\n"
     ]
    }
   ],
   "source": [
    "print(f\"There are {ln_contracts.shape[0]:,} contracts.\")\n",
    "print(f\"There are {ln_contracts['contract_id'].n_unique():,} unique contract ids.\")\n",
    "print(f\"There are {ln_contracts['payment_hash'].n_unique():,} unique payment hashes.\")\n",
    "print(f\"There are {ln_contracts.filter(pl.col('payment_hash').is_not_null()).shape[0]:,} contracts with a payment hash.\")"
   ]
  },
  {
   "cell_type": "code",
   "execution_count": 11,
   "metadata": {},
   "outputs": [
    {
     "data": {
      "text/html": [
       "<div>\n",
       "<style scoped>\n",
       "    .dataframe tbody tr th:only-of-type {\n",
       "        vertical-align: middle;\n",
       "    }\n",
       "\n",
       "    .dataframe tbody tr th {\n",
       "        vertical-align: top;\n",
       "    }\n",
       "\n",
       "    .dataframe thead th {\n",
       "        text-align: right;\n",
       "    }\n",
       "</style>\n",
       "<table border=\"1\" class=\"dataframe\">\n",
       "  <thead>\n",
       "    <tr style=\"text-align: right;\">\n",
       "      <th></th>\n",
       "      <th>contract_id</th>\n",
       "      <th>type</th>\n",
       "      <th>payment_hash</th>\n",
       "    </tr>\n",
       "  </thead>\n",
       "  <tbody>\n",
       "    <tr>\n",
       "      <th>0</th>\n",
       "      <td>f2ff6598f162286c107045ffcf7dafe87790d77b0e899e...</td>\n",
       "      <td>outgoing</td>\n",
       "      <td>fd858cc7e4771571c3543784305dbce71ce895e9a3b8f6...</td>\n",
       "    </tr>\n",
       "    <tr>\n",
       "      <th>1</th>\n",
       "      <td>ab3d53eb04fb2c67eadfa34e2b6dc3ade9ae99aeeab0d2...</td>\n",
       "      <td>outgoing</td>\n",
       "      <td>fd858cc7e4771571c3543784305dbce71ce895e9a3b8f6...</td>\n",
       "    </tr>\n",
       "    <tr>\n",
       "      <th>2</th>\n",
       "      <td>0e7bb561ca58af327c63ca05127537a42c2f52955d66f5...</td>\n",
       "      <td>outgoing</td>\n",
       "      <td>0c9143eac9842802947db4ade201620e02c14ba5199a1b...</td>\n",
       "    </tr>\n",
       "    <tr>\n",
       "      <th>3</th>\n",
       "      <td>6d948b5f4ab6beeb55105434ac56257aa6c5d4e0ea52da...</td>\n",
       "      <td>outgoing</td>\n",
       "      <td>0c9143eac9842802947db4ade201620e02c14ba5199a1b...</td>\n",
       "    </tr>\n",
       "    <tr>\n",
       "      <th>4</th>\n",
       "      <td>427931abe9fc30f505ceb928ef44997a7bc564cf77379b...</td>\n",
       "      <td>outgoing</td>\n",
       "      <td>0c9143eac9842802947db4ade201620e02c14ba5199a1b...</td>\n",
       "    </tr>\n",
       "    <tr>\n",
       "      <th>5</th>\n",
       "      <td>2ea06fb0ca9c042e52db3f181a29583654c8549ac4e245...</td>\n",
       "      <td>outgoing</td>\n",
       "      <td>5e4a469a5f442e123b8e2880fe005d4e997ab7f4cf0e57...</td>\n",
       "    </tr>\n",
       "    <tr>\n",
       "      <th>6</th>\n",
       "      <td>e7c4dbd0e1b4c6cdd1f5c35473af0e37a1bfe9952e2296...</td>\n",
       "      <td>outgoing</td>\n",
       "      <td>5e4a469a5f442e123b8e2880fe005d4e997ab7f4cf0e57...</td>\n",
       "    </tr>\n",
       "    <tr>\n",
       "      <th>7</th>\n",
       "      <td>e389f2e259cae280ea9c93b59e17d189fd7e0b6adf88f5...</td>\n",
       "      <td>outgoing</td>\n",
       "      <td>0f07546725820194be939821f109329325d9552323ef9c...</td>\n",
       "    </tr>\n",
       "    <tr>\n",
       "      <th>8</th>\n",
       "      <td>a0d4d4a32314793df7a8118ebb34f61c315ebdb85f8396...</td>\n",
       "      <td>outgoing</td>\n",
       "      <td>0f07546725820194be939821f109329325d9552323ef9c...</td>\n",
       "    </tr>\n",
       "    <tr>\n",
       "      <th>9</th>\n",
       "      <td>da628d0342e628682db38f34c9db4bcb8269cd2f72489d...</td>\n",
       "      <td>outgoing</td>\n",
       "      <td>5ffb0fe6a7570e5f1e83d1a6494a0b2b7ab04fe89471ff...</td>\n",
       "    </tr>\n",
       "    <tr>\n",
       "      <th>10</th>\n",
       "      <td>64168e7b43f0d5f0a8933c7053cdc86defd35263237ba7...</td>\n",
       "      <td>outgoing</td>\n",
       "      <td>5ffb0fe6a7570e5f1e83d1a6494a0b2b7ab04fe89471ff...</td>\n",
       "    </tr>\n",
       "    <tr>\n",
       "      <th>11</th>\n",
       "      <td>1fa82b690ee7661431d9ccaf5d10cda27a734945eeb44f...</td>\n",
       "      <td>outgoing</td>\n",
       "      <td>6d568c73743f1837cc2c6fca6bfe7897feeea939f2abdb...</td>\n",
       "    </tr>\n",
       "    <tr>\n",
       "      <th>12</th>\n",
       "      <td>584718fe82a7e54ccdec3b9e7525c25fda10721ec22f15...</td>\n",
       "      <td>outgoing</td>\n",
       "      <td>6d568c73743f1837cc2c6fca6bfe7897feeea939f2abdb...</td>\n",
       "    </tr>\n",
       "    <tr>\n",
       "      <th>13</th>\n",
       "      <td>ec938489a39f4ece071ac360205a9d501c7c3faf2082de...</td>\n",
       "      <td>outgoing</td>\n",
       "      <td>9f98d627bbc393d792dbd559e2ef8e90e1fe74b24ca9a5...</td>\n",
       "    </tr>\n",
       "    <tr>\n",
       "      <th>14</th>\n",
       "      <td>f84e29afb09fef0273b083dbf3e0affe93e25815b98012...</td>\n",
       "      <td>outgoing</td>\n",
       "      <td>9f98d627bbc393d792dbd559e2ef8e90e1fe74b24ca9a5...</td>\n",
       "    </tr>\n",
       "    <tr>\n",
       "      <th>15</th>\n",
       "      <td>a5c8544a7b3410b1ba463b8bb938ca9c532d1cd74f3655...</td>\n",
       "      <td>outgoing</td>\n",
       "      <td>fbbdef34b5ae2936c2cba941e5be4f8c0e1d24208590f5...</td>\n",
       "    </tr>\n",
       "    <tr>\n",
       "      <th>16</th>\n",
       "      <td>88b164e43d61c4aa984ee680815790665d9b8ad052ec2b...</td>\n",
       "      <td>outgoing</td>\n",
       "      <td>fbbdef34b5ae2936c2cba941e5be4f8c0e1d24208590f5...</td>\n",
       "    </tr>\n",
       "    <tr>\n",
       "      <th>17</th>\n",
       "      <td>511cf16cee7c96a36c5c1d320bc1e494eeaafd4fff6906...</td>\n",
       "      <td>outgoing</td>\n",
       "      <td>fea24e634b3b6cd0f0bae902c1a49a46a309b2f74f5409...</td>\n",
       "    </tr>\n",
       "    <tr>\n",
       "      <th>18</th>\n",
       "      <td>e037ca39258e60ba16acc381728ad08dd5638b03ecd5d9...</td>\n",
       "      <td>outgoing</td>\n",
       "      <td>fea24e634b3b6cd0f0bae902c1a49a46a309b2f74f5409...</td>\n",
       "    </tr>\n",
       "    <tr>\n",
       "      <th>19</th>\n",
       "      <td>c52997bae422424a3093c387727ea20af7c4be2e6c3fc2...</td>\n",
       "      <td>outgoing</td>\n",
       "      <td>fea24e634b3b6cd0f0bae902c1a49a46a309b2f74f5409...</td>\n",
       "    </tr>\n",
       "    <tr>\n",
       "      <th>20</th>\n",
       "      <td>f7f2736bbb51bec1fcb4ba2ddaa92e7065d54d509831a7...</td>\n",
       "      <td>outgoing</td>\n",
       "      <td>0de5be12f1f446b3f402446bb104093ca9a5f86d862d60...</td>\n",
       "    </tr>\n",
       "    <tr>\n",
       "      <th>21</th>\n",
       "      <td>579fe85881426b14a5dffbf34bdac58f3c4aa0fe85d7ae...</td>\n",
       "      <td>outgoing</td>\n",
       "      <td>0de5be12f1f446b3f402446bb104093ca9a5f86d862d60...</td>\n",
       "    </tr>\n",
       "    <tr>\n",
       "      <th>22</th>\n",
       "      <td>010814ee4d31dffedff6d37740578afcc1f9443ec91645...</td>\n",
       "      <td>outgoing</td>\n",
       "      <td>1c0ece086fcd5545fc34deac723e92ad53105fefa89682...</td>\n",
       "    </tr>\n",
       "    <tr>\n",
       "      <th>23</th>\n",
       "      <td>0853791e8413f4521404d29e6027ba9903bb6698aa80f5...</td>\n",
       "      <td>outgoing</td>\n",
       "      <td>1c0ece086fcd5545fc34deac723e92ad53105fefa89682...</td>\n",
       "    </tr>\n",
       "    <tr>\n",
       "      <th>24</th>\n",
       "      <td>b50569d58abda98c1aeecdf4fdb2191435f21c056298da...</td>\n",
       "      <td>outgoing</td>\n",
       "      <td>f34bfef610fe72092c23aa8145d9932e7d9ba407b68409...</td>\n",
       "    </tr>\n",
       "    <tr>\n",
       "      <th>25</th>\n",
       "      <td>551b68e4845c87458a96d2abb84ea132748fbc121e1c77...</td>\n",
       "      <td>outgoing</td>\n",
       "      <td>f34bfef610fe72092c23aa8145d9932e7d9ba407b68409...</td>\n",
       "    </tr>\n",
       "  </tbody>\n",
       "</table>\n",
       "</div>"
      ],
      "text/plain": [
       "                                          contract_id      type  \\\n",
       "0   f2ff6598f162286c107045ffcf7dafe87790d77b0e899e...  outgoing   \n",
       "1   ab3d53eb04fb2c67eadfa34e2b6dc3ade9ae99aeeab0d2...  outgoing   \n",
       "2   0e7bb561ca58af327c63ca05127537a42c2f52955d66f5...  outgoing   \n",
       "3   6d948b5f4ab6beeb55105434ac56257aa6c5d4e0ea52da...  outgoing   \n",
       "4   427931abe9fc30f505ceb928ef44997a7bc564cf77379b...  outgoing   \n",
       "5   2ea06fb0ca9c042e52db3f181a29583654c8549ac4e245...  outgoing   \n",
       "6   e7c4dbd0e1b4c6cdd1f5c35473af0e37a1bfe9952e2296...  outgoing   \n",
       "7   e389f2e259cae280ea9c93b59e17d189fd7e0b6adf88f5...  outgoing   \n",
       "8   a0d4d4a32314793df7a8118ebb34f61c315ebdb85f8396...  outgoing   \n",
       "9   da628d0342e628682db38f34c9db4bcb8269cd2f72489d...  outgoing   \n",
       "10  64168e7b43f0d5f0a8933c7053cdc86defd35263237ba7...  outgoing   \n",
       "11  1fa82b690ee7661431d9ccaf5d10cda27a734945eeb44f...  outgoing   \n",
       "12  584718fe82a7e54ccdec3b9e7525c25fda10721ec22f15...  outgoing   \n",
       "13  ec938489a39f4ece071ac360205a9d501c7c3faf2082de...  outgoing   \n",
       "14  f84e29afb09fef0273b083dbf3e0affe93e25815b98012...  outgoing   \n",
       "15  a5c8544a7b3410b1ba463b8bb938ca9c532d1cd74f3655...  outgoing   \n",
       "16  88b164e43d61c4aa984ee680815790665d9b8ad052ec2b...  outgoing   \n",
       "17  511cf16cee7c96a36c5c1d320bc1e494eeaafd4fff6906...  outgoing   \n",
       "18  e037ca39258e60ba16acc381728ad08dd5638b03ecd5d9...  outgoing   \n",
       "19  c52997bae422424a3093c387727ea20af7c4be2e6c3fc2...  outgoing   \n",
       "20  f7f2736bbb51bec1fcb4ba2ddaa92e7065d54d509831a7...  outgoing   \n",
       "21  579fe85881426b14a5dffbf34bdac58f3c4aa0fe85d7ae...  outgoing   \n",
       "22  010814ee4d31dffedff6d37740578afcc1f9443ec91645...  outgoing   \n",
       "23  0853791e8413f4521404d29e6027ba9903bb6698aa80f5...  outgoing   \n",
       "24  b50569d58abda98c1aeecdf4fdb2191435f21c056298da...  outgoing   \n",
       "25  551b68e4845c87458a96d2abb84ea132748fbc121e1c77...  outgoing   \n",
       "\n",
       "                                         payment_hash  \n",
       "0   fd858cc7e4771571c3543784305dbce71ce895e9a3b8f6...  \n",
       "1   fd858cc7e4771571c3543784305dbce71ce895e9a3b8f6...  \n",
       "2   0c9143eac9842802947db4ade201620e02c14ba5199a1b...  \n",
       "3   0c9143eac9842802947db4ade201620e02c14ba5199a1b...  \n",
       "4   0c9143eac9842802947db4ade201620e02c14ba5199a1b...  \n",
       "5   5e4a469a5f442e123b8e2880fe005d4e997ab7f4cf0e57...  \n",
       "6   5e4a469a5f442e123b8e2880fe005d4e997ab7f4cf0e57...  \n",
       "7   0f07546725820194be939821f109329325d9552323ef9c...  \n",
       "8   0f07546725820194be939821f109329325d9552323ef9c...  \n",
       "9   5ffb0fe6a7570e5f1e83d1a6494a0b2b7ab04fe89471ff...  \n",
       "10  5ffb0fe6a7570e5f1e83d1a6494a0b2b7ab04fe89471ff...  \n",
       "11  6d568c73743f1837cc2c6fca6bfe7897feeea939f2abdb...  \n",
       "12  6d568c73743f1837cc2c6fca6bfe7897feeea939f2abdb...  \n",
       "13  9f98d627bbc393d792dbd559e2ef8e90e1fe74b24ca9a5...  \n",
       "14  9f98d627bbc393d792dbd559e2ef8e90e1fe74b24ca9a5...  \n",
       "15  fbbdef34b5ae2936c2cba941e5be4f8c0e1d24208590f5...  \n",
       "16  fbbdef34b5ae2936c2cba941e5be4f8c0e1d24208590f5...  \n",
       "17  fea24e634b3b6cd0f0bae902c1a49a46a309b2f74f5409...  \n",
       "18  fea24e634b3b6cd0f0bae902c1a49a46a309b2f74f5409...  \n",
       "19  fea24e634b3b6cd0f0bae902c1a49a46a309b2f74f5409...  \n",
       "20  0de5be12f1f446b3f402446bb104093ca9a5f86d862d60...  \n",
       "21  0de5be12f1f446b3f402446bb104093ca9a5f86d862d60...  \n",
       "22  1c0ece086fcd5545fc34deac723e92ad53105fefa89682...  \n",
       "23  1c0ece086fcd5545fc34deac723e92ad53105fefa89682...  \n",
       "24  f34bfef610fe72092c23aa8145d9932e7d9ba407b68409...  \n",
       "25  f34bfef610fe72092c23aa8145d9932e7d9ba407b68409...  "
      ]
     },
     "execution_count": 11,
     "metadata": {},
     "output_type": "execute_result"
    }
   ],
   "source": [
    "ln_contracts.drop('federation_id').filter(pl.col('payment_hash').is_duplicated()).to_pandas()"
   ]
  },
  {
   "cell_type": "markdown",
   "metadata": {},
   "source": [
    "### Observation: Almost a 50-50 split between `incoming` and `outgoing` lightning contract types."
   ]
  },
  {
   "cell_type": "code",
   "execution_count": 12,
   "metadata": {},
   "outputs": [
    {
     "data": {
      "text/html": [
       "<div><style>\n",
       ".dataframe > thead > tr,\n",
       ".dataframe > tbody > tr {\n",
       "  text-align: right;\n",
       "  white-space: pre-wrap;\n",
       "}\n",
       "</style>\n",
       "<small>shape: (2, 2)</small><table border=\"1\" class=\"dataframe\"><thead><tr><th>type</th><th>len</th></tr><tr><td>str</td><td>u32</td></tr></thead><tbody><tr><td>&quot;incoming&quot;</td><td>33259</td></tr><tr><td>&quot;outgoing&quot;</td><td>33663</td></tr></tbody></table></div>"
      ],
      "text/plain": [
       "shape: (2, 2)\n",
       "┌──────────┬───────┐\n",
       "│ type     ┆ len   │\n",
       "│ ---      ┆ ---   │\n",
       "│ str      ┆ u32   │\n",
       "╞══════════╪═══════╡\n",
       "│ incoming ┆ 33259 │\n",
       "│ outgoing ┆ 33663 │\n",
       "└──────────┴───────┘"
      ]
     },
     "execution_count": 12,
     "metadata": {},
     "output_type": "execute_result"
    }
   ],
   "source": [
    "ln_contracts.group_by('type').len()"
   ]
  },
  {
   "cell_type": "markdown",
   "metadata": {},
   "source": [
    "### Observation: Sessions are sequentially indexed, none are missing, and range from April 5 thru July 30, 2024."
   ]
  },
  {
   "cell_type": "code",
   "execution_count": 13,
   "metadata": {},
   "outputs": [
    {
     "data": {
      "text/html": [
       "<div><style>\n",
       ".dataframe > thead > tr,\n",
       ".dataframe > tbody > tr {\n",
       "  text-align: right;\n",
       "  white-space: pre-wrap;\n",
       "}\n",
       "</style>\n",
       "<small>shape: (73_628, 3)</small><table border=\"1\" class=\"dataframe\"><thead><tr><th>session_index</th><th>estimated_session_timestamp</th><th>timestamp</th></tr><tr><td>i64</td><td>i64</td><td>datetime[μs]</td></tr></thead><tbody><tr><td>0</td><td>1712332271</td><td>2024-04-05 15:51:11</td></tr><tr><td>1</td><td>1712332271</td><td>2024-04-05 15:51:11</td></tr><tr><td>2</td><td>1712332271</td><td>2024-04-05 15:51:11</td></tr><tr><td>3</td><td>1712332271</td><td>2024-04-05 15:51:11</td></tr><tr><td>4</td><td>1712332271</td><td>2024-04-05 15:51:11</td></tr><tr><td>&hellip;</td><td>&hellip;</td><td>&hellip;</td></tr><tr><td>73623</td><td>1722371770</td><td>2024-07-30 20:36:10</td></tr><tr><td>73624</td><td>1722371770</td><td>2024-07-30 20:36:10</td></tr><tr><td>73625</td><td>1722371770</td><td>2024-07-30 20:36:10</td></tr><tr><td>73626</td><td>1722371770</td><td>2024-07-30 20:36:10</td></tr><tr><td>73627</td><td>1722371992</td><td>2024-07-30 20:39:52</td></tr></tbody></table></div>"
      ],
      "text/plain": [
       "shape: (73_628, 3)\n",
       "┌───────────────┬─────────────────────────────┬─────────────────────┐\n",
       "│ session_index ┆ estimated_session_timestamp ┆ timestamp           │\n",
       "│ ---           ┆ ---                         ┆ ---                 │\n",
       "│ i64           ┆ i64                         ┆ datetime[μs]        │\n",
       "╞═══════════════╪═════════════════════════════╪═════════════════════╡\n",
       "│ 0             ┆ 1712332271                  ┆ 2024-04-05 15:51:11 │\n",
       "│ 1             ┆ 1712332271                  ┆ 2024-04-05 15:51:11 │\n",
       "│ 2             ┆ 1712332271                  ┆ 2024-04-05 15:51:11 │\n",
       "│ 3             ┆ 1712332271                  ┆ 2024-04-05 15:51:11 │\n",
       "│ 4             ┆ 1712332271                  ┆ 2024-04-05 15:51:11 │\n",
       "│ …             ┆ …                           ┆ …                   │\n",
       "│ 73623         ┆ 1722371770                  ┆ 2024-07-30 20:36:10 │\n",
       "│ 73624         ┆ 1722371770                  ┆ 2024-07-30 20:36:10 │\n",
       "│ 73625         ┆ 1722371770                  ┆ 2024-07-30 20:36:10 │\n",
       "│ 73626         ┆ 1722371770                  ┆ 2024-07-30 20:36:10 │\n",
       "│ 73627         ┆ 1722371992                  ┆ 2024-07-30 20:39:52 │\n",
       "└───────────────┴─────────────────────────────┴─────────────────────┘"
      ]
     },
     "execution_count": 13,
     "metadata": {},
     "output_type": "execute_result"
    }
   ],
   "source": [
    "session_times.drop('federation_id').with_columns(pl.from_epoch(pl.col('estimated_session_timestamp'), time_unit='s').alias('timestamp')).sort(by='timestamp')"
   ]
  },
  {
   "cell_type": "markdown",
   "metadata": {},
   "source": [
    "### Observation: The session data is mostly unique but there is a preponderance of `00` values."
   ]
  },
  {
   "cell_type": "code",
   "execution_count": 14,
   "metadata": {},
   "outputs": [
    {
     "data": {
      "text/html": [
       "<div><style>\n",
       ".dataframe > thead > tr,\n",
       ".dataframe > tbody > tr {\n",
       "  text-align: right;\n",
       "  white-space: pre-wrap;\n",
       "}\n",
       "</style>\n",
       "<small>shape: (73_628, 2)</small><table border=\"1\" class=\"dataframe\"><thead><tr><th>session_index</th><th>session</th></tr><tr><td>i64</td><td>str</td></tr></thead><tbody><tr><td>0</td><td>&quot;0f010900070105fe000cc8e303010902070005fe000cc8d903010702050103fd…</td></tr><tr><td>1</td><td>&quot;00&quot;</td></tr><tr><td>2</td><td>&quot;00&quot;</td></tr><tr><td>3</td><td>&quot;00&quot;</td></tr><tr><td>4</td><td>&quot;030115041312001001fe661030fefe09f8a842fe006781a80201150413120010…</td></tr><tr><td>&hellip;</td><td>&hellip;</td></tr><tr><td>73623</td><td>&quot;00&quot;</td></tr><tr><td>73624</td><td>&quot;0301170415140012fd413dfe66a960c2fe1c89a561fe0064dcb7030117041514…</td></tr><tr><td>73625</td><td>&quot;0800ec000100dd00db01d9fd141e5aef1718675175af92120142f7a21e380c99…</td></tr><tr><td>73626</td><td>&quot;00&quot;</td></tr><tr><td>73627</td><td>&quot;10010900070105fe000d0ac203010902070005fe000d0ab803010900070105fe…</td></tr></tbody></table></div>"
      ],
      "text/plain": [
       "shape: (73_628, 2)\n",
       "┌───────────────┬───────────────────────────────────────────────────────────────────┐\n",
       "│ session_index ┆ session                                                           │\n",
       "│ ---           ┆ ---                                                               │\n",
       "│ i64           ┆ str                                                               │\n",
       "╞═══════════════╪═══════════════════════════════════════════════════════════════════╡\n",
       "│ 0             ┆ 0f010900070105fe000cc8e303010902070005fe000cc8d903010702050103fd… │\n",
       "│ 1             ┆ 00                                                                │\n",
       "│ 2             ┆ 00                                                                │\n",
       "│ 3             ┆ 00                                                                │\n",
       "│ 4             ┆ 030115041312001001fe661030fefe09f8a842fe006781a80201150413120010… │\n",
       "│ …             ┆ …                                                                 │\n",
       "│ 73623         ┆ 00                                                                │\n",
       "│ 73624         ┆ 0301170415140012fd413dfe66a960c2fe1c89a561fe0064dcb7030117041514… │\n",
       "│ 73625         ┆ 0800ec000100dd00db01d9fd141e5aef1718675175af92120142f7a21e380c99… │\n",
       "│ 73626         ┆ 00                                                                │\n",
       "│ 73627         ┆ 10010900070105fe000d0ac203010902070005fe000d0ab803010900070105fe… │\n",
       "└───────────────┴───────────────────────────────────────────────────────────────────┘"
      ]
     },
     "execution_count": 14,
     "metadata": {},
     "output_type": "execute_result"
    }
   ],
   "source": [
    "sessions.drop('federation_id')"
   ]
  },
  {
   "cell_type": "code",
   "execution_count": 15,
   "metadata": {},
   "outputs": [
    {
     "data": {
      "text/html": [
       "<div><style>\n",
       ".dataframe > thead > tr,\n",
       ".dataframe > tbody > tr {\n",
       "  text-align: right;\n",
       "  white-space: pre-wrap;\n",
       "}\n",
       "</style>\n",
       "<small>shape: (1, 2)</small><table border=\"1\" class=\"dataframe\"><thead><tr><th>session</th><th>len</th></tr><tr><td>str</td><td>u32</td></tr></thead><tbody><tr><td>&quot;00&quot;</td><td>22797</td></tr></tbody></table></div>"
      ],
      "text/plain": [
       "shape: (1, 2)\n",
       "┌─────────┬───────┐\n",
       "│ session ┆ len   │\n",
       "│ ---     ┆ ---   │\n",
       "│ str     ┆ u32   │\n",
       "╞═════════╪═══════╡\n",
       "│ 00      ┆ 22797 │\n",
       "└─────────┴───────┘"
      ]
     },
     "execution_count": 15,
     "metadata": {},
     "output_type": "execute_result"
    }
   ],
   "source": [
    "sessions.group_by('session').len().filter(pl.col('len') > 1)"
   ]
  },
  {
   "cell_type": "code",
   "execution_count": null,
   "metadata": {},
   "outputs": [],
   "source": []
  }
 ],
 "metadata": {
  "kernelspec": {
   "display_name": ".venv",
   "language": "python",
   "name": "python3"
  },
  "language_info": {
   "codemirror_mode": {
    "name": "ipython",
    "version": 3
   },
   "file_extension": ".py",
   "mimetype": "text/x-python",
   "name": "python",
   "nbconvert_exporter": "python",
   "pygments_lexer": "ipython3",
   "version": "3.12.3"
  }
 },
 "nbformat": 4,
 "nbformat_minor": 2
}
