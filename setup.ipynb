{
 "cells": [
  {
   "cell_type": "code",
   "execution_count": 1,
   "metadata": {},
   "outputs": [],
   "source": [
    "import polars as pl\n",
    "import sqlite3"
   ]
  },
  {
   "cell_type": "markdown",
   "metadata": {},
   "source": [
    "### Helper function to make binary columns human readable"
   ]
  },
  {
   "cell_type": "code",
   "execution_count": 3,
   "metadata": {},
   "outputs": [],
   "source": [
    "# Make binary columns human readable\n",
    "def encode_binary_columns(df, encoding='hex'):\n",
    "    binary_columns = [col for col in df.columns if df[col].dtype == pl.Binary]\n",
    "    for col in binary_columns:\n",
    "        df = df.with_columns(\n",
    "            pl.col(col).bin.encode(encoding)\n",
    "        )\n",
    "    return df"
   ]
  },
  {
   "cell_type": "markdown",
   "metadata": {},
   "source": [
    "### Make dataframes from the tables in the sqlite database file (only need to do this once)"
   ]
  },
  {
   "cell_type": "code",
   "execution_count": 4,
   "metadata": {},
   "outputs": [],
   "source": [
    "# Make a connection\n",
    "conn = sqlite3.connect('fedimint-observer.db')\n",
    "\n",
    "# Get a list of table names in the database\n",
    "cursor = conn.cursor()\n",
    "cursor.execute(\"SELECT name FROM sqlite_master WHERE type='table' OR type='view';\")\n",
    "table_names = [row[0] for row in cursor.fetchall()]\n",
    "\n",
    "# Write a dataframe for each table\n",
    "for table_name in table_names:\n",
    "    df = pl.read_database(query=f\"SELECT * FROM {table_name}\", connection=conn)\n",
    "    encode_binary_columns(df).write_parquet(f'./dfs/{table_name}.parquet')    "
   ]
  },
  {
   "cell_type": "markdown",
   "metadata": {},
   "source": []
  }
 ],
 "metadata": {
  "kernelspec": {
   "display_name": ".venv",
   "language": "python",
   "name": "python3"
  },
  "language_info": {
   "codemirror_mode": {
    "name": "ipython",
    "version": 3
   },
   "file_extension": ".py",
   "mimetype": "text/x-python",
   "name": "python",
   "nbconvert_exporter": "python",
   "pygments_lexer": "ipython3",
   "version": "3.12.3"
  }
 },
 "nbformat": 4,
 "nbformat_minor": 2
}
